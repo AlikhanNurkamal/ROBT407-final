{
 "cells": [
  {
   "cell_type": "markdown",
   "id": "6e28bff3",
   "metadata": {
    "papermill": {
     "duration": 0.007452,
     "end_time": "2023-12-02T16:17:36.349892",
     "exception": false,
     "start_time": "2023-12-02T16:17:36.342440",
     "status": "completed"
    },
    "tags": []
   },
   "source": [
    "# Importing libraries"
   ]
  },
  {
   "cell_type": "code",
   "execution_count": 1,
   "id": "1b236af1",
   "metadata": {
    "execution": {
     "iopub.execute_input": "2023-12-02T16:17:36.365858Z",
     "iopub.status.busy": "2023-12-02T16:17:36.365093Z",
     "iopub.status.idle": "2023-12-02T16:17:41.634649Z",
     "shell.execute_reply": "2023-12-02T16:17:41.633799Z"
    },
    "papermill": {
     "duration": 5.280324,
     "end_time": "2023-12-02T16:17:41.637174",
     "exception": false,
     "start_time": "2023-12-02T16:17:36.356850",
     "status": "completed"
    },
    "tags": []
   },
   "outputs": [
    {
     "name": "stderr",
     "output_type": "stream",
     "text": [
      "/opt/conda/lib/python3.10/site-packages/scipy/__init__.py:146: UserWarning: A NumPy version >=1.16.5 and <1.23.0 is required for this version of SciPy (detected version 1.24.3\n",
      "  warnings.warn(f\"A NumPy version >={np_minversion} and <{np_maxversion}\"\n"
     ]
    }
   ],
   "source": [
    "import os\n",
    "import math\n",
    "import numpy as np\n",
    "import pandas as pd\n",
    "import matplotlib.pyplot as plt\n",
    "\n",
    "from sklearn.metrics import accuracy_score, precision_score, recall_score, f1_score\n",
    "from sklearn.model_selection import train_test_split\n",
    "from PIL import Image\n",
    "from glob import glob\n",
    "from tqdm import tqdm\n",
    "\n",
    "import torch\n",
    "import torch.nn as nn\n",
    "import torch.nn.functional as F\n",
    "from torch.utils.data import Dataset, DataLoader\n",
    "from torchvision import transforms\n",
    "\n",
    "torch.manual_seed(42)\n",
    "np.random.seed(42)"
   ]
  },
  {
   "cell_type": "markdown",
   "id": "8b1a6a4f",
   "metadata": {
    "papermill": {
     "duration": 0.007549,
     "end_time": "2023-12-02T16:17:41.652437",
     "exception": false,
     "start_time": "2023-12-02T16:17:41.644888",
     "status": "completed"
    },
    "tags": []
   },
   "source": [
    "# Our implementation of Compact Transformer Model"
   ]
  },
  {
   "cell_type": "code",
   "execution_count": null,
   "id": "b98ed2c1",
   "metadata": {
    "_kg_hide-input": true,
    "papermill": {
     "duration": 0.006891,
     "end_time": "2023-12-02T16:17:41.666754",
     "exception": false,
     "start_time": "2023-12-02T16:17:41.659863",
     "status": "completed"
    },
    "scrolled": true,
    "tags": []
   },
   "outputs": [],
   "source": []
  },
  {
   "cell_type": "markdown",
   "id": "44eb3799",
   "metadata": {
    "papermill": {
     "duration": 0.006953,
     "end_time": "2023-12-02T16:17:41.680878",
     "exception": false,
     "start_time": "2023-12-02T16:17:41.673925",
     "status": "completed"
    },
    "tags": []
   },
   "source": [
    "# Setting up config Parameters"
   ]
  },
  {
   "cell_type": "code",
   "execution_count": 2,
   "id": "55299013",
   "metadata": {
    "execution": {
     "iopub.execute_input": "2023-12-02T16:17:41.697405Z",
     "iopub.status.busy": "2023-12-02T16:17:41.696369Z",
     "iopub.status.idle": "2023-12-02T16:17:41.764177Z",
     "shell.execute_reply": "2023-12-02T16:17:41.763296Z"
    },
    "papermill": {
     "duration": 0.078255,
     "end_time": "2023-12-02T16:17:41.766181",
     "exception": false,
     "start_time": "2023-12-02T16:17:41.687926",
     "status": "completed"
    },
    "tags": []
   },
   "outputs": [],
   "source": [
    "config = {\n",
    "    'ROOT_DIR': '/kaggle/input/state-farm-distracted-driver-detection/imgs/train',\n",
    "    'TEST_DIR': '/kaggle/input/state-farm-distracted-driver-detection/imgs/test',\n",
    "    'MODELS_DIR': '/kaggle/working/',\n",
    "    'IMG_SIZE': 224,\n",
    "    'BATCH_SIZE': 64,\n",
    "    'EPOCHS': 20,\n",
    "    'PATIENCE': 3,\n",
    "    'LR_INIT': 1e-4,\n",
    "    'WEIGHT_DECAY': 5e-3,\n",
    "    'NUM_CLASSES': 10,\n",
    "    'NUM_WORKERS': 4,\n",
    "    'NUM_CHANNELS': 3,\n",
    "    'DEVICE': torch.device('cuda') if torch.cuda.is_available() else torch.device('cpu'),\n",
    "}"
   ]
  },
  {
   "cell_type": "markdown",
   "id": "65e1a73e",
   "metadata": {
    "papermill": {
     "duration": 0.007064,
     "end_time": "2023-12-02T16:17:41.780393",
     "exception": false,
     "start_time": "2023-12-02T16:17:41.773329",
     "status": "completed"
    },
    "tags": []
   },
   "source": [
    "# Utility Functions"
   ]
  },
  {
   "cell_type": "code",
   "execution_count": 3,
   "id": "33d07054",
   "metadata": {
    "execution": {
     "iopub.execute_input": "2023-12-02T16:17:41.796160Z",
     "iopub.status.busy": "2023-12-02T16:17:41.795410Z",
     "iopub.status.idle": "2023-12-02T16:17:41.807397Z",
     "shell.execute_reply": "2023-12-02T16:17:41.806683Z"
    },
    "papermill": {
     "duration": 0.021815,
     "end_time": "2023-12-02T16:17:41.809227",
     "exception": false,
     "start_time": "2023-12-02T16:17:41.787412",
     "status": "completed"
    },
    "tags": []
   },
   "outputs": [],
   "source": [
    "# train transformations\n",
    "train_transforms = transforms.Compose([\n",
    "    transforms.Resize((config['IMG_SIZE'], config['IMG_SIZE'])),\n",
    "    transforms.RandomHorizontalFlip(p=0.5),\n",
    "    transforms.RandomRotation(degrees=(-30, 30)),\n",
    "    transforms.GaussianBlur(kernel_size=3),\n",
    "    transforms.ToTensor(),\n",
    "    transforms.Normalize(mean=[0.485, 0.456, 0.406], \n",
    "                         std=[0.229, 0.224, 0.225]),\n",
    "])\n",
    "\n",
    "# val/test/inference transformations\n",
    "val_transforms = transforms.Compose([\n",
    "    transforms.Resize((config['IMG_SIZE'], config['IMG_SIZE'])),\n",
    "    transforms.ToTensor(),\n",
    "    transforms.Normalize(mean=[0.485, 0.456, 0.406], \n",
    "                         std=[0.229, 0.224, 0.225]),\n",
    "])\n",
    "\n",
    "\n",
    "def get_images_labels():\n",
    "    images = []\n",
    "    labels = []\n",
    "\n",
    "    for label in list(glob(os.path.join(config['ROOT_DIR'], '*'))):\n",
    "        imgs_paths = list(glob(os.path.join(config['ROOT_DIR'], label, '*.jpg')))\n",
    "        labels.extend([int(label[-1]) for i in range(len(imgs_paths))])\n",
    "        images.extend([image for image in imgs_paths])\n",
    "    \n",
    "    return images, labels\n",
    "\n",
    "\n",
    "class CNNCustomDataset(Dataset):\n",
    "    def __init__(self, images, labels, transform=None):\n",
    "        super().__init__()\n",
    "        self.images = images\n",
    "        self.labels = labels\n",
    "        self.transform = transform\n",
    "\n",
    "    def __len__(self):\n",
    "        return len(self.images)\n",
    "\n",
    "    def __getitem__(self, index):\n",
    "        # getting the path to one image\n",
    "        img_path = self.images[index]\n",
    "\n",
    "        image = Image.open(img_path).convert('RGB')\n",
    "        label = self.labels[index]\n",
    "\n",
    "        if self.transform:\n",
    "            image = self.transform(image)\n",
    "\n",
    "        return image, label\n"
   ]
  },
  {
   "cell_type": "code",
   "execution_count": 4,
   "id": "b47b2445",
   "metadata": {
    "execution": {
     "iopub.execute_input": "2023-12-02T16:17:41.824031Z",
     "iopub.status.busy": "2023-12-02T16:17:41.823777Z",
     "iopub.status.idle": "2023-12-02T16:17:41.829985Z",
     "shell.execute_reply": "2023-12-02T16:17:41.829146Z"
    },
    "papermill": {
     "duration": 0.01574,
     "end_time": "2023-12-02T16:17:41.831822",
     "exception": false,
     "start_time": "2023-12-02T16:17:41.816082",
     "status": "completed"
    },
    "tags": []
   },
   "outputs": [],
   "source": [
    "def get_dataloaders():\n",
    "    train_transformations = train_transforms\n",
    "    val_transformations = val_transforms\n",
    "\n",
    "    all_images, all_labels = get_images_labels()\n",
    "    train_images, val_images, train_labels, val_labels = train_test_split(all_images,\n",
    "                                                                          all_labels,\n",
    "                                                                          test_size=0.2,\n",
    "                                                                          random_state=42)\n",
    "    \n",
    "    train_dataset = CNNCustomDataset(train_images, train_labels, transform=train_transformations)\n",
    "    val_dataset = CNNCustomDataset(val_images, val_labels, transform=val_transformations)\n",
    "\n",
    "    train_loader = DataLoader(train_dataset, batch_size=config['BATCH_SIZE'], shuffle=True, num_workers=config['NUM_WORKERS'])\n",
    "    val_loader = DataLoader(val_dataset, batch_size=config['BATCH_SIZE'], shuffle=False, num_workers=config['NUM_WORKERS'])\n",
    "\n",
    "    return train_loader, val_loader"
   ]
  },
  {
   "cell_type": "code",
   "execution_count": 5,
   "id": "e7f8406d",
   "metadata": {
    "execution": {
     "iopub.execute_input": "2023-12-02T16:17:41.847379Z",
     "iopub.status.busy": "2023-12-02T16:17:41.846769Z",
     "iopub.status.idle": "2023-12-02T16:17:41.852601Z",
     "shell.execute_reply": "2023-12-02T16:17:41.851774Z"
    },
    "papermill": {
     "duration": 0.015795,
     "end_time": "2023-12-02T16:17:41.854586",
     "exception": false,
     "start_time": "2023-12-02T16:17:41.838791",
     "status": "completed"
    },
    "tags": []
   },
   "outputs": [],
   "source": [
    "def adjust_learning_rate(optimizer, epoch, warmup=False, warmup_ep=0, enable_cos=True):\n",
    "    lr = config['LR_INIT']\n",
    "    if warmup and epoch < warmup_ep:\n",
    "        lr = lr / (warmup_ep - epoch)\n",
    "    elif enable_cos:\n",
    "        lr *= 0.5 * (1. + math.cos(math.pi * (epoch - warmup_ep) / (config['EPOCHS'] - warmup_ep)))\n",
    "\n",
    "    for param_group in optimizer.param_groups:\n",
    "        param_group['lr'] = lr"
   ]
  },
  {
   "cell_type": "code",
   "execution_count": 6,
   "id": "c6de5b92",
   "metadata": {
    "execution": {
     "iopub.execute_input": "2023-12-02T16:17:41.870594Z",
     "iopub.status.busy": "2023-12-02T16:17:41.870268Z",
     "iopub.status.idle": "2023-12-02T16:17:41.875614Z",
     "shell.execute_reply": "2023-12-02T16:17:41.874716Z"
    },
    "papermill": {
     "duration": 0.015607,
     "end_time": "2023-12-02T16:17:41.877662",
     "exception": false,
     "start_time": "2023-12-02T16:17:41.862055",
     "status": "completed"
    },
    "tags": []
   },
   "outputs": [],
   "source": [
    "def get_metrics(labels, preds):\n",
    "    accuracy = accuracy_score(labels, preds)\n",
    "    precision = precision_score(labels, preds, average='weighted')\n",
    "    recall = recall_score(labels, preds, average='weighted')\n",
    "    f1 = f1_score(labels, preds, average='weighted')\n",
    "    return accuracy, precision, recall, f1"
   ]
  },
  {
   "cell_type": "code",
   "execution_count": 7,
   "id": "3b751fe6",
   "metadata": {
    "execution": {
     "iopub.execute_input": "2023-12-02T16:17:41.893056Z",
     "iopub.status.busy": "2023-12-02T16:17:41.892401Z",
     "iopub.status.idle": "2023-12-02T16:17:41.899822Z",
     "shell.execute_reply": "2023-12-02T16:17:41.898346Z"
    },
    "papermill": {
     "duration": 0.018076,
     "end_time": "2023-12-02T16:17:41.902721",
     "exception": false,
     "start_time": "2023-12-02T16:17:41.884645",
     "status": "completed"
    },
    "tags": []
   },
   "outputs": [],
   "source": [
    "def save_graphs(train, test, type='None'):\n",
    "    plt.figure(figsize=(10,5))\n",
    "    plt.title(f\"Training and Test {type}\")\n",
    "    plt.plot(test,label=\"valid\")\n",
    "    plt.plot(train,label=\"train\")\n",
    "    plt.xlabel(\"Epoch\")\n",
    "    plt.ylabel(f\"{type}\")\n",
    "    plt.legend()\n",
    "    plt.savefig(f'{type}.png')"
   ]
  },
  {
   "cell_type": "markdown",
   "id": "f87aa91a",
   "metadata": {
    "papermill": {
     "duration": 0.007426,
     "end_time": "2023-12-02T16:17:41.920492",
     "exception": false,
     "start_time": "2023-12-02T16:17:41.913066",
     "status": "completed"
    },
    "tags": []
   },
   "source": [
    "# Training Functions"
   ]
  },
  {
   "cell_type": "code",
   "execution_count": 8,
   "id": "f09e1d65",
   "metadata": {
    "execution": {
     "iopub.execute_input": "2023-12-02T16:17:41.937949Z",
     "iopub.status.busy": "2023-12-02T16:17:41.937608Z",
     "iopub.status.idle": "2023-12-02T16:17:41.945738Z",
     "shell.execute_reply": "2023-12-02T16:17:41.944910Z"
    },
    "papermill": {
     "duration": 0.018092,
     "end_time": "2023-12-02T16:17:41.947625",
     "exception": false,
     "start_time": "2023-12-02T16:17:41.929533",
     "status": "completed"
    },
    "tags": []
   },
   "outputs": [],
   "source": [
    "def train(train_loader, model, loss_fn, optimizer, epoch, device):\n",
    "    model.train()\n",
    "\n",
    "    predictions = []\n",
    "    all_labels = []\n",
    "    total_loss = 0.0\n",
    "\n",
    "    for data in tqdm(train_loader, desc='Training'):\n",
    "        imgs, labels = data\n",
    "        imgs, labels = imgs.to(device), labels.to(device)\n",
    "\n",
    "        optimizer.zero_grad()\n",
    "        logits = model(imgs)\n",
    "        loss = loss_fn(logits, labels)\n",
    "        loss.backward()\n",
    "        optimizer.step()\n",
    "\n",
    "        # get predictions as the index of max logit\n",
    "        preds = torch.argmax(logits, dim=1)\n",
    "        predictions.extend(preds.detach().cpu().numpy())\n",
    "        all_labels.extend(labels.detach().cpu().numpy())\n",
    "        total_loss += loss.item()\n",
    "    \n",
    "    accuracy, precision, recall, f1 = get_metrics(all_labels, predictions)\n",
    "    avg_loss = total_loss / len(train_loader)\n",
    "\n",
    "    print(f'Epoch {epoch} | Train Loss: {avg_loss} | Accuracy: {accuracy} | Precision: {precision} | Recall: {recall} | F1: {f1}')\n",
    "    return avg_loss, accuracy, precision, recall, f1"
   ]
  },
  {
   "cell_type": "code",
   "execution_count": 9,
   "id": "ec626e62",
   "metadata": {
    "execution": {
     "iopub.execute_input": "2023-12-02T16:17:41.963191Z",
     "iopub.status.busy": "2023-12-02T16:17:41.962412Z",
     "iopub.status.idle": "2023-12-02T16:17:41.970532Z",
     "shell.execute_reply": "2023-12-02T16:17:41.969660Z"
    },
    "papermill": {
     "duration": 0.017678,
     "end_time": "2023-12-02T16:17:41.972409",
     "exception": false,
     "start_time": "2023-12-02T16:17:41.954731",
     "status": "completed"
    },
    "tags": []
   },
   "outputs": [],
   "source": [
    "def evaluate(val_loader, model, loss_fn, device):\n",
    "    model.eval()\n",
    "\n",
    "    predictions = []\n",
    "    all_labels = []\n",
    "    total_loss = 0.0\n",
    "\n",
    "    for data in tqdm(val_loader, desc='Validating'):\n",
    "        imgs, labels = data\n",
    "        imgs, labels = imgs.to(device), labels.to(device)\n",
    "\n",
    "        with torch.no_grad():\n",
    "            logits = model(imgs)\n",
    "            loss = loss_fn(logits, labels)\n",
    "\n",
    "        # get predictions as the index of max logit\n",
    "        preds = torch.argmax(logits, dim=1)\n",
    "        predictions.extend(preds.detach().cpu().numpy())\n",
    "        all_labels.extend(labels.detach().cpu().numpy())\n",
    "        total_loss += loss.item()\n",
    "    \n",
    "    accuracy, precision, recall, f1 = get_metrics(all_labels, predictions)\n",
    "    avg_loss = total_loss / len(val_loader)\n",
    "\n",
    "    print(f'\\tValidation Loss: {avg_loss} | Accuracy: {accuracy} | Precision: {precision} | Recall: {recall} | F1: {f1}')\n",
    "    return avg_loss, accuracy, precision, recall, f1"
   ]
  },
  {
   "cell_type": "code",
   "execution_count": 10,
   "id": "1efdf9a3",
   "metadata": {
    "execution": {
     "iopub.execute_input": "2023-12-02T16:17:41.987738Z",
     "iopub.status.busy": "2023-12-02T16:17:41.987167Z",
     "iopub.status.idle": "2023-12-02T16:17:41.998908Z",
     "shell.execute_reply": "2023-12-02T16:17:41.998028Z"
    },
    "papermill": {
     "duration": 0.021362,
     "end_time": "2023-12-02T16:17:42.000721",
     "exception": false,
     "start_time": "2023-12-02T16:17:41.979359",
     "status": "completed"
    },
    "tags": []
   },
   "outputs": [],
   "source": [
    "def run_training(train_loader, val_loader, model, model_name, loss_fn, optimizer, config):\n",
    "    TRAIN_HISTORY = {\n",
    "        'Loss': [],\n",
    "        'Accuracy': [],\n",
    "        'Precision': [],\n",
    "        'Recall': [],\n",
    "        'F1': []\n",
    "    }\n",
    "    VAL_HISTORY = {\n",
    "        'Loss': [],\n",
    "        'Accuracy': [],\n",
    "        'Precision': [],\n",
    "        'Recall': [],\n",
    "        'F1': []\n",
    "    }\n",
    "\n",
    "    # for early stopping\n",
    "    # we will save the best model based on the validation loss\n",
    "    best_loss = np.inf  # set to infinity so that the first validation loss is always lower\n",
    "    patience_counter = 0\n",
    "\n",
    "    for epoch in range(config['EPOCHS']):\n",
    "        adjust_learning_rate(optimizer=optimizer, epoch=epoch)\n",
    "        loss, accuracy, precision, recall, f1 = train(train_loader, model, loss_fn, optimizer, epoch + 1, config['DEVICE'])\n",
    "        TRAIN_HISTORY['Loss'].append(loss)\n",
    "        TRAIN_HISTORY['Accuracy'].append(accuracy)\n",
    "        TRAIN_HISTORY['Precision'].append(precision)\n",
    "        TRAIN_HISTORY['Recall'].append(recall)\n",
    "        TRAIN_HISTORY['F1'].append(f1)\n",
    "\n",
    "        loss, accuracy, precision, recall, f1 = evaluate(val_loader, model, loss_fn, config['DEVICE'])\n",
    "        VAL_HISTORY['Loss'].append(loss)\n",
    "        VAL_HISTORY['Accuracy'].append(accuracy)\n",
    "        VAL_HISTORY['Precision'].append(precision)\n",
    "        VAL_HISTORY['Recall'].append(recall)\n",
    "        VAL_HISTORY['F1'].append(f1)\n",
    "\n",
    "        # since our evaluation metric is logloss, we want to minimize it and early stopping will be based on it\n",
    "        if loss < best_loss:\n",
    "            best_loss = loss\n",
    "            patience_counter = 0\n",
    "            print(f'Saving best model at epoch {epoch + 1}...')\n",
    "            torch.save(model.state_dict(), f'{model_name}_best_model.pth')\n",
    "        else:\n",
    "            patience_counter += 1\n",
    "            if patience_counter == config['PATIENCE']:\n",
    "                print(f\"Early stopping at epoch {epoch + 1}\")\n",
    "                break\n",
    "        \n",
    "    save_graphs(TRAIN_HISTORY['Loss'], VAL_HISTORY['Loss'], type='Loss')\n",
    "    save_graphs(TRAIN_HISTORY['Accuracy'], VAL_HISTORY['Accuracy'], type='Accuracy')\n",
    "    save_graphs(TRAIN_HISTORY['F1'], VAL_HISTORY['F1'], type='F1')\n",
    "    \n",
    "    print('Training finished!')\n",
    "    return TRAIN_HISTORY, VAL_HISTORY"
   ]
  },
  {
   "cell_type": "markdown",
   "id": "f01c5aed",
   "metadata": {
    "papermill": {
     "duration": 0.00675,
     "end_time": "2023-12-02T16:17:42.014751",
     "exception": false,
     "start_time": "2023-12-02T16:17:42.008001",
     "status": "completed"
    },
    "tags": []
   },
   "source": [
    "# Model, Optimizer, Criterion"
   ]
  },
  {
   "cell_type": "code",
   "execution_count": 11,
   "id": "257717fd",
   "metadata": {
    "execution": {
     "iopub.execute_input": "2023-12-02T16:17:42.029778Z",
     "iopub.status.busy": "2023-12-02T16:17:42.029431Z",
     "iopub.status.idle": "2023-12-02T16:17:56.366579Z",
     "shell.execute_reply": "2023-12-02T16:17:56.365628Z"
    },
    "papermill": {
     "duration": 14.347387,
     "end_time": "2023-12-02T16:17:56.369112",
     "exception": false,
     "start_time": "2023-12-02T16:17:42.021725",
     "status": "completed"
    },
    "tags": []
   },
   "outputs": [
    {
     "name": "stderr",
     "output_type": "stream",
     "text": [
      "Downloading: \"https://shi-labs.com/projects/cct/checkpoints/pretrained/cct_14_7x2_224_imagenet.pth\" to /root/.cache/torch/hub/checkpoints/cct_14_7x2_224_imagenet.pth\n"
     ]
    }
   ],
   "source": [
    "import sys\n",
    "sys.path.append(\"/kaggle/input/cvt-impl\")\n",
    "\n",
    "from src import cct_14_7x2_224\n",
    "\n",
    "\n",
    "model = cct_14_7x2_224(pretrained=True, num_classes=10)\n",
    "\n",
    "\n",
    "model = model.to(config['DEVICE'])\n",
    "model_name = \"cvt_7\"\n",
    "criterion = torch.nn.CrossEntropyLoss()\n",
    "optimizer = torch.optim.AdamW(model.parameters(),\n",
    "                              lr=config['LR_INIT'],\n",
    "                              weight_decay=config['WEIGHT_DECAY'])\n",
    "\n",
    "train_loader, val_loader = get_dataloaders()"
   ]
  },
  {
   "cell_type": "code",
   "execution_count": 12,
   "id": "dee88d73",
   "metadata": {
    "execution": {
     "iopub.execute_input": "2023-12-02T16:17:56.385816Z",
     "iopub.status.busy": "2023-12-02T16:17:56.385036Z",
     "iopub.status.idle": "2023-12-02T16:18:00.746899Z",
     "shell.execute_reply": "2023-12-02T16:18:00.745986Z"
    },
    "papermill": {
     "duration": 4.372075,
     "end_time": "2023-12-02T16:18:00.748894",
     "exception": false,
     "start_time": "2023-12-02T16:17:56.376819",
     "status": "completed"
    },
    "tags": []
   },
   "outputs": [
    {
     "data": {
      "text/plain": [
       "=============================================================================================================================\n",
       "Layer (type (var_name))                       Input Shape          Output Shape         Param #              Trainable\n",
       "=============================================================================================================================\n",
       "CCT (CCT)                                     [32, 3, 224, 224]    [32, 10]             --                   True\n",
       "├─Tokenizer (tokenizer)                       [32, 3, 224, 224]    [32, 196, 384]       --                   True\n",
       "│    └─Sequential (conv_layers)               [32, 3, 224, 224]    [32, 384, 14, 14]    --                   True\n",
       "│    │    └─Sequential (0)                    [32, 3, 224, 224]    [32, 64, 56, 56]     9,408                True\n",
       "│    │    └─Sequential (1)                    [32, 64, 56, 56]     [32, 384, 14, 14]    1,204,224            True\n",
       "│    └─Flatten (flattener)                    [32, 384, 14, 14]    [32, 384, 196]       --                   --\n",
       "├─TransformerClassifier (classifier)          [32, 196, 384]       [32, 10]             75,264               True\n",
       "│    └─Dropout (dropout)                      [32, 196, 384]       [32, 196, 384]       --                   --\n",
       "│    └─ModuleList (blocks)                    --                   --                   --                   True\n",
       "│    │    └─TransformerEncoderLayer (0)       [32, 196, 384]       [32, 196, 384]       1,478,016            True\n",
       "│    │    └─TransformerEncoderLayer (1)       [32, 196, 384]       [32, 196, 384]       1,478,016            True\n",
       "│    │    └─TransformerEncoderLayer (2)       [32, 196, 384]       [32, 196, 384]       1,478,016            True\n",
       "│    │    └─TransformerEncoderLayer (3)       [32, 196, 384]       [32, 196, 384]       1,478,016            True\n",
       "│    │    └─TransformerEncoderLayer (4)       [32, 196, 384]       [32, 196, 384]       1,478,016            True\n",
       "│    │    └─TransformerEncoderLayer (5)       [32, 196, 384]       [32, 196, 384]       1,478,016            True\n",
       "│    │    └─TransformerEncoderLayer (6)       [32, 196, 384]       [32, 196, 384]       1,478,016            True\n",
       "│    │    └─TransformerEncoderLayer (7)       [32, 196, 384]       [32, 196, 384]       1,478,016            True\n",
       "│    │    └─TransformerEncoderLayer (8)       [32, 196, 384]       [32, 196, 384]       1,478,016            True\n",
       "│    │    └─TransformerEncoderLayer (9)       [32, 196, 384]       [32, 196, 384]       1,478,016            True\n",
       "│    │    └─TransformerEncoderLayer (10)      [32, 196, 384]       [32, 196, 384]       1,478,016            True\n",
       "│    │    └─TransformerEncoderLayer (11)      [32, 196, 384]       [32, 196, 384]       1,478,016            True\n",
       "│    │    └─TransformerEncoderLayer (12)      [32, 196, 384]       [32, 196, 384]       1,478,016            True\n",
       "│    │    └─TransformerEncoderLayer (13)      [32, 196, 384]       [32, 196, 384]       1,478,016            True\n",
       "│    └─LayerNorm (norm)                       [32, 196, 384]       [32, 196, 384]       768                  True\n",
       "│    └─Linear (attention_pool)                [32, 196, 384]       [32, 196, 1]         385                  True\n",
       "│    └─Linear (fc)                            [32, 384]            [32, 10]             3,850                True\n",
       "=============================================================================================================================\n",
       "Total params: 21,986,123\n",
       "Trainable params: 21,986,123\n",
       "Non-trainable params: 0\n",
       "Total mult-adds (G): 34.65\n",
       "=============================================================================================================================\n",
       "Input size (MB): 19.27\n",
       "Forward/backward pass size (MB): 2999.37\n",
       "Params size (MB): 87.64\n",
       "Estimated Total Size (MB): 3106.28\n",
       "============================================================================================================================="
      ]
     },
     "execution_count": 12,
     "metadata": {},
     "output_type": "execute_result"
    }
   ],
   "source": [
    "from torchinfo import summary\n",
    "summary(model=model,\n",
    "        input_size=(32, 3, 224, 224),\n",
    "        col_names=[\"input_size\", \"output_size\", \"num_params\", \"trainable\"],\n",
    "        col_width=20,\n",
    "        row_settings=[\"var_names\"]\n",
    ")"
   ]
  },
  {
   "cell_type": "markdown",
   "id": "3b362918",
   "metadata": {
    "papermill": {
     "duration": 0.007093,
     "end_time": "2023-12-02T16:18:00.763631",
     "exception": false,
     "start_time": "2023-12-02T16:18:00.756538",
     "status": "completed"
    },
    "tags": []
   },
   "source": [
    "# Training"
   ]
  },
  {
   "cell_type": "code",
   "execution_count": 13,
   "id": "4c9253e3",
   "metadata": {
    "execution": {
     "iopub.execute_input": "2023-12-02T16:18:00.780241Z",
     "iopub.status.busy": "2023-12-02T16:18:00.779820Z",
     "iopub.status.idle": "2023-12-02T16:41:44.339317Z",
     "shell.execute_reply": "2023-12-02T16:41:44.338283Z"
    },
    "papermill": {
     "duration": 1423.570508,
     "end_time": "2023-12-02T16:41:44.341491",
     "exception": false,
     "start_time": "2023-12-02T16:18:00.770983",
     "status": "completed"
    },
    "tags": []
   },
   "outputs": [
    {
     "name": "stderr",
     "output_type": "stream",
     "text": [
      "Training: 100%|██████████| 281/281 [02:09<00:00,  2.17it/s]\n"
     ]
    },
    {
     "name": "stdout",
     "output_type": "stream",
     "text": [
      "Epoch 1 | Train Loss: 0.5317594186929834 | Accuracy: 0.8146496460226322 | Precision: 0.8207800308697338 | Recall: 0.8146496460226322 | F1: 0.8156930552554911\n"
     ]
    },
    {
     "name": "stderr",
     "output_type": "stream",
     "text": [
      "Validating: 100%|██████████| 71/71 [00:16<00:00,  4.29it/s]\n"
     ]
    },
    {
     "name": "stdout",
     "output_type": "stream",
     "text": [
      "\tValidation Loss: 0.06669510258230525 | Accuracy: 0.9812709030100334 | Precision: 0.9814400847193339 | Recall: 0.9812709030100334 | F1: 0.9812175273509633\n",
      "Saving best model at epoch 1...\n"
     ]
    },
    {
     "name": "stderr",
     "output_type": "stream",
     "text": [
      "Training: 100%|██████████| 281/281 [02:08<00:00,  2.19it/s]\n"
     ]
    },
    {
     "name": "stdout",
     "output_type": "stream",
     "text": [
      "Epoch 2 | Train Loss: 0.09105357851541446 | Accuracy: 0.9730754222643403 | Precision: 0.9731125127364194 | Recall: 0.9730754222643403 | F1: 0.9730831155757818\n"
     ]
    },
    {
     "name": "stderr",
     "output_type": "stream",
     "text": [
      "Validating: 100%|██████████| 71/71 [00:13<00:00,  5.34it/s]\n"
     ]
    },
    {
     "name": "stdout",
     "output_type": "stream",
     "text": [
      "\tValidation Loss: 0.048193541202943405 | Accuracy: 0.9859531772575251 | Precision: 0.9861237410151238 | Recall: 0.9859531772575251 | F1: 0.9859416377207721\n",
      "Saving best model at epoch 2...\n"
     ]
    },
    {
     "name": "stderr",
     "output_type": "stream",
     "text": [
      "Training: 100%|██████████| 281/281 [02:08<00:00,  2.18it/s]\n"
     ]
    },
    {
     "name": "stdout",
     "output_type": "stream",
     "text": [
      "Epoch 3 | Train Loss: 0.05877931574376108 | Accuracy: 0.9824404927810915 | Precision: 0.9824432660442041 | Recall: 0.9824404927810915 | F1: 0.982435950385969\n"
     ]
    },
    {
     "name": "stderr",
     "output_type": "stream",
     "text": [
      "Validating: 100%|██████████| 71/71 [00:13<00:00,  5.31it/s]\n"
     ]
    },
    {
     "name": "stdout",
     "output_type": "stream",
     "text": [
      "\tValidation Loss: 0.03271762319778184 | Accuracy: 0.9917502787068004 | Precision: 0.99184144880898 | Recall: 0.9917502787068004 | F1: 0.9917436288464077\n",
      "Saving best model at epoch 3...\n"
     ]
    },
    {
     "name": "stderr",
     "output_type": "stream",
     "text": [
      "Training: 100%|██████████| 281/281 [02:08<00:00,  2.19it/s]\n"
     ]
    },
    {
     "name": "stdout",
     "output_type": "stream",
     "text": [
      "Epoch 4 | Train Loss: 0.04428795712264222 | Accuracy: 0.9864540944311277 | Precision: 0.9864641231644358 | Recall: 0.9864540944311277 | F1: 0.9864560644121164\n"
     ]
    },
    {
     "name": "stderr",
     "output_type": "stream",
     "text": [
      "Validating: 100%|██████████| 71/71 [00:12<00:00,  5.46it/s]\n"
     ]
    },
    {
     "name": "stdout",
     "output_type": "stream",
     "text": [
      "\tValidation Loss: 0.04028442864835879 | Accuracy: 0.9897435897435898 | Precision: 0.9897908446072122 | Recall: 0.9897435897435898 | F1: 0.9897294324528791\n"
     ]
    },
    {
     "name": "stderr",
     "output_type": "stream",
     "text": [
      "Training: 100%|██████████| 281/281 [02:08<00:00,  2.19it/s]\n"
     ]
    },
    {
     "name": "stdout",
     "output_type": "stream",
     "text": [
      "Epoch 5 | Train Loss: 0.03872105462420268 | Accuracy: 0.9880706839846145 | Precision: 0.9880698806059665 | Recall: 0.9880706839846145 | F1: 0.9880688375653416\n"
     ]
    },
    {
     "name": "stderr",
     "output_type": "stream",
     "text": [
      "Validating: 100%|██████████| 71/71 [00:13<00:00,  5.34it/s]\n"
     ]
    },
    {
     "name": "stdout",
     "output_type": "stream",
     "text": [
      "\tValidation Loss: 0.02434648876529331 | Accuracy: 0.9926421404682274 | Precision: 0.9926735721803664 | Recall: 0.9926421404682274 | F1: 0.9926377739772638\n",
      "Saving best model at epoch 5...\n"
     ]
    },
    {
     "name": "stderr",
     "output_type": "stream",
     "text": [
      "Training: 100%|██████████| 281/281 [02:08<00:00,  2.19it/s]\n"
     ]
    },
    {
     "name": "stdout",
     "output_type": "stream",
     "text": [
      "Epoch 6 | Train Loss: 0.024099114493904405 | Accuracy: 0.9930876860471598 | Precision: 0.9930900484283584 | Recall: 0.9930876860471598 | F1: 0.9930882731032187\n"
     ]
    },
    {
     "name": "stderr",
     "output_type": "stream",
     "text": [
      "Validating: 100%|██████████| 71/71 [00:13<00:00,  5.44it/s]\n"
     ]
    },
    {
     "name": "stdout",
     "output_type": "stream",
     "text": [
      "\tValidation Loss: 0.03426730024716883 | Accuracy: 0.9884057971014493 | Precision: 0.9883888465955766 | Recall: 0.9884057971014493 | F1: 0.9883867665279786\n"
     ]
    },
    {
     "name": "stderr",
     "output_type": "stream",
     "text": [
      "Training: 100%|██████████| 281/281 [02:08<00:00,  2.19it/s]\n"
     ]
    },
    {
     "name": "stdout",
     "output_type": "stream",
     "text": [
      "Epoch 7 | Train Loss: 0.024260972893723948 | Accuracy: 0.9925302413735437 | Precision: 0.992534985925999 | Recall: 0.9925302413735437 | F1: 0.9925308492244154\n"
     ]
    },
    {
     "name": "stderr",
     "output_type": "stream",
     "text": [
      "Validating: 100%|██████████| 71/71 [00:13<00:00,  5.34it/s]\n"
     ]
    },
    {
     "name": "stdout",
     "output_type": "stream",
     "text": [
      "\tValidation Loss: 0.016990173427292973 | Accuracy: 0.9946488294314382 | Precision: 0.9946770735054694 | Recall: 0.9946488294314382 | F1: 0.9946502823516528\n",
      "Saving best model at epoch 7...\n"
     ]
    },
    {
     "name": "stderr",
     "output_type": "stream",
     "text": [
      "Training: 100%|██████████| 281/281 [02:08<00:00,  2.19it/s]\n"
     ]
    },
    {
     "name": "stdout",
     "output_type": "stream",
     "text": [
      "Epoch 8 | Train Loss: 0.018997996453704556 | Accuracy: 0.9940353419923073 | Precision: 0.9940386775214366 | Recall: 0.9940353419923073 | F1: 0.9940364221437168\n"
     ]
    },
    {
     "name": "stderr",
     "output_type": "stream",
     "text": [
      "Validating: 100%|██████████| 71/71 [00:12<00:00,  5.46it/s]\n"
     ]
    },
    {
     "name": "stdout",
     "output_type": "stream",
     "text": [
      "\tValidation Loss: 0.04906389190533369 | Accuracy: 0.986845039018952 | Precision: 0.9871679520145392 | Recall: 0.986845039018952 | F1: 0.9867722415232505\n"
     ]
    },
    {
     "name": "stderr",
     "output_type": "stream",
     "text": [
      "Training: 100%|██████████| 281/281 [02:08<00:00,  2.19it/s]\n"
     ]
    },
    {
     "name": "stdout",
     "output_type": "stream",
     "text": [
      "Epoch 9 | Train Loss: 0.01274869414142729 | Accuracy: 0.9959306538826022 | Precision: 0.9959314586267489 | Recall: 0.9959306538826022 | F1: 0.9959296279425542\n"
     ]
    },
    {
     "name": "stderr",
     "output_type": "stream",
     "text": [
      "Validating: 100%|██████████| 71/71 [00:13<00:00,  5.29it/s]\n"
     ]
    },
    {
     "name": "stdout",
     "output_type": "stream",
     "text": [
      "\tValidation Loss: 0.02277757517659781 | Accuracy: 0.9944258639910813 | Precision: 0.9944392790486136 | Recall: 0.9944258639910813 | F1: 0.9944173817363579\n"
     ]
    },
    {
     "name": "stderr",
     "output_type": "stream",
     "text": [
      "Training: 100%|██████████| 281/281 [02:08<00:00,  2.19it/s]\n"
     ]
    },
    {
     "name": "stdout",
     "output_type": "stream",
     "text": [
      "Epoch 10 | Train Loss: 0.010749663691605222 | Accuracy: 0.9965438430235799 | Precision: 0.9965430916306912 | Recall: 0.9965438430235799 | F1: 0.9965430552039573\n"
     ]
    },
    {
     "name": "stderr",
     "output_type": "stream",
     "text": [
      "Validating: 100%|██████████| 71/71 [00:13<00:00,  5.29it/s]\n"
     ]
    },
    {
     "name": "stdout",
     "output_type": "stream",
     "text": [
      "\tValidation Loss: 0.019065586853326415 | Accuracy: 0.9957636566332219 | Precision: 0.9957805777432694 | Recall: 0.9957636566332219 | F1: 0.995761707979686\n",
      "Early stopping at epoch 10\n",
      "Training finished!\n"
     ]
    },
    {
     "data": {
      "text/plain": [
       "({'Loss': [0.5317594186929834,\n",
       "   0.09105357851541446,\n",
       "   0.05877931574376108,\n",
       "   0.04428795712264222,\n",
       "   0.03872105462420268,\n",
       "   0.024099114493904405,\n",
       "   0.024260972893723948,\n",
       "   0.018997996453704556,\n",
       "   0.01274869414142729,\n",
       "   0.010749663691605222],\n",
       "  'Accuracy': [0.8146496460226322,\n",
       "   0.9730754222643403,\n",
       "   0.9824404927810915,\n",
       "   0.9864540944311277,\n",
       "   0.9880706839846145,\n",
       "   0.9930876860471598,\n",
       "   0.9925302413735437,\n",
       "   0.9940353419923073,\n",
       "   0.9959306538826022,\n",
       "   0.9965438430235799],\n",
       "  'Precision': [0.8207800308697338,\n",
       "   0.9731125127364194,\n",
       "   0.9824432660442041,\n",
       "   0.9864641231644358,\n",
       "   0.9880698806059665,\n",
       "   0.9930900484283584,\n",
       "   0.992534985925999,\n",
       "   0.9940386775214366,\n",
       "   0.9959314586267489,\n",
       "   0.9965430916306912],\n",
       "  'Recall': [0.8146496460226322,\n",
       "   0.9730754222643403,\n",
       "   0.9824404927810915,\n",
       "   0.9864540944311277,\n",
       "   0.9880706839846145,\n",
       "   0.9930876860471598,\n",
       "   0.9925302413735437,\n",
       "   0.9940353419923073,\n",
       "   0.9959306538826022,\n",
       "   0.9965438430235799],\n",
       "  'F1': [0.8156930552554911,\n",
       "   0.9730831155757818,\n",
       "   0.982435950385969,\n",
       "   0.9864560644121164,\n",
       "   0.9880688375653416,\n",
       "   0.9930882731032187,\n",
       "   0.9925308492244154,\n",
       "   0.9940364221437168,\n",
       "   0.9959296279425542,\n",
       "   0.9965430552039573]},\n",
       " {'Loss': [0.06669510258230525,\n",
       "   0.048193541202943405,\n",
       "   0.03271762319778184,\n",
       "   0.04028442864835879,\n",
       "   0.02434648876529331,\n",
       "   0.03426730024716883,\n",
       "   0.016990173427292973,\n",
       "   0.04906389190533369,\n",
       "   0.02277757517659781,\n",
       "   0.019065586853326415],\n",
       "  'Accuracy': [0.9812709030100334,\n",
       "   0.9859531772575251,\n",
       "   0.9917502787068004,\n",
       "   0.9897435897435898,\n",
       "   0.9926421404682274,\n",
       "   0.9884057971014493,\n",
       "   0.9946488294314382,\n",
       "   0.986845039018952,\n",
       "   0.9944258639910813,\n",
       "   0.9957636566332219],\n",
       "  'Precision': [0.9814400847193339,\n",
       "   0.9861237410151238,\n",
       "   0.99184144880898,\n",
       "   0.9897908446072122,\n",
       "   0.9926735721803664,\n",
       "   0.9883888465955766,\n",
       "   0.9946770735054694,\n",
       "   0.9871679520145392,\n",
       "   0.9944392790486136,\n",
       "   0.9957805777432694],\n",
       "  'Recall': [0.9812709030100334,\n",
       "   0.9859531772575251,\n",
       "   0.9917502787068004,\n",
       "   0.9897435897435898,\n",
       "   0.9926421404682274,\n",
       "   0.9884057971014493,\n",
       "   0.9946488294314382,\n",
       "   0.986845039018952,\n",
       "   0.9944258639910813,\n",
       "   0.9957636566332219],\n",
       "  'F1': [0.9812175273509633,\n",
       "   0.9859416377207721,\n",
       "   0.9917436288464077,\n",
       "   0.9897294324528791,\n",
       "   0.9926377739772638,\n",
       "   0.9883867665279786,\n",
       "   0.9946502823516528,\n",
       "   0.9867722415232505,\n",
       "   0.9944173817363579,\n",
       "   0.995761707979686]})"
      ]
     },
     "execution_count": 13,
     "metadata": {},
     "output_type": "execute_result"
    },
    {
     "data": {
      "image/png": "[encoded data removed]",
      "text/plain": [
       "<Figure size 1000x500 with 1 Axes>"
      ]
     },
     "metadata": {},
     "output_type": "display_data"
    },
    {
     "data": {
      "image/png": "[encoded data removed]",
      "text/plain": [
       "<Figure size 1000x500 with 1 Axes>"
      ]
     },
     "metadata": {},
     "output_type": "display_data"
    },
    {
     "data": {
      "image/png": "[encoded data removed]",
      "text/plain": [
       "<Figure size 1000x500 with 1 Axes>"
      ]
     },
     "metadata": {},
     "output_type": "display_data"
    }
   ],
   "source": [
    "run_training(train_loader, val_loader, model, model_name, criterion, optimizer, config)"
   ]
  },
  {
   "cell_type": "markdown",
   "id": "ca9e5790",
   "metadata": {
    "papermill": {
     "duration": 0.283573,
     "end_time": "2023-12-02T16:41:44.910853",
     "exception": false,
     "start_time": "2023-12-02T16:41:44.627280",
     "status": "completed"
    },
    "tags": []
   },
   "source": [
    "## Inference"
   ]
  },
  {
   "cell_type": "code",
   "execution_count": 14,
   "id": "6bf184cb",
   "metadata": {
    "execution": {
     "iopub.execute_input": "2023-12-02T16:41:45.483319Z",
     "iopub.status.busy": "2023-12-02T16:41:45.482979Z",
     "iopub.status.idle": "2023-12-02T16:41:45.490006Z",
     "shell.execute_reply": "2023-12-02T16:41:45.489103Z"
    },
    "papermill": {
     "duration": 0.296603,
     "end_time": "2023-12-02T16:41:45.491931",
     "exception": false,
     "start_time": "2023-12-02T16:41:45.195328",
     "status": "completed"
    },
    "tags": []
   },
   "outputs": [],
   "source": [
    "class InferenceDataset(Dataset):\n",
    "    def __init__(self, images_dir, transform=None):\n",
    "        super().__init__()\n",
    "        self.images_dir = images_dir\n",
    "        self.transform = transform\n",
    "\n",
    "        self.images = os.listdir(images_dir)\n",
    "    \n",
    "    def __len__(self):\n",
    "        return len(self.images)\n",
    "    \n",
    "    def __getitem__(self, index):\n",
    "        img_name = self.images[index]\n",
    "        img_path = os.path.join(self.images_dir, img_name)\n",
    "\n",
    "        image = Image.open(img_path).convert('RGB')\n",
    "        if self.transform:\n",
    "            image = self.transform(image)\n",
    "\n",
    "        # to submit to kaggle competition I need to return image name\n",
    "        return img_name, image"
   ]
  },
  {
   "cell_type": "code",
   "execution_count": 15,
   "id": "9a834554",
   "metadata": {
    "execution": {
     "iopub.execute_input": "2023-12-02T16:41:46.122240Z",
     "iopub.status.busy": "2023-12-02T16:41:46.121870Z",
     "iopub.status.idle": "2023-12-02T16:41:46.131696Z",
     "shell.execute_reply": "2023-12-02T16:41:46.130777Z"
    },
    "papermill": {
     "duration": 0.300604,
     "end_time": "2023-12-02T16:41:46.133626",
     "exception": false,
     "start_time": "2023-12-02T16:41:45.833022",
     "status": "completed"
    },
    "tags": []
   },
   "outputs": [],
   "source": [
    "def inference(test_loader, model, model_name, config):\n",
    "    if model_name == 'resnet50' or model_name == 'resnet101':\n",
    "        model.fc = nn.Linear(2048, 10)\n",
    "    elif model_name == 'cvt_3' or model_name == 'cvt_7' or model_name == 'cvt_14':\n",
    "        pass\n",
    "    else:\n",
    "        raise NotImplementedError('unknown architecture')\n",
    "    \n",
    "    model = model.to(config['DEVICE'])\n",
    "    model.load_state_dict(torch.load(os.path.join(config['MODELS_DIR'], f'{model_name}_best_model.pth')))\n",
    "    model.eval()\n",
    "    \n",
    "    df = pd.DataFrame()\n",
    "    \n",
    "    with torch.no_grad():\n",
    "        for data in tqdm(test_loader, desc='Inference'):\n",
    "            img_name, imgs = data\n",
    "            imgs = imgs.to(config['DEVICE'])\n",
    "\n",
    "            logits = model(imgs)\n",
    "            probas = F.softmax(logits, dim=1)\n",
    "            \n",
    "            block = np.concatenate((np.array(img_name).reshape(-1, 1), probas.detach().cpu().numpy()), axis=1)\n",
    "            block = pd.DataFrame(block, columns=['img', 'c0', 'c1', 'c2',\n",
    "                                                 'c3', 'c4', 'c5',\n",
    "                                                 'c6', 'c7', 'c8',\n",
    "                                                 'c9'])\n",
    "            df = pd.concat((df, block), axis=0, ignore_index=True)\n",
    "    return df"
   ]
  },
  {
   "cell_type": "code",
   "execution_count": 16,
   "id": "392f71a2",
   "metadata": {
    "execution": {
     "iopub.execute_input": "2023-12-02T16:41:46.706916Z",
     "iopub.status.busy": "2023-12-02T16:41:46.706557Z",
     "iopub.status.idle": "2023-12-02T16:47:14.094858Z",
     "shell.execute_reply": "2023-12-02T16:47:14.093671Z"
    },
    "papermill": {
     "duration": 327.678409,
     "end_time": "2023-12-02T16:47:14.098263",
     "exception": false,
     "start_time": "2023-12-02T16:41:46.419854",
     "status": "completed"
    },
    "tags": []
   },
   "outputs": [
    {
     "name": "stderr",
     "output_type": "stream",
     "text": [
      "Inference: 100%|██████████| 1246/1246 [05:26<00:00,  3.82it/s]\n"
     ]
    }
   ],
   "source": [
    "test_transformations = val_transforms\n",
    "test_dataset = InferenceDataset(config['TEST_DIR'], transform=test_transformations)\n",
    "test_loader = DataLoader(test_dataset, batch_size=config['BATCH_SIZE'], shuffle=False, num_workers=config['NUM_WORKERS'])\n",
    "\n",
    "# this csv file will be submitted to kaggle\n",
    "df = inference(test_loader, model, model_name, config)"
   ]
  },
  {
   "cell_type": "code",
   "execution_count": 17,
   "id": "60622e0f",
   "metadata": {
    "execution": {
     "iopub.execute_input": "2023-12-02T16:47:14.991491Z",
     "iopub.status.busy": "2023-12-02T16:47:14.991003Z",
     "iopub.status.idle": "2023-12-02T16:47:15.700404Z",
     "shell.execute_reply": "2023-12-02T16:47:15.699597Z"
    },
    "papermill": {
     "duration": 1.096131,
     "end_time": "2023-12-02T16:47:15.702705",
     "exception": false,
     "start_time": "2023-12-02T16:47:14.606574",
     "status": "completed"
    },
    "tags": []
   },
   "outputs": [],
   "source": [
    "df.to_csv(f'submission {model_name}.csv', index=False)"
   ]
  },
  {
   "cell_type": "code",
   "execution_count": null,
   "id": "35e6c55b",
   "metadata": {
    "papermill": {
     "duration": 0.385556,
     "end_time": "2023-12-02T16:47:16.468591",
     "exception": false,
     "start_time": "2023-12-02T16:47:16.083035",
     "status": "completed"
    },
    "tags": []
   },
   "outputs": [],
   "source": []
  }
 ],
 "metadata": {
  "kaggle": {
   "accelerator": "gpu",
   "dataSources": [
    {
     "databundleVersionId": 868335,
     "sourceId": 5048,
     "sourceType": "competition"
    },
    {
     "datasetId": 4096895,
     "sourceId": 7106292,
     "sourceType": "datasetVersion"
    }
   ],
   "dockerImageVersionId": 30588,
   "isGpuEnabled": true,
   "isInternetEnabled": true,
   "language": "python",
   "sourceType": "notebook"
  },
  "kernelspec": {
   "display_name": "Python 3",
   "language": "python",
   "name": "python3"
  },
  "language_info": {
   "codemirror_mode": {
    "name": "ipython",
    "version": 3
   },
   "file_extension": ".py",
   "mimetype": "text/x-python",
   "name": "python",
   "nbconvert_exporter": "python",
   "pygments_lexer": "ipython3",
   "version": "3.10.12"
  },
  "papermill": {
   "default_parameters": {},
   "duration": 1786.580557,
   "end_time": "2023-12-02T16:47:19.539184",
   "environment_variables": {},
   "exception": null,
   "input_path": "__notebook__.ipynb",
   "output_path": "__notebook__.ipynb",
   "parameters": {},
   "start_time": "2023-12-02T16:17:32.958627",
   "version": "2.4.0"
  }
 },
 "nbformat": 4,
 "nbformat_minor": 5
}
