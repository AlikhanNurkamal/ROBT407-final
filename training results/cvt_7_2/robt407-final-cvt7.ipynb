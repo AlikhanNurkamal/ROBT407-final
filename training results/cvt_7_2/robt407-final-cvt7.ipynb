{
 "cells": [
  {
   "cell_type": "markdown",
   "metadata": {},
   "source": [
    "# Importing libraries"
   ]
  },
  {
   "cell_type": "code",
   "execution_count": 1,
   "metadata": {
    "execution": {
     "iopub.execute_input": "2023-11-25T18:15:59.387860Z",
     "iopub.status.busy": "2023-11-25T18:15:59.387015Z",
     "iopub.status.idle": "2023-11-25T18:16:01.921115Z",
     "shell.execute_reply": "2023-11-25T18:16:01.920313Z",
     "shell.execute_reply.started": "2023-11-25T18:15:59.387828Z"
    }
   },
   "outputs": [],
   "source": [
    "import os\n",
    "import math\n",
    "import numpy as np\n",
    "import pandas as pd\n",
    "import matplotlib.pyplot as plt\n",
    "\n",
    "from sklearn.metrics import accuracy_score, precision_score, recall_score, f1_score\n",
    "from sklearn.model_selection import train_test_split\n",
    "from PIL import Image\n",
    "from glob import glob\n",
    "from tqdm import tqdm\n",
    "\n",
    "import torch\n",
    "import torch.nn as nn\n",
    "import torch.nn.functional as F\n",
    "from torch.utils.data import Dataset, DataLoader\n",
    "from torchvision import transforms\n",
    "\n",
    "torch.manual_seed(42)\n",
    "np.random.seed(42)"
   ]
  },
  {
   "cell_type": "markdown",
   "metadata": {},
   "source": [
    "# Our implementation of Compact Transformer Model"
   ]
  },
  {
   "cell_type": "code",
   "execution_count": 2,
   "metadata": {
    "_kg_hide-input": true,
    "execution": {
     "iopub.execute_input": "2023-11-25T18:16:01.923240Z",
     "iopub.status.busy": "2023-11-25T18:16:01.922787Z",
     "iopub.status.idle": "2023-11-25T18:16:01.958013Z",
     "shell.execute_reply": "2023-11-25T18:16:01.957103Z",
     "shell.execute_reply.started": "2023-11-25T18:16:01.923212Z"
    },
    "scrolled": true
   },
   "outputs": [],
   "source": [
    "# MultiHeadAttention Module\n",
    "class MSA(nn.Module):\n",
    "    def __init__(self, embedding_dim: int=192, num_heads: int=3, dropout: float=0):\n",
    "        super().__init__()\n",
    "        # layer normalization layer\n",
    "        self.layer_norm = nn.LayerNorm(normalized_shape=embedding_dim)\n",
    "        # multiheadattention layer\n",
    "        self.msa_attention = nn.MultiheadAttention(embed_dim=embedding_dim,\n",
    "                                                   num_heads=num_heads,\n",
    "                                                   dropout=dropout,\n",
    "                                                   batch_first=True)\n",
    "        \n",
    "    def forward(self, x):\n",
    "        x = self.layer_norm(x)\n",
    "        # query, key, value are formed from the same x\n",
    "        x, _ = self.msa_attention(query=x,\n",
    "                                    key=x,\n",
    "                                    value=x,\n",
    "                                    need_weights=False)\n",
    "        return x\n",
    "    \n",
    "# MLP layer   \n",
    "class MLP(nn.Module):\n",
    "    def __init__(self, \n",
    "                 embedding_dim: int=192,\n",
    "                 mlp_size: int=768,\n",
    "                 dropout: float=0.1):\n",
    "        super().__init__()\n",
    "        # layer normalization\n",
    "        self.layer_norm = nn.LayerNorm(normalized_shape=embedding_dim)\n",
    "        # two linear layers separated by GeLU activation\n",
    "        self.mlp = nn.Sequential(\n",
    "                nn.Linear(in_features=embedding_dim,\n",
    "                        out_features=mlp_size), # from input_dim to mlp_size\n",
    "                nn.GELU(),\n",
    "                nn.Dropout(p=dropout),\n",
    "                nn.Linear(in_features=mlp_size, # from mlp_size to input_dim\n",
    "                        out_features=embedding_dim),\n",
    "                nn.Dropout(p=dropout))\n",
    "        \n",
    "    def forward(self, x):\n",
    "        x = self.layer_norm(x)\n",
    "        x = self.mlp(x)\n",
    "        \n",
    "        return x\n",
    "        \n",
    "# Transformer encoder block\n",
    "class EncoderBlock(nn.Module):\n",
    "    def __init__(self,\n",
    "                 embedding_dim: int=192,\n",
    "                 num_heads: int=3,\n",
    "                 mlp_size: int=768,\n",
    "                 mlp_dropout: float=0.1,\n",
    "                 msa_dropout: float=0.0):\n",
    "        super().__init__()\n",
    "        # each block (layer) consists of MSA and MLP\n",
    "        self.msa = MSA(embedding_dim=embedding_dim,\n",
    "                       num_heads=num_heads,\n",
    "                       dropout=msa_dropout)\n",
    "        \n",
    "        self.mlp = MLP(embedding_dim=embedding_dim,\n",
    "                       mlp_size=mlp_size,\n",
    "                       dropout=mlp_dropout)\n",
    "        \n",
    "    def forward(self, x):\n",
    "        x = self.msa(x) + x # skip connection #1\n",
    "        x = self.mlp(x) + x # skip connection #2\n",
    "        \n",
    "        return x\n",
    "\n",
    "\n",
    "# taken from CVT-CCT paper\n",
    "class Tokenizer(nn.Module):\n",
    "    def __init__(self,\n",
    "                 kernel_size: int=7, stride: int=2, padding: int=3,\n",
    "                 pooling_kernel_size: int=3, pooling_stride: int=2, pooling_padding: int=1,\n",
    "                 conv_layers: int=2, input_channels: int=3, \n",
    "                 output_channels: int=64, in_planes: int=64):\n",
    "        super().__init__()\n",
    "\n",
    "        self.conv1 = nn.Conv2d(input_channels, in_planes,\n",
    "                               kernel_size=(kernel_size, kernel_size),\n",
    "                               stride=(stride, stride),\n",
    "                               padding=(padding, padding), bias=False)\n",
    "        \n",
    "        self.max_pool = nn.MaxPool2d(kernel_size=pooling_kernel_size,\n",
    "                                     stride=pooling_stride,\n",
    "                                     padding=pooling_padding)\n",
    "        \n",
    "        self.conv2 = nn.Conv2d(in_planes, output_channels,\n",
    "                               kernel_size=(kernel_size, kernel_size),\n",
    "                               stride=(stride, stride),\n",
    "                               padding=(padding, padding), bias=False)\n",
    "\n",
    "        self.flatten = nn.Flatten(start_dim=2, end_dim=3)\n",
    "        \n",
    "    def forward(self, x):\n",
    "        x = self.conv1(x)\n",
    "        x = self.max_pool(x)\n",
    "        x = self.conv2(x)\n",
    "        x = self.max_pool(x)\n",
    "        x = self.flatten(x)\n",
    "        \n",
    "        return x.permute(0, 2, 1)\n",
    "\n",
    "\n",
    "class CvT(nn.Module):\n",
    "    def __init__(self,\n",
    "                 img_size: int=224, in_channels: int=3, kernel_size: int=7,\n",
    "                 layers: int=7, embedding_dim: int=256, mlp_size: int=512,\n",
    "                 num_heads: int=4, stride: int=2, padding: int=3,\n",
    "                 pooling_kernel_size: int=3, pooling_stride: int=2, pooling_padding :int=1,\n",
    "                 conv_layers: int=2, in_planes: int=64,\n",
    "                 msa_dropout: float=0.0, mlp_dropout: float=0.1,\n",
    "                 emb_dropout: float=0.1, num_classes: int=10):\n",
    "        super().__init__()\n",
    "        \n",
    "        self.tokenizer = Tokenizer(kernel_size=kernel_size, stride=stride, \n",
    "                                   padding=padding, pooling_kernel_size=pooling_kernel_size, \n",
    "                                   pooling_stride=pooling_stride, pooling_padding=pooling_padding, \n",
    "                                   conv_layers=conv_layers, input_channels=in_channels, \n",
    "                                   output_channels=embedding_dim, in_planes=in_planes)\n",
    "        \n",
    "        self.attention_pool = nn.Linear(embedding_dim, 1)\n",
    "        \n",
    "        self.emb_dropout = nn.Dropout(p=emb_dropout)\n",
    "        \n",
    "        self.encoder = nn.Sequential(*[\n",
    "            EncoderBlock(embedding_dim=embedding_dim,\n",
    "                         num_heads=num_heads,\n",
    "                         mlp_size=mlp_size,\n",
    "                         mlp_dropout=mlp_dropout,\n",
    "                         msa_dropout=msa_dropout)\n",
    "            for _ in range(layers)\n",
    "        ])\n",
    "        \n",
    "        self.norm = nn.LayerNorm(embedding_dim)\n",
    "        \n",
    "        self.head = nn.Sequential(\n",
    "            nn.LayerNorm(normalized_shape=embedding_dim),\n",
    "            nn.Linear(in_features=embedding_dim,\n",
    "                      out_features=num_classes)\n",
    "        )\n",
    "        \n",
    "    def forward(self, x):\n",
    "        batch_size = x.shape[0]\n",
    "        \n",
    "        x = self.tokenizer(x)\n",
    "        x = self.emb_dropout(x)\n",
    "        x = self.encoder(x)\n",
    "        x = self.norm(x)\n",
    "        x = torch.matmul(F.softmax(self.attention_pool(x), dim=1).transpose(-1, -2), x).squeeze(-2)\n",
    "        x = self.head(x)\n",
    "        \n",
    "        return x\n",
    "    \n",
    "class CvT_3(CvT):\n",
    "    def __init__(self,\n",
    "                 img_size: int=224, in_channels: int=3, kernel_size: int=7,\n",
    "                 layers: int=3, embedding_dim: int=192, mlp_size: int=384,\n",
    "                 num_heads: int=3, stride: int=2, padding: int=3,\n",
    "                 pooling_kernel_size: int=3, pooling_stride: int=2, pooling_padding :int=1,\n",
    "                 conv_layers: int=2, in_planes: int=64,\n",
    "                 msa_dropout: float=0.0, mlp_dropout: float=0.1,\n",
    "                 emb_dropout: float=0.1, num_classes: int=10):\n",
    "        super().__init__(layers=layers, embedding_dim=embedding_dim, \n",
    "                         mlp_size=mlp_size, num_heads=num_heads)\n",
    "    \n",
    "class CvT_7(CvT):\n",
    "    def __init__(self,\n",
    "                 img_size: int=224, in_channels: int=3, kernel_size: int=7,\n",
    "                 layers: int=7, embedding_dim: int=256, mlp_size: int=512,\n",
    "                 num_heads: int=4, stride: int=2, padding: int=3,\n",
    "                 pooling_kernel_size: int=3, pooling_stride: int=2, pooling_padding :int=1,\n",
    "                 conv_layers: int=2, in_planes: int=64,\n",
    "                 msa_dropout: float=0.0, mlp_dropout: float=0.1,\n",
    "                 emb_dropout: float=0.1, num_classes: int=10):\n",
    "        super().__init__(layers=layers, embedding_dim=embedding_dim, \n",
    "                         mlp_size=mlp_size, num_heads=num_heads)\n",
    "    \n",
    "class CvT_14(CvT):\n",
    "    def __init__(self,\n",
    "                 img_size: int=224, in_channels: int=3, kernel_size: int=7,\n",
    "                 layers: int=14, embedding_dim: int=384, mlp_size: int=1152,\n",
    "                 num_heads: int=6, stride: int=2, padding: int=3,\n",
    "                 pooling_kernel_size: int=3, pooling_stride: int=2, pooling_padding :int=1,\n",
    "                 conv_layers: int=2, in_planes: int=64,\n",
    "                 msa_dropout: float=0.0, mlp_dropout: float=0.1,\n",
    "                 emb_dropout: float=0.1, num_classes: int=10):\n",
    "        super().__init__(layers=layers, embedding_dim=embedding_dim, \n",
    "                         mlp_size=mlp_size, num_heads=num_heads)"
   ]
  },
  {
   "cell_type": "markdown",
   "metadata": {},
   "source": [
    "# Setting up config Parameters"
   ]
  },
  {
   "cell_type": "code",
   "execution_count": 3,
   "metadata": {
    "execution": {
     "iopub.execute_input": "2023-11-25T18:16:01.960043Z",
     "iopub.status.busy": "2023-11-25T18:16:01.959365Z",
     "iopub.status.idle": "2023-11-25T18:16:01.997210Z",
     "shell.execute_reply": "2023-11-25T18:16:01.996186Z",
     "shell.execute_reply.started": "2023-11-25T18:16:01.960009Z"
    }
   },
   "outputs": [],
   "source": [
    "config = {\n",
    "    'ROOT_DIR': r\"C:\\Users\\fano2\\Downloads\\state-farm-distracted-driver-detection\\imgs\\train\",\n",
    "    'TEST_DIR': r\"C:\\Users\\fano2\\Downloads\\state-farm-distracted-driver-detection\\imgs\\test\",\n",
    "    'MODELS_DIR': r'C:\\Users\\fano2',\n",
    "    'IMG_SIZE': 224,\n",
    "    'BATCH_SIZE': 64,\n",
    "    'EPOCHS': 100,\n",
    "    'PATIENCE': 7,\n",
    "    'LR_INIT': 1e-4,\n",
    "    'WEIGHT_DECAY': 5e-3,\n",
    "    'NUM_CLASSES': 10,\n",
    "    'NUM_WORKERS': 0,\n",
    "    'NUM_CHANNELS': 3,\n",
    "    'DEVICE': torch.device('cuda') if torch.cuda.is_available() else torch.device('cpu'),\n",
    "}"
   ]
  },
  {
   "cell_type": "markdown",
   "metadata": {},
   "source": [
    "# Utility Functions"
   ]
  },
  {
   "cell_type": "code",
   "execution_count": 4,
   "metadata": {
    "execution": {
     "iopub.execute_input": "2023-11-25T18:16:01.999629Z",
     "iopub.status.busy": "2023-11-25T18:16:01.999349Z",
     "iopub.status.idle": "2023-11-25T18:16:02.021707Z",
     "shell.execute_reply": "2023-11-25T18:16:02.020784Z",
     "shell.execute_reply.started": "2023-11-25T18:16:01.999605Z"
    }
   },
   "outputs": [],
   "source": [
    "# train transformations\n",
    "train_transforms = transforms.Compose([\n",
    "    transforms.Resize((config['IMG_SIZE'], config['IMG_SIZE'])),\n",
    "    transforms.RandomHorizontalFlip(p=0.5),\n",
    "    transforms.RandomRotation(degrees=(-30, 30)),\n",
    "    transforms.GaussianBlur(kernel_size=3),\n",
    "    transforms.ToTensor(),\n",
    "    transforms.Normalize(mean=[0.485, 0.456, 0.406], \n",
    "                         std=[0.229, 0.224, 0.225]),\n",
    "])\n",
    "\n",
    "# val/test/inference transformations\n",
    "val_transforms = transforms.Compose([\n",
    "    transforms.Resize((config['IMG_SIZE'], config['IMG_SIZE'])),\n",
    "    transforms.ToTensor(),\n",
    "    transforms.Normalize(mean=[0.485, 0.456, 0.406], \n",
    "                         std=[0.229, 0.224, 0.225]),\n",
    "])\n",
    "\n",
    "\n",
    "def get_images_labels():\n",
    "    images = []\n",
    "    labels = []\n",
    "\n",
    "    for label in list(glob(os.path.join(config['ROOT_DIR'], '*'))):\n",
    "        imgs_paths = list(glob(os.path.join(config['ROOT_DIR'], label, '*.jpg')))\n",
    "        labels.extend([int(label[-1]) for i in range(len(imgs_paths))])\n",
    "        images.extend([image for image in imgs_paths])\n",
    "    \n",
    "    return images, labels\n",
    "\n",
    "\n",
    "class CNNCustomDataset(Dataset):\n",
    "    def __init__(self, images, labels, transform=None):\n",
    "        super().__init__()\n",
    "        self.images = images\n",
    "        self.labels = labels\n",
    "        self.transform = transform\n",
    "\n",
    "    def __len__(self):\n",
    "        return len(self.images)\n",
    "\n",
    "    def __getitem__(self, index):\n",
    "        # getting the path to one image\n",
    "        img_path = self.images[index]\n",
    "\n",
    "        image = Image.open(img_path).convert('RGB')\n",
    "        label = self.labels[index]\n",
    "\n",
    "        if self.transform:\n",
    "            image = self.transform(image)\n",
    "\n",
    "        return image, label\n"
   ]
  },
  {
   "cell_type": "code",
   "execution_count": 5,
   "metadata": {
    "execution": {
     "iopub.execute_input": "2023-11-25T18:16:02.023170Z",
     "iopub.status.busy": "2023-11-25T18:16:02.022818Z",
     "iopub.status.idle": "2023-11-25T18:16:02.034889Z",
     "shell.execute_reply": "2023-11-25T18:16:02.034092Z",
     "shell.execute_reply.started": "2023-11-25T18:16:02.023111Z"
    }
   },
   "outputs": [],
   "source": [
    "def get_dataloaders():\n",
    "    train_transformations = train_transforms\n",
    "    val_transformations = val_transforms\n",
    "\n",
    "    all_images, all_labels = get_images_labels()\n",
    "    train_images, val_images, train_labels, val_labels = train_test_split(all_images,\n",
    "                                                                          all_labels,\n",
    "                                                                          test_size=0.2,\n",
    "                                                                          random_state=42)\n",
    "    \n",
    "    train_dataset = CNNCustomDataset(train_images, train_labels, transform=train_transformations)\n",
    "    val_dataset = CNNCustomDataset(val_images, val_labels, transform=val_transformations)\n",
    "\n",
    "    train_loader = DataLoader(train_dataset, batch_size=config['BATCH_SIZE'], shuffle=True, num_workers=config['NUM_WORKERS'])\n",
    "    val_loader = DataLoader(val_dataset, batch_size=config['BATCH_SIZE'], shuffle=False, num_workers=config['NUM_WORKERS'])\n",
    "\n",
    "    return train_loader, val_loader"
   ]
  },
  {
   "cell_type": "code",
   "execution_count": 6,
   "metadata": {
    "execution": {
     "iopub.execute_input": "2023-11-25T18:16:02.036399Z",
     "iopub.status.busy": "2023-11-25T18:16:02.036030Z",
     "iopub.status.idle": "2023-11-25T18:16:02.048187Z",
     "shell.execute_reply": "2023-11-25T18:16:02.047257Z",
     "shell.execute_reply.started": "2023-11-25T18:16:02.036365Z"
    }
   },
   "outputs": [],
   "source": [
    "def adjust_learning_rate(optimizer, epoch, warmup=False, warmup_ep=0, enable_cos=True):\n",
    "    lr = config['LR_INIT']\n",
    "    if warmup and epoch < warmup_ep:\n",
    "        lr = lr / (warmup_ep - epoch)\n",
    "    elif enable_cos:\n",
    "        lr *= 0.5 * (1. + math.cos(math.pi * (epoch - warmup_ep) / (config['EPOCHS'] - warmup_ep)))\n",
    "\n",
    "    for param_group in optimizer.param_groups:\n",
    "        param_group['lr'] = lr"
   ]
  },
  {
   "cell_type": "code",
   "execution_count": 7,
   "metadata": {
    "execution": {
     "iopub.execute_input": "2023-11-25T18:16:02.049653Z",
     "iopub.status.busy": "2023-11-25T18:16:02.049318Z",
     "iopub.status.idle": "2023-11-25T18:16:02.058170Z",
     "shell.execute_reply": "2023-11-25T18:16:02.057333Z",
     "shell.execute_reply.started": "2023-11-25T18:16:02.049622Z"
    }
   },
   "outputs": [],
   "source": [
    "def get_metrics(labels, preds):\n",
    "    accuracy = accuracy_score(labels, preds)\n",
    "    precision = precision_score(labels, preds, average='weighted')\n",
    "    recall = recall_score(labels, preds, average='weighted')\n",
    "    f1 = f1_score(labels, preds, average='weighted')\n",
    "    return accuracy, precision, recall, f1"
   ]
  },
  {
   "cell_type": "code",
   "execution_count": 8,
   "metadata": {
    "execution": {
     "iopub.execute_input": "2023-11-25T18:16:02.059710Z",
     "iopub.status.busy": "2023-11-25T18:16:02.059449Z",
     "iopub.status.idle": "2023-11-25T18:16:02.068791Z",
     "shell.execute_reply": "2023-11-25T18:16:02.068001Z",
     "shell.execute_reply.started": "2023-11-25T18:16:02.059688Z"
    }
   },
   "outputs": [],
   "source": [
    "def save_graphs(train, test, type='None'):\n",
    "    plt.figure(figsize=(10,5))\n",
    "    plt.title(f\"Training and Test {type}\")\n",
    "    plt.plot(test,label=\"valid\")\n",
    "    plt.plot(train,label=\"train\")\n",
    "    plt.xlabel(\"Epoch\")\n",
    "    plt.ylabel(f\"{type}\")\n",
    "    plt.legend()\n",
    "    plt.savefig(f'{type}.png')"
   ]
  },
  {
   "cell_type": "markdown",
   "metadata": {},
   "source": [
    "# Training Functions"
   ]
  },
  {
   "cell_type": "code",
   "execution_count": 9,
   "metadata": {
    "execution": {
     "iopub.execute_input": "2023-11-25T18:16:02.070181Z",
     "iopub.status.busy": "2023-11-25T18:16:02.069837Z",
     "iopub.status.idle": "2023-11-25T18:16:02.079137Z",
     "shell.execute_reply": "2023-11-25T18:16:02.078107Z",
     "shell.execute_reply.started": "2023-11-25T18:16:02.070119Z"
    }
   },
   "outputs": [],
   "source": [
    "def train(train_loader, model, loss_fn, optimizer, epoch, device):\n",
    "    model.train()\n",
    "\n",
    "    predictions = []\n",
    "    all_labels = []\n",
    "    total_loss = 0.0\n",
    "\n",
    "    for data in tqdm(train_loader, desc='Training'):\n",
    "        imgs, labels = data\n",
    "        imgs, labels = imgs.to(device), labels.to(device)\n",
    "\n",
    "        optimizer.zero_grad()\n",
    "        logits = model(imgs)\n",
    "        loss = loss_fn(logits, labels)\n",
    "        loss.backward()\n",
    "        optimizer.step()\n",
    "\n",
    "        # get predictions as the index of max logit\n",
    "        preds = torch.argmax(logits, dim=1)\n",
    "        predictions.extend(preds.detach().cpu().numpy())\n",
    "        all_labels.extend(labels.detach().cpu().numpy())\n",
    "        total_loss += loss.item()\n",
    "    \n",
    "    accuracy, precision, recall, f1 = get_metrics(all_labels, predictions)\n",
    "    avg_loss = total_loss / len(train_loader)\n",
    "\n",
    "    print(f'Epoch {epoch} | Train Loss: {avg_loss} | Accuracy: {accuracy} | Precision: {precision} | Recall: {recall} | F1: {f1}')\n",
    "    return avg_loss, accuracy, precision, recall, f1"
   ]
  },
  {
   "cell_type": "code",
   "execution_count": 10,
   "metadata": {
    "execution": {
     "iopub.execute_input": "2023-11-25T18:16:02.082317Z",
     "iopub.status.busy": "2023-11-25T18:16:02.081997Z",
     "iopub.status.idle": "2023-11-25T18:16:02.092262Z",
     "shell.execute_reply": "2023-11-25T18:16:02.091518Z",
     "shell.execute_reply.started": "2023-11-25T18:16:02.082273Z"
    }
   },
   "outputs": [],
   "source": [
    "def evaluate(val_loader, model, loss_fn, device):\n",
    "    model.eval()\n",
    "\n",
    "    predictions = []\n",
    "    all_labels = []\n",
    "    total_loss = 0.0\n",
    "\n",
    "    for data in tqdm(val_loader, desc='Validating'):\n",
    "        imgs, labels = data\n",
    "        imgs, labels = imgs.to(device), labels.to(device)\n",
    "\n",
    "        with torch.no_grad():\n",
    "            logits = model(imgs)\n",
    "            loss = loss_fn(logits, labels)\n",
    "\n",
    "        # get predictions as the index of max logit\n",
    "        preds = torch.argmax(logits, dim=1)\n",
    "        predictions.extend(preds.detach().cpu().numpy())\n",
    "        all_labels.extend(labels.detach().cpu().numpy())\n",
    "        total_loss += loss.item()\n",
    "    \n",
    "    accuracy, precision, recall, f1 = get_metrics(all_labels, predictions)\n",
    "    avg_loss = total_loss / len(val_loader)\n",
    "\n",
    "    print(f'\\tValidation Loss: {avg_loss} | Accuracy: {accuracy} | Precision: {precision} | Recall: {recall} | F1: {f1}')\n",
    "    return avg_loss, accuracy, precision, recall, f1"
   ]
  },
  {
   "cell_type": "code",
   "execution_count": 11,
   "metadata": {
    "execution": {
     "iopub.execute_input": "2023-11-25T18:16:02.093803Z",
     "iopub.status.busy": "2023-11-25T18:16:02.093513Z",
     "iopub.status.idle": "2023-11-25T18:16:02.105766Z",
     "shell.execute_reply": "2023-11-25T18:16:02.104876Z",
     "shell.execute_reply.started": "2023-11-25T18:16:02.093779Z"
    }
   },
   "outputs": [],
   "source": [
    "def run_training(train_loader, val_loader, model, model_name, loss_fn, optimizer, config):\n",
    "    TRAIN_HISTORY = {\n",
    "        'Loss': [],\n",
    "        'Accuracy': [],\n",
    "        'Precision': [],\n",
    "        'Recall': [],\n",
    "        'F1': []\n",
    "    }\n",
    "    VAL_HISTORY = {\n",
    "        'Loss': [],\n",
    "        'Accuracy': [],\n",
    "        'Precision': [],\n",
    "        'Recall': [],\n",
    "        'F1': []\n",
    "    }\n",
    "\n",
    "    # for early stopping\n",
    "    # we will save the best model based on the validation loss\n",
    "    best_loss = np.inf  # set to infinity so that the first validation loss is always lower\n",
    "    patience_counter = 0\n",
    "\n",
    "    for epoch in range(config['EPOCHS']):\n",
    "        adjust_learning_rate(optimizer=optimizer, epoch=epoch)\n",
    "        loss, accuracy, precision, recall, f1 = train(train_loader, model, loss_fn, optimizer, epoch + 1, config['DEVICE'])\n",
    "        TRAIN_HISTORY['Loss'].append(loss)\n",
    "        TRAIN_HISTORY['Accuracy'].append(accuracy)\n",
    "        TRAIN_HISTORY['Precision'].append(precision)\n",
    "        TRAIN_HISTORY['Recall'].append(recall)\n",
    "        TRAIN_HISTORY['F1'].append(f1)\n",
    "\n",
    "        loss, accuracy, precision, recall, f1 = evaluate(val_loader, model, loss_fn, config['DEVICE'])\n",
    "        VAL_HISTORY['Loss'].append(loss)\n",
    "        VAL_HISTORY['Accuracy'].append(accuracy)\n",
    "        VAL_HISTORY['Precision'].append(precision)\n",
    "        VAL_HISTORY['Recall'].append(recall)\n",
    "        VAL_HISTORY['F1'].append(f1)\n",
    "\n",
    "        # since our evaluation metric is logloss, we want to minimize it and early stopping will be based on it\n",
    "        if loss < best_loss:\n",
    "            best_loss = loss\n",
    "            patience_counter = 0\n",
    "            print(f'Saving best model at epoch {epoch + 1}...')\n",
    "            torch.save(model.state_dict(), f'{model_name}_best_model.pth')\n",
    "        else:\n",
    "            patience_counter += 1\n",
    "            if patience_counter == config['PATIENCE']:\n",
    "                print(f\"Early stopping at epoch {epoch + 1}\")\n",
    "                break\n",
    "        \n",
    "    save_graphs(TRAIN_HISTORY['Loss'], VAL_HISTORY['Loss'], type='Loss')\n",
    "    save_graphs(TRAIN_HISTORY['Accuracy'], VAL_HISTORY['Accuracy'], type='Accuracy')\n",
    "    save_graphs(TRAIN_HISTORY['F1'], VAL_HISTORY['F1'], type='F1')\n",
    "    \n",
    "    print('Training finished!')\n",
    "    return TRAIN_HISTORY, VAL_HISTORY"
   ]
  },
  {
   "cell_type": "markdown",
   "metadata": {},
   "source": [
    "# Model, Optimizer, Criterion"
   ]
  },
  {
   "cell_type": "code",
   "execution_count": 12,
   "metadata": {
    "execution": {
     "iopub.execute_input": "2023-11-25T18:16:02.107166Z",
     "iopub.status.busy": "2023-11-25T18:16:02.106860Z",
     "iopub.status.idle": "2023-11-25T18:16:03.755915Z",
     "shell.execute_reply": "2023-11-25T18:16:03.754868Z",
     "shell.execute_reply.started": "2023-11-25T18:16:02.107114Z"
    }
   },
   "outputs": [],
   "source": [
    "model = CvT_7()\n",
    "model = model.to(config['DEVICE'])\n",
    "model_name = \"cvt_7\"\n",
    "criterion = torch.nn.CrossEntropyLoss()\n",
    "optimizer = torch.optim.AdamW(model.parameters(),\n",
    "                              lr=config['LR_INIT'],\n",
    "                              weight_decay=config['WEIGHT_DECAY'])\n",
    "\n",
    "train_loader, val_loader = get_dataloaders()"
   ]
  },
  {
   "cell_type": "code",
   "execution_count": 13,
   "metadata": {
    "execution": {
     "iopub.execute_input": "2023-11-25T18:16:03.757721Z",
     "iopub.status.busy": "2023-11-25T18:16:03.757411Z",
     "iopub.status.idle": "2023-11-25T18:16:05.014369Z",
     "shell.execute_reply": "2023-11-25T18:16:05.013401Z",
     "shell.execute_reply.started": "2023-11-25T18:16:03.757694Z"
    }
   },
   "outputs": [
    {
     "data": {
      "text/plain": [
       "=======================================================================================================================================\n",
       "Layer (type (var_name))                                 Input Shape          Output Shape         Param #              Trainable\n",
       "=======================================================================================================================================\n",
       "CvT_7 (CvT_7)                                           [32, 3, 224, 224]    [32, 10]             --                   True\n",
       "├─Tokenizer (tokenizer)                                 [32, 3, 224, 224]    [32, 196, 256]       --                   True\n",
       "│    └─Conv2d (conv1)                                   [32, 3, 224, 224]    [32, 64, 112, 112]   9,408                True\n",
       "│    └─MaxPool2d (max_pool)                             [32, 64, 112, 112]   [32, 64, 56, 56]     --                   --\n",
       "│    └─Conv2d (conv2)                                   [32, 64, 56, 56]     [32, 256, 28, 28]    802,816              True\n",
       "│    └─MaxPool2d (max_pool)                             [32, 256, 28, 28]    [32, 256, 14, 14]    --                   --\n",
       "│    └─Flatten (flatten)                                [32, 256, 14, 14]    [32, 256, 196]       --                   --\n",
       "├─Dropout (emb_dropout)                                 [32, 196, 256]       [32, 196, 256]       --                   --\n",
       "├─Sequential (encoder)                                  [32, 196, 256]       [32, 196, 256]       --                   True\n",
       "│    └─EncoderBlock (0)                                 [32, 196, 256]       [32, 196, 256]       --                   True\n",
       "│    │    └─MSA (msa)                                   [32, 196, 256]       [32, 196, 256]       263,680              True\n",
       "│    │    └─MLP (mlp)                                   [32, 196, 256]       [32, 196, 256]       263,424              True\n",
       "│    └─EncoderBlock (1)                                 [32, 196, 256]       [32, 196, 256]       --                   True\n",
       "│    │    └─MSA (msa)                                   [32, 196, 256]       [32, 196, 256]       263,680              True\n",
       "│    │    └─MLP (mlp)                                   [32, 196, 256]       [32, 196, 256]       263,424              True\n",
       "│    └─EncoderBlock (2)                                 [32, 196, 256]       [32, 196, 256]       --                   True\n",
       "│    │    └─MSA (msa)                                   [32, 196, 256]       [32, 196, 256]       263,680              True\n",
       "│    │    └─MLP (mlp)                                   [32, 196, 256]       [32, 196, 256]       263,424              True\n",
       "│    └─EncoderBlock (3)                                 [32, 196, 256]       [32, 196, 256]       --                   True\n",
       "│    │    └─MSA (msa)                                   [32, 196, 256]       [32, 196, 256]       263,680              True\n",
       "│    │    └─MLP (mlp)                                   [32, 196, 256]       [32, 196, 256]       263,424              True\n",
       "│    └─EncoderBlock (4)                                 [32, 196, 256]       [32, 196, 256]       --                   True\n",
       "│    │    └─MSA (msa)                                   [32, 196, 256]       [32, 196, 256]       263,680              True\n",
       "│    │    └─MLP (mlp)                                   [32, 196, 256]       [32, 196, 256]       263,424              True\n",
       "│    └─EncoderBlock (5)                                 [32, 196, 256]       [32, 196, 256]       --                   True\n",
       "│    │    └─MSA (msa)                                   [32, 196, 256]       [32, 196, 256]       263,680              True\n",
       "│    │    └─MLP (mlp)                                   [32, 196, 256]       [32, 196, 256]       263,424              True\n",
       "│    └─EncoderBlock (6)                                 [32, 196, 256]       [32, 196, 256]       --                   True\n",
       "│    │    └─MSA (msa)                                   [32, 196, 256]       [32, 196, 256]       263,680              True\n",
       "│    │    └─MLP (mlp)                                   [32, 196, 256]       [32, 196, 256]       263,424              True\n",
       "├─LayerNorm (norm)                                      [32, 196, 256]       [32, 196, 256]       512                  True\n",
       "├─Linear (attention_pool)                               [32, 196, 256]       [32, 196, 1]         257                  True\n",
       "├─Sequential (head)                                     [32, 256]            [32, 10]             --                   True\n",
       "│    └─LayerNorm (0)                                    [32, 256]            [32, 256]            512                  True\n",
       "│    └─Linear (1)                                       [32, 256]            [32, 10]             2,570                True\n",
       "=======================================================================================================================================\n",
       "Total params: 4,505,803\n",
       "Trainable params: 4,505,803\n",
       "Non-trainable params: 0\n",
       "Total mult-adds (G): 23.98\n",
       "=======================================================================================================================================\n",
       "Input size (MB): 19.27\n",
       "Forward/backward pass size (MB): 719.44\n",
       "Params size (MB): 10.65\n",
       "Estimated Total Size (MB): 749.36\n",
       "======================================================================================================================================="
      ]
     },
     "execution_count": 13,
     "metadata": {},
     "output_type": "execute_result"
    }
   ],
   "source": [
    "from torchinfo import summary\n",
    "summary(model=model,\n",
    "        input_size=(32, 3, 224, 224),\n",
    "        col_names=[\"input_size\", \"output_size\", \"num_params\", \"trainable\"],\n",
    "        col_width=20,\n",
    "        row_settings=[\"var_names\"]\n",
    ")"
   ]
  },
  {
   "cell_type": "markdown",
   "metadata": {},
   "source": [
    "# Training"
   ]
  },
  {
   "cell_type": "code",
   "execution_count": 14,
   "metadata": {
    "execution": {
     "iopub.execute_input": "2023-11-25T18:16:05.015770Z",
     "iopub.status.busy": "2023-11-25T18:16:05.015480Z",
     "iopub.status.idle": "2023-11-25T19:27:43.758984Z",
     "shell.execute_reply": "2023-11-25T19:27:43.757803Z",
     "shell.execute_reply.started": "2023-11-25T18:16:05.015745Z"
    }
   },
   "outputs": [
    {
     "name": "stderr",
     "output_type": "stream",
     "text": [
      "Training: 100%|██████████████████████████████████████████████████████████████████████| 281/281 [05:27<00:00,  1.17s/it]\n"
     ]
    },
    {
     "name": "stdout",
     "output_type": "stream",
     "text": [
      "Epoch 1 | Train Loss: 2.3074192661407578 | Accuracy: 0.12213612798929706 | Precision: 0.1173407141790974 | Recall: 0.12213612798929706 | F1: 0.11168057603336999\n"
     ]
    },
    {
     "name": "stderr",
     "output_type": "stream",
     "text": [
      "Validating: 100%|██████████████████████████████████████████████████████████████████████| 71/71 [01:04<00:00,  1.10it/s]\n",
      "C:\\Users\\fano2\\anaconda3\\envs\\tr\\lib\\site-packages\\sklearn\\metrics\\_classification.py:1471: UndefinedMetricWarning: Precision is ill-defined and being set to 0.0 in labels with no predicted samples. Use `zero_division` parameter to control this behavior.\n",
      "  _warn_prf(average, modifier, msg_start, len(result))\n"
     ]
    },
    {
     "name": "stdout",
     "output_type": "stream",
     "text": [
      "\tValidation Loss: 2.2879902040454705 | Accuracy: 0.12709030100334448 | Precision: 0.049780040694186616 | Recall: 0.12709030100334448 | F1: 0.05202297355516947\n",
      "Saving best model at epoch 1...\n"
     ]
    },
    {
     "name": "stderr",
     "output_type": "stream",
     "text": [
      "Training: 100%|██████████████████████████████████████████████████████████████████████| 281/281 [03:51<00:00,  1.22it/s]\n"
     ]
    },
    {
     "name": "stdout",
     "output_type": "stream",
     "text": [
      "Epoch 2 | Train Loss: 1.9400331952817924 | Accuracy: 0.2643960086961369 | Precision: 0.2536414163738229 | Recall: 0.2643960086961369 | F1: 0.2511210862181755\n"
     ]
    },
    {
     "name": "stderr",
     "output_type": "stream",
     "text": [
      "Validating: 100%|██████████████████████████████████████████████████████████████████████| 71/71 [00:31<00:00,  2.22it/s]\n"
     ]
    },
    {
     "name": "stdout",
     "output_type": "stream",
     "text": [
      "\tValidation Loss: 1.4407759569060634 | Accuracy: 0.42920847268673357 | Precision: 0.47300805225199277 | Recall: 0.42920847268673357 | F1: 0.39898698298903146\n",
      "Saving best model at epoch 2...\n"
     ]
    },
    {
     "name": "stderr",
     "output_type": "stream",
     "text": [
      "Training: 100%|██████████████████████████████████████████████████████████████████████| 281/281 [05:38<00:00,  1.20s/it]\n"
     ]
    },
    {
     "name": "stdout",
     "output_type": "stream",
     "text": [
      "Epoch 3 | Train Loss: 1.3047014476989935 | Accuracy: 0.5101733652934947 | Precision: 0.5019939394107611 | Recall: 0.5101733652934947 | F1: 0.5033590525646929\n"
     ]
    },
    {
     "name": "stderr",
     "output_type": "stream",
     "text": [
      "Validating: 100%|██████████████████████████████████████████████████████████████████████| 71/71 [01:01<00:00,  1.16it/s]\n"
     ]
    },
    {
     "name": "stdout",
     "output_type": "stream",
     "text": [
      "\tValidation Loss: 0.9216583396347475 | Accuracy: 0.6358974358974359 | Precision: 0.658620242741617 | Recall: 0.6358974358974359 | F1: 0.6081340843403897\n",
      "Saving best model at epoch 3...\n"
     ]
    },
    {
     "name": "stderr",
     "output_type": "stream",
     "text": [
      "Training: 100%|██████████████████████████████████████████████████████████████████████| 281/281 [03:58<00:00,  1.18it/s]\n"
     ]
    },
    {
     "name": "stdout",
     "output_type": "stream",
     "text": [
      "Epoch 4 | Train Loss: 0.8377317612281473 | Accuracy: 0.7003177434639613 | Precision: 0.6967894434268139 | Recall: 0.7003177434639613 | F1: 0.6973896570871295\n"
     ]
    },
    {
     "name": "stderr",
     "output_type": "stream",
     "text": [
      "Validating: 100%|██████████████████████████████████████████████████████████████████████| 71/71 [00:31<00:00,  2.26it/s]\n"
     ]
    },
    {
     "name": "stdout",
     "output_type": "stream",
     "text": [
      "\tValidation Loss: 0.6209236618498681 | Accuracy: 0.7803790412486065 | Precision: 0.8021961411661442 | Recall: 0.7803790412486065 | F1: 0.7645610532569045\n",
      "Saving best model at epoch 4...\n"
     ]
    },
    {
     "name": "stderr",
     "output_type": "stream",
     "text": [
      "Training: 100%|██████████████████████████████████████████████████████████████████████| 281/281 [03:50<00:00,  1.22it/s]\n"
     ]
    },
    {
     "name": "stdout",
     "output_type": "stream",
     "text": [
      "Epoch 5 | Train Loss: 0.5606810484492482 | Accuracy: 0.8105245554378728 | Precision: 0.8086613514682207 | Recall: 0.8105245554378728 | F1: 0.8092923300359771\n"
     ]
    },
    {
     "name": "stderr",
     "output_type": "stream",
     "text": [
      "Validating: 100%|██████████████████████████████████████████████████████████████████████| 71/71 [00:31<00:00,  2.24it/s]\n"
     ]
    },
    {
     "name": "stdout",
     "output_type": "stream",
     "text": [
      "\tValidation Loss: 0.2983750118546083 | Accuracy: 0.9076923076923077 | Precision: 0.9083860439612542 | Recall: 0.9076923076923077 | F1: 0.9058268917019762\n",
      "Saving best model at epoch 5...\n"
     ]
    },
    {
     "name": "stderr",
     "output_type": "stream",
     "text": [
      "Training: 100%|██████████████████████████████████████████████████████████████████████| 281/281 [03:50<00:00,  1.22it/s]\n"
     ]
    },
    {
     "name": "stdout",
     "output_type": "stream",
     "text": [
      "Epoch 6 | Train Loss: 0.37542052964722983 | Accuracy: 0.8745749484363677 | Precision: 0.8738483609153546 | Recall: 0.8745749484363677 | F1: 0.8740278746448815\n"
     ]
    },
    {
     "name": "stderr",
     "output_type": "stream",
     "text": [
      "Validating: 100%|██████████████████████████████████████████████████████████████████████| 71/71 [00:31<00:00,  2.25it/s]\n"
     ]
    },
    {
     "name": "stdout",
     "output_type": "stream",
     "text": [
      "\tValidation Loss: 0.2716874567345834 | Accuracy: 0.9141583054626533 | Precision: 0.9202373814286743 | Recall: 0.9141583054626533 | F1: 0.9127526542388458\n",
      "Saving best model at epoch 6...\n"
     ]
    },
    {
     "name": "stderr",
     "output_type": "stream",
     "text": [
      "Training: 100%|██████████████████████████████████████████████████████████████████████| 281/281 [03:50<00:00,  1.22it/s]\n"
     ]
    },
    {
     "name": "stdout",
     "output_type": "stream",
     "text": [
      "Epoch 7 | Train Loss: 0.28721506331526936 | Accuracy: 0.9098054518089079 | Precision: 0.9093068206544155 | Recall: 0.9098054518089079 | F1: 0.9094041868090914\n"
     ]
    },
    {
     "name": "stderr",
     "output_type": "stream",
     "text": [
      "Validating: 100%|██████████████████████████████████████████████████████████████████████| 71/71 [00:31<00:00,  2.23it/s]\n"
     ]
    },
    {
     "name": "stdout",
     "output_type": "stream",
     "text": [
      "\tValidation Loss: 0.20854832190023342 | Accuracy: 0.935340022296544 | Precision: 0.9419910010257229 | Recall: 0.935340022296544 | F1: 0.9356241138541876\n",
      "Saving best model at epoch 7...\n"
     ]
    },
    {
     "name": "stderr",
     "output_type": "stream",
     "text": [
      "Training: 100%|██████████████████████████████████████████████████████████████████████| 281/281 [03:50<00:00,  1.22it/s]\n"
     ]
    },
    {
     "name": "stdout",
     "output_type": "stream",
     "text": [
      "Epoch 8 | Train Loss: 0.24247974377403905 | Accuracy: 0.9211773231506772 | Precision: 0.9208573622935037 | Recall: 0.9211773231506772 | F1: 0.9209642678086409\n"
     ]
    },
    {
     "name": "stderr",
     "output_type": "stream",
     "text": [
      "Validating: 100%|██████████████████████████████████████████████████████████████████████| 71/71 [00:43<00:00,  1.64it/s]\n"
     ]
    },
    {
     "name": "stdout",
     "output_type": "stream",
     "text": [
      "\tValidation Loss: 0.18882151501594294 | Accuracy: 0.9386845039018952 | Precision: 0.9452768284530957 | Recall: 0.9386845039018952 | F1: 0.9381108673429152\n",
      "Saving best model at epoch 8...\n"
     ]
    },
    {
     "name": "stderr",
     "output_type": "stream",
     "text": [
      "Training: 100%|██████████████████████████████████████████████████████████████████████| 281/281 [03:51<00:00,  1.21it/s]\n"
     ]
    },
    {
     "name": "stdout",
     "output_type": "stream",
     "text": [
      "Epoch 9 | Train Loss: 0.19487845661695316 | Accuracy: 0.9384581080327777 | Precision: 0.9383347164271252 | Recall: 0.9384581080327777 | F1: 0.9383519710507869\n"
     ]
    },
    {
     "name": "stderr",
     "output_type": "stream",
     "text": [
      "Validating: 100%|██████████████████████████████████████████████████████████████████████| 71/71 [00:31<00:00,  2.24it/s]\n"
     ]
    },
    {
     "name": "stdout",
     "output_type": "stream",
     "text": [
      "\tValidation Loss: 0.1611085504844365 | Accuracy: 0.948494983277592 | Precision: 0.9519414459430843 | Recall: 0.948494983277592 | F1: 0.9486159958033654\n",
      "Saving best model at epoch 9...\n"
     ]
    },
    {
     "name": "stderr",
     "output_type": "stream",
     "text": [
      "Training: 100%|██████████████████████████████████████████████████████████████████████| 281/281 [03:51<00:00,  1.21it/s]\n"
     ]
    },
    {
     "name": "stdout",
     "output_type": "stream",
     "text": [
      "Epoch 10 | Train Loss: 0.14886339045928465 | Accuracy: 0.9536206031551369 | Precision: 0.9535887259502485 | Recall: 0.9536206031551369 | F1: 0.9535799022214496\n"
     ]
    },
    {
     "name": "stderr",
     "output_type": "stream",
     "text": [
      "Validating: 100%|██████████████████████████████████████████████████████████████████████| 71/71 [00:31<00:00,  2.23it/s]\n"
     ]
    },
    {
     "name": "stdout",
     "output_type": "stream",
     "text": [
      "\tValidation Loss: 0.10183552514210763 | Accuracy: 0.9705685618729097 | Precision: 0.971073630366519 | Recall: 0.9705685618729097 | F1: 0.9704562186251859\n",
      "Saving best model at epoch 10...\n"
     ]
    },
    {
     "name": "stderr",
     "output_type": "stream",
     "text": [
      "Training: 100%|██████████████████████████████████████████████████████████████████████| 281/281 [03:51<00:00,  1.21it/s]\n"
     ]
    },
    {
     "name": "stdout",
     "output_type": "stream",
     "text": [
      "Epoch 11 | Train Loss: 0.14678835937773205 | Accuracy: 0.954178047828753 | Precision: 0.9541549726325576 | Recall: 0.954178047828753 | F1: 0.9541536974539575\n"
     ]
    },
    {
     "name": "stderr",
     "output_type": "stream",
     "text": [
      "Validating: 100%|██████████████████████████████████████████████████████████████████████| 71/71 [00:32<00:00,  2.22it/s]\n"
     ]
    },
    {
     "name": "stdout",
     "output_type": "stream",
     "text": [
      "\tValidation Loss: 0.1327178924226425 | Accuracy: 0.9565217391304348 | Precision: 0.9620710689575378 | Recall: 0.9565217391304348 | F1: 0.9570506389014514\n"
     ]
    },
    {
     "name": "stderr",
     "output_type": "stream",
     "text": [
      "Training: 100%|██████████████████████████████████████████████████████████████████████| 281/281 [03:51<00:00,  1.21it/s]\n"
     ]
    },
    {
     "name": "stdout",
     "output_type": "stream",
     "text": [
      "Epoch 12 | Train Loss: 0.11653165441682542 | Accuracy: 0.9637660962149507 | Precision: 0.9637407456885111 | Recall: 0.9637660962149507 | F1: 0.963744497626199\n"
     ]
    },
    {
     "name": "stderr",
     "output_type": "stream",
     "text": [
      "Validating: 100%|██████████████████████████████████████████████████████████████████████| 71/71 [00:31<00:00,  2.25it/s]\n"
     ]
    },
    {
     "name": "stdout",
     "output_type": "stream",
     "text": [
      "\tValidation Loss: 0.13295314660374546 | Accuracy: 0.9585284280936455 | Precision: 0.9601231139342131 | Recall: 0.9585284280936455 | F1: 0.9578145958851284\n"
     ]
    },
    {
     "name": "stderr",
     "output_type": "stream",
     "text": [
      "Training: 100%|██████████████████████████████████████████████████████████████████████| 281/281 [03:50<00:00,  1.22it/s]\n"
     ]
    },
    {
     "name": "stdout",
     "output_type": "stream",
     "text": [
      "Epoch 13 | Train Loss: 0.12390596953840442 | Accuracy: 0.9605886615753386 | Precision: 0.9605574027105103 | Recall: 0.9605886615753386 | F1: 0.9605466133032159\n"
     ]
    },
    {
     "name": "stderr",
     "output_type": "stream",
     "text": [
      "Validating: 100%|██████████████████████████████████████████████████████████████████████| 71/71 [00:31<00:00,  2.25it/s]\n"
     ]
    },
    {
     "name": "stdout",
     "output_type": "stream",
     "text": [
      "\tValidation Loss: 0.1097069114026889 | Accuracy: 0.9638795986622074 | Precision: 0.966757888172639 | Recall: 0.9638795986622074 | F1: 0.9640680727296216\n"
     ]
    },
    {
     "name": "stderr",
     "output_type": "stream",
     "text": [
      "Training: 100%|██████████████████████████████████████████████████████████████████████| 281/281 [03:52<00:00,  1.21it/s]\n"
     ]
    },
    {
     "name": "stdout",
     "output_type": "stream",
     "text": [
      "Epoch 14 | Train Loss: 0.10345565587335209 | Accuracy: 0.9681699091365182 | Precision: 0.9681602516816858 | Recall: 0.9681699091365182 | F1: 0.96815755410022\n"
     ]
    },
    {
     "name": "stderr",
     "output_type": "stream",
     "text": [
      "Validating: 100%|██████████████████████████████████████████████████████████████████████| 71/71 [00:31<00:00,  2.24it/s]\n"
     ]
    },
    {
     "name": "stdout",
     "output_type": "stream",
     "text": [
      "\tValidation Loss: 0.11087289670298636 | Accuracy: 0.9636566332218506 | Precision: 0.966788915743954 | Recall: 0.9636566332218506 | F1: 0.9640253746961616\n"
     ]
    },
    {
     "name": "stderr",
     "output_type": "stream",
     "text": [
      "Training: 100%|██████████████████████████████████████████████████████████████████████| 281/281 [03:53<00:00,  1.20it/s]\n"
     ]
    },
    {
     "name": "stdout",
     "output_type": "stream",
     "text": [
      "Epoch 15 | Train Loss: 0.08565075076069166 | Accuracy: 0.9729639333296171 | Precision: 0.9729588695653762 | Recall: 0.9729639333296171 | F1: 0.9729541357292564\n"
     ]
    },
    {
     "name": "stderr",
     "output_type": "stream",
     "text": [
      "Validating: 100%|██████████████████████████████████████████████████████████████████████| 71/71 [00:31<00:00,  2.23it/s]\n"
     ]
    },
    {
     "name": "stdout",
     "output_type": "stream",
     "text": [
      "\tValidation Loss: 0.0749412267665628 | Accuracy: 0.9772575250836121 | Precision: 0.9779659323638856 | Recall: 0.9772575250836121 | F1: 0.9771356122748829\n",
      "Saving best model at epoch 15...\n"
     ]
    },
    {
     "name": "stderr",
     "output_type": "stream",
     "text": [
      "Training: 100%|██████████████████████████████████████████████████████████████████████| 281/281 [03:53<00:00,  1.20it/s]\n"
     ]
    },
    {
     "name": "stdout",
     "output_type": "stream",
     "text": [
      "Epoch 16 | Train Loss: 0.09319874604507697 | Accuracy: 0.9701209654941747 | Precision: 0.9701209041463879 | Recall: 0.9701209654941747 | F1: 0.9701134377465008\n"
     ]
    },
    {
     "name": "stderr",
     "output_type": "stream",
     "text": [
      "Validating: 100%|██████████████████████████████████████████████████████████████████████| 71/71 [00:31<00:00,  2.24it/s]\n"
     ]
    },
    {
     "name": "stdout",
     "output_type": "stream",
     "text": [
      "\tValidation Loss: 0.06732750628684635 | Accuracy: 0.9783723522853958 | Precision: 0.978532007542152 | Recall: 0.9783723522853958 | F1: 0.9783098938513497\n",
      "Saving best model at epoch 16...\n"
     ]
    },
    {
     "name": "stderr",
     "output_type": "stream",
     "text": [
      "Training: 100%|██████████████████████████████████████████████████████████████████████| 281/281 [03:53<00:00,  1.21it/s]\n"
     ]
    },
    {
     "name": "stdout",
     "output_type": "stream",
     "text": [
      "Epoch 17 | Train Loss: 0.0790210633250318 | Accuracy: 0.9756396677629745 | Precision: 0.975646486525421 | Recall: 0.9756396677629745 | F1: 0.9756383254822439\n"
     ]
    },
    {
     "name": "stderr",
     "output_type": "stream",
     "text": [
      "Validating: 100%|██████████████████████████████████████████████████████████████████████| 71/71 [00:31<00:00,  2.23it/s]\n"
     ]
    },
    {
     "name": "stdout",
     "output_type": "stream",
     "text": [
      "\tValidation Loss: 0.05686267507328114 | Accuracy: 0.9812709030100334 | Precision: 0.981762544752981 | Recall: 0.9812709030100334 | F1: 0.9813052318725359\n",
      "Saving best model at epoch 17...\n"
     ]
    },
    {
     "name": "stderr",
     "output_type": "stream",
     "text": [
      "Training: 100%|██████████████████████████████████████████████████████████████████████| 281/281 [03:52<00:00,  1.21it/s]\n"
     ]
    },
    {
     "name": "stdout",
     "output_type": "stream",
     "text": [
      "Epoch 18 | Train Loss: 0.0768427440094566 | Accuracy: 0.9763643458386755 | Precision: 0.9763873909065018 | Recall: 0.9763643458386755 | F1: 0.9763717589559633\n"
     ]
    },
    {
     "name": "stderr",
     "output_type": "stream",
     "text": [
      "Validating: 100%|██████████████████████████████████████████████████████████████████████| 71/71 [00:31<00:00,  2.23it/s]\n"
     ]
    },
    {
     "name": "stdout",
     "output_type": "stream",
     "text": [
      "\tValidation Loss: 0.07300151350357058 | Accuracy: 0.9774804905239688 | Precision: 0.9785862814803904 | Recall: 0.9774804905239688 | F1: 0.9776614170970863\n"
     ]
    },
    {
     "name": "stderr",
     "output_type": "stream",
     "text": [
      "Training: 100%|██████████████████████████████████████████████████████████████████████| 281/281 [03:52<00:00,  1.21it/s]\n"
     ]
    },
    {
     "name": "stdout",
     "output_type": "stream",
     "text": [
      "Epoch 19 | Train Loss: 0.07579354355376863 | Accuracy: 0.9750264786219968 | Precision: 0.9750277650936348 | Recall: 0.9750264786219968 | F1: 0.9750228482814909\n"
     ]
    },
    {
     "name": "stderr",
     "output_type": "stream",
     "text": [
      "Validating: 100%|██████████████████████████████████████████████████████████████████████| 71/71 [00:31<00:00,  2.24it/s]\n"
     ]
    },
    {
     "name": "stdout",
     "output_type": "stream",
     "text": [
      "\tValidation Loss: 0.09749063970783436 | Accuracy: 0.9723522853957637 | Precision: 0.9731396010561061 | Recall: 0.9723522853957637 | F1: 0.9722412016558809\n"
     ]
    },
    {
     "name": "stderr",
     "output_type": "stream",
     "text": [
      "Training: 100%|██████████████████████████████████████████████████████████████████████| 281/281 [03:51<00:00,  1.22it/s]\n"
     ]
    },
    {
     "name": "stdout",
     "output_type": "stream",
     "text": [
      "Epoch 20 | Train Loss: 0.0680968442971543 | Accuracy: 0.9787056134678633 | Precision: 0.9787222110197135 | Recall: 0.9787056134678633 | F1: 0.9787083064652515\n"
     ]
    },
    {
     "name": "stderr",
     "output_type": "stream",
     "text": [
      "Validating: 100%|██████████████████████████████████████████████████████████████████████| 71/71 [00:31<00:00,  2.25it/s]\n"
     ]
    },
    {
     "name": "stdout",
     "output_type": "stream",
     "text": [
      "\tValidation Loss: 0.0652819771785289 | Accuracy: 0.979041248606466 | Precision: 0.9797077486973229 | Recall: 0.979041248606466 | F1: 0.9791540226002823\n"
     ]
    },
    {
     "name": "stderr",
     "output_type": "stream",
     "text": [
      "Training: 100%|██████████████████████████████████████████████████████████████████████| 281/281 [03:51<00:00,  1.21it/s]\n"
     ]
    },
    {
     "name": "stdout",
     "output_type": "stream",
     "text": [
      "Epoch 21 | Train Loss: 0.05985219397058452 | Accuracy: 0.981214114499136 | Precision: 0.9812122690596796 | Recall: 0.981214114499136 | F1: 0.9812085320587199\n"
     ]
    },
    {
     "name": "stderr",
     "output_type": "stream",
     "text": [
      "Validating: 100%|██████████████████████████████████████████████████████████████████████| 71/71 [00:31<00:00,  2.23it/s]\n"
     ]
    },
    {
     "name": "stdout",
     "output_type": "stream",
     "text": [
      "\tValidation Loss: 0.05802048697024846 | Accuracy: 0.9797101449275363 | Precision: 0.9800180624929354 | Recall: 0.9797101449275363 | F1: 0.9796973244915261\n"
     ]
    },
    {
     "name": "stderr",
     "output_type": "stream",
     "text": [
      "Training: 100%|██████████████████████████████████████████████████████████████████████| 281/281 [03:51<00:00,  1.21it/s]\n"
     ]
    },
    {
     "name": "stdout",
     "output_type": "stream",
     "text": [
      "Epoch 22 | Train Loss: 0.061822939831498364 | Accuracy: 0.9800992251519036 | Precision: 0.9801049299654684 | Recall: 0.9800992251519036 | F1: 0.9800999822377477\n"
     ]
    },
    {
     "name": "stderr",
     "output_type": "stream",
     "text": [
      "Validating: 100%|██████████████████████████████████████████████████████████████████████| 71/71 [00:31<00:00,  2.25it/s]\n"
     ]
    },
    {
     "name": "stdout",
     "output_type": "stream",
     "text": [
      "\tValidation Loss: 0.05806148233397169 | Accuracy: 0.9803790412486064 | Precision: 0.980989888096499 | Recall: 0.9803790412486064 | F1: 0.9804068917811676\n"
     ]
    },
    {
     "name": "stderr",
     "output_type": "stream",
     "text": [
      "Training: 100%|██████████████████████████████████████████████████████████████████████| 281/281 [03:50<00:00,  1.22it/s]\n"
     ]
    },
    {
     "name": "stdout",
     "output_type": "stream",
     "text": [
      "Epoch 23 | Train Loss: 0.056428396074247156 | Accuracy: 0.9818273036401137 | Precision: 0.9818400033237732 | Recall: 0.9818273036401137 | F1: 0.9818297739192473\n"
     ]
    },
    {
     "name": "stderr",
     "output_type": "stream",
     "text": [
      "Validating: 100%|██████████████████████████████████████████████████████████████████████| 71/71 [00:31<00:00,  2.25it/s]\n"
     ]
    },
    {
     "name": "stdout",
     "output_type": "stream",
     "text": [
      "\tValidation Loss: 0.06379076113930943 | Accuracy: 0.9801560758082497 | Precision: 0.9809435755324379 | Recall: 0.9801560758082497 | F1: 0.9802373639558172\n"
     ]
    },
    {
     "name": "stderr",
     "output_type": "stream",
     "text": [
      "Training: 100%|██████████████████████████████████████████████████████████████████████| 281/281 [03:51<00:00,  1.21it/s]\n"
     ]
    },
    {
     "name": "stdout",
     "output_type": "stream",
     "text": [
      "Epoch 24 | Train Loss: 0.05671088701259888 | Accuracy: 0.9814370923685825 | Precision: 0.9814470587176571 | Recall: 0.9814370923685825 | F1: 0.9814390095063701\n"
     ]
    },
    {
     "name": "stderr",
     "output_type": "stream",
     "text": [
      "Validating: 100%|██████████████████████████████████████████████████████████████████████| 71/71 [00:31<00:00,  2.25it/s]\n"
     ]
    },
    {
     "name": "stdout",
     "output_type": "stream",
     "text": [
      "\tValidation Loss: 0.04268976288083547 | Accuracy: 0.9875139353400223 | Precision: 0.987803366573797 | Recall: 0.9875139353400223 | F1: 0.9875603660758069\n",
      "Saving best model at epoch 24...\n"
     ]
    },
    {
     "name": "stderr",
     "output_type": "stream",
     "text": [
      "Training: 100%|██████████████████████████████████████████████████████████████████████| 281/281 [03:52<00:00,  1.21it/s]\n"
     ]
    },
    {
     "name": "stdout",
     "output_type": "stream",
     "text": [
      "Epoch 25 | Train Loss: 0.04806533445988606 | Accuracy: 0.9852277161491722 | Precision: 0.9852251790275897 | Recall: 0.9852277161491722 | F1: 0.9852227656057486\n"
     ]
    },
    {
     "name": "stderr",
     "output_type": "stream",
     "text": [
      "Validating: 100%|██████████████████████████████████████████████████████████████████████| 71/71 [00:31<00:00,  2.26it/s]\n"
     ]
    },
    {
     "name": "stdout",
     "output_type": "stream",
     "text": [
      "\tValidation Loss: 0.03677329126069925 | Accuracy: 0.9881828316610926 | Precision: 0.9882860622375116 | Recall: 0.9881828316610926 | F1: 0.9881336561909579\n",
      "Saving best model at epoch 25...\n"
     ]
    },
    {
     "name": "stderr",
     "output_type": "stream",
     "text": [
      "Training: 100%|██████████████████████████████████████████████████████████████████████| 281/281 [03:53<00:00,  1.20it/s]\n"
     ]
    },
    {
     "name": "stdout",
     "output_type": "stream",
     "text": [
      "Epoch 26 | Train Loss: 0.05574613595480809 | Accuracy: 0.9824962372484531 | Precision: 0.9825002854825807 | Recall: 0.9824962372484531 | F1: 0.9824954936087946\n"
     ]
    },
    {
     "name": "stderr",
     "output_type": "stream",
     "text": [
      "Validating: 100%|██████████████████████████████████████████████████████████████████████| 71/71 [00:31<00:00,  2.24it/s]\n"
     ]
    },
    {
     "name": "stdout",
     "output_type": "stream",
     "text": [
      "\tValidation Loss: 0.034108560180626024 | Accuracy: 0.9890746934225195 | Precision: 0.989224637815695 | Recall: 0.9890746934225195 | F1: 0.9890387076417663\n",
      "Saving best model at epoch 26...\n"
     ]
    },
    {
     "name": "stderr",
     "output_type": "stream",
     "text": [
      "Training: 100%|██████████████████████████████████████████████████████████████████████| 281/281 [03:51<00:00,  1.21it/s]\n"
     ]
    },
    {
     "name": "stdout",
     "output_type": "stream",
     "text": [
      "Epoch 27 | Train Loss: 0.0394434227783803 | Accuracy: 0.9877362171804448 | Precision: 0.9877366993379147 | Recall: 0.9877362171804448 | F1: 0.9877333780471709\n"
     ]
    },
    {
     "name": "stderr",
     "output_type": "stream",
     "text": [
      "Validating: 100%|██████████████████████████████████████████████████████████████████████| 71/71 [00:31<00:00,  2.23it/s]\n"
     ]
    },
    {
     "name": "stdout",
     "output_type": "stream",
     "text": [
      "\tValidation Loss: 0.03736844463364064 | Accuracy: 0.9888517279821628 | Precision: 0.9890864857565368 | Recall: 0.9888517279821628 | F1: 0.9888887172801992\n"
     ]
    },
    {
     "name": "stderr",
     "output_type": "stream",
     "text": [
      "Training: 100%|██████████████████████████████████████████████████████████████████████| 281/281 [03:51<00:00,  1.21it/s]\n"
     ]
    },
    {
     "name": "stdout",
     "output_type": "stream",
     "text": [
      "Epoch 28 | Train Loss: 0.04245472928340086 | Accuracy: 0.9866770723005742 | Precision: 0.986681748797217 | Recall: 0.9866770723005742 | F1: 0.9866779287437709\n"
     ]
    },
    {
     "name": "stderr",
     "output_type": "stream",
     "text": [
      "Validating: 100%|██████████████████████████████████████████████████████████████████████| 71/71 [00:31<00:00,  2.23it/s]\n"
     ]
    },
    {
     "name": "stdout",
     "output_type": "stream",
     "text": [
      "\tValidation Loss: 0.05597542374867054 | Accuracy: 0.9828316610925306 | Precision: 0.9830087211775685 | Recall: 0.9828316610925306 | F1: 0.9827700882009941\n"
     ]
    },
    {
     "name": "stderr",
     "output_type": "stream",
     "text": [
      "Training: 100%|██████████████████████████████████████████████████████████████████████| 281/281 [05:31<00:00,  1.18s/it]\n"
     ]
    },
    {
     "name": "stdout",
     "output_type": "stream",
     "text": [
      "Epoch 29 | Train Loss: 0.040265832469613023 | Accuracy: 0.9869557946373823 | Precision: 0.986956692332686 | Recall: 0.9869557946373823 | F1: 0.9869535289106579\n"
     ]
    },
    {
     "name": "stderr",
     "output_type": "stream",
     "text": [
      "Validating: 100%|██████████████████████████████████████████████████████████████████████| 71/71 [01:01<00:00,  1.15it/s]\n"
     ]
    },
    {
     "name": "stdout",
     "output_type": "stream",
     "text": [
      "\tValidation Loss: 0.03979160464335967 | Accuracy: 0.9888517279821628 | Precision: 0.9889854810606031 | Recall: 0.9888517279821628 | F1: 0.9888171887993201\n"
     ]
    },
    {
     "name": "stderr",
     "output_type": "stream",
     "text": [
      "Training: 100%|██████████████████████████████████████████████████████████████████████| 281/281 [04:05<00:00,  1.14it/s]\n"
     ]
    },
    {
     "name": "stdout",
     "output_type": "stream",
     "text": [
      "Epoch 30 | Train Loss: 0.03716987248027889 | Accuracy: 0.9881264284519762 | Precision: 0.9881289937579947 | Recall: 0.9881264284519762 | F1: 0.9881249841505956\n"
     ]
    },
    {
     "name": "stderr",
     "output_type": "stream",
     "text": [
      "Validating: 100%|██████████████████████████████████████████████████████████████████████| 71/71 [00:31<00:00,  2.24it/s]\n"
     ]
    },
    {
     "name": "stdout",
     "output_type": "stream",
     "text": [
      "\tValidation Loss: 0.04585063991523807 | Accuracy: 0.9884057971014493 | Precision: 0.9886180974638992 | Recall: 0.9884057971014493 | F1: 0.9884463068945142\n"
     ]
    },
    {
     "name": "stderr",
     "output_type": "stream",
     "text": [
      "Training: 100%|██████████████████████████████████████████████████████████████████████| 281/281 [03:52<00:00,  1.21it/s]\n"
     ]
    },
    {
     "name": "stdout",
     "output_type": "stream",
     "text": [
      "Epoch 31 | Train Loss: 0.032476418531289346 | Accuracy: 0.9897987624728246 | Precision: 0.9898003659318818 | Recall: 0.9897987624728246 | F1: 0.9897987207984357\n"
     ]
    },
    {
     "name": "stderr",
     "output_type": "stream",
     "text": [
      "Validating: 100%|██████████████████████████████████████████████████████████████████████| 71/71 [00:31<00:00,  2.23it/s]\n"
     ]
    },
    {
     "name": "stdout",
     "output_type": "stream",
     "text": [
      "\tValidation Loss: 0.054400788837778186 | Accuracy: 0.9839464882943144 | Precision: 0.9842993079823343 | Recall: 0.9839464882943144 | F1: 0.983924430234027\n"
     ]
    },
    {
     "name": "stderr",
     "output_type": "stream",
     "text": [
      "Training: 100%|██████████████████████████████████████████████████████████████████████| 281/281 [03:52<00:00,  1.21it/s]\n"
     ]
    },
    {
     "name": "stdout",
     "output_type": "stream",
     "text": [
      "Epoch 32 | Train Loss: 0.03647907004398344 | Accuracy: 0.9885166397235075 | Precision: 0.9885166799258125 | Recall: 0.9885166397235075 | F1: 0.9885149905083362\n"
     ]
    },
    {
     "name": "stderr",
     "output_type": "stream",
     "text": [
      "Validating: 100%|██████████████████████████████████████████████████████████████████████| 71/71 [00:31<00:00,  2.25it/s]\n"
     ]
    },
    {
     "name": "stdout",
     "output_type": "stream",
     "text": [
      "\tValidation Loss: 0.030787194045637668 | Accuracy: 0.9904124860646599 | Precision: 0.9904773793319843 | Recall: 0.9904124860646599 | F1: 0.9904068161170868\n",
      "Saving best model at epoch 32...\n"
     ]
    },
    {
     "name": "stderr",
     "output_type": "stream",
     "text": [
      "Training: 100%|██████████████████████████████████████████████████████████████████████| 281/281 [03:52<00:00,  1.21it/s]\n"
     ]
    },
    {
     "name": "stdout",
     "output_type": "stream",
     "text": [
      "Epoch 33 | Train Loss: 0.02927786104084453 | Accuracy: 0.9903004626790791 | Precision: 0.9903040483123362 | Recall: 0.9903004626790791 | F1: 0.9903018843750008\n"
     ]
    },
    {
     "name": "stderr",
     "output_type": "stream",
     "text": [
      "Validating: 100%|██████████████████████████████████████████████████████████████████████| 71/71 [00:31<00:00,  2.24it/s]\n"
     ]
    },
    {
     "name": "stdout",
     "output_type": "stream",
     "text": [
      "\tValidation Loss: 0.03548380224039109 | Accuracy: 0.9901895206243032 | Precision: 0.9902195501894011 | Recall: 0.9901895206243032 | F1: 0.9901518982457399\n"
     ]
    },
    {
     "name": "stderr",
     "output_type": "stream",
     "text": [
      "Training: 100%|██████████████████████████████████████████████████████████████████████| 281/281 [03:52<00:00,  1.21it/s]\n"
     ]
    },
    {
     "name": "stdout",
     "output_type": "stream",
     "text": [
      "Epoch 34 | Train Loss: 0.03100391208182596 | Accuracy: 0.9899102514075478 | Precision: 0.9899098750350824 | Recall: 0.9899102514075478 | F1: 0.9899084377936375\n"
     ]
    },
    {
     "name": "stderr",
     "output_type": "stream",
     "text": [
      "Validating: 100%|██████████████████████████████████████████████████████████████████████| 71/71 [00:31<00:00,  2.25it/s]\n"
     ]
    },
    {
     "name": "stdout",
     "output_type": "stream",
     "text": [
      "\tValidation Loss: 0.03483572575627682 | Accuracy: 0.989520624303233 | Precision: 0.9896633075210498 | Recall: 0.989520624303233 | F1: 0.9894673524563428\n"
     ]
    },
    {
     "name": "stderr",
     "output_type": "stream",
     "text": [
      "Training: 100%|██████████████████████████████████████████████████████████████████████| 281/281 [03:49<00:00,  1.22it/s]\n"
     ]
    },
    {
     "name": "stdout",
     "output_type": "stream",
     "text": [
      "Epoch 35 | Train Loss: 0.03734672887004693 | Accuracy: 0.987847706115168 | Precision: 0.9878442250086676 | Recall: 0.987847706115168 | F1: 0.9878440684234016\n"
     ]
    },
    {
     "name": "stderr",
     "output_type": "stream",
     "text": [
      "Validating: 100%|██████████████████████████████████████████████████████████████████████| 71/71 [00:31<00:00,  2.26it/s]\n"
     ]
    },
    {
     "name": "stdout",
     "output_type": "stream",
     "text": [
      "\tValidation Loss: 0.05412663069984492 | Accuracy: 0.9832775919732442 | Precision: 0.9836406568469456 | Recall: 0.9832775919732442 | F1: 0.9833070759082153\n"
     ]
    },
    {
     "name": "stderr",
     "output_type": "stream",
     "text": [
      "Training: 100%|██████████████████████████████████████████████████████████████████████| 281/281 [03:49<00:00,  1.22it/s]\n"
     ]
    },
    {
     "name": "stdout",
     "output_type": "stream",
     "text": [
      "Epoch 36 | Train Loss: 0.02170923343997157 | Accuracy: 0.992920452645075 | Precision: 0.9929198564465324 | Recall: 0.992920452645075 | F1: 0.9929196951986289\n"
     ]
    },
    {
     "name": "stderr",
     "output_type": "stream",
     "text": [
      "Validating: 100%|██████████████████████████████████████████████████████████████████████| 71/71 [00:31<00:00,  2.25it/s]\n"
     ]
    },
    {
     "name": "stdout",
     "output_type": "stream",
     "text": [
      "\tValidation Loss: 0.030410277094400133 | Accuracy: 0.9917502787068004 | Precision: 0.9918181864276141 | Recall: 0.9917502787068004 | F1: 0.9917461109006089\n",
      "Saving best model at epoch 36...\n"
     ]
    },
    {
     "name": "stderr",
     "output_type": "stream",
     "text": [
      "Training: 100%|██████████████████████████████████████████████████████████████████████| 281/281 [03:49<00:00,  1.22it/s]\n"
     ]
    },
    {
     "name": "stdout",
     "output_type": "stream",
     "text": [
      "Epoch 37 | Train Loss: 0.02331621792777259 | Accuracy: 0.9922515190367356 | Precision: 0.9922526574828999 | Recall: 0.9922515190367356 | F1: 0.9922515349770065\n"
     ]
    },
    {
     "name": "stderr",
     "output_type": "stream",
     "text": [
      "Validating: 100%|██████████████████████████████████████████████████████████████████████| 71/71 [00:31<00:00,  2.26it/s]\n"
     ]
    },
    {
     "name": "stdout",
     "output_type": "stream",
     "text": [
      "\tValidation Loss: 0.04932735776663987 | Accuracy: 0.9846153846153847 | Precision: 0.9848790355863094 | Recall: 0.9846153846153847 | F1: 0.9846285912745828\n"
     ]
    },
    {
     "name": "stderr",
     "output_type": "stream",
     "text": [
      "Training: 100%|██████████████████████████████████████████████████████████████████████| 281/281 [03:49<00:00,  1.23it/s]\n"
     ]
    },
    {
     "name": "stdout",
     "output_type": "stream",
     "text": [
      "Epoch 38 | Train Loss: 0.02416370603963534 | Accuracy: 0.9920842856346508 | Precision: 0.9920854489765302 | Recall: 0.9920842856346508 | F1: 0.9920834332371673\n"
     ]
    },
    {
     "name": "stderr",
     "output_type": "stream",
     "text": [
      "Validating: 100%|██████████████████████████████████████████████████████████████████████| 71/71 [00:31<00:00,  2.27it/s]\n"
     ]
    },
    {
     "name": "stdout",
     "output_type": "stream",
     "text": [
      "\tValidation Loss: 0.032025526427749126 | Accuracy: 0.9901895206243032 | Precision: 0.9903506855174748 | Recall: 0.9901895206243032 | F1: 0.9902030201320103\n"
     ]
    },
    {
     "name": "stderr",
     "output_type": "stream",
     "text": [
      "Training: 100%|██████████████████████████████████████████████████████████████████████| 281/281 [03:48<00:00,  1.23it/s]\n"
     ]
    },
    {
     "name": "stdout",
     "output_type": "stream",
     "text": [
      "Epoch 39 | Train Loss: 0.025300896495789475 | Accuracy: 0.9919727966999276 | Precision: 0.991974172212992 | Recall: 0.9919727966999276 | F1: 0.9919705027279652\n"
     ]
    },
    {
     "name": "stderr",
     "output_type": "stream",
     "text": [
      "Validating: 100%|██████████████████████████████████████████████████████████████████████| 71/71 [00:31<00:00,  2.25it/s]\n"
     ]
    },
    {
     "name": "stdout",
     "output_type": "stream",
     "text": [
      "\tValidation Loss: 0.04307153918017948 | Accuracy: 0.9855072463768116 | Precision: 0.9857650122337118 | Recall: 0.9855072463768116 | F1: 0.9855587046341567\n"
     ]
    },
    {
     "name": "stderr",
     "output_type": "stream",
     "text": [
      "Training: 100%|██████████████████████████████████████████████████████████████████████| 281/281 [03:49<00:00,  1.23it/s]\n"
     ]
    },
    {
     "name": "stdout",
     "output_type": "stream",
     "text": [
      "Epoch 40 | Train Loss: 0.022149971751968485 | Accuracy: 0.9929761971124366 | Precision: 0.9929755392658499 | Recall: 0.9929761971124366 | F1: 0.9929753674138967\n"
     ]
    },
    {
     "name": "stderr",
     "output_type": "stream",
     "text": [
      "Validating: 100%|██████████████████████████████████████████████████████████████████████| 71/71 [00:31<00:00,  2.24it/s]\n"
     ]
    },
    {
     "name": "stdout",
     "output_type": "stream",
     "text": [
      "\tValidation Loss: 0.02841573970926873 | Accuracy: 0.9904124860646599 | Precision: 0.9904466179732417 | Recall: 0.9904124860646599 | F1: 0.9903887314919151\n",
      "Saving best model at epoch 40...\n"
     ]
    },
    {
     "name": "stderr",
     "output_type": "stream",
     "text": [
      "Training: 100%|██████████████████████████████████████████████████████████████████████| 281/281 [03:49<00:00,  1.22it/s]\n"
     ]
    },
    {
     "name": "stdout",
     "output_type": "stream",
     "text": [
      "Epoch 41 | Train Loss: 0.023872814068402533 | Accuracy: 0.9921400301020123 | Precision: 0.9921393381364974 | Recall: 0.9921400301020123 | F1: 0.9921393733302141\n"
     ]
    },
    {
     "name": "stderr",
     "output_type": "stream",
     "text": [
      "Validating: 100%|██████████████████████████████████████████████████████████████████████| 71/71 [00:31<00:00,  2.25it/s]\n"
     ]
    },
    {
     "name": "stdout",
     "output_type": "stream",
     "text": [
      "\tValidation Loss: 0.02870301378281741 | Accuracy: 0.992196209587514 | Precision: 0.9922832794152251 | Recall: 0.992196209587514 | F1: 0.9921577617307191\n"
     ]
    },
    {
     "name": "stderr",
     "output_type": "stream",
     "text": [
      "Training: 100%|██████████████████████████████████████████████████████████████████████| 281/281 [03:49<00:00,  1.22it/s]\n"
     ]
    },
    {
     "name": "stdout",
     "output_type": "stream",
     "text": [
      "Epoch 42 | Train Loss: 0.01475907480708751 | Accuracy: 0.9955961870784324 | Precision: 0.995596242449565 | Recall: 0.9955961870784324 | F1: 0.9955959154563233\n"
     ]
    },
    {
     "name": "stderr",
     "output_type": "stream",
     "text": [
      "Validating: 100%|██████████████████████████████████████████████████████████████████████| 71/71 [00:31<00:00,  2.25it/s]\n"
     ]
    },
    {
     "name": "stdout",
     "output_type": "stream",
     "text": [
      "\tValidation Loss: 0.026172738577014583 | Accuracy: 0.9910813823857302 | Precision: 0.9911248155701533 | Recall: 0.9910813823857302 | F1: 0.9910665685473471\n",
      "Saving best model at epoch 42...\n"
     ]
    },
    {
     "name": "stderr",
     "output_type": "stream",
     "text": [
      "Training: 100%|██████████████████████████████████████████████████████████████████████| 281/281 [03:49<00:00,  1.22it/s]\n"
     ]
    },
    {
     "name": "stdout",
     "output_type": "stream",
     "text": [
      "Epoch 43 | Train Loss: 0.02307659081459705 | Accuracy: 0.992920452645075 | Precision: 0.9929202205113743 | Recall: 0.992920452645075 | F1: 0.9929195015769734\n"
     ]
    },
    {
     "name": "stderr",
     "output_type": "stream",
     "text": [
      "Validating: 100%|██████████████████████████████████████████████████████████████████████| 71/71 [00:31<00:00,  2.23it/s]\n"
     ]
    },
    {
     "name": "stdout",
     "output_type": "stream",
     "text": [
      "\tValidation Loss: 0.02884856921015635 | Accuracy: 0.9915273132664437 | Precision: 0.9915426232184505 | Recall: 0.9915273132664437 | F1: 0.9915243163741083\n"
     ]
    },
    {
     "name": "stderr",
     "output_type": "stream",
     "text": [
      "Training: 100%|██████████████████████████████████████████████████████████████████████| 281/281 [03:49<00:00,  1.23it/s]\n"
     ]
    },
    {
     "name": "stdout",
     "output_type": "stream",
     "text": [
      "Epoch 44 | Train Loss: 0.020004701427576793 | Accuracy: 0.9937008751881375 | Precision: 0.9937026899549362 | Recall: 0.9937008751881375 | F1: 0.993700884936701\n"
     ]
    },
    {
     "name": "stderr",
     "output_type": "stream",
     "text": [
      "Validating: 100%|██████████████████████████████████████████████████████████████████████| 71/71 [00:31<00:00,  2.25it/s]\n"
     ]
    },
    {
     "name": "stdout",
     "output_type": "stream",
     "text": [
      "\tValidation Loss: 0.03122186120808564 | Accuracy: 0.991304347826087 | Precision: 0.9914096878667233 | Recall: 0.991304347826087 | F1: 0.9913199360758654\n"
     ]
    },
    {
     "name": "stderr",
     "output_type": "stream",
     "text": [
      "Training: 100%|██████████████████████████████████████████████████████████████████████| 281/281 [03:49<00:00,  1.23it/s]\n"
     ]
    },
    {
     "name": "stdout",
     "output_type": "stream",
     "text": [
      "Epoch 45 | Train Loss: 0.019456982575323818 | Accuracy: 0.9935893862534143 | Precision: 0.9935884133316606 | Recall: 0.9935893862534143 | F1: 0.9935886090463317\n"
     ]
    },
    {
     "name": "stderr",
     "output_type": "stream",
     "text": [
      "Validating: 100%|██████████████████████████████████████████████████████████████████████| 71/71 [00:31<00:00,  2.25it/s]\n"
     ]
    },
    {
     "name": "stdout",
     "output_type": "stream",
     "text": [
      "\tValidation Loss: 0.029960637842878883 | Accuracy: 0.9906354515050168 | Precision: 0.9906992749775225 | Recall: 0.9906354515050168 | F1: 0.9905666362149311\n"
     ]
    },
    {
     "name": "stderr",
     "output_type": "stream",
     "text": [
      "Training: 100%|██████████████████████████████████████████████████████████████████████| 281/281 [03:48<00:00,  1.23it/s]\n"
     ]
    },
    {
     "name": "stdout",
     "output_type": "stream",
     "text": [
      "Epoch 46 | Train Loss: 0.01914699054021741 | Accuracy: 0.9944255532638385 | Precision: 0.9944269647990749 | Recall: 0.9944255532638385 | F1: 0.9944252052396834\n"
     ]
    },
    {
     "name": "stderr",
     "output_type": "stream",
     "text": [
      "Validating: 100%|██████████████████████████████████████████████████████████████████████| 71/71 [00:31<00:00,  2.25it/s]\n"
     ]
    },
    {
     "name": "stdout",
     "output_type": "stream",
     "text": [
      "\tValidation Loss: 0.021395833096237406 | Accuracy: 0.9939799331103679 | Precision: 0.9940024709274207 | Recall: 0.9939799331103679 | F1: 0.9939724034726146\n",
      "Saving best model at epoch 46...\n"
     ]
    },
    {
     "name": "stderr",
     "output_type": "stream",
     "text": [
      "Training: 100%|██████████████████████████████████████████████████████████████████████| 281/281 [03:49<00:00,  1.22it/s]\n"
     ]
    },
    {
     "name": "stdout",
     "output_type": "stream",
     "text": [
      "Epoch 47 | Train Loss: 0.01681152683277979 | Accuracy: 0.9948157645353699 | Precision: 0.9948159195148922 | Recall: 0.9948157645353699 | F1: 0.994814815760912\n"
     ]
    },
    {
     "name": "stderr",
     "output_type": "stream",
     "text": [
      "Validating: 100%|██████████████████████████████████████████████████████████████████████| 71/71 [00:31<00:00,  2.24it/s]\n"
     ]
    },
    {
     "name": "stdout",
     "output_type": "stream",
     "text": [
      "\tValidation Loss: 0.03563363703398582 | Accuracy: 0.9897435897435898 | Precision: 0.990030694271728 | Recall: 0.9897435897435898 | F1: 0.9897871111531019\n"
     ]
    },
    {
     "name": "stderr",
     "output_type": "stream",
     "text": [
      "Training: 100%|██████████████████████████████████████████████████████████████████████| 281/281 [03:49<00:00,  1.23it/s]\n"
     ]
    },
    {
     "name": "stdout",
     "output_type": "stream",
     "text": [
      "Epoch 48 | Train Loss: 0.018396421053402914 | Accuracy: 0.993199174981883 | Precision: 0.993208319093246 | Recall: 0.993199174981883 | F1: 0.9932020471540286\n"
     ]
    },
    {
     "name": "stderr",
     "output_type": "stream",
     "text": [
      "Validating: 100%|██████████████████████████████████████████████████████████████████████| 71/71 [00:31<00:00,  2.24it/s]\n"
     ]
    },
    {
     "name": "stdout",
     "output_type": "stream",
     "text": [
      "\tValidation Loss: 0.027521724481066743 | Accuracy: 0.991304347826087 | Precision: 0.9914247486083196 | Recall: 0.991304347826087 | F1: 0.9912938958701044\n"
     ]
    },
    {
     "name": "stderr",
     "output_type": "stream",
     "text": [
      "Training: 100%|██████████████████████████████████████████████████████████████████████| 281/281 [03:49<00:00,  1.22it/s]\n"
     ]
    },
    {
     "name": "stdout",
     "output_type": "stream",
     "text": [
      "Epoch 49 | Train Loss: 0.017537134129150516 | Accuracy: 0.9940353419923073 | Precision: 0.9940348061677358 | Recall: 0.9940353419923073 | F1: 0.9940349214517281\n"
     ]
    },
    {
     "name": "stderr",
     "output_type": "stream",
     "text": [
      "Validating: 100%|██████████████████████████████████████████████████████████████████████| 71/71 [00:31<00:00,  2.25it/s]\n"
     ]
    },
    {
     "name": "stdout",
     "output_type": "stream",
     "text": [
      "\tValidation Loss: 0.018379290536141128 | Accuracy: 0.9939799331103679 | Precision: 0.9940566504040097 | Recall: 0.9939799331103679 | F1: 0.9939809758683331\n",
      "Saving best model at epoch 49...\n"
     ]
    },
    {
     "name": "stderr",
     "output_type": "stream",
     "text": [
      "Training: 100%|██████████████████████████████████████████████████████████████████████| 281/281 [03:49<00:00,  1.23it/s]\n"
     ]
    },
    {
     "name": "stdout",
     "output_type": "stream",
     "text": [
      "Epoch 50 | Train Loss: 0.008289482727639784 | Accuracy: 0.9976587323708122 | Precision: 0.9976590202454367 | Recall: 0.9976587323708122 | F1: 0.9976574732301262\n"
     ]
    },
    {
     "name": "stderr",
     "output_type": "stream",
     "text": [
      "Validating: 100%|██████████████████████████████████████████████████████████████████████| 71/71 [00:31<00:00,  2.25it/s]\n"
     ]
    },
    {
     "name": "stdout",
     "output_type": "stream",
     "text": [
      "\tValidation Loss: 0.019768510070591706 | Accuracy: 0.9939799331103679 | Precision: 0.9940412858385744 | Recall: 0.9939799331103679 | F1: 0.9939831236787194\n"
     ]
    },
    {
     "name": "stderr",
     "output_type": "stream",
     "text": [
      "Training: 100%|██████████████████████████████████████████████████████████████████████| 281/281 [03:49<00:00,  1.23it/s]\n"
     ]
    },
    {
     "name": "stdout",
     "output_type": "stream",
     "text": [
      "Epoch 51 | Train Loss: 0.009154751589196548 | Accuracy: 0.9970455432298344 | Precision: 0.99704533270739 | Recall: 0.9970455432298344 | F1: 0.9970452976877177\n"
     ]
    },
    {
     "name": "stderr",
     "output_type": "stream",
     "text": [
      "Validating: 100%|██████████████████████████████████████████████████████████████████████| 71/71 [00:31<00:00,  2.26it/s]\n"
     ]
    },
    {
     "name": "stdout",
     "output_type": "stream",
     "text": [
      "\tValidation Loss: 0.027150832069258887 | Accuracy: 0.9904124860646599 | Precision: 0.9905140554795686 | Recall: 0.9904124860646599 | F1: 0.9903854022288263\n"
     ]
    },
    {
     "name": "stderr",
     "output_type": "stream",
     "text": [
      "Training: 100%|██████████████████████████████████████████████████████████████████████| 281/281 [03:49<00:00,  1.23it/s]\n"
     ]
    },
    {
     "name": "stdout",
     "output_type": "stream",
     "text": [
      "Epoch 52 | Train Loss: 0.00797439300396324 | Accuracy: 0.9973242655666426 | Precision: 0.9973254780008758 | Recall: 0.9973242655666426 | F1: 0.9973239070568706\n"
     ]
    },
    {
     "name": "stderr",
     "output_type": "stream",
     "text": [
      "Validating: 100%|██████████████████████████████████████████████████████████████████████| 71/71 [00:31<00:00,  2.26it/s]\n"
     ]
    },
    {
     "name": "stdout",
     "output_type": "stream",
     "text": [
      "\tValidation Loss: 0.02146308625307144 | Accuracy: 0.9937569676700111 | Precision: 0.9938024304760185 | Recall: 0.9937569676700111 | F1: 0.993764508976919\n"
     ]
    },
    {
     "name": "stderr",
     "output_type": "stream",
     "text": [
      "Training: 100%|██████████████████████████████████████████████████████████████████████| 281/281 [03:48<00:00,  1.23it/s]\n"
     ]
    },
    {
     "name": "stdout",
     "output_type": "stream",
     "text": [
      "Epoch 53 | Train Loss: 0.007414757659276815 | Accuracy: 0.9979931991749819 | Precision: 0.9979941265967077 | Recall: 0.9979931991749819 | F1: 0.9979933627091527\n"
     ]
    },
    {
     "name": "stderr",
     "output_type": "stream",
     "text": [
      "Validating: 100%|██████████████████████████████████████████████████████████████████████| 71/71 [00:31<00:00,  2.26it/s]\n"
     ]
    },
    {
     "name": "stdout",
     "output_type": "stream",
     "text": [
      "\tValidation Loss: 0.023590464412208488 | Accuracy: 0.9939799331103679 | Precision: 0.9940384399151966 | Recall: 0.9939799331103679 | F1: 0.9939840756027953\n"
     ]
    },
    {
     "name": "stderr",
     "output_type": "stream",
     "text": [
      "Training: 100%|██████████████████████████████████████████████████████████████████████| 281/281 [03:49<00:00,  1.22it/s]\n"
     ]
    },
    {
     "name": "stdout",
     "output_type": "stream",
     "text": [
      "Epoch 54 | Train Loss: 0.007752526372667399 | Accuracy: 0.9972685210992809 | Precision: 0.9972684019677629 | Recall: 0.9972685210992809 | F1: 0.9972683000147925\n"
     ]
    },
    {
     "name": "stderr",
     "output_type": "stream",
     "text": [
      "Validating: 100%|██████████████████████████████████████████████████████████████████████| 71/71 [00:31<00:00,  2.24it/s]\n"
     ]
    },
    {
     "name": "stdout",
     "output_type": "stream",
     "text": [
      "\tValidation Loss: 0.02387542192210135 | Accuracy: 0.9935340022296544 | Precision: 0.9935757221595503 | Recall: 0.9935340022296544 | F1: 0.9935358275929146\n"
     ]
    },
    {
     "name": "stderr",
     "output_type": "stream",
     "text": [
      "Training: 100%|██████████████████████████████████████████████████████████████████████| 281/281 [03:49<00:00,  1.23it/s]\n"
     ]
    },
    {
     "name": "stdout",
     "output_type": "stream",
     "text": [
      "Epoch 55 | Train Loss: 0.009266612622039674 | Accuracy: 0.9971012876971961 | Precision: 0.9971025411415115 | Recall: 0.9971012876971961 | F1: 0.9971015822196965\n"
     ]
    },
    {
     "name": "stderr",
     "output_type": "stream",
     "text": [
      "Validating: 100%|██████████████████████████████████████████████████████████████████████| 71/71 [00:31<00:00,  2.28it/s]\n"
     ]
    },
    {
     "name": "stdout",
     "output_type": "stream",
     "text": [
      "\tValidation Loss: 0.022874318181109143 | Accuracy: 0.993088071348941 | Precision: 0.9931929781408203 | Recall: 0.993088071348941 | F1: 0.9930973311280943\n"
     ]
    },
    {
     "name": "stderr",
     "output_type": "stream",
     "text": [
      "Training: 100%|██████████████████████████████████████████████████████████████████████| 281/281 [03:50<00:00,  1.22it/s]\n"
     ]
    },
    {
     "name": "stdout",
     "output_type": "stream",
     "text": [
      "Epoch 56 | Train Loss: 0.010968488778575536 | Accuracy: 0.9963766096214951 | Precision: 0.9963761973478233 | Recall: 0.9963766096214951 | F1: 0.9963757765029699\n"
     ]
    },
    {
     "name": "stderr",
     "output_type": "stream",
     "text": [
      "Validating: 100%|██████████████████████████████████████████████████████████████████████| 71/71 [00:31<00:00,  2.24it/s]\n"
     ]
    },
    {
     "name": "stdout",
     "output_type": "stream",
     "text": [
      "\tValidation Loss: 0.025471585814108987 | Accuracy: 0.993088071348941 | Precision: 0.9931214994906301 | Recall: 0.993088071348941 | F1: 0.993079299730345\n",
      "Early stopping at epoch 56\n",
      "Training finished!\n"
     ]
    },
    {
     "data": {
      "text/plain": [
       "({'Loss': [2.3074192661407578,\n",
       "   1.9400331952817924,\n",
       "   1.3047014476989935,\n",
       "   0.8377317612281473,\n",
       "   0.5606810484492482,\n",
       "   0.37542052964722983,\n",
       "   0.28721506331526936,\n",
       "   0.24247974377403905,\n",
       "   0.19487845661695316,\n",
       "   0.14886339045928465,\n",
       "   0.14678835937773205,\n",
       "   0.11653165441682542,\n",
       "   0.12390596953840442,\n",
       "   0.10345565587335209,\n",
       "   0.08565075076069166,\n",
       "   0.09319874604507697,\n",
       "   0.0790210633250318,\n",
       "   0.0768427440094566,\n",
       "   0.07579354355376863,\n",
       "   0.0680968442971543,\n",
       "   0.05985219397058452,\n",
       "   0.061822939831498364,\n",
       "   0.056428396074247156,\n",
       "   0.05671088701259888,\n",
       "   0.04806533445988606,\n",
       "   0.05574613595480809,\n",
       "   0.0394434227783803,\n",
       "   0.04245472928340086,\n",
       "   0.040265832469613023,\n",
       "   0.03716987248027889,\n",
       "   0.032476418531289346,\n",
       "   0.03647907004398344,\n",
       "   0.02927786104084453,\n",
       "   0.03100391208182596,\n",
       "   0.03734672887004693,\n",
       "   0.02170923343997157,\n",
       "   0.02331621792777259,\n",
       "   0.02416370603963534,\n",
       "   0.025300896495789475,\n",
       "   0.022149971751968485,\n",
       "   0.023872814068402533,\n",
       "   0.01475907480708751,\n",
       "   0.02307659081459705,\n",
       "   0.020004701427576793,\n",
       "   0.019456982575323818,\n",
       "   0.01914699054021741,\n",
       "   0.01681152683277979,\n",
       "   0.018396421053402914,\n",
       "   0.017537134129150516,\n",
       "   0.008289482727639784,\n",
       "   0.009154751589196548,\n",
       "   0.00797439300396324,\n",
       "   0.007414757659276815,\n",
       "   0.007752526372667399,\n",
       "   0.009266612622039674,\n",
       "   0.010968488778575536],\n",
       "  'Accuracy': [0.12213612798929706,\n",
       "   0.2643960086961369,\n",
       "   0.5101733652934947,\n",
       "   0.7003177434639613,\n",
       "   0.8105245554378728,\n",
       "   0.8745749484363677,\n",
       "   0.9098054518089079,\n",
       "   0.9211773231506772,\n",
       "   0.9384581080327777,\n",
       "   0.9536206031551369,\n",
       "   0.954178047828753,\n",
       "   0.9637660962149507,\n",
       "   0.9605886615753386,\n",
       "   0.9681699091365182,\n",
       "   0.9729639333296171,\n",
       "   0.9701209654941747,\n",
       "   0.9756396677629745,\n",
       "   0.9763643458386755,\n",
       "   0.9750264786219968,\n",
       "   0.9787056134678633,\n",
       "   0.981214114499136,\n",
       "   0.9800992251519036,\n",
       "   0.9818273036401137,\n",
       "   0.9814370923685825,\n",
       "   0.9852277161491722,\n",
       "   0.9824962372484531,\n",
       "   0.9877362171804448,\n",
       "   0.9866770723005742,\n",
       "   0.9869557946373823,\n",
       "   0.9881264284519762,\n",
       "   0.9897987624728246,\n",
       "   0.9885166397235075,\n",
       "   0.9903004626790791,\n",
       "   0.9899102514075478,\n",
       "   0.987847706115168,\n",
       "   0.992920452645075,\n",
       "   0.9922515190367356,\n",
       "   0.9920842856346508,\n",
       "   0.9919727966999276,\n",
       "   0.9929761971124366,\n",
       "   0.9921400301020123,\n",
       "   0.9955961870784324,\n",
       "   0.992920452645075,\n",
       "   0.9937008751881375,\n",
       "   0.9935893862534143,\n",
       "   0.9944255532638385,\n",
       "   0.9948157645353699,\n",
       "   0.993199174981883,\n",
       "   0.9940353419923073,\n",
       "   0.9976587323708122,\n",
       "   0.9970455432298344,\n",
       "   0.9973242655666426,\n",
       "   0.9979931991749819,\n",
       "   0.9972685210992809,\n",
       "   0.9971012876971961,\n",
       "   0.9963766096214951],\n",
       "  'Precision': [0.1173407141790974,\n",
       "   0.2536414163738229,\n",
       "   0.5019939394107611,\n",
       "   0.6967894434268139,\n",
       "   0.8086613514682207,\n",
       "   0.8738483609153546,\n",
       "   0.9093068206544155,\n",
       "   0.9208573622935037,\n",
       "   0.9383347164271252,\n",
       "   0.9535887259502485,\n",
       "   0.9541549726325576,\n",
       "   0.9637407456885111,\n",
       "   0.9605574027105103,\n",
       "   0.9681602516816858,\n",
       "   0.9729588695653762,\n",
       "   0.9701209041463879,\n",
       "   0.975646486525421,\n",
       "   0.9763873909065018,\n",
       "   0.9750277650936348,\n",
       "   0.9787222110197135,\n",
       "   0.9812122690596796,\n",
       "   0.9801049299654684,\n",
       "   0.9818400033237732,\n",
       "   0.9814470587176571,\n",
       "   0.9852251790275897,\n",
       "   0.9825002854825807,\n",
       "   0.9877366993379147,\n",
       "   0.986681748797217,\n",
       "   0.986956692332686,\n",
       "   0.9881289937579947,\n",
       "   0.9898003659318818,\n",
       "   0.9885166799258125,\n",
       "   0.9903040483123362,\n",
       "   0.9899098750350824,\n",
       "   0.9878442250086676,\n",
       "   0.9929198564465324,\n",
       "   0.9922526574828999,\n",
       "   0.9920854489765302,\n",
       "   0.991974172212992,\n",
       "   0.9929755392658499,\n",
       "   0.9921393381364974,\n",
       "   0.995596242449565,\n",
       "   0.9929202205113743,\n",
       "   0.9937026899549362,\n",
       "   0.9935884133316606,\n",
       "   0.9944269647990749,\n",
       "   0.9948159195148922,\n",
       "   0.993208319093246,\n",
       "   0.9940348061677358,\n",
       "   0.9976590202454367,\n",
       "   0.99704533270739,\n",
       "   0.9973254780008758,\n",
       "   0.9979941265967077,\n",
       "   0.9972684019677629,\n",
       "   0.9971025411415115,\n",
       "   0.9963761973478233],\n",
       "  'Recall': [0.12213612798929706,\n",
       "   0.2643960086961369,\n",
       "   0.5101733652934947,\n",
       "   0.7003177434639613,\n",
       "   0.8105245554378728,\n",
       "   0.8745749484363677,\n",
       "   0.9098054518089079,\n",
       "   0.9211773231506772,\n",
       "   0.9384581080327777,\n",
       "   0.9536206031551369,\n",
       "   0.954178047828753,\n",
       "   0.9637660962149507,\n",
       "   0.9605886615753386,\n",
       "   0.9681699091365182,\n",
       "   0.9729639333296171,\n",
       "   0.9701209654941747,\n",
       "   0.9756396677629745,\n",
       "   0.9763643458386755,\n",
       "   0.9750264786219968,\n",
       "   0.9787056134678633,\n",
       "   0.981214114499136,\n",
       "   0.9800992251519036,\n",
       "   0.9818273036401137,\n",
       "   0.9814370923685825,\n",
       "   0.9852277161491722,\n",
       "   0.9824962372484531,\n",
       "   0.9877362171804448,\n",
       "   0.9866770723005742,\n",
       "   0.9869557946373823,\n",
       "   0.9881264284519762,\n",
       "   0.9897987624728246,\n",
       "   0.9885166397235075,\n",
       "   0.9903004626790791,\n",
       "   0.9899102514075478,\n",
       "   0.987847706115168,\n",
       "   0.992920452645075,\n",
       "   0.9922515190367356,\n",
       "   0.9920842856346508,\n",
       "   0.9919727966999276,\n",
       "   0.9929761971124366,\n",
       "   0.9921400301020123,\n",
       "   0.9955961870784324,\n",
       "   0.992920452645075,\n",
       "   0.9937008751881375,\n",
       "   0.9935893862534143,\n",
       "   0.9944255532638385,\n",
       "   0.9948157645353699,\n",
       "   0.993199174981883,\n",
       "   0.9940353419923073,\n",
       "   0.9976587323708122,\n",
       "   0.9970455432298344,\n",
       "   0.9973242655666426,\n",
       "   0.9979931991749819,\n",
       "   0.9972685210992809,\n",
       "   0.9971012876971961,\n",
       "   0.9963766096214951],\n",
       "  'F1': [0.11168057603336999,\n",
       "   0.2511210862181755,\n",
       "   0.5033590525646929,\n",
       "   0.6973896570871295,\n",
       "   0.8092923300359771,\n",
       "   0.8740278746448815,\n",
       "   0.9094041868090914,\n",
       "   0.9209642678086409,\n",
       "   0.9383519710507869,\n",
       "   0.9535799022214496,\n",
       "   0.9541536974539575,\n",
       "   0.963744497626199,\n",
       "   0.9605466133032159,\n",
       "   0.96815755410022,\n",
       "   0.9729541357292564,\n",
       "   0.9701134377465008,\n",
       "   0.9756383254822439,\n",
       "   0.9763717589559633,\n",
       "   0.9750228482814909,\n",
       "   0.9787083064652515,\n",
       "   0.9812085320587199,\n",
       "   0.9800999822377477,\n",
       "   0.9818297739192473,\n",
       "   0.9814390095063701,\n",
       "   0.9852227656057486,\n",
       "   0.9824954936087946,\n",
       "   0.9877333780471709,\n",
       "   0.9866779287437709,\n",
       "   0.9869535289106579,\n",
       "   0.9881249841505956,\n",
       "   0.9897987207984357,\n",
       "   0.9885149905083362,\n",
       "   0.9903018843750008,\n",
       "   0.9899084377936375,\n",
       "   0.9878440684234016,\n",
       "   0.9929196951986289,\n",
       "   0.9922515349770065,\n",
       "   0.9920834332371673,\n",
       "   0.9919705027279652,\n",
       "   0.9929753674138967,\n",
       "   0.9921393733302141,\n",
       "   0.9955959154563233,\n",
       "   0.9929195015769734,\n",
       "   0.993700884936701,\n",
       "   0.9935886090463317,\n",
       "   0.9944252052396834,\n",
       "   0.994814815760912,\n",
       "   0.9932020471540286,\n",
       "   0.9940349214517281,\n",
       "   0.9976574732301262,\n",
       "   0.9970452976877177,\n",
       "   0.9973239070568706,\n",
       "   0.9979933627091527,\n",
       "   0.9972683000147925,\n",
       "   0.9971015822196965,\n",
       "   0.9963757765029699]},\n",
       " {'Loss': [2.2879902040454705,\n",
       "   1.4407759569060634,\n",
       "   0.9216583396347475,\n",
       "   0.6209236618498681,\n",
       "   0.2983750118546083,\n",
       "   0.2716874567345834,\n",
       "   0.20854832190023342,\n",
       "   0.18882151501594294,\n",
       "   0.1611085504844365,\n",
       "   0.10183552514210763,\n",
       "   0.1327178924226425,\n",
       "   0.13295314660374546,\n",
       "   0.1097069114026889,\n",
       "   0.11087289670298636,\n",
       "   0.0749412267665628,\n",
       "   0.06732750628684635,\n",
       "   0.05686267507328114,\n",
       "   0.07300151350357058,\n",
       "   0.09749063970783436,\n",
       "   0.0652819771785289,\n",
       "   0.05802048697024846,\n",
       "   0.05806148233397169,\n",
       "   0.06379076113930943,\n",
       "   0.04268976288083547,\n",
       "   0.03677329126069925,\n",
       "   0.034108560180626024,\n",
       "   0.03736844463364064,\n",
       "   0.05597542374867054,\n",
       "   0.03979160464335967,\n",
       "   0.04585063991523807,\n",
       "   0.054400788837778186,\n",
       "   0.030787194045637668,\n",
       "   0.03548380224039109,\n",
       "   0.03483572575627682,\n",
       "   0.05412663069984492,\n",
       "   0.030410277094400133,\n",
       "   0.04932735776663987,\n",
       "   0.032025526427749126,\n",
       "   0.04307153918017948,\n",
       "   0.02841573970926873,\n",
       "   0.02870301378281741,\n",
       "   0.026172738577014583,\n",
       "   0.02884856921015635,\n",
       "   0.03122186120808564,\n",
       "   0.029960637842878883,\n",
       "   0.021395833096237406,\n",
       "   0.03563363703398582,\n",
       "   0.027521724481066743,\n",
       "   0.018379290536141128,\n",
       "   0.019768510070591706,\n",
       "   0.027150832069258887,\n",
       "   0.02146308625307144,\n",
       "   0.023590464412208488,\n",
       "   0.02387542192210135,\n",
       "   0.022874318181109143,\n",
       "   0.025471585814108987],\n",
       "  'Accuracy': [0.12709030100334448,\n",
       "   0.42920847268673357,\n",
       "   0.6358974358974359,\n",
       "   0.7803790412486065,\n",
       "   0.9076923076923077,\n",
       "   0.9141583054626533,\n",
       "   0.935340022296544,\n",
       "   0.9386845039018952,\n",
       "   0.948494983277592,\n",
       "   0.9705685618729097,\n",
       "   0.9565217391304348,\n",
       "   0.9585284280936455,\n",
       "   0.9638795986622074,\n",
       "   0.9636566332218506,\n",
       "   0.9772575250836121,\n",
       "   0.9783723522853958,\n",
       "   0.9812709030100334,\n",
       "   0.9774804905239688,\n",
       "   0.9723522853957637,\n",
       "   0.979041248606466,\n",
       "   0.9797101449275363,\n",
       "   0.9803790412486064,\n",
       "   0.9801560758082497,\n",
       "   0.9875139353400223,\n",
       "   0.9881828316610926,\n",
       "   0.9890746934225195,\n",
       "   0.9888517279821628,\n",
       "   0.9828316610925306,\n",
       "   0.9888517279821628,\n",
       "   0.9884057971014493,\n",
       "   0.9839464882943144,\n",
       "   0.9904124860646599,\n",
       "   0.9901895206243032,\n",
       "   0.989520624303233,\n",
       "   0.9832775919732442,\n",
       "   0.9917502787068004,\n",
       "   0.9846153846153847,\n",
       "   0.9901895206243032,\n",
       "   0.9855072463768116,\n",
       "   0.9904124860646599,\n",
       "   0.992196209587514,\n",
       "   0.9910813823857302,\n",
       "   0.9915273132664437,\n",
       "   0.991304347826087,\n",
       "   0.9906354515050168,\n",
       "   0.9939799331103679,\n",
       "   0.9897435897435898,\n",
       "   0.991304347826087,\n",
       "   0.9939799331103679,\n",
       "   0.9939799331103679,\n",
       "   0.9904124860646599,\n",
       "   0.9937569676700111,\n",
       "   0.9939799331103679,\n",
       "   0.9935340022296544,\n",
       "   0.993088071348941,\n",
       "   0.993088071348941],\n",
       "  'Precision': [0.049780040694186616,\n",
       "   0.47300805225199277,\n",
       "   0.658620242741617,\n",
       "   0.8021961411661442,\n",
       "   0.9083860439612542,\n",
       "   0.9202373814286743,\n",
       "   0.9419910010257229,\n",
       "   0.9452768284530957,\n",
       "   0.9519414459430843,\n",
       "   0.971073630366519,\n",
       "   0.9620710689575378,\n",
       "   0.9601231139342131,\n",
       "   0.966757888172639,\n",
       "   0.966788915743954,\n",
       "   0.9779659323638856,\n",
       "   0.978532007542152,\n",
       "   0.981762544752981,\n",
       "   0.9785862814803904,\n",
       "   0.9731396010561061,\n",
       "   0.9797077486973229,\n",
       "   0.9800180624929354,\n",
       "   0.980989888096499,\n",
       "   0.9809435755324379,\n",
       "   0.987803366573797,\n",
       "   0.9882860622375116,\n",
       "   0.989224637815695,\n",
       "   0.9890864857565368,\n",
       "   0.9830087211775685,\n",
       "   0.9889854810606031,\n",
       "   0.9886180974638992,\n",
       "   0.9842993079823343,\n",
       "   0.9904773793319843,\n",
       "   0.9902195501894011,\n",
       "   0.9896633075210498,\n",
       "   0.9836406568469456,\n",
       "   0.9918181864276141,\n",
       "   0.9848790355863094,\n",
       "   0.9903506855174748,\n",
       "   0.9857650122337118,\n",
       "   0.9904466179732417,\n",
       "   0.9922832794152251,\n",
       "   0.9911248155701533,\n",
       "   0.9915426232184505,\n",
       "   0.9914096878667233,\n",
       "   0.9906992749775225,\n",
       "   0.9940024709274207,\n",
       "   0.990030694271728,\n",
       "   0.9914247486083196,\n",
       "   0.9940566504040097,\n",
       "   0.9940412858385744,\n",
       "   0.9905140554795686,\n",
       "   0.9938024304760185,\n",
       "   0.9940384399151966,\n",
       "   0.9935757221595503,\n",
       "   0.9931929781408203,\n",
       "   0.9931214994906301],\n",
       "  'Recall': [0.12709030100334448,\n",
       "   0.42920847268673357,\n",
       "   0.6358974358974359,\n",
       "   0.7803790412486065,\n",
       "   0.9076923076923077,\n",
       "   0.9141583054626533,\n",
       "   0.935340022296544,\n",
       "   0.9386845039018952,\n",
       "   0.948494983277592,\n",
       "   0.9705685618729097,\n",
       "   0.9565217391304348,\n",
       "   0.9585284280936455,\n",
       "   0.9638795986622074,\n",
       "   0.9636566332218506,\n",
       "   0.9772575250836121,\n",
       "   0.9783723522853958,\n",
       "   0.9812709030100334,\n",
       "   0.9774804905239688,\n",
       "   0.9723522853957637,\n",
       "   0.979041248606466,\n",
       "   0.9797101449275363,\n",
       "   0.9803790412486064,\n",
       "   0.9801560758082497,\n",
       "   0.9875139353400223,\n",
       "   0.9881828316610926,\n",
       "   0.9890746934225195,\n",
       "   0.9888517279821628,\n",
       "   0.9828316610925306,\n",
       "   0.9888517279821628,\n",
       "   0.9884057971014493,\n",
       "   0.9839464882943144,\n",
       "   0.9904124860646599,\n",
       "   0.9901895206243032,\n",
       "   0.989520624303233,\n",
       "   0.9832775919732442,\n",
       "   0.9917502787068004,\n",
       "   0.9846153846153847,\n",
       "   0.9901895206243032,\n",
       "   0.9855072463768116,\n",
       "   0.9904124860646599,\n",
       "   0.992196209587514,\n",
       "   0.9910813823857302,\n",
       "   0.9915273132664437,\n",
       "   0.991304347826087,\n",
       "   0.9906354515050168,\n",
       "   0.9939799331103679,\n",
       "   0.9897435897435898,\n",
       "   0.991304347826087,\n",
       "   0.9939799331103679,\n",
       "   0.9939799331103679,\n",
       "   0.9904124860646599,\n",
       "   0.9937569676700111,\n",
       "   0.9939799331103679,\n",
       "   0.9935340022296544,\n",
       "   0.993088071348941,\n",
       "   0.993088071348941],\n",
       "  'F1': [0.05202297355516947,\n",
       "   0.39898698298903146,\n",
       "   0.6081340843403897,\n",
       "   0.7645610532569045,\n",
       "   0.9058268917019762,\n",
       "   0.9127526542388458,\n",
       "   0.9356241138541876,\n",
       "   0.9381108673429152,\n",
       "   0.9486159958033654,\n",
       "   0.9704562186251859,\n",
       "   0.9570506389014514,\n",
       "   0.9578145958851284,\n",
       "   0.9640680727296216,\n",
       "   0.9640253746961616,\n",
       "   0.9771356122748829,\n",
       "   0.9783098938513497,\n",
       "   0.9813052318725359,\n",
       "   0.9776614170970863,\n",
       "   0.9722412016558809,\n",
       "   0.9791540226002823,\n",
       "   0.9796973244915261,\n",
       "   0.9804068917811676,\n",
       "   0.9802373639558172,\n",
       "   0.9875603660758069,\n",
       "   0.9881336561909579,\n",
       "   0.9890387076417663,\n",
       "   0.9888887172801992,\n",
       "   0.9827700882009941,\n",
       "   0.9888171887993201,\n",
       "   0.9884463068945142,\n",
       "   0.983924430234027,\n",
       "   0.9904068161170868,\n",
       "   0.9901518982457399,\n",
       "   0.9894673524563428,\n",
       "   0.9833070759082153,\n",
       "   0.9917461109006089,\n",
       "   0.9846285912745828,\n",
       "   0.9902030201320103,\n",
       "   0.9855587046341567,\n",
       "   0.9903887314919151,\n",
       "   0.9921577617307191,\n",
       "   0.9910665685473471,\n",
       "   0.9915243163741083,\n",
       "   0.9913199360758654,\n",
       "   0.9905666362149311,\n",
       "   0.9939724034726146,\n",
       "   0.9897871111531019,\n",
       "   0.9912938958701044,\n",
       "   0.9939809758683331,\n",
       "   0.9939831236787194,\n",
       "   0.9903854022288263,\n",
       "   0.993764508976919,\n",
       "   0.9939840756027953,\n",
       "   0.9935358275929146,\n",
       "   0.9930973311280943,\n",
       "   0.993079299730345]})"
      ]
     },
     "execution_count": 14,
     "metadata": {},
     "output_type": "execute_result"
    },
    {
     "data": {
      "image/png": "[encoded data removed]",
      "text/plain": [
       "<Figure size 1000x500 with 1 Axes>"
      ]
     },
     "metadata": {},
     "output_type": "display_data"
    },
    {
     "data": {
      "image/png": "[encoded data removed]",
      "text/plain": [
       "<Figure size 1000x500 with 1 Axes>"
      ]
     },
     "metadata": {},
     "output_type": "display_data"
    },
    {
     "data": {
      "image/png": "[encoded data removed]",
      "text/plain": [
       "<Figure size 1000x500 with 1 Axes>"
      ]
     },
     "metadata": {},
     "output_type": "display_data"
    }
   ],
   "source": [
    "run_training(train_loader, val_loader, model, model_name, criterion, optimizer, config)"
   ]
  },
  {
   "cell_type": "markdown",
   "metadata": {},
   "source": [
    "## Inference"
   ]
  },
  {
   "cell_type": "code",
   "execution_count": 15,
   "metadata": {
    "execution": {
     "iopub.execute_input": "2023-11-25T19:27:43.760777Z",
     "iopub.status.busy": "2023-11-25T19:27:43.760459Z",
     "iopub.status.idle": "2023-11-25T19:27:43.768052Z",
     "shell.execute_reply": "2023-11-25T19:27:43.767162Z",
     "shell.execute_reply.started": "2023-11-25T19:27:43.760738Z"
    }
   },
   "outputs": [],
   "source": [
    "class InferenceDataset(Dataset):\n",
    "    def __init__(self, images_dir, transform=None):\n",
    "        super().__init__()\n",
    "        self.images_dir = images_dir\n",
    "        self.transform = transform\n",
    "\n",
    "        self.images = os.listdir(images_dir)\n",
    "    \n",
    "    def __len__(self):\n",
    "        return len(self.images)\n",
    "    \n",
    "    def __getitem__(self, index):\n",
    "        img_name = self.images[index]\n",
    "        img_path = os.path.join(self.images_dir, img_name)\n",
    "\n",
    "        image = Image.open(img_path).convert('RGB')\n",
    "        if self.transform:\n",
    "            image = self.transform(image)\n",
    "\n",
    "        # to submit to kaggle competition I need to return image name\n",
    "        return img_name, image"
   ]
  },
  {
   "cell_type": "code",
   "execution_count": 16,
   "metadata": {
    "execution": {
     "iopub.execute_input": "2023-11-25T19:27:43.769448Z",
     "iopub.status.busy": "2023-11-25T19:27:43.769100Z",
     "iopub.status.idle": "2023-11-25T19:27:43.781683Z",
     "shell.execute_reply": "2023-11-25T19:27:43.780988Z",
     "shell.execute_reply.started": "2023-11-25T19:27:43.769424Z"
    }
   },
   "outputs": [],
   "source": [
    "def inference(test_loader, model, model_name, config):\n",
    "    if model_name == 'resnet50' or model_name == 'resnet101':\n",
    "        model.fc = nn.Linear(2048, 10)\n",
    "    elif model_name == 'cvt_3' or model_name == 'cvt_7' or model_name == 'cvt_14':\n",
    "        pass\n",
    "    else:\n",
    "        raise NotImplementedError('unknown architecture')\n",
    "    \n",
    "    model = model.to(config['DEVICE'])\n",
    "    model.load_state_dict(torch.load(os.path.join(config['MODELS_DIR'], f'{model_name}_best_model.pth')))\n",
    "    model.eval()\n",
    "    \n",
    "    df = pd.DataFrame()\n",
    "    \n",
    "    with torch.no_grad():\n",
    "        for data in tqdm(test_loader, desc='Inference'):\n",
    "            img_name, imgs = data\n",
    "            imgs = imgs.to(config['DEVICE'])\n",
    "\n",
    "            logits = model(imgs)\n",
    "            probas = F.softmax(logits, dim=1)\n",
    "            \n",
    "            block = np.concatenate((np.array(img_name).reshape(-1, 1), probas.detach().cpu().numpy()), axis=1)\n",
    "            block = pd.DataFrame(block, columns=['img', 'c0', 'c1', 'c2',\n",
    "                                                 'c3', 'c4', 'c5',\n",
    "                                                 'c6', 'c7', 'c8',\n",
    "                                                 'c9'])\n",
    "            df = pd.concat((df, block), axis=0, ignore_index=True)\n",
    "    return df"
   ]
  },
  {
   "cell_type": "code",
   "execution_count": 17,
   "metadata": {
    "execution": {
     "iopub.execute_input": "2023-11-25T19:27:43.783010Z",
     "iopub.status.busy": "2023-11-25T19:27:43.782713Z",
     "iopub.status.idle": "2023-11-25T19:30:58.666021Z",
     "shell.execute_reply": "2023-11-25T19:30:58.664875Z",
     "shell.execute_reply.started": "2023-11-25T19:27:43.782986Z"
    }
   },
   "outputs": [
    {
     "name": "stderr",
     "output_type": "stream",
     "text": [
      "Inference: 100%|███████████████████████████████████████████████████████████████████| 1246/1246 [19:11<00:00,  1.08it/s]\n"
     ]
    }
   ],
   "source": [
    "test_transformations = val_transforms\n",
    "test_dataset = InferenceDataset(config['TEST_DIR'], transform=test_transformations)\n",
    "test_loader = DataLoader(test_dataset, batch_size=config['BATCH_SIZE'], shuffle=False, num_workers=config['NUM_WORKERS'])\n",
    "\n",
    "# this csv file will be submitted to kaggle\n",
    "df = inference(test_loader, model, model_name, config)"
   ]
  },
  {
   "cell_type": "code",
   "execution_count": 18,
   "metadata": {
    "execution": {
     "iopub.execute_input": "2023-11-25T19:30:58.668838Z",
     "iopub.status.busy": "2023-11-25T19:30:58.667910Z",
     "iopub.status.idle": "2023-11-25T19:30:59.371862Z",
     "shell.execute_reply": "2023-11-25T19:30:59.371038Z",
     "shell.execute_reply.started": "2023-11-25T19:30:58.668794Z"
    }
   },
   "outputs": [],
   "source": [
    "df.to_csv(f'submission {model_name}.csv', index=False)"
   ]
  }
 ],
 "metadata": {
  "kaggle": {
   "accelerator": "gpu",
   "dataSources": [
    {
     "databundleVersionId": 868335,
     "sourceId": 5048,
     "sourceType": "competition"
    }
   ],
   "dockerImageVersionId": 30588,
   "isGpuEnabled": true,
   "isInternetEnabled": true,
   "language": "python",
   "sourceType": "notebook"
  },
  "kernelspec": {
   "display_name": "Python 3 (ipykernel)",
   "language": "python",
   "name": "python3"
  },
  "language_info": {
   "codemirror_mode": {
    "name": "ipython",
    "version": 3
   },
   "file_extension": ".py",
   "mimetype": "text/x-python",
   "name": "python",
   "nbconvert_exporter": "python",
   "pygments_lexer": "ipython3",
   "version": "3.10.13"
  }
 },
 "nbformat": 4,
 "nbformat_minor": 4
}
