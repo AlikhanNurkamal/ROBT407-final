{
 "cells": [
  {
   "cell_type": "code",
   "execution_count": 1,
   "id": "e999f39f",
   "metadata": {
    "execution": {
     "iopub.execute_input": "2023-11-25T19:50:48.777785Z",
     "iopub.status.busy": "2023-11-25T19:50:48.777437Z",
     "iopub.status.idle": "2023-11-25T19:50:54.449243Z",
     "shell.execute_reply": "2023-11-25T19:50:54.448325Z"
    },
    "papermill": {
     "duration": 5.682677,
     "end_time": "2023-11-25T19:50:54.451567",
     "exception": false,
     "start_time": "2023-11-25T19:50:48.768890",
     "status": "completed"
    },
    "tags": []
   },
   "outputs": [
    {
     "name": "stderr",
     "output_type": "stream",
     "text": [
      "/opt/conda/lib/python3.10/site-packages/scipy/__init__.py:146: UserWarning: A NumPy version >=1.16.5 and <1.23.0 is required for this version of SciPy (detected version 1.24.3\n",
      "  warnings.warn(f\"A NumPy version >={np_minversion} and <{np_maxversion}\"\n"
     ]
    }
   ],
   "source": [
    "import os\n",
    "import math\n",
    "import random\n",
    "import numpy as np\n",
    "import pandas as pd\n",
    "import matplotlib.pyplot as plt\n",
    "\n",
    "from sklearn.metrics import accuracy_score, precision_score, recall_score, f1_score\n",
    "from sklearn.model_selection import train_test_split\n",
    "from PIL import Image\n",
    "from glob import glob\n",
    "from tqdm import tqdm\n",
    "\n",
    "import torch\n",
    "import torch.nn as nn\n",
    "import torch.nn.functional as F\n",
    "from torch.utils.data import Dataset, DataLoader\n",
    "from torchvision import transforms"
   ]
  },
  {
   "cell_type": "code",
   "execution_count": 2,
   "id": "1d1fae44",
   "metadata": {
    "execution": {
     "iopub.execute_input": "2023-11-25T19:50:54.467783Z",
     "iopub.status.busy": "2023-11-25T19:50:54.466854Z",
     "iopub.status.idle": "2023-11-25T19:50:54.553030Z",
     "shell.execute_reply": "2023-11-25T19:50:54.552313Z"
    },
    "papermill": {
     "duration": 0.096408,
     "end_time": "2023-11-25T19:50:54.555089",
     "exception": false,
     "start_time": "2023-11-25T19:50:54.458681",
     "status": "completed"
    },
    "tags": []
   },
   "outputs": [],
   "source": [
    "def set_seed(seed_value=42):\n",
    "    \"\"\"Set seed for reproducibility.\"\"\"\n",
    "    random.seed(seed_value)\n",
    "    np.random.seed(seed_value)\n",
    "    torch.manual_seed(seed_value)\n",
    "\n",
    "    # If you are using GPU\n",
    "    if torch.cuda.is_available():\n",
    "        torch.cuda.manual_seed_all(seed_value)\n",
    "        torch.backends.cudnn.deterministic = True\n",
    "        torch.backends.cudnn.benchmark = False\n",
    "\n",
    "set_seed(42)"
   ]
  },
  {
   "cell_type": "markdown",
   "id": "cefeb0a6",
   "metadata": {
    "papermill": {
     "duration": 0.006463,
     "end_time": "2023-11-25T19:50:54.568216",
     "exception": false,
     "start_time": "2023-11-25T19:50:54.561753",
     "status": "completed"
    },
    "tags": []
   },
   "source": [
    "## Project configuration"
   ]
  },
  {
   "cell_type": "code",
   "execution_count": 3,
   "id": "796dac79",
   "metadata": {
    "execution": {
     "iopub.execute_input": "2023-11-25T19:50:54.582584Z",
     "iopub.status.busy": "2023-11-25T19:50:54.582308Z",
     "iopub.status.idle": "2023-11-25T19:50:54.587546Z",
     "shell.execute_reply": "2023-11-25T19:50:54.586743Z"
    },
    "papermill": {
     "duration": 0.014561,
     "end_time": "2023-11-25T19:50:54.589448",
     "exception": false,
     "start_time": "2023-11-25T19:50:54.574887",
     "status": "completed"
    },
    "tags": []
   },
   "outputs": [],
   "source": [
    "config = {\n",
    "    'ROOT_DIR': '/kaggle/input/state-farm-distracted-driver-detection/imgs/train',\n",
    "    'TEST_DIR': '/kaggle/input/state-farm-distracted-driver-detection/imgs/test',\n",
    "    'MODELS_DIR': '/kaggle/working/',\n",
    "    'IMG_SIZE': 224,\n",
    "    'BATCH_SIZE': 64,\n",
    "    'EPOCHS': 100,\n",
    "    'PATIENCE': 9,\n",
    "    'WARMUP_EPOCHS': 5,\n",
    "    'LR_INIT': 1e-4,\n",
    "    'WEIGHT_DECAY': 3e-4,\n",
    "    'NUM_CLASSES': 10,\n",
    "    'NUM_WORKERS': 4,\n",
    "    'NUM_CHANNELS': 3,\n",
    "    'DEVICE': torch.device('cuda') if torch.cuda.is_available() else torch.device('cpu'),\n",
    "}"
   ]
  },
  {
   "cell_type": "markdown",
   "id": "76ac8ef2",
   "metadata": {
    "papermill": {
     "duration": 0.006335,
     "end_time": "2023-11-25T19:50:54.602326",
     "exception": false,
     "start_time": "2023-11-25T19:50:54.595991",
     "status": "completed"
    },
    "tags": []
   },
   "source": [
    "## Utility functions and variables"
   ]
  },
  {
   "cell_type": "code",
   "execution_count": 4,
   "id": "0db3e310",
   "metadata": {
    "execution": {
     "iopub.execute_input": "2023-11-25T19:50:54.616449Z",
     "iopub.status.busy": "2023-11-25T19:50:54.616181Z",
     "iopub.status.idle": "2023-11-25T19:50:54.628243Z",
     "shell.execute_reply": "2023-11-25T19:50:54.627421Z"
    },
    "papermill": {
     "duration": 0.021254,
     "end_time": "2023-11-25T19:50:54.630068",
     "exception": false,
     "start_time": "2023-11-25T19:50:54.608814",
     "status": "completed"
    },
    "tags": []
   },
   "outputs": [],
   "source": [
    "# train transformations\n",
    "train_transforms = transforms.Compose([\n",
    "    transforms.Resize((config['IMG_SIZE'], config['IMG_SIZE'])),\n",
    "    transforms.RandomHorizontalFlip(p=0.5),\n",
    "    transforms.RandomRotation(degrees=(-30, 30)),\n",
    "    transforms.GaussianBlur(kernel_size=3),\n",
    "    transforms.ToTensor(),\n",
    "    transforms.Normalize(mean=[0.485, 0.456, 0.406], \n",
    "                         std=[0.229, 0.224, 0.225]),\n",
    "])\n",
    "\n",
    "# val/test/inference transformations\n",
    "val_transforms = transforms.Compose([\n",
    "    transforms.Resize((config['IMG_SIZE'], config['IMG_SIZE'])),\n",
    "    transforms.ToTensor(),\n",
    "    transforms.Normalize(mean=[0.485, 0.456, 0.406], \n",
    "                         std=[0.229, 0.224, 0.225]),\n",
    "])\n",
    "\n",
    "# read the directory and get all images and their corresponding labels\n",
    "def get_images_labels():\n",
    "    images = []\n",
    "    labels = []\n",
    "\n",
    "    for label in list(glob(os.path.join(config['ROOT_DIR'], '*'))):\n",
    "        imgs_paths = list(glob(os.path.join(config['ROOT_DIR'], label, '*.jpg')))\n",
    "        labels.extend([int(label[-1]) for i in range(len(imgs_paths))])\n",
    "        images.extend([image for image in imgs_paths])\n",
    "    \n",
    "    return images, labels\n",
    "\n",
    "# custom Dataset class\n",
    "class CNNCustomDataset(Dataset):\n",
    "    def __init__(self, images, labels, transform=None):\n",
    "        super().__init__()\n",
    "        self.images = images\n",
    "        self.labels = labels\n",
    "        self.transform = transform\n",
    "\n",
    "    def __len__(self):\n",
    "        return len(self.images)\n",
    "\n",
    "    def __getitem__(self, index):\n",
    "        # getting the path to one image\n",
    "        img_path = self.images[index]\n",
    "\n",
    "        image = Image.open(img_path).convert('RGB')\n",
    "        label = self.labels[index]\n",
    "\n",
    "        if self.transform:\n",
    "            image = self.transform(image)\n",
    "\n",
    "        return image, label"
   ]
  },
  {
   "cell_type": "code",
   "execution_count": 5,
   "id": "1275418c",
   "metadata": {
    "execution": {
     "iopub.execute_input": "2023-11-25T19:50:54.644169Z",
     "iopub.status.busy": "2023-11-25T19:50:54.643895Z",
     "iopub.status.idle": "2023-11-25T19:50:54.650196Z",
     "shell.execute_reply": "2023-11-25T19:50:54.649458Z"
    },
    "papermill": {
     "duration": 0.0153,
     "end_time": "2023-11-25T19:50:54.651925",
     "exception": false,
     "start_time": "2023-11-25T19:50:54.636625",
     "status": "completed"
    },
    "tags": []
   },
   "outputs": [],
   "source": [
    "# to get DataLoaders from custom Dataset\n",
    "def get_dataloaders():\n",
    "    train_transformations = train_transforms\n",
    "    val_transformations = val_transforms\n",
    "\n",
    "    all_images, all_labels = get_images_labels()\n",
    "    train_images, val_images, train_labels, val_labels = train_test_split(all_images,\n",
    "                                                                          all_labels,\n",
    "                                                                          test_size=0.2,\n",
    "                                                                          random_state=42)\n",
    "    \n",
    "    train_dataset = CNNCustomDataset(train_images, train_labels, transform=train_transformations)\n",
    "    val_dataset = CNNCustomDataset(val_images, val_labels, transform=val_transformations)\n",
    "\n",
    "    train_loader = DataLoader(train_dataset, batch_size=config['BATCH_SIZE'], shuffle=True, num_workers=config['NUM_WORKERS'])\n",
    "    val_loader = DataLoader(val_dataset, batch_size=config['BATCH_SIZE'], shuffle=False, num_workers=config['NUM_WORKERS'])\n",
    "\n",
    "    return train_loader, val_loader"
   ]
  },
  {
   "cell_type": "code",
   "execution_count": 6,
   "id": "5493ddc6",
   "metadata": {
    "execution": {
     "iopub.execute_input": "2023-11-25T19:50:54.666034Z",
     "iopub.status.busy": "2023-11-25T19:50:54.665758Z",
     "iopub.status.idle": "2023-11-25T19:50:54.671466Z",
     "shell.execute_reply": "2023-11-25T19:50:54.670672Z"
    },
    "papermill": {
     "duration": 0.014891,
     "end_time": "2023-11-25T19:50:54.673309",
     "exception": false,
     "start_time": "2023-11-25T19:50:54.658418",
     "status": "completed"
    },
    "tags": []
   },
   "outputs": [],
   "source": [
    "# cosine annealing adjusting learning rate\n",
    "def adjust_learning_rate(optimizer, epoch, warmup=True, warmup_ep=config['WARMUP_EPOCHS'], enable_cos=True):\n",
    "    lr = config['LR_INIT']\n",
    "    if warmup and epoch < warmup_ep:\n",
    "        lr = lr / (warmup_ep - epoch)\n",
    "    elif enable_cos:\n",
    "        lr *= 0.5 * (1. + math.cos(math.pi * (epoch - warmup_ep) / (config['EPOCHS'] - warmup_ep)))\n",
    "\n",
    "    for param_group in optimizer.param_groups:\n",
    "        param_group['lr'] = lr"
   ]
  },
  {
   "cell_type": "code",
   "execution_count": 7,
   "id": "4aac25be",
   "metadata": {
    "execution": {
     "iopub.execute_input": "2023-11-25T19:50:54.687780Z",
     "iopub.status.busy": "2023-11-25T19:50:54.687483Z",
     "iopub.status.idle": "2023-11-25T19:50:54.692666Z",
     "shell.execute_reply": "2023-11-25T19:50:54.691798Z"
    },
    "papermill": {
     "duration": 0.01456,
     "end_time": "2023-11-25T19:50:54.694550",
     "exception": false,
     "start_time": "2023-11-25T19:50:54.679990",
     "status": "completed"
    },
    "tags": []
   },
   "outputs": [],
   "source": [
    "# in order to evaluate the model on metrics such as accuracy and f1\n",
    "def get_metrics(labels, preds):\n",
    "    accuracy = accuracy_score(labels, preds)\n",
    "    precision = precision_score(labels, preds, average='weighted')\n",
    "    recall = recall_score(labels, preds, average='weighted')\n",
    "    f1 = f1_score(labels, preds, average='weighted')\n",
    "    return accuracy, precision, recall, f1"
   ]
  },
  {
   "cell_type": "code",
   "execution_count": 8,
   "id": "8ad10457",
   "metadata": {
    "execution": {
     "iopub.execute_input": "2023-11-25T19:50:54.708769Z",
     "iopub.status.busy": "2023-11-25T19:50:54.708473Z",
     "iopub.status.idle": "2023-11-25T19:50:54.713734Z",
     "shell.execute_reply": "2023-11-25T19:50:54.712897Z"
    },
    "papermill": {
     "duration": 0.014547,
     "end_time": "2023-11-25T19:50:54.715657",
     "exception": false,
     "start_time": "2023-11-25T19:50:54.701110",
     "status": "completed"
    },
    "tags": []
   },
   "outputs": [],
   "source": [
    "# plot training process in graphs\n",
    "def save_graphs(train, val, graph_type='None'):\n",
    "    plt.figure(figsize=(10,5))\n",
    "    plt.title(f\"Training and Validation {graph_type}\")\n",
    "    plt.plot(val, label=\"validation\")\n",
    "    plt.plot(train, label=\"train\")\n",
    "    plt.xlabel(\"Epoch\")\n",
    "    plt.ylabel(graph_type)\n",
    "    plt.legend()\n",
    "    plt.savefig(f'{graph_type}.png')"
   ]
  },
  {
   "cell_type": "code",
   "execution_count": 9,
   "id": "9b88d899",
   "metadata": {
    "execution": {
     "iopub.execute_input": "2023-11-25T19:50:54.729793Z",
     "iopub.status.busy": "2023-11-25T19:50:54.729558Z",
     "iopub.status.idle": "2023-11-25T19:50:54.737069Z",
     "shell.execute_reply": "2023-11-25T19:50:54.736316Z"
    },
    "papermill": {
     "duration": 0.01667,
     "end_time": "2023-11-25T19:50:54.738938",
     "exception": false,
     "start_time": "2023-11-25T19:50:54.722268",
     "status": "completed"
    },
    "tags": []
   },
   "outputs": [],
   "source": [
    "def train(train_loader, model, loss_fn, optimizer, epoch, device):\n",
    "    model.train()\n",
    "\n",
    "    # will be used to calculate metrics\n",
    "    predictions = []\n",
    "    all_labels = []\n",
    "    total_loss = 0.0\n",
    "\n",
    "    for data in tqdm(train_loader, desc='Training'):\n",
    "        imgs, labels = data\n",
    "        imgs, labels = imgs.to(device), labels.to(device)\n",
    "\n",
    "        optimizer.zero_grad()\n",
    "        logits = model(imgs)\n",
    "        loss = loss_fn(logits, labels)\n",
    "        loss.backward()\n",
    "        optimizer.step()\n",
    "\n",
    "        # get predictions as the index of max logit\n",
    "        preds = torch.argmax(logits, dim=1)\n",
    "        predictions.extend(preds.detach().cpu().numpy())\n",
    "        all_labels.extend(labels.detach().cpu().numpy())\n",
    "        total_loss += loss.item()\n",
    "    \n",
    "    # get metrics\n",
    "    accuracy, precision, recall, f1 = get_metrics(all_labels, predictions)\n",
    "    avg_loss = total_loss / len(train_loader)\n",
    "\n",
    "    print(f'Epoch {epoch} | Train Loss: {avg_loss} | Accuracy: {accuracy} | Precision: {precision} | Recall: {recall} | F1: {f1}')\n",
    "    return avg_loss, accuracy, precision, recall, f1"
   ]
  },
  {
   "cell_type": "code",
   "execution_count": 10,
   "id": "0b10b265",
   "metadata": {
    "execution": {
     "iopub.execute_input": "2023-11-25T19:50:54.753039Z",
     "iopub.status.busy": "2023-11-25T19:50:54.752740Z",
     "iopub.status.idle": "2023-11-25T19:50:54.760010Z",
     "shell.execute_reply": "2023-11-25T19:50:54.759276Z"
    },
    "papermill": {
     "duration": 0.016271,
     "end_time": "2023-11-25T19:50:54.761796",
     "exception": false,
     "start_time": "2023-11-25T19:50:54.745525",
     "status": "completed"
    },
    "tags": []
   },
   "outputs": [],
   "source": [
    "def evaluate(val_loader, model, loss_fn, device):\n",
    "    model.eval()\n",
    "\n",
    "    # will be used to calculate metrics\n",
    "    predictions = []\n",
    "    all_labels = []\n",
    "    total_loss = 0.0\n",
    "\n",
    "    for data in tqdm(val_loader, desc='Validating'):\n",
    "        imgs, labels = data\n",
    "        imgs, labels = imgs.to(device), labels.to(device)\n",
    "\n",
    "        with torch.no_grad():\n",
    "            logits = model(imgs)\n",
    "            loss = loss_fn(logits, labels)\n",
    "\n",
    "        # get predictions as the index of max logit\n",
    "        preds = torch.argmax(logits, dim=1)\n",
    "        predictions.extend(preds.detach().cpu().numpy())\n",
    "        all_labels.extend(labels.detach().cpu().numpy())\n",
    "        total_loss += loss.item()\n",
    "    \n",
    "    # get metrics\n",
    "    accuracy, precision, recall, f1 = get_metrics(all_labels, predictions)\n",
    "    avg_loss = total_loss / len(val_loader)\n",
    "\n",
    "    print(f'\\tValidation Loss: {avg_loss} | Accuracy: {accuracy} | Precision: {precision} | Recall: {recall} | F1: {f1}')\n",
    "    return avg_loss, accuracy, precision, recall, f1"
   ]
  },
  {
   "cell_type": "code",
   "execution_count": 11,
   "id": "28b440c9",
   "metadata": {
    "execution": {
     "iopub.execute_input": "2023-11-25T19:50:54.776260Z",
     "iopub.status.busy": "2023-11-25T19:50:54.776016Z",
     "iopub.status.idle": "2023-11-25T19:50:54.787011Z",
     "shell.execute_reply": "2023-11-25T19:50:54.786188Z"
    },
    "papermill": {
     "duration": 0.020181,
     "end_time": "2023-11-25T19:50:54.788853",
     "exception": false,
     "start_time": "2023-11-25T19:50:54.768672",
     "status": "completed"
    },
    "tags": []
   },
   "outputs": [],
   "source": [
    "def run_training(train_loader, val_loader, model, model_name, loss_fn, optimizer, config):\n",
    "    TRAIN_HISTORY = {\n",
    "        'Loss': [],\n",
    "        'Accuracy': [],\n",
    "        'Precision': [],\n",
    "        'Recall': [],\n",
    "        'F1': []\n",
    "    }\n",
    "    VAL_HISTORY = {\n",
    "        'Loss': [],\n",
    "        'Accuracy': [],\n",
    "        'Precision': [],\n",
    "        'Recall': [],\n",
    "        'F1': []\n",
    "    }\n",
    "\n",
    "    # for early stopping\n",
    "    # we will save the best model based on the validation loss\n",
    "    best_loss = np.inf  # set to infinity so that the first validation loss is always lower\n",
    "    patience_counter = 0\n",
    "\n",
    "    for epoch in range(config['EPOCHS']):\n",
    "        adjust_learning_rate(optimizer=optimizer, epoch=epoch)\n",
    "        loss, accuracy, precision, recall, f1 = train(train_loader, model, loss_fn, optimizer, epoch + 1, config['DEVICE'])\n",
    "        TRAIN_HISTORY['Loss'].append(loss)\n",
    "        TRAIN_HISTORY['Accuracy'].append(accuracy)\n",
    "        TRAIN_HISTORY['Precision'].append(precision)\n",
    "        TRAIN_HISTORY['Recall'].append(recall)\n",
    "        TRAIN_HISTORY['F1'].append(f1)\n",
    "\n",
    "        loss, accuracy, precision, recall, f1 = evaluate(val_loader, model, loss_fn, config['DEVICE'])\n",
    "        VAL_HISTORY['Loss'].append(loss)\n",
    "        VAL_HISTORY['Accuracy'].append(accuracy)\n",
    "        VAL_HISTORY['Precision'].append(precision)\n",
    "        VAL_HISTORY['Recall'].append(recall)\n",
    "        VAL_HISTORY['F1'].append(f1)\n",
    "\n",
    "        # since our evaluation metric is logloss, we want to minimize it and early stopping will be based on it\n",
    "        if loss < best_loss:\n",
    "            best_loss = loss\n",
    "            patience_counter = 0\n",
    "            print(f'Saving best model at epoch {epoch + 1}...')\n",
    "            torch.save(model.state_dict(), f'{model_name}_best_model.pth')\n",
    "        else:\n",
    "            patience_counter += 1\n",
    "            if patience_counter == config['PATIENCE']:\n",
    "                print(f\"Early stopping at epoch {epoch + 1}\")\n",
    "                break\n",
    "        \n",
    "    save_graphs(TRAIN_HISTORY['Loss'], VAL_HISTORY['Loss'], graph_type='Loss')\n",
    "    save_graphs(TRAIN_HISTORY['Accuracy'], VAL_HISTORY['Accuracy'], graph_type='Accuracy')\n",
    "    save_graphs(TRAIN_HISTORY['F1'], VAL_HISTORY['F1'], graph_type='F1')\n",
    "    \n",
    "    print('Training finished!')\n",
    "    return TRAIN_HISTORY, VAL_HISTORY"
   ]
  },
  {
   "cell_type": "markdown",
   "id": "6bf53c7a",
   "metadata": {
    "papermill": {
     "duration": 0.00651,
     "end_time": "2023-11-25T19:50:54.801865",
     "exception": false,
     "start_time": "2023-11-25T19:50:54.795355",
     "status": "completed"
    },
    "tags": []
   },
   "source": [
    "## Our implementation of ResNet50 and ResNet101"
   ]
  },
  {
   "cell_type": "code",
   "execution_count": 12,
   "id": "ba8e9391",
   "metadata": {
    "execution": {
     "iopub.execute_input": "2023-11-25T19:50:54.816338Z",
     "iopub.status.busy": "2023-11-25T19:50:54.816075Z",
     "iopub.status.idle": "2023-11-25T19:50:54.837268Z",
     "shell.execute_reply": "2023-11-25T19:50:54.836449Z"
    },
    "papermill": {
     "duration": 0.030737,
     "end_time": "2023-11-25T19:50:54.839239",
     "exception": false,
     "start_time": "2023-11-25T19:50:54.808502",
     "status": "completed"
    },
    "tags": []
   },
   "outputs": [],
   "source": [
    "# Block for ResNet50 and ResNet101 architectures\n",
    "class Block(nn.Module):\n",
    "    def __init__(self, in_channels, out_channels, identity_downsample=None, stride=1):\n",
    "        \"\"\"\n",
    "        :param in_channels: number of input channels\n",
    "        :param out_channels: number of output channels\n",
    "        :param identity_downsample: Conv layer to downsample image in case of different input and output channels\n",
    "        :param stride: stride\n",
    "        \"\"\"\n",
    "        super().__init__()\n",
    "        self.identity_downsample = identity_downsample\n",
    "\n",
    "        # every block in ResNet50 or deeper increases the number of in_channels by 4\n",
    "        self.expansion = 4\n",
    "        self.conv1 = nn.Sequential(\n",
    "            nn.Conv2d(in_channels, out_channels, kernel_size=1, stride=1, padding=0),\n",
    "            nn.BatchNorm2d(out_channels),\n",
    "            nn.ReLU()\n",
    "        )\n",
    "        self.conv2 = nn.Sequential(\n",
    "            nn.Conv2d(out_channels, out_channels, kernel_size=3, stride=stride, padding=1),\n",
    "            nn.BatchNorm2d(out_channels),\n",
    "            nn.ReLU()\n",
    "        )\n",
    "        \n",
    "        self.conv3 = nn.Sequential(\n",
    "            nn.Conv2d(out_channels, out_channels * self.expansion, kernel_size=1, stride=1, padding=0),\n",
    "            nn.BatchNorm2d(out_channels * self.expansion),\n",
    "            nn.ReLU()\n",
    "        )\n",
    "    \n",
    "    def forward(self, x):\n",
    "        identity = x\n",
    "\n",
    "        x = self.conv1(x)\n",
    "        x = self.conv2(x)\n",
    "        x = self.conv3(x)\n",
    "\n",
    "        # if the input and output channels are different, then downsample (with no activation, hence identity) the input image\n",
    "        if self.identity_downsample:\n",
    "            identity = self.identity_downsample(identity)\n",
    "        \n",
    "        # add the identity (input image) to the output of the block\n",
    "        x = x + identity\n",
    "        x = F.relu(x)\n",
    "        return x\n",
    "\n",
    "# ResNet50 and ResNet101 architectures\n",
    "class MyResNet(nn.Module):\n",
    "    def __init__(self, num_layers, in_channels, out_classes):\n",
    "        \"\"\"\n",
    "        :param num_layers: number of layers in the architecture (ResNet)\n",
    "        :param in_channels: number of input image channels\n",
    "        :param out_classes: number of output classes\n",
    "        \"\"\"\n",
    "        assert num_layers in [50, 101], 'unknown architecture'\n",
    "\n",
    "        super().__init__()\n",
    "\n",
    "        # how many times to reuse the same block in the architecture\n",
    "        if num_layers == 50:\n",
    "            layers = [3, 4, 6, 3]\n",
    "        elif num_layers == 101:\n",
    "            layers = [3, 4, 23, 3]\n",
    "        else:\n",
    "            raise NotImplementedError('unknown architecture')\n",
    "        \n",
    "        self.in_channels = 64\n",
    "\n",
    "        # according to the paper, the first layer is 7x7 conv with stride 2 and padding 3\n",
    "        self.conv1 = nn.Sequential(\n",
    "            nn.Conv2d(in_channels, 64, kernel_size=7, stride=2, padding=3),\n",
    "            nn.BatchNorm2d(64),\n",
    "            nn.ReLU()\n",
    "        )\n",
    "        self.maxpool = nn.MaxPool2d(kernel_size=3, stride=2, padding=1)\n",
    "\n",
    "        # ResNet layers\n",
    "        self.layer1 = self._make_layer(layers[0], 64, stride=1)\n",
    "        self.layer2 = self._make_layer(layers[1], 128, stride=2)\n",
    "        self.layer3 = self._make_layer(layers[2], 256, stride=2)\n",
    "        self.layer4 = self._make_layer(layers[3], 512, stride=2)\n",
    "\n",
    "        # according to the paper, the last layer is avgpool with output size 1x1\n",
    "        self.avgpool = nn.AdaptiveAvgPool2d(output_size=(1, 1))\n",
    "        self.fc = nn.Linear(512 * 4, out_classes)\n",
    "    \n",
    "    def _make_layer(self, num_residual_blocks, in_channels, stride):\n",
    "        \"\"\"\n",
    "        :param num_residual_blocks: how many times to reuse the same block in the architecture\n",
    "        :param in_channels: number of input channels, output channels are 4 times larger\n",
    "        :param stride: stride\n",
    "        :return: layers of residual blocks\n",
    "        \"\"\"\n",
    "        identity_downsample = None\n",
    "        layers = []\n",
    "\n",
    "        if stride != 1 or self.in_channels != in_channels * 4:\n",
    "            identity_downsample = nn.Sequential(\n",
    "                nn.Conv2d(self.in_channels, in_channels * 4, kernel_size=1, stride=stride),\n",
    "                nn.BatchNorm2d(in_channels * 4)\n",
    "            )\n",
    "        \n",
    "        # perform the first residual block\n",
    "        layers.append(Block(self.in_channels, in_channels, identity_downsample, stride))\n",
    "        self.in_channels = in_channels * 4\n",
    "\n",
    "        # perform the rest of the residual blocks\n",
    "        for i in range(num_residual_blocks - 1):\n",
    "            layers.append(Block(self.in_channels, in_channels))\n",
    "        \n",
    "        return nn.Sequential(*layers)\n",
    "\n",
    "    def forward(self, x):\n",
    "        # first 7x7 conv layer\n",
    "        x = self.conv1(x)\n",
    "        x = self.maxpool(x)\n",
    "\n",
    "        # ResNet layers\n",
    "        x = self.layer1(x)\n",
    "        x = self.layer2(x)\n",
    "        x = self.layer3(x)\n",
    "        x = self.layer4(x)\n",
    "\n",
    "        # last avgpool layer plus fully connected layer\n",
    "        x = self.avgpool(x)\n",
    "        x = x.view(x.shape[0], -1)\n",
    "        x = self.fc(x)\n",
    "\n",
    "        return x\n",
    "\n",
    "\n",
    "# in this project we have 10 classes to predict, so out_classes=10\n",
    "def ResNet50(in_channels=3, out_classes=10):\n",
    "    return MyResNet(50, in_channels, out_classes=out_classes)\n",
    "\n",
    "\n",
    "# in this project we have 10 classes to predict, so out_classes=10\n",
    "def ResNet101(in_channels=3, out_classes=10):\n",
    "    return MyResNet(101, in_channels, out_classes=out_classes)"
   ]
  },
  {
   "cell_type": "markdown",
   "id": "da90051c",
   "metadata": {
    "papermill": {
     "duration": 0.006406,
     "end_time": "2023-11-25T19:50:54.852292",
     "exception": false,
     "start_time": "2023-11-25T19:50:54.845886",
     "status": "completed"
    },
    "tags": []
   },
   "source": [
    "## Preparing for training"
   ]
  },
  {
   "cell_type": "code",
   "execution_count": 13,
   "id": "4f26b1c1",
   "metadata": {
    "execution": {
     "iopub.execute_input": "2023-11-25T19:50:54.866449Z",
     "iopub.status.busy": "2023-11-25T19:50:54.866186Z",
     "iopub.status.idle": "2023-11-25T19:50:59.994151Z",
     "shell.execute_reply": "2023-11-25T19:50:59.993119Z"
    },
    "papermill": {
     "duration": 5.137587,
     "end_time": "2023-11-25T19:50:59.996455",
     "exception": false,
     "start_time": "2023-11-25T19:50:54.858868",
     "status": "completed"
    },
    "tags": []
   },
   "outputs": [],
   "source": [
    "model = ResNet101()\n",
    "model_name = 'resnet101'\n",
    "model = model.to(config['DEVICE'])\n",
    "criterion = torch.nn.CrossEntropyLoss()\n",
    "optimizer = torch.optim.AdamW(model.parameters(),\n",
    "                              lr=config['LR_INIT'],\n",
    "                              weight_decay=config['WEIGHT_DECAY'])\n",
    "\n",
    "train_loader, val_loader = get_dataloaders()"
   ]
  },
  {
   "cell_type": "markdown",
   "metadata": {},
   "source": [
    "## Training"
   ]
  },
  {
   "cell_type": "code",
   "execution_count": 14,
   "id": "78ca8576",
   "metadata": {
    "execution": {
     "iopub.execute_input": "2023-11-25T19:51:00.013354Z",
     "iopub.status.busy": "2023-11-25T19:51:00.012571Z",
     "iopub.status.idle": "2023-11-26T01:58:15.578960Z",
     "shell.execute_reply": "2023-11-26T01:58:15.578026Z"
    },
    "papermill": {
     "duration": 22035.576921,
     "end_time": "2023-11-26T01:58:15.581025",
     "exception": false,
     "start_time": "2023-11-25T19:51:00.004104",
     "status": "completed"
    },
    "tags": []
   },
   "outputs": [
    {
     "name": "stderr",
     "output_type": "stream",
     "text": [
      "Training: 100%|██████████| 281/281 [04:29<00:00,  1.04it/s]\n"
     ]
    },
    {
     "name": "stdout",
     "output_type": "stream",
     "text": [
      "Epoch 1 | Train Loss: 2.2847500806177212 | Accuracy: 0.1498411282680194 | Precision: 0.14838199297896815 | Recall: 0.1498411282680194 | F1: 0.13611523993117625\n"
     ]
    },
    {
     "name": "stderr",
     "output_type": "stream",
     "text": [
      "Validating: 100%|██████████| 71/71 [00:15<00:00,  4.59it/s]\n",
      "/opt/conda/lib/python3.10/site-packages/sklearn/metrics/_classification.py:1344: UndefinedMetricWarning: Precision is ill-defined and being set to 0.0 in labels with no predicted samples. Use `zero_division` parameter to control this behavior.\n",
      "  _warn_prf(average, modifier, msg_start, len(result))\n"
     ]
    },
    {
     "name": "stdout",
     "output_type": "stream",
     "text": [
      "\tValidation Loss: 2.48265690870688 | Accuracy: 0.11348940914158305 | Precision: 0.1527516440008167 | Recall: 0.11348940914158305 | F1: 0.04549725526118588\n",
      "Saving best model at epoch 1...\n"
     ]
    },
    {
     "name": "stderr",
     "output_type": "stream",
     "text": [
      "Training: 100%|██████████| 281/281 [04:23<00:00,  1.07it/s]\n"
     ]
    },
    {
     "name": "stdout",
     "output_type": "stream",
     "text": [
      "Epoch 2 | Train Loss: 1.906691525330323 | Accuracy: 0.3038630915881599 | Precision: 0.2886166545987328 | Recall: 0.3038630915881599 | F1: 0.28701565782755617\n"
     ]
    },
    {
     "name": "stderr",
     "output_type": "stream",
     "text": [
      "Validating: 100%|██████████| 71/71 [00:15<00:00,  4.66it/s]\n"
     ]
    },
    {
     "name": "stdout",
     "output_type": "stream",
     "text": [
      "\tValidation Loss: 2.0272229120764935 | Accuracy: 0.30746934225195094 | Precision: 0.3904028685259803 | Recall: 0.30746934225195094 | F1: 0.2580147925631477\n",
      "Saving best model at epoch 2...\n"
     ]
    },
    {
     "name": "stderr",
     "output_type": "stream",
     "text": [
      "Training: 100%|██████████| 281/281 [04:23<00:00,  1.07it/s]\n"
     ]
    },
    {
     "name": "stdout",
     "output_type": "stream",
     "text": [
      "Epoch 3 | Train Loss: 1.2976280501728805 | Accuracy: 0.5310217960867384 | Precision: 0.5242672633785327 | Recall: 0.5310217960867384 | F1: 0.5243960446537127\n"
     ]
    },
    {
     "name": "stderr",
     "output_type": "stream",
     "text": [
      "Validating: 100%|██████████| 71/71 [00:15<00:00,  4.66it/s]\n"
     ]
    },
    {
     "name": "stdout",
     "output_type": "stream",
     "text": [
      "\tValidation Loss: 1.6456617385568753 | Accuracy: 0.44659977703455966 | Precision: 0.6333135671938595 | Recall: 0.44659977703455966 | F1: 0.4151136832236393\n",
      "Saving best model at epoch 3...\n"
     ]
    },
    {
     "name": "stderr",
     "output_type": "stream",
     "text": [
      "Training: 100%|██████████| 281/281 [04:22<00:00,  1.07it/s]\n"
     ]
    },
    {
     "name": "stdout",
     "output_type": "stream",
     "text": [
      "Epoch 4 | Train Loss: 0.7392294431284229 | Accuracy: 0.7496515970789899 | Precision: 0.7471690833944075 | Recall: 0.7496515970789899 | F1: 0.7474950424852533\n"
     ]
    },
    {
     "name": "stderr",
     "output_type": "stream",
     "text": [
      "Validating: 100%|██████████| 71/71 [00:15<00:00,  4.70it/s]\n"
     ]
    },
    {
     "name": "stdout",
     "output_type": "stream",
     "text": [
      "\tValidation Loss: 0.8951725447681588 | Accuracy: 0.6914158305462653 | Precision: 0.7647564416225169 | Recall: 0.6914158305462653 | F1: 0.6777915481701189\n",
      "Saving best model at epoch 4...\n"
     ]
    },
    {
     "name": "stderr",
     "output_type": "stream",
     "text": [
      "Training: 100%|██████████| 281/281 [04:23<00:00,  1.07it/s]\n"
     ]
    },
    {
     "name": "stdout",
     "output_type": "stream",
     "text": [
      "Epoch 5 | Train Loss: 0.4573889146177794 | Accuracy: 0.8501588717319806 | Precision: 0.8494198099893565 | Recall: 0.8501588717319806 | F1: 0.8495306308922644\n"
     ]
    },
    {
     "name": "stderr",
     "output_type": "stream",
     "text": [
      "Validating: 100%|██████████| 71/71 [00:15<00:00,  4.68it/s]\n"
     ]
    },
    {
     "name": "stdout",
     "output_type": "stream",
     "text": [
      "\tValidation Loss: 0.36000847795479735 | Accuracy: 0.8898550724637682 | Precision: 0.903378728652787 | Recall: 0.8898550724637682 | F1: 0.8851281292265731\n",
      "Saving best model at epoch 5...\n"
     ]
    },
    {
     "name": "stderr",
     "output_type": "stream",
     "text": [
      "Training: 100%|██████████| 281/281 [04:23<00:00,  1.07it/s]\n"
     ]
    },
    {
     "name": "stdout",
     "output_type": "stream",
     "text": [
      "Epoch 6 | Train Loss: 0.22923593048099097 | Accuracy: 0.927866659234071 | Precision: 0.9277287744233044 | Recall: 0.927866659234071 | F1: 0.9277643757415596\n"
     ]
    },
    {
     "name": "stderr",
     "output_type": "stream",
     "text": [
      "Validating: 100%|██████████| 71/71 [00:15<00:00,  4.68it/s]\n"
     ]
    },
    {
     "name": "stdout",
     "output_type": "stream",
     "text": [
      "\tValidation Loss: 0.30455461029015796 | Accuracy: 0.8958751393534002 | Precision: 0.9071777608102466 | Recall: 0.8958751393534002 | F1: 0.8943139141914939\n",
      "Saving best model at epoch 6...\n"
     ]
    },
    {
     "name": "stderr",
     "output_type": "stream",
     "text": [
      "Training: 100%|██████████| 281/281 [04:23<00:00,  1.07it/s]\n"
     ]
    },
    {
     "name": "stdout",
     "output_type": "stream",
     "text": [
      "Epoch 7 | Train Loss: 0.16821126863890695 | Accuracy: 0.9498857238419087 | Precision: 0.9498760510786284 | Recall: 0.9498857238419087 | F1: 0.949853778156759\n"
     ]
    },
    {
     "name": "stderr",
     "output_type": "stream",
     "text": [
      "Validating: 100%|██████████| 71/71 [00:15<00:00,  4.69it/s]\n"
     ]
    },
    {
     "name": "stdout",
     "output_type": "stream",
     "text": [
      "\tValidation Loss: 0.17475193098817074 | Accuracy: 0.9426978818283166 | Precision: 0.9477742181946602 | Recall: 0.9426978818283166 | F1: 0.9434362113936849\n",
      "Saving best model at epoch 7...\n"
     ]
    },
    {
     "name": "stderr",
     "output_type": "stream",
     "text": [
      "Training: 100%|██████████| 281/281 [04:23<00:00,  1.07it/s]\n"
     ]
    },
    {
     "name": "stdout",
     "output_type": "stream",
     "text": [
      "Epoch 8 | Train Loss: 0.1262407460087559 | Accuracy: 0.9623167400635487 | Precision: 0.962288067843067 | Recall: 0.9623167400635487 | F1: 0.9622880314052661\n"
     ]
    },
    {
     "name": "stderr",
     "output_type": "stream",
     "text": [
      "Validating: 100%|██████████| 71/71 [00:15<00:00,  4.62it/s]\n"
     ]
    },
    {
     "name": "stdout",
     "output_type": "stream",
     "text": [
      "\tValidation Loss: 0.2678718262575042 | Accuracy: 0.9159420289855073 | Precision: 0.929009027060285 | Recall: 0.9159420289855073 | F1: 0.9143105842543067\n"
     ]
    },
    {
     "name": "stderr",
     "output_type": "stream",
     "text": [
      "Training: 100%|██████████| 281/281 [04:23<00:00,  1.07it/s]\n"
     ]
    },
    {
     "name": "stdout",
     "output_type": "stream",
     "text": [
      "Epoch 9 | Train Loss: 0.10521109441288637 | Accuracy: 0.9664975751156698 | Precision: 0.9664427202721592 | Recall: 0.9664975751156698 | F1: 0.966457860318096\n"
     ]
    },
    {
     "name": "stderr",
     "output_type": "stream",
     "text": [
      "Validating: 100%|██████████| 71/71 [00:15<00:00,  4.65it/s]\n"
     ]
    },
    {
     "name": "stdout",
     "output_type": "stream",
     "text": [
      "\tValidation Loss: 0.34420011129597544 | Accuracy: 0.9045707915273132 | Precision: 0.9159862643178577 | Recall: 0.9045707915273132 | F1: 0.902154217903941\n"
     ]
    },
    {
     "name": "stderr",
     "output_type": "stream",
     "text": [
      "Training: 100%|██████████| 281/281 [04:23<00:00,  1.07it/s]\n"
     ]
    },
    {
     "name": "stdout",
     "output_type": "stream",
     "text": [
      "Epoch 10 | Train Loss: 0.10215199111341051 | Accuracy: 0.9690060761469425 | Precision: 0.9690122593510384 | Recall: 0.9690060761469425 | F1: 0.9689889432391207\n"
     ]
    },
    {
     "name": "stderr",
     "output_type": "stream",
     "text": [
      "Validating: 100%|██████████| 71/71 [00:15<00:00,  4.67it/s]\n"
     ]
    },
    {
     "name": "stdout",
     "output_type": "stream",
     "text": [
      "\tValidation Loss: 0.2623383760530974 | Accuracy: 0.9224080267558529 | Precision: 0.9427449383269784 | Recall: 0.9224080267558529 | F1: 0.9259320857894607\n"
     ]
    },
    {
     "name": "stderr",
     "output_type": "stream",
     "text": [
      "Training: 100%|██████████| 281/281 [04:23<00:00,  1.07it/s]\n"
     ]
    },
    {
     "name": "stdout",
     "output_type": "stream",
     "text": [
      "Epoch 11 | Train Loss: 0.09588694440870417 | Accuracy: 0.9709571325045989 | Precision: 0.9709601041546644 | Recall: 0.9709571325045989 | F1: 0.9709444315842267\n"
     ]
    },
    {
     "name": "stderr",
     "output_type": "stream",
     "text": [
      "Validating: 100%|██████████| 71/71 [00:15<00:00,  4.64it/s]\n"
     ]
    },
    {
     "name": "stdout",
     "output_type": "stream",
     "text": [
      "\tValidation Loss: 0.22891935695644836 | Accuracy: 0.9290969899665552 | Precision: 0.939100325014175 | Recall: 0.9290969899665552 | F1: 0.9263968914124187\n"
     ]
    },
    {
     "name": "stderr",
     "output_type": "stream",
     "text": [
      "Training: 100%|██████████| 281/281 [04:23<00:00,  1.07it/s]\n"
     ]
    },
    {
     "name": "stdout",
     "output_type": "stream",
     "text": [
      "Epoch 12 | Train Loss: 0.07646054126574157 | Accuracy: 0.9753609454261665 | Precision: 0.9753691573221049 | Recall: 0.9753609454261665 | F1: 0.975356881902286\n"
     ]
    },
    {
     "name": "stderr",
     "output_type": "stream",
     "text": [
      "Validating: 100%|██████████| 71/71 [00:15<00:00,  4.70it/s]\n"
     ]
    },
    {
     "name": "stdout",
     "output_type": "stream",
     "text": [
      "\tValidation Loss: 0.13761349958957922 | Accuracy: 0.9618729096989966 | Precision: 0.9634159272064629 | Recall: 0.9618729096989966 | F1: 0.9605473198906779\n",
      "Saving best model at epoch 12...\n"
     ]
    },
    {
     "name": "stderr",
     "output_type": "stream",
     "text": [
      "Training: 100%|██████████| 281/281 [04:23<00:00,  1.07it/s]\n"
     ]
    },
    {
     "name": "stdout",
     "output_type": "stream",
     "text": [
      "Epoch 13 | Train Loss: 0.08191374838816208 | Accuracy: 0.975862645632421 | Precision: 0.9758664115453026 | Recall: 0.975862645632421 | F1: 0.9758575632392671\n"
     ]
    },
    {
     "name": "stderr",
     "output_type": "stream",
     "text": [
      "Validating: 100%|██████████| 71/71 [00:15<00:00,  4.66it/s]\n"
     ]
    },
    {
     "name": "stdout",
     "output_type": "stream",
     "text": [
      "\tValidation Loss: 0.14107395983366688 | Accuracy: 0.9560758082497213 | Precision: 0.9632008142209703 | Recall: 0.9560758082497213 | F1: 0.9573813951503788\n"
     ]
    },
    {
     "name": "stderr",
     "output_type": "stream",
     "text": [
      "Training: 100%|██████████| 281/281 [04:23<00:00,  1.07it/s]\n"
     ]
    },
    {
     "name": "stdout",
     "output_type": "stream",
     "text": [
      "Epoch 14 | Train Loss: 0.06370923634174402 | Accuracy: 0.980489436423435 | Precision: 0.9804878677041907 | Recall: 0.980489436423435 | F1: 0.980481149238208\n"
     ]
    },
    {
     "name": "stderr",
     "output_type": "stream",
     "text": [
      "Validating: 100%|██████████| 71/71 [00:15<00:00,  4.57it/s]\n"
     ]
    },
    {
     "name": "stdout",
     "output_type": "stream",
     "text": [
      "\tValidation Loss: 0.08295567511436595 | Accuracy: 0.9763656633221851 | Precision: 0.976813841516916 | Recall: 0.9763656633221851 | F1: 0.9762382058976121\n",
      "Saving best model at epoch 14...\n"
     ]
    },
    {
     "name": "stderr",
     "output_type": "stream",
     "text": [
      "Training: 100%|██████████| 281/281 [04:23<00:00,  1.07it/s]\n"
     ]
    },
    {
     "name": "stdout",
     "output_type": "stream",
     "text": [
      "Epoch 15 | Train Loss: 0.07767378881961452 | Accuracy: 0.9761971124365907 | Precision: 0.9761836633948369 | Recall: 0.9761971124365907 | F1: 0.9761824455256279\n"
     ]
    },
    {
     "name": "stderr",
     "output_type": "stream",
     "text": [
      "Validating: 100%|██████████| 71/71 [00:15<00:00,  4.65it/s]\n"
     ]
    },
    {
     "name": "stdout",
     "output_type": "stream",
     "text": [
      "\tValidation Loss: 0.32643274711051457 | Accuracy: 0.9001114827201784 | Precision: 0.9226434290315888 | Recall: 0.9001114827201784 | F1: 0.8986130832633291\n"
     ]
    },
    {
     "name": "stderr",
     "output_type": "stream",
     "text": [
      "Training: 100%|██████████| 281/281 [04:23<00:00,  1.07it/s]\n"
     ]
    },
    {
     "name": "stdout",
     "output_type": "stream",
     "text": [
      "Epoch 16 | Train Loss: 0.06428944108944744 | Accuracy: 0.9796532694130108 | Precision: 0.9796641634253748 | Recall: 0.9796532694130108 | F1: 0.979653526557216\n"
     ]
    },
    {
     "name": "stderr",
     "output_type": "stream",
     "text": [
      "Validating: 100%|██████████| 71/71 [00:15<00:00,  4.64it/s]\n"
     ]
    },
    {
     "name": "stdout",
     "output_type": "stream",
     "text": [
      "\tValidation Loss: 0.07305932797911302 | Accuracy: 0.9785953177257525 | Precision: 0.9792701854602469 | Recall: 0.9785953177257525 | F1: 0.9786271044653562\n",
      "Saving best model at epoch 16...\n"
     ]
    },
    {
     "name": "stderr",
     "output_type": "stream",
     "text": [
      "Training: 100%|██████████| 281/281 [04:23<00:00,  1.07it/s]\n"
     ]
    },
    {
     "name": "stdout",
     "output_type": "stream",
     "text": [
      "Epoch 17 | Train Loss: 0.061078625013620935 | Accuracy: 0.9817158147053905 | Precision: 0.9817156222116775 | Recall: 0.9817158147053905 | F1: 0.9817131556571362\n"
     ]
    },
    {
     "name": "stderr",
     "output_type": "stream",
     "text": [
      "Validating: 100%|██████████| 71/71 [00:15<00:00,  4.68it/s]\n"
     ]
    },
    {
     "name": "stdout",
     "output_type": "stream",
     "text": [
      "\tValidation Loss: 0.10030566843416752 | Accuracy: 0.966778149386845 | Precision: 0.967592797654825 | Recall: 0.966778149386845 | F1: 0.9665197065229271\n"
     ]
    },
    {
     "name": "stderr",
     "output_type": "stream",
     "text": [
      "Training: 100%|██████████| 281/281 [04:23<00:00,  1.07it/s]\n"
     ]
    },
    {
     "name": "stdout",
     "output_type": "stream",
     "text": [
      "Epoch 18 | Train Loss: 0.05585188348031871 | Accuracy: 0.9826634706505379 | Precision: 0.982690053386619 | Recall: 0.9826634706505379 | F1: 0.9826750784622786\n"
     ]
    },
    {
     "name": "stderr",
     "output_type": "stream",
     "text": [
      "Validating: 100%|██████████| 71/71 [00:15<00:00,  4.64it/s]\n"
     ]
    },
    {
     "name": "stdout",
     "output_type": "stream",
     "text": [
      "\tValidation Loss: 0.09473472877248178 | Accuracy: 0.9645484949832775 | Precision: 0.9659394632439977 | Recall: 0.9645484949832775 | F1: 0.9640902778161452\n"
     ]
    },
    {
     "name": "stderr",
     "output_type": "stream",
     "text": [
      "Training: 100%|██████████| 281/281 [04:23<00:00,  1.07it/s]\n"
     ]
    },
    {
     "name": "stdout",
     "output_type": "stream",
     "text": [
      "Epoch 19 | Train Loss: 0.05237536608602759 | Accuracy: 0.983666871063047 | Precision: 0.9836599073590017 | Recall: 0.983666871063047 | F1: 0.9836614795305667\n"
     ]
    },
    {
     "name": "stderr",
     "output_type": "stream",
     "text": [
      "Validating: 100%|██████████| 71/71 [00:15<00:00,  4.64it/s]\n"
     ]
    },
    {
     "name": "stdout",
     "output_type": "stream",
     "text": [
      "\tValidation Loss: 0.07897182295679338 | Accuracy: 0.9761426978818283 | Precision: 0.9768096601396292 | Recall: 0.9761426978818283 | F1: 0.9761322774910663\n"
     ]
    },
    {
     "name": "stderr",
     "output_type": "stream",
     "text": [
      "Training: 100%|██████████| 281/281 [04:23<00:00,  1.07it/s]\n"
     ]
    },
    {
     "name": "stdout",
     "output_type": "stream",
     "text": [
      "Epoch 20 | Train Loss: 0.055481939149019555 | Accuracy: 0.9829979374547076 | Precision: 0.9829927823960265 | Recall: 0.9829979374547076 | F1: 0.9829940227747035\n"
     ]
    },
    {
     "name": "stderr",
     "output_type": "stream",
     "text": [
      "Validating: 100%|██████████| 71/71 [00:15<00:00,  4.64it/s]\n"
     ]
    },
    {
     "name": "stdout",
     "output_type": "stream",
     "text": [
      "\tValidation Loss: 0.06551403817384582 | Accuracy: 0.9794871794871794 | Precision: 0.9801068387955331 | Recall: 0.9794871794871794 | F1: 0.9794803781176812\n",
      "Saving best model at epoch 20...\n"
     ]
    },
    {
     "name": "stderr",
     "output_type": "stream",
     "text": [
      "Training: 100%|██████████| 281/281 [04:23<00:00,  1.07it/s]\n"
     ]
    },
    {
     "name": "stdout",
     "output_type": "stream",
     "text": [
      "Epoch 21 | Train Loss: 0.05128916875924087 | Accuracy: 0.9846145270081944 | Precision: 0.9846216816811904 | Recall: 0.9846145270081944 | F1: 0.9846156096213027\n"
     ]
    },
    {
     "name": "stderr",
     "output_type": "stream",
     "text": [
      "Validating: 100%|██████████| 71/71 [00:15<00:00,  4.65it/s]\n"
     ]
    },
    {
     "name": "stdout",
     "output_type": "stream",
     "text": [
      "\tValidation Loss: 0.07766856378252605 | Accuracy: 0.9754738015607581 | Precision: 0.9763325956293707 | Recall: 0.9754738015607581 | F1: 0.9755123667792024\n"
     ]
    },
    {
     "name": "stderr",
     "output_type": "stream",
     "text": [
      "Training: 100%|██████████| 281/281 [04:23<00:00,  1.07it/s]\n"
     ]
    },
    {
     "name": "stdout",
     "output_type": "stream",
     "text": [
      "Epoch 22 | Train Loss: 0.05147983690556404 | Accuracy: 0.9830536819220692 | Precision: 0.9830539682756725 | Recall: 0.9830536819220692 | F1: 0.9830511417789254\n"
     ]
    },
    {
     "name": "stderr",
     "output_type": "stream",
     "text": [
      "Validating: 100%|██████████| 71/71 [00:15<00:00,  4.65it/s]\n"
     ]
    },
    {
     "name": "stdout",
     "output_type": "stream",
     "text": [
      "\tValidation Loss: 0.05703995019709036 | Accuracy: 0.9817168338907469 | Precision: 0.9820456640275061 | Recall: 0.9817168338907469 | F1: 0.981695154939773\n",
      "Saving best model at epoch 22...\n"
     ]
    },
    {
     "name": "stderr",
     "output_type": "stream",
     "text": [
      "Training: 100%|██████████| 281/281 [04:23<00:00,  1.07it/s]\n"
     ]
    },
    {
     "name": "stdout",
     "output_type": "stream",
     "text": [
      "Epoch 23 | Train Loss: 0.041654928071586765 | Accuracy: 0.987123028039467 | Precision: 0.9871252790564327 | Recall: 0.987123028039467 | F1: 0.9871225413288729\n"
     ]
    },
    {
     "name": "stderr",
     "output_type": "stream",
     "text": [
      "Validating: 100%|██████████| 71/71 [00:15<00:00,  4.67it/s]\n"
     ]
    },
    {
     "name": "stdout",
     "output_type": "stream",
     "text": [
      "\tValidation Loss: 0.06689397218099362 | Accuracy: 0.9823857302118172 | Precision: 0.9829165422180116 | Recall: 0.9823857302118172 | F1: 0.9822357096479072\n"
     ]
    },
    {
     "name": "stderr",
     "output_type": "stream",
     "text": [
      "Training: 100%|██████████| 281/281 [04:23<00:00,  1.07it/s]\n"
     ]
    },
    {
     "name": "stdout",
     "output_type": "stream",
     "text": [
      "Epoch 24 | Train Loss: 0.04109275477687294 | Accuracy: 0.9864540944311277 | Precision: 0.9864528129784306 | Recall: 0.9864540944311277 | F1: 0.9864499848837116\n"
     ]
    },
    {
     "name": "stderr",
     "output_type": "stream",
     "text": [
      "Validating: 100%|██████████| 71/71 [00:15<00:00,  4.67it/s]\n"
     ]
    },
    {
     "name": "stdout",
     "output_type": "stream",
     "text": [
      "\tValidation Loss: 0.04571368285490882 | Accuracy: 0.9857302118171684 | Precision: 0.9858627594662487 | Recall: 0.9857302118171684 | F1: 0.9856945287045071\n",
      "Saving best model at epoch 24...\n"
     ]
    },
    {
     "name": "stderr",
     "output_type": "stream",
     "text": [
      "Training: 100%|██████████| 281/281 [04:23<00:00,  1.07it/s]\n"
     ]
    },
    {
     "name": "stdout",
     "output_type": "stream",
     "text": [
      "Epoch 25 | Train Loss: 0.05087280665065271 | Accuracy: 0.9833881487262389 | Precision: 0.983403516052083 | Recall: 0.9833881487262389 | F1: 0.9833930245591078\n"
     ]
    },
    {
     "name": "stderr",
     "output_type": "stream",
     "text": [
      "Validating: 100%|██████████| 71/71 [00:15<00:00,  4.68it/s]\n"
     ]
    },
    {
     "name": "stdout",
     "output_type": "stream",
     "text": [
      "\tValidation Loss: 0.0727627405660673 | Accuracy: 0.979933110367893 | Precision: 0.980533962373201 | Recall: 0.979933110367893 | F1: 0.9799719360444953\n"
     ]
    },
    {
     "name": "stderr",
     "output_type": "stream",
     "text": [
      "Training: 100%|██████████| 281/281 [04:23<00:00,  1.07it/s]\n"
     ]
    },
    {
     "name": "stdout",
     "output_type": "stream",
     "text": [
      "Epoch 26 | Train Loss: 0.04438776858780679 | Accuracy: 0.9859523942248731 | Precision: 0.9859640816370021 | Recall: 0.9859523942248731 | F1: 0.9859540660338445\n"
     ]
    },
    {
     "name": "stderr",
     "output_type": "stream",
     "text": [
      "Validating: 100%|██████████| 71/71 [00:15<00:00,  4.55it/s]\n"
     ]
    },
    {
     "name": "stdout",
     "output_type": "stream",
     "text": [
      "\tValidation Loss: 0.04217564413802777 | Accuracy: 0.9863991081382386 | Precision: 0.986691719092238 | Recall: 0.9863991081382386 | F1: 0.9864406778202017\n",
      "Saving best model at epoch 26...\n"
     ]
    },
    {
     "name": "stderr",
     "output_type": "stream",
     "text": [
      "Training: 100%|██████████| 281/281 [04:23<00:00,  1.07it/s]\n"
     ]
    },
    {
     "name": "stdout",
     "output_type": "stream",
     "text": [
      "Epoch 27 | Train Loss: 0.03266487071030438 | Accuracy: 0.9901332292769942 | Precision: 0.9901434665522635 | Recall: 0.9901332292769942 | F1: 0.9901355396279362\n"
     ]
    },
    {
     "name": "stderr",
     "output_type": "stream",
     "text": [
      "Validating: 100%|██████████| 71/71 [00:15<00:00,  4.60it/s]\n"
     ]
    },
    {
     "name": "stdout",
     "output_type": "stream",
     "text": [
      "\tValidation Loss: 0.08664785341923716 | Accuracy: 0.9712374581939799 | Precision: 0.9732407084652819 | Recall: 0.9712374581939799 | F1: 0.9713077163291627\n"
     ]
    },
    {
     "name": "stderr",
     "output_type": "stream",
     "text": [
      "Training: 100%|██████████| 281/281 [04:23<00:00,  1.07it/s]\n"
     ]
    },
    {
     "name": "stdout",
     "output_type": "stream",
     "text": [
      "Epoch 28 | Train Loss: 0.03500749584924582 | Accuracy: 0.9891298288644852 | Precision: 0.9891341215975177 | Recall: 0.9891298288644852 | F1: 0.989130689738466\n"
     ]
    },
    {
     "name": "stderr",
     "output_type": "stream",
     "text": [
      "Validating: 100%|██████████| 71/71 [00:15<00:00,  4.64it/s]\n"
     ]
    },
    {
     "name": "stdout",
     "output_type": "stream",
     "text": [
      "\tValidation Loss: 0.04510552372002948 | Accuracy: 0.9863991081382386 | Precision: 0.9871724349081484 | Recall: 0.9863991081382386 | F1: 0.9865511499453732\n"
     ]
    },
    {
     "name": "stderr",
     "output_type": "stream",
     "text": [
      "Training: 100%|██████████| 281/281 [04:23<00:00,  1.07it/s]\n"
     ]
    },
    {
     "name": "stdout",
     "output_type": "stream",
     "text": [
      "Epoch 29 | Train Loss: 0.025570079768772545 | Accuracy: 0.9927532192429901 | Precision: 0.992752257847668 | Recall: 0.9927532192429901 | F1: 0.9927513256196314\n"
     ]
    },
    {
     "name": "stderr",
     "output_type": "stream",
     "text": [
      "Validating: 100%|██████████| 71/71 [00:15<00:00,  4.66it/s]\n"
     ]
    },
    {
     "name": "stdout",
     "output_type": "stream",
     "text": [
      "\tValidation Loss: 0.053541680289642284 | Accuracy: 0.9848383500557414 | Precision: 0.986140879896982 | Recall: 0.9848383500557414 | F1: 0.985089785121615\n"
     ]
    },
    {
     "name": "stderr",
     "output_type": "stream",
     "text": [
      "Training: 100%|██████████| 281/281 [04:23<00:00,  1.07it/s]\n"
     ]
    },
    {
     "name": "stdout",
     "output_type": "stream",
     "text": [
      "Epoch 30 | Train Loss: 0.042630589359358706 | Accuracy: 0.9856179274207035 | Precision: 0.9856208107692467 | Recall: 0.9856179274207035 | F1: 0.9856184531530845\n"
     ]
    },
    {
     "name": "stderr",
     "output_type": "stream",
     "text": [
      "Validating: 100%|██████████| 71/71 [00:15<00:00,  4.67it/s]\n"
     ]
    },
    {
     "name": "stdout",
     "output_type": "stream",
     "text": [
      "\tValidation Loss: 0.054363828996839135 | Accuracy: 0.9855072463768116 | Precision: 0.9863253091386199 | Recall: 0.9855072463768116 | F1: 0.9854852864387667\n"
     ]
    },
    {
     "name": "stderr",
     "output_type": "stream",
     "text": [
      "Training: 100%|██████████| 281/281 [04:23<00:00,  1.07it/s]\n"
     ]
    },
    {
     "name": "stdout",
     "output_type": "stream",
     "text": [
      "Epoch 31 | Train Loss: 0.036767144341956416 | Accuracy: 0.9881264284519762 | Precision: 0.988129376661503 | Recall: 0.9881264284519762 | F1: 0.98812701072078\n"
     ]
    },
    {
     "name": "stderr",
     "output_type": "stream",
     "text": [
      "Validating: 100%|██████████| 71/71 [00:15<00:00,  4.67it/s]\n"
     ]
    },
    {
     "name": "stdout",
     "output_type": "stream",
     "text": [
      "\tValidation Loss: 0.10179175571604095 | Accuracy: 0.9643255295429208 | Precision: 0.9677227554845117 | Recall: 0.9643255295429208 | F1: 0.9645586003260993\n"
     ]
    },
    {
     "name": "stderr",
     "output_type": "stream",
     "text": [
      "Training: 100%|██████████| 281/281 [04:23<00:00,  1.07it/s]\n"
     ]
    },
    {
     "name": "stdout",
     "output_type": "stream",
     "text": [
      "Epoch 32 | Train Loss: 0.03002645918027269 | Accuracy: 0.9911366296895033 | Precision: 0.9911398613017118 | Recall: 0.9911366296895033 | F1: 0.9911373107547509\n"
     ]
    },
    {
     "name": "stderr",
     "output_type": "stream",
     "text": [
      "Validating: 100%|██████████| 71/71 [00:15<00:00,  4.56it/s]\n"
     ]
    },
    {
     "name": "stdout",
     "output_type": "stream",
     "text": [
      "\tValidation Loss: 0.03218662078512019 | Accuracy: 0.9897435897435898 | Precision: 0.9897719090248196 | Recall: 0.9897435897435898 | F1: 0.9897135797640956\n",
      "Saving best model at epoch 32...\n"
     ]
    },
    {
     "name": "stderr",
     "output_type": "stream",
     "text": [
      "Training: 100%|██████████| 281/281 [04:23<00:00,  1.07it/s]\n"
     ]
    },
    {
     "name": "stdout",
     "output_type": "stream",
     "text": [
      "Epoch 33 | Train Loss: 0.025837937318467206 | Accuracy: 0.9927532192429901 | Precision: 0.9927564459081246 | Recall: 0.9927532192429901 | F1: 0.9927544313018208\n"
     ]
    },
    {
     "name": "stderr",
     "output_type": "stream",
     "text": [
      "Validating: 100%|██████████| 71/71 [00:15<00:00,  4.63it/s]\n"
     ]
    },
    {
     "name": "stdout",
     "output_type": "stream",
     "text": [
      "\tValidation Loss: 0.026482262195585603 | Accuracy: 0.9924191750278707 | Precision: 0.9925005406315391 | Recall: 0.9924191750278707 | F1: 0.9924230947399563\n",
      "Saving best model at epoch 33...\n"
     ]
    },
    {
     "name": "stderr",
     "output_type": "stream",
     "text": [
      "Training: 100%|██████████| 281/281 [04:23<00:00,  1.07it/s]\n"
     ]
    },
    {
     "name": "stdout",
     "output_type": "stream",
     "text": [
      "Epoch 34 | Train Loss: 0.02699012496286806 | Accuracy: 0.991471096493673 | Precision: 0.9914720128735868 | Recall: 0.991471096493673 | F1: 0.991469909019663\n"
     ]
    },
    {
     "name": "stderr",
     "output_type": "stream",
     "text": [
      "Validating: 100%|██████████| 71/71 [00:15<00:00,  4.62it/s]\n"
     ]
    },
    {
     "name": "stdout",
     "output_type": "stream",
     "text": [
      "\tValidation Loss: 0.02285364816767905 | Accuracy: 0.9942028985507246 | Precision: 0.9942298433365049 | Recall: 0.9942028985507246 | F1: 0.9942008180306339\n",
      "Saving best model at epoch 34...\n"
     ]
    },
    {
     "name": "stderr",
     "output_type": "stream",
     "text": [
      "Training: 100%|██████████| 281/281 [04:23<00:00,  1.07it/s]\n"
     ]
    },
    {
     "name": "stdout",
     "output_type": "stream",
     "text": [
      "Epoch 35 | Train Loss: 0.01688272949749168 | Accuracy: 0.9947042756006467 | Precision: 0.9947053229365768 | Recall: 0.9947042756006467 | F1: 0.9947046072218956\n"
     ]
    },
    {
     "name": "stderr",
     "output_type": "stream",
     "text": [
      "Validating: 100%|██████████| 71/71 [00:15<00:00,  4.63it/s]\n"
     ]
    },
    {
     "name": "stdout",
     "output_type": "stream",
     "text": [
      "\tValidation Loss: 0.031204751494788328 | Accuracy: 0.9919732441471572 | Precision: 0.9920292178709176 | Recall: 0.9919732441471572 | F1: 0.9919735248340933\n"
     ]
    },
    {
     "name": "stderr",
     "output_type": "stream",
     "text": [
      "Training: 100%|██████████| 281/281 [04:23<00:00,  1.07it/s]\n"
     ]
    },
    {
     "name": "stdout",
     "output_type": "stream",
     "text": [
      "Epoch 36 | Train Loss: 0.019273562782460216 | Accuracy: 0.9934221528513295 | Precision: 0.9934226597593361 | Recall: 0.9934221528513295 | F1: 0.9934217308120793\n"
     ]
    },
    {
     "name": "stderr",
     "output_type": "stream",
     "text": [
      "Validating: 100%|██████████| 71/71 [00:15<00:00,  4.64it/s]\n"
     ]
    },
    {
     "name": "stdout",
     "output_type": "stream",
     "text": [
      "\tValidation Loss: 0.062375697387631615 | Accuracy: 0.9850613154960981 | Precision: 0.9852512816957627 | Recall: 0.9850613154960981 | F1: 0.9850328815920437\n"
     ]
    },
    {
     "name": "stderr",
     "output_type": "stream",
     "text": [
      "Training: 100%|██████████| 281/281 [04:23<00:00,  1.07it/s]\n"
     ]
    },
    {
     "name": "stdout",
     "output_type": "stream",
     "text": [
      "Epoch 37 | Train Loss: 0.028626934991440207 | Accuracy: 0.9908579073526953 | Precision: 0.9908597807536595 | Recall: 0.9908579073526953 | F1: 0.9908580143375062\n"
     ]
    },
    {
     "name": "stderr",
     "output_type": "stream",
     "text": [
      "Validating: 100%|██████████| 71/71 [00:15<00:00,  4.65it/s]\n"
     ]
    },
    {
     "name": "stdout",
     "output_type": "stream",
     "text": [
      "\tValidation Loss: 0.05197365997641177 | Accuracy: 0.9846153846153847 | Precision: 0.9849821231769813 | Recall: 0.9846153846153847 | F1: 0.9845949463446317\n"
     ]
    },
    {
     "name": "stderr",
     "output_type": "stream",
     "text": [
      "Training: 100%|██████████| 281/281 [04:23<00:00,  1.07it/s]\n"
     ]
    },
    {
     "name": "stdout",
     "output_type": "stream",
     "text": [
      "Epoch 38 | Train Loss: 0.02546240414049082 | Accuracy: 0.9926974747756285 | Precision: 0.9926998093564053 | Recall: 0.9926974747756285 | F1: 0.9926984019216315\n"
     ]
    },
    {
     "name": "stderr",
     "output_type": "stream",
     "text": [
      "Validating: 100%|██████████| 71/71 [00:15<00:00,  4.65it/s]\n"
     ]
    },
    {
     "name": "stdout",
     "output_type": "stream",
     "text": [
      "\tValidation Loss: 0.03497639292372312 | Accuracy: 0.9917502787068004 | Precision: 0.9918230713965597 | Recall: 0.9917502787068004 | F1: 0.9917502950722932\n"
     ]
    },
    {
     "name": "stderr",
     "output_type": "stream",
     "text": [
      "Training: 100%|██████████| 281/281 [04:23<00:00,  1.07it/s]\n"
     ]
    },
    {
     "name": "stdout",
     "output_type": "stream",
     "text": [
      "Epoch 39 | Train Loss: 0.019920376716807214 | Accuracy: 0.9943140643291153 | Precision: 0.9943109574400145 | Recall: 0.9943140643291153 | F1: 0.994312105602911\n"
     ]
    },
    {
     "name": "stderr",
     "output_type": "stream",
     "text": [
      "Validating: 100%|██████████| 71/71 [00:15<00:00,  4.59it/s]\n"
     ]
    },
    {
     "name": "stdout",
     "output_type": "stream",
     "text": [
      "\tValidation Loss: 0.024147174191198183 | Accuracy: 0.9926421404682274 | Precision: 0.9926395522984216 | Recall: 0.9926421404682274 | F1: 0.9926313597196511\n"
     ]
    },
    {
     "name": "stderr",
     "output_type": "stream",
     "text": [
      "Training: 100%|██████████| 281/281 [04:23<00:00,  1.07it/s]\n"
     ]
    },
    {
     "name": "stdout",
     "output_type": "stream",
     "text": [
      "Epoch 40 | Train Loss: 0.01821114498534856 | Accuracy: 0.9940910864596689 | Precision: 0.9940908586878892 | Recall: 0.9940910864596689 | F1: 0.9940906233364107\n"
     ]
    },
    {
     "name": "stderr",
     "output_type": "stream",
     "text": [
      "Validating: 100%|██████████| 71/71 [00:15<00:00,  4.58it/s]\n"
     ]
    },
    {
     "name": "stdout",
     "output_type": "stream",
     "text": [
      "\tValidation Loss: 0.024960800482314343 | Accuracy: 0.9928651059085841 | Precision: 0.9928758977758884 | Recall: 0.9928651059085841 | F1: 0.9928574977973665\n"
     ]
    },
    {
     "name": "stderr",
     "output_type": "stream",
     "text": [
      "Training: 100%|██████████| 281/281 [04:23<00:00,  1.07it/s]\n"
     ]
    },
    {
     "name": "stdout",
     "output_type": "stream",
     "text": [
      "Epoch 41 | Train Loss: 0.013952615508018186 | Accuracy: 0.9961536317520486 | Precision: 0.996155137563073 | Recall: 0.9961536317520486 | F1: 0.9961540026054312\n"
     ]
    },
    {
     "name": "stderr",
     "output_type": "stream",
     "text": [
      "Validating: 100%|██████████| 71/71 [00:15<00:00,  4.64it/s]\n"
     ]
    },
    {
     "name": "stdout",
     "output_type": "stream",
     "text": [
      "\tValidation Loss: 0.22288626616387425 | Accuracy: 0.9471571906354515 | Precision: 0.9588187376899713 | Recall: 0.9471571906354515 | F1: 0.9464869822694136\n"
     ]
    },
    {
     "name": "stderr",
     "output_type": "stream",
     "text": [
      "Training: 100%|██████████| 281/281 [04:23<00:00,  1.07it/s]\n"
     ]
    },
    {
     "name": "stdout",
     "output_type": "stream",
     "text": [
      "Epoch 42 | Train Loss: 0.020262854121268305 | Accuracy: 0.993645130720776 | Precision: 0.9936499433201508 | Recall: 0.993645130720776 | F1: 0.9936467757250683\n"
     ]
    },
    {
     "name": "stderr",
     "output_type": "stream",
     "text": [
      "Validating: 100%|██████████| 71/71 [00:15<00:00,  4.63it/s]\n"
     ]
    },
    {
     "name": "stdout",
     "output_type": "stream",
     "text": [
      "\tValidation Loss: 0.020530621750111378 | Accuracy: 0.9924191750278707 | Precision: 0.9925098175444855 | Recall: 0.9924191750278707 | F1: 0.9924186324118549\n",
      "Saving best model at epoch 42...\n"
     ]
    },
    {
     "name": "stderr",
     "output_type": "stream",
     "text": [
      "Training: 100%|██████████| 281/281 [04:23<00:00,  1.07it/s]\n"
     ]
    },
    {
     "name": "stdout",
     "output_type": "stream",
     "text": [
      "Epoch 43 | Train Loss: 0.02072687363684976 | Accuracy: 0.9940353419923073 | Precision: 0.9940352249334905 | Recall: 0.9940353419923073 | F1: 0.9940350010463155\n"
     ]
    },
    {
     "name": "stderr",
     "output_type": "stream",
     "text": [
      "Validating: 100%|██████████| 71/71 [00:15<00:00,  4.65it/s]\n"
     ]
    },
    {
     "name": "stdout",
     "output_type": "stream",
     "text": [
      "\tValidation Loss: 0.04153518641570871 | Accuracy: 0.987736900780379 | Precision: 0.9878928734639264 | Recall: 0.987736900780379 | F1: 0.9877395333253348\n"
     ]
    },
    {
     "name": "stderr",
     "output_type": "stream",
     "text": [
      "Training: 100%|██████████| 281/281 [04:23<00:00,  1.07it/s]\n"
     ]
    },
    {
     "name": "stdout",
     "output_type": "stream",
     "text": [
      "Epoch 44 | Train Loss: 0.01844935563301379 | Accuracy: 0.9938681085902225 | Precision: 0.9938699992909322 | Recall: 0.9938681085902225 | F1: 0.9938687100708411\n"
     ]
    },
    {
     "name": "stderr",
     "output_type": "stream",
     "text": [
      "Validating: 100%|██████████| 71/71 [00:15<00:00,  4.62it/s]\n"
     ]
    },
    {
     "name": "stdout",
     "output_type": "stream",
     "text": [
      "\tValidation Loss: 0.02129062199087393 | Accuracy: 0.9937569676700111 | Precision: 0.9937850898021404 | Recall: 0.9937569676700111 | F1: 0.9937501906271312\n"
     ]
    },
    {
     "name": "stderr",
     "output_type": "stream",
     "text": [
      "Training: 100%|██████████| 281/281 [04:23<00:00,  1.07it/s]\n"
     ]
    },
    {
     "name": "stdout",
     "output_type": "stream",
     "text": [
      "Epoch 45 | Train Loss: 0.011911112595464722 | Accuracy: 0.9964323540888567 | Precision: 0.9964314764276615 | Recall: 0.9964323540888567 | F1: 0.9964317587084078\n"
     ]
    },
    {
     "name": "stderr",
     "output_type": "stream",
     "text": [
      "Validating: 100%|██████████| 71/71 [00:15<00:00,  4.60it/s]\n"
     ]
    },
    {
     "name": "stdout",
     "output_type": "stream",
     "text": [
      "\tValidation Loss: 0.01876704450422065 | Accuracy: 0.9953177257525083 | Precision: 0.9953278595817554 | Recall: 0.9953177257525083 | F1: 0.9953145480428468\n",
      "Saving best model at epoch 45...\n"
     ]
    },
    {
     "name": "stderr",
     "output_type": "stream",
     "text": [
      "Training: 100%|██████████| 281/281 [04:23<00:00,  1.07it/s]\n"
     ]
    },
    {
     "name": "stdout",
     "output_type": "stream",
     "text": [
      "Epoch 46 | Train Loss: 0.009290664396402045 | Accuracy: 0.9974357545013658 | Precision: 0.9974368357422293 | Recall: 0.9974357545013658 | F1: 0.9974357715833163\n"
     ]
    },
    {
     "name": "stderr",
     "output_type": "stream",
     "text": [
      "Validating: 100%|██████████| 71/71 [00:15<00:00,  4.63it/s]\n"
     ]
    },
    {
     "name": "stdout",
     "output_type": "stream",
     "text": [
      "\tValidation Loss: 0.01926670078852035 | Accuracy: 0.9953177257525083 | Precision: 0.9953412092226943 | Recall: 0.9953177257525083 | F1: 0.9953176420128156\n"
     ]
    },
    {
     "name": "stderr",
     "output_type": "stream",
     "text": [
      "Training: 100%|██████████| 281/281 [04:23<00:00,  1.07it/s]\n"
     ]
    },
    {
     "name": "stdout",
     "output_type": "stream",
     "text": [
      "Epoch 47 | Train Loss: 0.01850677342497946 | Accuracy: 0.9944812977312002 | Precision: 0.9944814047853728 | Recall: 0.9944812977312002 | F1: 0.9944806120229661\n"
     ]
    },
    {
     "name": "stderr",
     "output_type": "stream",
     "text": [
      "Validating: 100%|██████████| 71/71 [00:15<00:00,  4.60it/s]\n"
     ]
    },
    {
     "name": "stdout",
     "output_type": "stream",
     "text": [
      "\tValidation Loss: 0.03658224266242977 | Accuracy: 0.991304347826087 | Precision: 0.9914465672020252 | Recall: 0.991304347826087 | F1: 0.9913075286426118\n"
     ]
    },
    {
     "name": "stderr",
     "output_type": "stream",
     "text": [
      "Training: 100%|██████████| 281/281 [04:23<00:00,  1.07it/s]\n"
     ]
    },
    {
     "name": "stdout",
     "output_type": "stream",
     "text": [
      "Epoch 48 | Train Loss: 0.010582977976842437 | Accuracy: 0.9967668208930264 | Precision: 0.9967673330113744 | Recall: 0.9967668208930264 | F1: 0.996766967798715\n"
     ]
    },
    {
     "name": "stderr",
     "output_type": "stream",
     "text": [
      "Validating: 100%|██████████| 71/71 [00:15<00:00,  4.67it/s]\n"
     ]
    },
    {
     "name": "stdout",
     "output_type": "stream",
     "text": [
      "\tValidation Loss: 0.018827234591196725 | Accuracy: 0.9950947603121516 | Precision: 0.995143402815627 | Recall: 0.9950947603121516 | F1: 0.9951012903913445\n"
     ]
    },
    {
     "name": "stderr",
     "output_type": "stream",
     "text": [
      "Training: 100%|██████████| 281/281 [04:23<00:00,  1.07it/s]\n"
     ]
    },
    {
     "name": "stdout",
     "output_type": "stream",
     "text": [
      "Epoch 49 | Train Loss: 0.008318030711884231 | Accuracy: 0.9976587323708122 | Precision: 0.9976596539903431 | Recall: 0.9976587323708122 | F1: 0.9976589511305879\n"
     ]
    },
    {
     "name": "stderr",
     "output_type": "stream",
     "text": [
      "Validating: 100%|██████████| 71/71 [00:15<00:00,  4.60it/s]\n"
     ]
    },
    {
     "name": "stdout",
     "output_type": "stream",
     "text": [
      "\tValidation Loss: 0.01509759190563452 | Accuracy: 0.9959866220735786 | Precision: 0.9959979194702796 | Recall: 0.9959866220735786 | F1: 0.9959850144426142\n",
      "Saving best model at epoch 49...\n"
     ]
    },
    {
     "name": "stderr",
     "output_type": "stream",
     "text": [
      "Training: 100%|██████████| 281/281 [04:23<00:00,  1.07it/s]\n"
     ]
    },
    {
     "name": "stdout",
     "output_type": "stream",
     "text": [
      "Epoch 50 | Train Loss: 0.007413507763002117 | Accuracy: 0.9981046881097051 | Precision: 0.9981053315536751 | Recall: 0.9981046881097051 | F1: 0.9981047679441061\n"
     ]
    },
    {
     "name": "stderr",
     "output_type": "stream",
     "text": [
      "Validating: 100%|██████████| 71/71 [00:15<00:00,  4.66it/s]\n"
     ]
    },
    {
     "name": "stdout",
     "output_type": "stream",
     "text": [
      "\tValidation Loss: 0.03292408488146642 | Accuracy: 0.9901895206243032 | Precision: 0.9905299451046699 | Recall: 0.9901895206243032 | F1: 0.9902415882736919\n"
     ]
    },
    {
     "name": "stderr",
     "output_type": "stream",
     "text": [
      "Training: 100%|██████████| 281/281 [04:23<00:00,  1.07it/s]\n"
     ]
    },
    {
     "name": "stdout",
     "output_type": "stream",
     "text": [
      "Epoch 51 | Train Loss: 0.009872856956569592 | Accuracy: 0.9973800100340041 | Precision: 0.9973802086791661 | Recall: 0.9973800100340041 | F1: 0.9973799043407334\n"
     ]
    },
    {
     "name": "stderr",
     "output_type": "stream",
     "text": [
      "Validating: 100%|██████████| 71/71 [00:15<00:00,  4.59it/s]\n"
     ]
    },
    {
     "name": "stdout",
     "output_type": "stream",
     "text": [
      "\tValidation Loss: 0.019023614393454024 | Accuracy: 0.9946488294314382 | Precision: 0.9946590245884492 | Recall: 0.9946488294314382 | F1: 0.9946475915625462\n"
     ]
    },
    {
     "name": "stderr",
     "output_type": "stream",
     "text": [
      "Training: 100%|██████████| 281/281 [04:23<00:00,  1.07it/s]\n"
     ]
    },
    {
     "name": "stdout",
     "output_type": "stream",
     "text": [
      "Epoch 52 | Train Loss: 0.009797491596336808 | Accuracy: 0.9970455432298344 | Precision: 0.9970462987974491 | Recall: 0.9970455432298344 | F1: 0.9970453051455679\n"
     ]
    },
    {
     "name": "stderr",
     "output_type": "stream",
     "text": [
      "Validating: 100%|██████████| 71/71 [00:15<00:00,  4.58it/s]\n"
     ]
    },
    {
     "name": "stdout",
     "output_type": "stream",
     "text": [
      "\tValidation Loss: 0.021130124321080333 | Accuracy: 0.9957636566332219 | Precision: 0.9957746408279854 | Recall: 0.9957636566332219 | F1: 0.9957650964470752\n"
     ]
    },
    {
     "name": "stderr",
     "output_type": "stream",
     "text": [
      "Training: 100%|██████████| 281/281 [04:23<00:00,  1.07it/s]\n"
     ]
    },
    {
     "name": "stdout",
     "output_type": "stream",
     "text": [
      "Epoch 53 | Train Loss: 0.007277373173979427 | Accuracy: 0.9979931991749819 | Precision: 0.9979945199864071 | Recall: 0.9979931991749819 | F1: 0.9979935357561827\n"
     ]
    },
    {
     "name": "stderr",
     "output_type": "stream",
     "text": [
      "Validating: 100%|██████████| 71/71 [00:15<00:00,  4.65it/s]\n"
     ]
    },
    {
     "name": "stdout",
     "output_type": "stream",
     "text": [
      "\tValidation Loss: 0.029812498361377334 | Accuracy: 0.9933110367892977 | Precision: 0.993353396249766 | Recall: 0.9933110367892977 | F1: 0.9933146163650183\n"
     ]
    },
    {
     "name": "stderr",
     "output_type": "stream",
     "text": [
      "Training: 100%|██████████| 281/281 [04:23<00:00,  1.07it/s]\n"
     ]
    },
    {
     "name": "stdout",
     "output_type": "stream",
     "text": [
      "Epoch 54 | Train Loss: 0.01158470783336668 | Accuracy: 0.9966553319583031 | Precision: 0.9966566940252632 | Recall: 0.9966553319583031 | F1: 0.9966558375182939\n"
     ]
    },
    {
     "name": "stderr",
     "output_type": "stream",
     "text": [
      "Validating: 100%|██████████| 71/71 [00:15<00:00,  4.63it/s]\n"
     ]
    },
    {
     "name": "stdout",
     "output_type": "stream",
     "text": [
      "\tValidation Loss: 0.018667035232052948 | Accuracy: 0.9955406911928651 | Precision: 0.9955596372376587 | Recall: 0.9955406911928651 | F1: 0.9955386412519651\n"
     ]
    },
    {
     "name": "stderr",
     "output_type": "stream",
     "text": [
      "Training: 100%|██████████| 281/281 [04:23<00:00,  1.07it/s]\n"
     ]
    },
    {
     "name": "stdout",
     "output_type": "stream",
     "text": [
      "Epoch 55 | Train Loss: 0.0070787419735942264 | Accuracy: 0.9978817102402586 | Precision: 0.9978820111938178 | Recall: 0.9978817102402586 | F1: 0.9978815482222044\n"
     ]
    },
    {
     "name": "stderr",
     "output_type": "stream",
     "text": [
      "Validating: 100%|██████████| 71/71 [00:15<00:00,  4.65it/s]\n"
     ]
    },
    {
     "name": "stdout",
     "output_type": "stream",
     "text": [
      "\tValidation Loss: 0.018010136238598547 | Accuracy: 0.9957636566332219 | Precision: 0.9957817546251296 | Recall: 0.9957636566332219 | F1: 0.9957651684385752\n"
     ]
    },
    {
     "name": "stderr",
     "output_type": "stream",
     "text": [
      "Training: 100%|██████████| 281/281 [04:23<00:00,  1.07it/s]\n"
     ]
    },
    {
     "name": "stdout",
     "output_type": "stream",
     "text": [
      "Epoch 56 | Train Loss: 0.008629466930805234 | Accuracy: 0.9977702213055354 | Precision: 0.9977706881150071 | Recall: 0.9977702213055354 | F1: 0.9977703738662795\n"
     ]
    },
    {
     "name": "stderr",
     "output_type": "stream",
     "text": [
      "Validating: 100%|██████████| 71/71 [00:15<00:00,  4.63it/s]\n"
     ]
    },
    {
     "name": "stdout",
     "output_type": "stream",
     "text": [
      "\tValidation Loss: 0.016831238394266798 | Accuracy: 0.9957636566332219 | Precision: 0.9957672776750605 | Recall: 0.9957636566332219 | F1: 0.9957622398000118\n"
     ]
    },
    {
     "name": "stderr",
     "output_type": "stream",
     "text": [
      "Training: 100%|██████████| 281/281 [04:23<00:00,  1.07it/s]\n"
     ]
    },
    {
     "name": "stdout",
     "output_type": "stream",
     "text": [
      "Epoch 57 | Train Loss: 0.006075543503609497 | Accuracy: 0.9983834104465131 | Precision: 0.9983836642070778 | Recall: 0.9983834104465131 | F1: 0.9983833083005772\n"
     ]
    },
    {
     "name": "stderr",
     "output_type": "stream",
     "text": [
      "Validating: 100%|██████████| 71/71 [00:15<00:00,  4.59it/s]\n"
     ]
    },
    {
     "name": "stdout",
     "output_type": "stream",
     "text": [
      "\tValidation Loss: 0.02169013331190463 | Accuracy: 0.9948717948717949 | Precision: 0.9948998830381263 | Recall: 0.9948717948717949 | F1: 0.9948664534060662\n"
     ]
    },
    {
     "name": "stderr",
     "output_type": "stream",
     "text": [
      "Training: 100%|██████████| 281/281 [04:23<00:00,  1.07it/s]\n"
     ]
    },
    {
     "name": "stdout",
     "output_type": "stream",
     "text": [
      "Epoch 58 | Train Loss: 0.004357412662487593 | Accuracy: 0.9987178772506828 | Precision: 0.9987179907094176 | Recall: 0.9987178772506828 | F1: 0.9987178736887431\n"
     ]
    },
    {
     "name": "stderr",
     "output_type": "stream",
     "text": [
      "Validating: 100%|██████████| 71/71 [00:15<00:00,  4.64it/s]\n"
     ]
    },
    {
     "name": "stdout",
     "output_type": "stream",
     "text": [
      "\tValidation Loss: 0.01482091428501725 | Accuracy: 0.9964325529542921 | Precision: 0.9964446386552764 | Recall: 0.9964325529542921 | F1: 0.9964338042116292\n",
      "Saving best model at epoch 58...\n"
     ]
    },
    {
     "name": "stderr",
     "output_type": "stream",
     "text": [
      "Training: 100%|██████████| 281/281 [04:23<00:00,  1.07it/s]\n"
     ]
    },
    {
     "name": "stdout",
     "output_type": "stream",
     "text": [
      "Epoch 59 | Train Loss: 0.0029981012631518835 | Accuracy: 0.998996599587491 | Precision: 0.9989969394040721 | Recall: 0.998996599587491 | F1: 0.9989965594696777\n"
     ]
    },
    {
     "name": "stderr",
     "output_type": "stream",
     "text": [
      "Validating: 100%|██████████| 71/71 [00:15<00:00,  4.57it/s]\n"
     ]
    },
    {
     "name": "stdout",
     "output_type": "stream",
     "text": [
      "\tValidation Loss: 0.018007524980571937 | Accuracy: 0.9966555183946488 | Precision: 0.9966753801057392 | Recall: 0.9966555183946488 | F1: 0.996658549180144\n"
     ]
    },
    {
     "name": "stderr",
     "output_type": "stream",
     "text": [
      "Training: 100%|██████████| 281/281 [04:23<00:00,  1.07it/s]\n"
     ]
    },
    {
     "name": "stdout",
     "output_type": "stream",
     "text": [
      "Epoch 60 | Train Loss: 0.003967479452697122 | Accuracy: 0.9987178772506828 | Precision: 0.998717889217551 | Recall: 0.9987178772506828 | F1: 0.9987178357196632\n"
     ]
    },
    {
     "name": "stderr",
     "output_type": "stream",
     "text": [
      "Validating: 100%|██████████| 71/71 [00:15<00:00,  4.70it/s]\n"
     ]
    },
    {
     "name": "stdout",
     "output_type": "stream",
     "text": [
      "\tValidation Loss: 0.018559237055329428 | Accuracy: 0.9950947603121516 | Precision: 0.9951459267588278 | Recall: 0.9950947603121516 | F1: 0.9950950123791722\n"
     ]
    },
    {
     "name": "stderr",
     "output_type": "stream",
     "text": [
      "Training: 100%|██████████| 281/281 [04:23<00:00,  1.07it/s]\n"
     ]
    },
    {
     "name": "stdout",
     "output_type": "stream",
     "text": [
      "Epoch 61 | Train Loss: 0.0025937210450940767 | Accuracy: 0.9991080885222142 | Precision: 0.9991081739640294 | Recall: 0.9991080885222142 | F1: 0.9991081156587363\n"
     ]
    },
    {
     "name": "stderr",
     "output_type": "stream",
     "text": [
      "Validating: 100%|██████████| 71/71 [00:15<00:00,  4.67it/s]\n"
     ]
    },
    {
     "name": "stdout",
     "output_type": "stream",
     "text": [
      "\tValidation Loss: 0.01515715163997145 | Accuracy: 0.9966555183946488 | Precision: 0.9966618283535583 | Recall: 0.9966555183946488 | F1: 0.9966552659367194\n"
     ]
    },
    {
     "name": "stderr",
     "output_type": "stream",
     "text": [
      "Training: 100%|██████████| 281/281 [04:23<00:00,  1.07it/s]\n"
     ]
    },
    {
     "name": "stdout",
     "output_type": "stream",
     "text": [
      "Epoch 62 | Train Loss: 0.004509206401875339 | Accuracy: 0.9987178772506828 | Precision: 0.9987183696141343 | Recall: 0.9987178772506828 | F1: 0.9987179924684707\n"
     ]
    },
    {
     "name": "stderr",
     "output_type": "stream",
     "text": [
      "Validating: 100%|██████████| 71/71 [00:15<00:00,  4.66it/s]\n"
     ]
    },
    {
     "name": "stdout",
     "output_type": "stream",
     "text": [
      "\tValidation Loss: 0.02071527772883056 | Accuracy: 0.9939799331103679 | Precision: 0.9940795404855749 | Recall: 0.9939799331103679 | F1: 0.9939855140035523\n"
     ]
    },
    {
     "name": "stderr",
     "output_type": "stream",
     "text": [
      "Training: 100%|██████████| 281/281 [04:23<00:00,  1.07it/s]\n"
     ]
    },
    {
     "name": "stdout",
     "output_type": "stream",
     "text": [
      "Epoch 63 | Train Loss: 0.005202811184742432 | Accuracy: 0.9986621327833213 | Precision: 0.9986620669893841 | Recall: 0.9986621327833213 | F1: 0.9986620360479987\n"
     ]
    },
    {
     "name": "stderr",
     "output_type": "stream",
     "text": [
      "Validating: 100%|██████████| 71/71 [00:15<00:00,  4.57it/s]\n"
     ]
    },
    {
     "name": "stdout",
     "output_type": "stream",
     "text": [
      "\tValidation Loss: 0.028302141257544027 | Accuracy: 0.9946488294314382 | Precision: 0.9946833702038765 | Recall: 0.9946488294314382 | F1: 0.9946477773229159\n"
     ]
    },
    {
     "name": "stderr",
     "output_type": "stream",
     "text": [
      "Training: 100%|██████████| 281/281 [04:23<00:00,  1.07it/s]\n"
     ]
    },
    {
     "name": "stdout",
     "output_type": "stream",
     "text": [
      "Epoch 64 | Train Loss: 0.0029997267005022086 | Accuracy: 0.999275321924299 | Precision: 0.9992756796585351 | Recall: 0.999275321924299 | F1: 0.9992753577105261\n"
     ]
    },
    {
     "name": "stderr",
     "output_type": "stream",
     "text": [
      "Validating: 100%|██████████| 71/71 [00:15<00:00,  4.63it/s]\n"
     ]
    },
    {
     "name": "stdout",
     "output_type": "stream",
     "text": [
      "\tValidation Loss: 0.015044523645973269 | Accuracy: 0.9959866220735786 | Precision: 0.9960022753381301 | Recall: 0.9959866220735786 | F1: 0.9959855574446463\n"
     ]
    },
    {
     "name": "stderr",
     "output_type": "stream",
     "text": [
      "Training: 100%|██████████| 281/281 [04:23<00:00,  1.07it/s]\n"
     ]
    },
    {
     "name": "stdout",
     "output_type": "stream",
     "text": [
      "Epoch 65 | Train Loss: 0.00174403406297034 | Accuracy: 0.999554044261107 | Precision: 0.9995541150995705 | Recall: 0.999554044261107 | F1: 0.9995540199468484\n"
     ]
    },
    {
     "name": "stderr",
     "output_type": "stream",
     "text": [
      "Validating: 100%|██████████| 71/71 [00:15<00:00,  4.58it/s]\n"
     ]
    },
    {
     "name": "stdout",
     "output_type": "stream",
     "text": [
      "\tValidation Loss: 0.014255674966041394 | Accuracy: 0.9966555183946488 | Precision: 0.9966647747580865 | Recall: 0.9966555183946488 | F1: 0.9966570777704751\n",
      "Saving best model at epoch 65...\n"
     ]
    },
    {
     "name": "stderr",
     "output_type": "stream",
     "text": [
      "Training: 100%|██████████| 281/281 [04:23<00:00,  1.07it/s]\n"
     ]
    },
    {
     "name": "stdout",
     "output_type": "stream",
     "text": [
      "Epoch 66 | Train Loss: 0.004446491183427685 | Accuracy: 0.9989408551201293 | Precision: 0.9989411174470346 | Recall: 0.9989408551201293 | F1: 0.9989409384964619\n"
     ]
    },
    {
     "name": "stderr",
     "output_type": "stream",
     "text": [
      "Validating: 100%|██████████| 71/71 [00:15<00:00,  4.69it/s]\n"
     ]
    },
    {
     "name": "stdout",
     "output_type": "stream",
     "text": [
      "\tValidation Loss: 0.015851322088975123 | Accuracy: 0.9964325529542921 | Precision: 0.9964396668824187 | Recall: 0.9964325529542921 | F1: 0.9964319452588338\n"
     ]
    },
    {
     "name": "stderr",
     "output_type": "stream",
     "text": [
      "Training: 100%|██████████| 281/281 [04:23<00:00,  1.07it/s]\n"
     ]
    },
    {
     "name": "stdout",
     "output_type": "stream",
     "text": [
      "Epoch 67 | Train Loss: 0.0017202499203025406 | Accuracy: 0.999554044261107 | Precision: 0.999554152185769 | Recall: 0.999554044261107 | F1: 0.9995540672948637\n"
     ]
    },
    {
     "name": "stderr",
     "output_type": "stream",
     "text": [
      "Validating: 100%|██████████| 71/71 [00:15<00:00,  4.64it/s]\n"
     ]
    },
    {
     "name": "stdout",
     "output_type": "stream",
     "text": [
      "\tValidation Loss: 0.013775252419050752 | Accuracy: 0.9962095875139353 | Precision: 0.9962150739973487 | Recall: 0.9962095875139353 | F1: 0.9962087548975614\n",
      "Saving best model at epoch 67...\n"
     ]
    },
    {
     "name": "stderr",
     "output_type": "stream",
     "text": [
      "Training: 100%|██████████| 281/281 [04:23<00:00,  1.07it/s]\n"
     ]
    },
    {
     "name": "stdout",
     "output_type": "stream",
     "text": [
      "Epoch 68 | Train Loss: 0.0014823542016587504 | Accuracy: 0.999721277663192 | Precision: 0.9997213240332965 | Recall: 0.999721277663192 | F1: 0.9997212848039284\n"
     ]
    },
    {
     "name": "stderr",
     "output_type": "stream",
     "text": [
      "Validating: 100%|██████████| 71/71 [00:15<00:00,  4.59it/s]\n"
     ]
    },
    {
     "name": "stdout",
     "output_type": "stream",
     "text": [
      "\tValidation Loss: 0.013788778396432668 | Accuracy: 0.9962095875139353 | Precision: 0.9962147449962604 | Recall: 0.9962095875139353 | F1: 0.9962087302294966\n"
     ]
    },
    {
     "name": "stderr",
     "output_type": "stream",
     "text": [
      "Training: 100%|██████████| 281/281 [04:23<00:00,  1.07it/s]\n"
     ]
    },
    {
     "name": "stdout",
     "output_type": "stream",
     "text": [
      "Epoch 69 | Train Loss: 0.00200340757183699 | Accuracy: 0.9993868108590223 | Precision: 0.9993867659801974 | Recall: 0.9993868108590223 | F1: 0.9993865781248087\n"
     ]
    },
    {
     "name": "stderr",
     "output_type": "stream",
     "text": [
      "Validating: 100%|██████████| 71/71 [00:15<00:00,  4.58it/s]\n"
     ]
    },
    {
     "name": "stdout",
     "output_type": "stream",
     "text": [
      "\tValidation Loss: 0.013451965480041034 | Accuracy: 0.9964325529542921 | Precision: 0.9964514282879318 | Recall: 0.9964325529542921 | F1: 0.9964353490071318\n",
      "Saving best model at epoch 69...\n"
     ]
    },
    {
     "name": "stderr",
     "output_type": "stream",
     "text": [
      "Training: 100%|██████████| 281/281 [04:23<00:00,  1.07it/s]\n"
     ]
    },
    {
     "name": "stdout",
     "output_type": "stream",
     "text": [
      "Epoch 70 | Train Loss: 0.0008452316885083885 | Accuracy: 0.9998327665979152 | Precision: 0.9998330979718956 | Recall: 0.9998327665979152 | F1: 0.9998327755919149\n"
     ]
    },
    {
     "name": "stderr",
     "output_type": "stream",
     "text": [
      "Validating: 100%|██████████| 71/71 [00:15<00:00,  4.64it/s]\n"
     ]
    },
    {
     "name": "stdout",
     "output_type": "stream",
     "text": [
      "\tValidation Loss: 0.009910901887336185 | Accuracy: 0.9977703455964325 | Precision: 0.9977766672403999 | Recall: 0.9977703455964325 | F1: 0.9977708083676766\n",
      "Saving best model at epoch 70...\n"
     ]
    },
    {
     "name": "stderr",
     "output_type": "stream",
     "text": [
      "Training: 100%|██████████| 281/281 [04:22<00:00,  1.07it/s]\n"
     ]
    },
    {
     "name": "stdout",
     "output_type": "stream",
     "text": [
      "Epoch 71 | Train Loss: 0.0012538301580101998 | Accuracy: 0.9996655331958303 | Precision: 0.9996655331958303 | Recall: 0.9996655331958303 | F1: 0.9996655331958303\n"
     ]
    },
    {
     "name": "stderr",
     "output_type": "stream",
     "text": [
      "Validating: 100%|██████████| 71/71 [00:15<00:00,  4.61it/s]\n"
     ]
    },
    {
     "name": "stdout",
     "output_type": "stream",
     "text": [
      "\tValidation Loss: 0.01370417469659412 | Accuracy: 0.9975473801560758 | Precision: 0.9975529670941333 | Recall: 0.9975473801560758 | F1: 0.9975479316338944\n"
     ]
    },
    {
     "name": "stderr",
     "output_type": "stream",
     "text": [
      "Training: 100%|██████████| 281/281 [04:23<00:00,  1.07it/s]\n"
     ]
    },
    {
     "name": "stdout",
     "output_type": "stream",
     "text": [
      "Epoch 72 | Train Loss: 0.002492586208749752 | Accuracy: 0.9991080885222142 | Precision: 0.9991081978786975 | Recall: 0.9991080885222142 | F1: 0.9991081288747905\n"
     ]
    },
    {
     "name": "stderr",
     "output_type": "stream",
     "text": [
      "Validating: 100%|██████████| 71/71 [00:15<00:00,  4.68it/s]\n"
     ]
    },
    {
     "name": "stdout",
     "output_type": "stream",
     "text": [
      "\tValidation Loss: 0.01880622304495671 | Accuracy: 0.9955406911928651 | Precision: 0.9955757436288039 | Recall: 0.9955406911928651 | F1: 0.9955389198787139\n"
     ]
    },
    {
     "name": "stderr",
     "output_type": "stream",
     "text": [
      "Training: 100%|██████████| 281/281 [04:23<00:00,  1.07it/s]\n"
     ]
    },
    {
     "name": "stdout",
     "output_type": "stream",
     "text": [
      "Epoch 73 | Train Loss: 0.0017020750488684752 | Accuracy: 0.999721277663192 | Precision: 0.9997213207704316 | Recall: 0.999721277663192 | F1: 0.9997212823580524\n"
     ]
    },
    {
     "name": "stderr",
     "output_type": "stream",
     "text": [
      "Validating: 100%|██████████| 71/71 [00:15<00:00,  4.65it/s]\n"
     ]
    },
    {
     "name": "stdout",
     "output_type": "stream",
     "text": [
      "\tValidation Loss: 0.01396746433551349 | Accuracy: 0.9968784838350055 | Precision: 0.9968857937235068 | Recall: 0.9968784838350055 | F1: 0.9968796110376911\n"
     ]
    },
    {
     "name": "stderr",
     "output_type": "stream",
     "text": [
      "Training: 100%|██████████| 281/281 [04:23<00:00,  1.07it/s]\n"
     ]
    },
    {
     "name": "stdout",
     "output_type": "stream",
     "text": [
      "Epoch 74 | Train Loss: 0.0012039658964613246 | Accuracy: 0.999721277663192 | Precision: 0.9997212754095673 | Recall: 0.999721277663192 | F1: 0.9997212606847263\n"
     ]
    },
    {
     "name": "stderr",
     "output_type": "stream",
     "text": [
      "Validating: 100%|██████████| 71/71 [00:15<00:00,  4.61it/s]\n"
     ]
    },
    {
     "name": "stdout",
     "output_type": "stream",
     "text": [
      "\tValidation Loss: 0.013974133254623025 | Accuracy: 0.9982162764771461 | Precision: 0.9982227421372125 | Recall: 0.9982162764771461 | F1: 0.9982170456708894\n"
     ]
    },
    {
     "name": "stderr",
     "output_type": "stream",
     "text": [
      "Training: 100%|██████████| 281/281 [04:23<00:00,  1.07it/s]\n"
     ]
    },
    {
     "name": "stdout",
     "output_type": "stream",
     "text": [
      "Epoch 75 | Train Loss: 0.0005102425099213434 | Accuracy: 0.9999442555326384 | Precision: 0.9999442883428017 | Recall: 0.9999442555326384 | F1: 0.9999442545114324\n"
     ]
    },
    {
     "name": "stderr",
     "output_type": "stream",
     "text": [
      "Validating: 100%|██████████| 71/71 [00:15<00:00,  4.66it/s]\n"
     ]
    },
    {
     "name": "stdout",
     "output_type": "stream",
     "text": [
      "\tValidation Loss: 0.016222353524208814 | Accuracy: 0.9968784838350055 | Precision: 0.9968874310894676 | Recall: 0.9968784838350055 | F1: 0.9968788189812351\n"
     ]
    },
    {
     "name": "stderr",
     "output_type": "stream",
     "text": [
      "Training: 100%|██████████| 281/281 [04:23<00:00,  1.07it/s]\n"
     ]
    },
    {
     "name": "stdout",
     "output_type": "stream",
     "text": [
      "Epoch 76 | Train Loss: 0.0011916586891724448 | Accuracy: 0.9996655331958303 | Precision: 0.9996655863038539 | Recall: 0.9996655331958303 | F1: 0.999665468924565\n"
     ]
    },
    {
     "name": "stderr",
     "output_type": "stream",
     "text": [
      "Validating: 100%|██████████| 71/71 [00:15<00:00,  4.58it/s]\n"
     ]
    },
    {
     "name": "stdout",
     "output_type": "stream",
     "text": [
      "\tValidation Loss: 0.015111233496663516 | Accuracy: 0.9964325529542921 | Precision: 0.9964378910670668 | Recall: 0.9964325529542921 | F1: 0.9964322461856174\n"
     ]
    },
    {
     "name": "stderr",
     "output_type": "stream",
     "text": [
      "Training: 100%|██████████| 281/281 [04:23<00:00,  1.07it/s]\n"
     ]
    },
    {
     "name": "stdout",
     "output_type": "stream",
     "text": [
      "Epoch 77 | Train Loss: 0.00119491724269074 | Accuracy: 0.9996097887284687 | Precision: 0.9996098193236758 | Recall: 0.9996097887284687 | F1: 0.9996097888565001\n"
     ]
    },
    {
     "name": "stderr",
     "output_type": "stream",
     "text": [
      "Validating: 100%|██████████| 71/71 [00:15<00:00,  4.51it/s]\n"
     ]
    },
    {
     "name": "stdout",
     "output_type": "stream",
     "text": [
      "\tValidation Loss: 0.01636618890967877 | Accuracy: 0.9975473801560758 | Precision: 0.9975553316002501 | Recall: 0.9975473801560758 | F1: 0.9975477439348883\n"
     ]
    },
    {
     "name": "stderr",
     "output_type": "stream",
     "text": [
      "Training: 100%|██████████| 281/281 [04:23<00:00,  1.07it/s]\n"
     ]
    },
    {
     "name": "stdout",
     "output_type": "stream",
     "text": [
      "Epoch 78 | Train Loss: 0.001056958712137869 | Accuracy: 0.9996655331958303 | Precision: 0.9996656520812268 | Recall: 0.9996655331958303 | F1: 0.9996655617004239\n"
     ]
    },
    {
     "name": "stderr",
     "output_type": "stream",
     "text": [
      "Validating: 100%|██████████| 71/71 [00:15<00:00,  4.68it/s]\n"
     ]
    },
    {
     "name": "stdout",
     "output_type": "stream",
     "text": [
      "\tValidation Loss: 0.019904007730737003 | Accuracy: 0.9968784838350055 | Precision: 0.9968856200969087 | Recall: 0.9968784838350055 | F1: 0.9968778968613152\n"
     ]
    },
    {
     "name": "stderr",
     "output_type": "stream",
     "text": [
      "Training: 100%|██████████| 281/281 [04:23<00:00,  1.07it/s]\n"
     ]
    },
    {
     "name": "stdout",
     "output_type": "stream",
     "text": [
      "Epoch 79 | Train Loss: 0.0004997928637775176 | Accuracy: 0.9998885110652768 | Precision: 0.9998885738617054 | Recall: 0.9998885110652768 | F1: 0.9998884898519496\n"
     ]
    },
    {
     "name": "stderr",
     "output_type": "stream",
     "text": [
      "Validating: 100%|██████████| 71/71 [00:15<00:00,  4.65it/s]\n"
     ]
    },
    {
     "name": "stdout",
     "output_type": "stream",
     "text": [
      "\tValidation Loss: 0.012739782840507244 | Accuracy: 0.9977703455964325 | Precision: 0.9977738898799259 | Recall: 0.9977703455964325 | F1: 0.9977703666476638\n",
      "Early stopping at epoch 79\n",
      "Training finished!\n"
     ]
    },
    {
     "data": {
      "text/plain": [
       "({'Loss': [2.2847500806177212,\n",
       "   1.906691525330323,\n",
       "   1.2976280501728805,\n",
       "   0.7392294431284229,\n",
       "   0.4573889146177794,\n",
       "   0.22923593048099097,\n",
       "   0.16821126863890695,\n",
       "   0.1262407460087559,\n",
       "   0.10521109441288637,\n",
       "   0.10215199111341051,\n",
       "   0.09588694440870417,\n",
       "   0.07646054126574157,\n",
       "   0.08191374838816208,\n",
       "   0.06370923634174402,\n",
       "   0.07767378881961452,\n",
       "   0.06428944108944744,\n",
       "   0.061078625013620935,\n",
       "   0.05585188348031871,\n",
       "   0.05237536608602759,\n",
       "   0.055481939149019555,\n",
       "   0.05128916875924087,\n",
       "   0.05147983690556404,\n",
       "   0.041654928071586765,\n",
       "   0.04109275477687294,\n",
       "   0.05087280665065271,\n",
       "   0.04438776858780679,\n",
       "   0.03266487071030438,\n",
       "   0.03500749584924582,\n",
       "   0.025570079768772545,\n",
       "   0.042630589359358706,\n",
       "   0.036767144341956416,\n",
       "   0.03002645918027269,\n",
       "   0.025837937318467206,\n",
       "   0.02699012496286806,\n",
       "   0.01688272949749168,\n",
       "   0.019273562782460216,\n",
       "   0.028626934991440207,\n",
       "   0.02546240414049082,\n",
       "   0.019920376716807214,\n",
       "   0.01821114498534856,\n",
       "   0.013952615508018186,\n",
       "   0.020262854121268305,\n",
       "   0.02072687363684976,\n",
       "   0.01844935563301379,\n",
       "   0.011911112595464722,\n",
       "   0.009290664396402045,\n",
       "   0.01850677342497946,\n",
       "   0.010582977976842437,\n",
       "   0.008318030711884231,\n",
       "   0.007413507763002117,\n",
       "   0.009872856956569592,\n",
       "   0.009797491596336808,\n",
       "   0.007277373173979427,\n",
       "   0.01158470783336668,\n",
       "   0.0070787419735942264,\n",
       "   0.008629466930805234,\n",
       "   0.006075543503609497,\n",
       "   0.004357412662487593,\n",
       "   0.0029981012631518835,\n",
       "   0.003967479452697122,\n",
       "   0.0025937210450940767,\n",
       "   0.004509206401875339,\n",
       "   0.005202811184742432,\n",
       "   0.0029997267005022086,\n",
       "   0.00174403406297034,\n",
       "   0.004446491183427685,\n",
       "   0.0017202499203025406,\n",
       "   0.0014823542016587504,\n",
       "   0.00200340757183699,\n",
       "   0.0008452316885083885,\n",
       "   0.0012538301580101998,\n",
       "   0.002492586208749752,\n",
       "   0.0017020750488684752,\n",
       "   0.0012039658964613246,\n",
       "   0.0005102425099213434,\n",
       "   0.0011916586891724448,\n",
       "   0.00119491724269074,\n",
       "   0.001056958712137869,\n",
       "   0.0004997928637775176],\n",
       "  'Accuracy': [0.1498411282680194,\n",
       "   0.3038630915881599,\n",
       "   0.5310217960867384,\n",
       "   0.7496515970789899,\n",
       "   0.8501588717319806,\n",
       "   0.927866659234071,\n",
       "   0.9498857238419087,\n",
       "   0.9623167400635487,\n",
       "   0.9664975751156698,\n",
       "   0.9690060761469425,\n",
       "   0.9709571325045989,\n",
       "   0.9753609454261665,\n",
       "   0.975862645632421,\n",
       "   0.980489436423435,\n",
       "   0.9761971124365907,\n",
       "   0.9796532694130108,\n",
       "   0.9817158147053905,\n",
       "   0.9826634706505379,\n",
       "   0.983666871063047,\n",
       "   0.9829979374547076,\n",
       "   0.9846145270081944,\n",
       "   0.9830536819220692,\n",
       "   0.987123028039467,\n",
       "   0.9864540944311277,\n",
       "   0.9833881487262389,\n",
       "   0.9859523942248731,\n",
       "   0.9901332292769942,\n",
       "   0.9891298288644852,\n",
       "   0.9927532192429901,\n",
       "   0.9856179274207035,\n",
       "   0.9881264284519762,\n",
       "   0.9911366296895033,\n",
       "   0.9927532192429901,\n",
       "   0.991471096493673,\n",
       "   0.9947042756006467,\n",
       "   0.9934221528513295,\n",
       "   0.9908579073526953,\n",
       "   0.9926974747756285,\n",
       "   0.9943140643291153,\n",
       "   0.9940910864596689,\n",
       "   0.9961536317520486,\n",
       "   0.993645130720776,\n",
       "   0.9940353419923073,\n",
       "   0.9938681085902225,\n",
       "   0.9964323540888567,\n",
       "   0.9974357545013658,\n",
       "   0.9944812977312002,\n",
       "   0.9967668208930264,\n",
       "   0.9976587323708122,\n",
       "   0.9981046881097051,\n",
       "   0.9973800100340041,\n",
       "   0.9970455432298344,\n",
       "   0.9979931991749819,\n",
       "   0.9966553319583031,\n",
       "   0.9978817102402586,\n",
       "   0.9977702213055354,\n",
       "   0.9983834104465131,\n",
       "   0.9987178772506828,\n",
       "   0.998996599587491,\n",
       "   0.9987178772506828,\n",
       "   0.9991080885222142,\n",
       "   0.9987178772506828,\n",
       "   0.9986621327833213,\n",
       "   0.999275321924299,\n",
       "   0.999554044261107,\n",
       "   0.9989408551201293,\n",
       "   0.999554044261107,\n",
       "   0.999721277663192,\n",
       "   0.9993868108590223,\n",
       "   0.9998327665979152,\n",
       "   0.9996655331958303,\n",
       "   0.9991080885222142,\n",
       "   0.999721277663192,\n",
       "   0.999721277663192,\n",
       "   0.9999442555326384,\n",
       "   0.9996655331958303,\n",
       "   0.9996097887284687,\n",
       "   0.9996655331958303,\n",
       "   0.9998885110652768],\n",
       "  'Precision': [0.14838199297896815,\n",
       "   0.2886166545987328,\n",
       "   0.5242672633785327,\n",
       "   0.7471690833944075,\n",
       "   0.8494198099893565,\n",
       "   0.9277287744233044,\n",
       "   0.9498760510786284,\n",
       "   0.962288067843067,\n",
       "   0.9664427202721592,\n",
       "   0.9690122593510384,\n",
       "   0.9709601041546644,\n",
       "   0.9753691573221049,\n",
       "   0.9758664115453026,\n",
       "   0.9804878677041907,\n",
       "   0.9761836633948369,\n",
       "   0.9796641634253748,\n",
       "   0.9817156222116775,\n",
       "   0.982690053386619,\n",
       "   0.9836599073590017,\n",
       "   0.9829927823960265,\n",
       "   0.9846216816811904,\n",
       "   0.9830539682756725,\n",
       "   0.9871252790564327,\n",
       "   0.9864528129784306,\n",
       "   0.983403516052083,\n",
       "   0.9859640816370021,\n",
       "   0.9901434665522635,\n",
       "   0.9891341215975177,\n",
       "   0.992752257847668,\n",
       "   0.9856208107692467,\n",
       "   0.988129376661503,\n",
       "   0.9911398613017118,\n",
       "   0.9927564459081246,\n",
       "   0.9914720128735868,\n",
       "   0.9947053229365768,\n",
       "   0.9934226597593361,\n",
       "   0.9908597807536595,\n",
       "   0.9926998093564053,\n",
       "   0.9943109574400145,\n",
       "   0.9940908586878892,\n",
       "   0.996155137563073,\n",
       "   0.9936499433201508,\n",
       "   0.9940352249334905,\n",
       "   0.9938699992909322,\n",
       "   0.9964314764276615,\n",
       "   0.9974368357422293,\n",
       "   0.9944814047853728,\n",
       "   0.9967673330113744,\n",
       "   0.9976596539903431,\n",
       "   0.9981053315536751,\n",
       "   0.9973802086791661,\n",
       "   0.9970462987974491,\n",
       "   0.9979945199864071,\n",
       "   0.9966566940252632,\n",
       "   0.9978820111938178,\n",
       "   0.9977706881150071,\n",
       "   0.9983836642070778,\n",
       "   0.9987179907094176,\n",
       "   0.9989969394040721,\n",
       "   0.998717889217551,\n",
       "   0.9991081739640294,\n",
       "   0.9987183696141343,\n",
       "   0.9986620669893841,\n",
       "   0.9992756796585351,\n",
       "   0.9995541150995705,\n",
       "   0.9989411174470346,\n",
       "   0.999554152185769,\n",
       "   0.9997213240332965,\n",
       "   0.9993867659801974,\n",
       "   0.9998330979718956,\n",
       "   0.9996655331958303,\n",
       "   0.9991081978786975,\n",
       "   0.9997213207704316,\n",
       "   0.9997212754095673,\n",
       "   0.9999442883428017,\n",
       "   0.9996655863038539,\n",
       "   0.9996098193236758,\n",
       "   0.9996656520812268,\n",
       "   0.9998885738617054],\n",
       "  'Recall': [0.1498411282680194,\n",
       "   0.3038630915881599,\n",
       "   0.5310217960867384,\n",
       "   0.7496515970789899,\n",
       "   0.8501588717319806,\n",
       "   0.927866659234071,\n",
       "   0.9498857238419087,\n",
       "   0.9623167400635487,\n",
       "   0.9664975751156698,\n",
       "   0.9690060761469425,\n",
       "   0.9709571325045989,\n",
       "   0.9753609454261665,\n",
       "   0.975862645632421,\n",
       "   0.980489436423435,\n",
       "   0.9761971124365907,\n",
       "   0.9796532694130108,\n",
       "   0.9817158147053905,\n",
       "   0.9826634706505379,\n",
       "   0.983666871063047,\n",
       "   0.9829979374547076,\n",
       "   0.9846145270081944,\n",
       "   0.9830536819220692,\n",
       "   0.987123028039467,\n",
       "   0.9864540944311277,\n",
       "   0.9833881487262389,\n",
       "   0.9859523942248731,\n",
       "   0.9901332292769942,\n",
       "   0.9891298288644852,\n",
       "   0.9927532192429901,\n",
       "   0.9856179274207035,\n",
       "   0.9881264284519762,\n",
       "   0.9911366296895033,\n",
       "   0.9927532192429901,\n",
       "   0.991471096493673,\n",
       "   0.9947042756006467,\n",
       "   0.9934221528513295,\n",
       "   0.9908579073526953,\n",
       "   0.9926974747756285,\n",
       "   0.9943140643291153,\n",
       "   0.9940910864596689,\n",
       "   0.9961536317520486,\n",
       "   0.993645130720776,\n",
       "   0.9940353419923073,\n",
       "   0.9938681085902225,\n",
       "   0.9964323540888567,\n",
       "   0.9974357545013658,\n",
       "   0.9944812977312002,\n",
       "   0.9967668208930264,\n",
       "   0.9976587323708122,\n",
       "   0.9981046881097051,\n",
       "   0.9973800100340041,\n",
       "   0.9970455432298344,\n",
       "   0.9979931991749819,\n",
       "   0.9966553319583031,\n",
       "   0.9978817102402586,\n",
       "   0.9977702213055354,\n",
       "   0.9983834104465131,\n",
       "   0.9987178772506828,\n",
       "   0.998996599587491,\n",
       "   0.9987178772506828,\n",
       "   0.9991080885222142,\n",
       "   0.9987178772506828,\n",
       "   0.9986621327833213,\n",
       "   0.999275321924299,\n",
       "   0.999554044261107,\n",
       "   0.9989408551201293,\n",
       "   0.999554044261107,\n",
       "   0.999721277663192,\n",
       "   0.9993868108590223,\n",
       "   0.9998327665979152,\n",
       "   0.9996655331958303,\n",
       "   0.9991080885222142,\n",
       "   0.999721277663192,\n",
       "   0.999721277663192,\n",
       "   0.9999442555326384,\n",
       "   0.9996655331958303,\n",
       "   0.9996097887284687,\n",
       "   0.9996655331958303,\n",
       "   0.9998885110652768],\n",
       "  'F1': [0.13611523993117625,\n",
       "   0.28701565782755617,\n",
       "   0.5243960446537127,\n",
       "   0.7474950424852533,\n",
       "   0.8495306308922644,\n",
       "   0.9277643757415596,\n",
       "   0.949853778156759,\n",
       "   0.9622880314052661,\n",
       "   0.966457860318096,\n",
       "   0.9689889432391207,\n",
       "   0.9709444315842267,\n",
       "   0.975356881902286,\n",
       "   0.9758575632392671,\n",
       "   0.980481149238208,\n",
       "   0.9761824455256279,\n",
       "   0.979653526557216,\n",
       "   0.9817131556571362,\n",
       "   0.9826750784622786,\n",
       "   0.9836614795305667,\n",
       "   0.9829940227747035,\n",
       "   0.9846156096213027,\n",
       "   0.9830511417789254,\n",
       "   0.9871225413288729,\n",
       "   0.9864499848837116,\n",
       "   0.9833930245591078,\n",
       "   0.9859540660338445,\n",
       "   0.9901355396279362,\n",
       "   0.989130689738466,\n",
       "   0.9927513256196314,\n",
       "   0.9856184531530845,\n",
       "   0.98812701072078,\n",
       "   0.9911373107547509,\n",
       "   0.9927544313018208,\n",
       "   0.991469909019663,\n",
       "   0.9947046072218956,\n",
       "   0.9934217308120793,\n",
       "   0.9908580143375062,\n",
       "   0.9926984019216315,\n",
       "   0.994312105602911,\n",
       "   0.9940906233364107,\n",
       "   0.9961540026054312,\n",
       "   0.9936467757250683,\n",
       "   0.9940350010463155,\n",
       "   0.9938687100708411,\n",
       "   0.9964317587084078,\n",
       "   0.9974357715833163,\n",
       "   0.9944806120229661,\n",
       "   0.996766967798715,\n",
       "   0.9976589511305879,\n",
       "   0.9981047679441061,\n",
       "   0.9973799043407334,\n",
       "   0.9970453051455679,\n",
       "   0.9979935357561827,\n",
       "   0.9966558375182939,\n",
       "   0.9978815482222044,\n",
       "   0.9977703738662795,\n",
       "   0.9983833083005772,\n",
       "   0.9987178736887431,\n",
       "   0.9989965594696777,\n",
       "   0.9987178357196632,\n",
       "   0.9991081156587363,\n",
       "   0.9987179924684707,\n",
       "   0.9986620360479987,\n",
       "   0.9992753577105261,\n",
       "   0.9995540199468484,\n",
       "   0.9989409384964619,\n",
       "   0.9995540672948637,\n",
       "   0.9997212848039284,\n",
       "   0.9993865781248087,\n",
       "   0.9998327755919149,\n",
       "   0.9996655331958303,\n",
       "   0.9991081288747905,\n",
       "   0.9997212823580524,\n",
       "   0.9997212606847263,\n",
       "   0.9999442545114324,\n",
       "   0.999665468924565,\n",
       "   0.9996097888565001,\n",
       "   0.9996655617004239,\n",
       "   0.9998884898519496]},\n",
       " {'Loss': [2.48265690870688,\n",
       "   2.0272229120764935,\n",
       "   1.6456617385568753,\n",
       "   0.8951725447681588,\n",
       "   0.36000847795479735,\n",
       "   0.30455461029015796,\n",
       "   0.17475193098817074,\n",
       "   0.2678718262575042,\n",
       "   0.34420011129597544,\n",
       "   0.2623383760530974,\n",
       "   0.22891935695644836,\n",
       "   0.13761349958957922,\n",
       "   0.14107395983366688,\n",
       "   0.08295567511436595,\n",
       "   0.32643274711051457,\n",
       "   0.07305932797911302,\n",
       "   0.10030566843416752,\n",
       "   0.09473472877248178,\n",
       "   0.07897182295679338,\n",
       "   0.06551403817384582,\n",
       "   0.07766856378252605,\n",
       "   0.05703995019709036,\n",
       "   0.06689397218099362,\n",
       "   0.04571368285490882,\n",
       "   0.0727627405660673,\n",
       "   0.04217564413802777,\n",
       "   0.08664785341923716,\n",
       "   0.04510552372002948,\n",
       "   0.053541680289642284,\n",
       "   0.054363828996839135,\n",
       "   0.10179175571604095,\n",
       "   0.03218662078512019,\n",
       "   0.026482262195585603,\n",
       "   0.02285364816767905,\n",
       "   0.031204751494788328,\n",
       "   0.062375697387631615,\n",
       "   0.05197365997641177,\n",
       "   0.03497639292372312,\n",
       "   0.024147174191198183,\n",
       "   0.024960800482314343,\n",
       "   0.22288626616387425,\n",
       "   0.020530621750111378,\n",
       "   0.04153518641570871,\n",
       "   0.02129062199087393,\n",
       "   0.01876704450422065,\n",
       "   0.01926670078852035,\n",
       "   0.03658224266242977,\n",
       "   0.018827234591196725,\n",
       "   0.01509759190563452,\n",
       "   0.03292408488146642,\n",
       "   0.019023614393454024,\n",
       "   0.021130124321080333,\n",
       "   0.029812498361377334,\n",
       "   0.018667035232052948,\n",
       "   0.018010136238598547,\n",
       "   0.016831238394266798,\n",
       "   0.02169013331190463,\n",
       "   0.01482091428501725,\n",
       "   0.018007524980571937,\n",
       "   0.018559237055329428,\n",
       "   0.01515715163997145,\n",
       "   0.02071527772883056,\n",
       "   0.028302141257544027,\n",
       "   0.015044523645973269,\n",
       "   0.014255674966041394,\n",
       "   0.015851322088975123,\n",
       "   0.013775252419050752,\n",
       "   0.013788778396432668,\n",
       "   0.013451965480041034,\n",
       "   0.009910901887336185,\n",
       "   0.01370417469659412,\n",
       "   0.01880622304495671,\n",
       "   0.01396746433551349,\n",
       "   0.013974133254623025,\n",
       "   0.016222353524208814,\n",
       "   0.015111233496663516,\n",
       "   0.01636618890967877,\n",
       "   0.019904007730737003,\n",
       "   0.012739782840507244],\n",
       "  'Accuracy': [0.11348940914158305,\n",
       "   0.30746934225195094,\n",
       "   0.44659977703455966,\n",
       "   0.6914158305462653,\n",
       "   0.8898550724637682,\n",
       "   0.8958751393534002,\n",
       "   0.9426978818283166,\n",
       "   0.9159420289855073,\n",
       "   0.9045707915273132,\n",
       "   0.9224080267558529,\n",
       "   0.9290969899665552,\n",
       "   0.9618729096989966,\n",
       "   0.9560758082497213,\n",
       "   0.9763656633221851,\n",
       "   0.9001114827201784,\n",
       "   0.9785953177257525,\n",
       "   0.966778149386845,\n",
       "   0.9645484949832775,\n",
       "   0.9761426978818283,\n",
       "   0.9794871794871794,\n",
       "   0.9754738015607581,\n",
       "   0.9817168338907469,\n",
       "   0.9823857302118172,\n",
       "   0.9857302118171684,\n",
       "   0.979933110367893,\n",
       "   0.9863991081382386,\n",
       "   0.9712374581939799,\n",
       "   0.9863991081382386,\n",
       "   0.9848383500557414,\n",
       "   0.9855072463768116,\n",
       "   0.9643255295429208,\n",
       "   0.9897435897435898,\n",
       "   0.9924191750278707,\n",
       "   0.9942028985507246,\n",
       "   0.9919732441471572,\n",
       "   0.9850613154960981,\n",
       "   0.9846153846153847,\n",
       "   0.9917502787068004,\n",
       "   0.9926421404682274,\n",
       "   0.9928651059085841,\n",
       "   0.9471571906354515,\n",
       "   0.9924191750278707,\n",
       "   0.987736900780379,\n",
       "   0.9937569676700111,\n",
       "   0.9953177257525083,\n",
       "   0.9953177257525083,\n",
       "   0.991304347826087,\n",
       "   0.9950947603121516,\n",
       "   0.9959866220735786,\n",
       "   0.9901895206243032,\n",
       "   0.9946488294314382,\n",
       "   0.9957636566332219,\n",
       "   0.9933110367892977,\n",
       "   0.9955406911928651,\n",
       "   0.9957636566332219,\n",
       "   0.9957636566332219,\n",
       "   0.9948717948717949,\n",
       "   0.9964325529542921,\n",
       "   0.9966555183946488,\n",
       "   0.9950947603121516,\n",
       "   0.9966555183946488,\n",
       "   0.9939799331103679,\n",
       "   0.9946488294314382,\n",
       "   0.9959866220735786,\n",
       "   0.9966555183946488,\n",
       "   0.9964325529542921,\n",
       "   0.9962095875139353,\n",
       "   0.9962095875139353,\n",
       "   0.9964325529542921,\n",
       "   0.9977703455964325,\n",
       "   0.9975473801560758,\n",
       "   0.9955406911928651,\n",
       "   0.9968784838350055,\n",
       "   0.9982162764771461,\n",
       "   0.9968784838350055,\n",
       "   0.9964325529542921,\n",
       "   0.9975473801560758,\n",
       "   0.9968784838350055,\n",
       "   0.9977703455964325],\n",
       "  'Precision': [0.1527516440008167,\n",
       "   0.3904028685259803,\n",
       "   0.6333135671938595,\n",
       "   0.7647564416225169,\n",
       "   0.903378728652787,\n",
       "   0.9071777608102466,\n",
       "   0.9477742181946602,\n",
       "   0.929009027060285,\n",
       "   0.9159862643178577,\n",
       "   0.9427449383269784,\n",
       "   0.939100325014175,\n",
       "   0.9634159272064629,\n",
       "   0.9632008142209703,\n",
       "   0.976813841516916,\n",
       "   0.9226434290315888,\n",
       "   0.9792701854602469,\n",
       "   0.967592797654825,\n",
       "   0.9659394632439977,\n",
       "   0.9768096601396292,\n",
       "   0.9801068387955331,\n",
       "   0.9763325956293707,\n",
       "   0.9820456640275061,\n",
       "   0.9829165422180116,\n",
       "   0.9858627594662487,\n",
       "   0.980533962373201,\n",
       "   0.986691719092238,\n",
       "   0.9732407084652819,\n",
       "   0.9871724349081484,\n",
       "   0.986140879896982,\n",
       "   0.9863253091386199,\n",
       "   0.9677227554845117,\n",
       "   0.9897719090248196,\n",
       "   0.9925005406315391,\n",
       "   0.9942298433365049,\n",
       "   0.9920292178709176,\n",
       "   0.9852512816957627,\n",
       "   0.9849821231769813,\n",
       "   0.9918230713965597,\n",
       "   0.9926395522984216,\n",
       "   0.9928758977758884,\n",
       "   0.9588187376899713,\n",
       "   0.9925098175444855,\n",
       "   0.9878928734639264,\n",
       "   0.9937850898021404,\n",
       "   0.9953278595817554,\n",
       "   0.9953412092226943,\n",
       "   0.9914465672020252,\n",
       "   0.995143402815627,\n",
       "   0.9959979194702796,\n",
       "   0.9905299451046699,\n",
       "   0.9946590245884492,\n",
       "   0.9957746408279854,\n",
       "   0.993353396249766,\n",
       "   0.9955596372376587,\n",
       "   0.9957817546251296,\n",
       "   0.9957672776750605,\n",
       "   0.9948998830381263,\n",
       "   0.9964446386552764,\n",
       "   0.9966753801057392,\n",
       "   0.9951459267588278,\n",
       "   0.9966618283535583,\n",
       "   0.9940795404855749,\n",
       "   0.9946833702038765,\n",
       "   0.9960022753381301,\n",
       "   0.9966647747580865,\n",
       "   0.9964396668824187,\n",
       "   0.9962150739973487,\n",
       "   0.9962147449962604,\n",
       "   0.9964514282879318,\n",
       "   0.9977766672403999,\n",
       "   0.9975529670941333,\n",
       "   0.9955757436288039,\n",
       "   0.9968857937235068,\n",
       "   0.9982227421372125,\n",
       "   0.9968874310894676,\n",
       "   0.9964378910670668,\n",
       "   0.9975553316002501,\n",
       "   0.9968856200969087,\n",
       "   0.9977738898799259],\n",
       "  'Recall': [0.11348940914158305,\n",
       "   0.30746934225195094,\n",
       "   0.44659977703455966,\n",
       "   0.6914158305462653,\n",
       "   0.8898550724637682,\n",
       "   0.8958751393534002,\n",
       "   0.9426978818283166,\n",
       "   0.9159420289855073,\n",
       "   0.9045707915273132,\n",
       "   0.9224080267558529,\n",
       "   0.9290969899665552,\n",
       "   0.9618729096989966,\n",
       "   0.9560758082497213,\n",
       "   0.9763656633221851,\n",
       "   0.9001114827201784,\n",
       "   0.9785953177257525,\n",
       "   0.966778149386845,\n",
       "   0.9645484949832775,\n",
       "   0.9761426978818283,\n",
       "   0.9794871794871794,\n",
       "   0.9754738015607581,\n",
       "   0.9817168338907469,\n",
       "   0.9823857302118172,\n",
       "   0.9857302118171684,\n",
       "   0.979933110367893,\n",
       "   0.9863991081382386,\n",
       "   0.9712374581939799,\n",
       "   0.9863991081382386,\n",
       "   0.9848383500557414,\n",
       "   0.9855072463768116,\n",
       "   0.9643255295429208,\n",
       "   0.9897435897435898,\n",
       "   0.9924191750278707,\n",
       "   0.9942028985507246,\n",
       "   0.9919732441471572,\n",
       "   0.9850613154960981,\n",
       "   0.9846153846153847,\n",
       "   0.9917502787068004,\n",
       "   0.9926421404682274,\n",
       "   0.9928651059085841,\n",
       "   0.9471571906354515,\n",
       "   0.9924191750278707,\n",
       "   0.987736900780379,\n",
       "   0.9937569676700111,\n",
       "   0.9953177257525083,\n",
       "   0.9953177257525083,\n",
       "   0.991304347826087,\n",
       "   0.9950947603121516,\n",
       "   0.9959866220735786,\n",
       "   0.9901895206243032,\n",
       "   0.9946488294314382,\n",
       "   0.9957636566332219,\n",
       "   0.9933110367892977,\n",
       "   0.9955406911928651,\n",
       "   0.9957636566332219,\n",
       "   0.9957636566332219,\n",
       "   0.9948717948717949,\n",
       "   0.9964325529542921,\n",
       "   0.9966555183946488,\n",
       "   0.9950947603121516,\n",
       "   0.9966555183946488,\n",
       "   0.9939799331103679,\n",
       "   0.9946488294314382,\n",
       "   0.9959866220735786,\n",
       "   0.9966555183946488,\n",
       "   0.9964325529542921,\n",
       "   0.9962095875139353,\n",
       "   0.9962095875139353,\n",
       "   0.9964325529542921,\n",
       "   0.9977703455964325,\n",
       "   0.9975473801560758,\n",
       "   0.9955406911928651,\n",
       "   0.9968784838350055,\n",
       "   0.9982162764771461,\n",
       "   0.9968784838350055,\n",
       "   0.9964325529542921,\n",
       "   0.9975473801560758,\n",
       "   0.9968784838350055,\n",
       "   0.9977703455964325],\n",
       "  'F1': [0.04549725526118588,\n",
       "   0.2580147925631477,\n",
       "   0.4151136832236393,\n",
       "   0.6777915481701189,\n",
       "   0.8851281292265731,\n",
       "   0.8943139141914939,\n",
       "   0.9434362113936849,\n",
       "   0.9143105842543067,\n",
       "   0.902154217903941,\n",
       "   0.9259320857894607,\n",
       "   0.9263968914124187,\n",
       "   0.9605473198906779,\n",
       "   0.9573813951503788,\n",
       "   0.9762382058976121,\n",
       "   0.8986130832633291,\n",
       "   0.9786271044653562,\n",
       "   0.9665197065229271,\n",
       "   0.9640902778161452,\n",
       "   0.9761322774910663,\n",
       "   0.9794803781176812,\n",
       "   0.9755123667792024,\n",
       "   0.981695154939773,\n",
       "   0.9822357096479072,\n",
       "   0.9856945287045071,\n",
       "   0.9799719360444953,\n",
       "   0.9864406778202017,\n",
       "   0.9713077163291627,\n",
       "   0.9865511499453732,\n",
       "   0.985089785121615,\n",
       "   0.9854852864387667,\n",
       "   0.9645586003260993,\n",
       "   0.9897135797640956,\n",
       "   0.9924230947399563,\n",
       "   0.9942008180306339,\n",
       "   0.9919735248340933,\n",
       "   0.9850328815920437,\n",
       "   0.9845949463446317,\n",
       "   0.9917502950722932,\n",
       "   0.9926313597196511,\n",
       "   0.9928574977973665,\n",
       "   0.9464869822694136,\n",
       "   0.9924186324118549,\n",
       "   0.9877395333253348,\n",
       "   0.9937501906271312,\n",
       "   0.9953145480428468,\n",
       "   0.9953176420128156,\n",
       "   0.9913075286426118,\n",
       "   0.9951012903913445,\n",
       "   0.9959850144426142,\n",
       "   0.9902415882736919,\n",
       "   0.9946475915625462,\n",
       "   0.9957650964470752,\n",
       "   0.9933146163650183,\n",
       "   0.9955386412519651,\n",
       "   0.9957651684385752,\n",
       "   0.9957622398000118,\n",
       "   0.9948664534060662,\n",
       "   0.9964338042116292,\n",
       "   0.996658549180144,\n",
       "   0.9950950123791722,\n",
       "   0.9966552659367194,\n",
       "   0.9939855140035523,\n",
       "   0.9946477773229159,\n",
       "   0.9959855574446463,\n",
       "   0.9966570777704751,\n",
       "   0.9964319452588338,\n",
       "   0.9962087548975614,\n",
       "   0.9962087302294966,\n",
       "   0.9964353490071318,\n",
       "   0.9977708083676766,\n",
       "   0.9975479316338944,\n",
       "   0.9955389198787139,\n",
       "   0.9968796110376911,\n",
       "   0.9982170456708894,\n",
       "   0.9968788189812351,\n",
       "   0.9964322461856174,\n",
       "   0.9975477439348883,\n",
       "   0.9968778968613152,\n",
       "   0.9977703666476638]})"
      ]
     },
     "execution_count": 14,
     "metadata": {},
     "output_type": "execute_result"
    },
    {
     "data": {
      "image/png": "[encoded data removed]",
      "text/plain": [
       "<Figure size 1000x500 with 1 Axes>"
      ]
     },
     "metadata": {},
     "output_type": "display_data"
    },
    {
     "data": {
      "image/png": "[encoded data removed]",
      "text/plain": [
       "<Figure size 1000x500 with 1 Axes>"
      ]
     },
     "metadata": {},
     "output_type": "display_data"
    },
    {
     "data": {
      "image/png": "[encoded data removed]",
      "text/plain": [
       "<Figure size 1000x500 with 1 Axes>"
      ]
     },
     "metadata": {},
     "output_type": "display_data"
    }
   ],
   "source": [
    "run_training(train_loader, val_loader, model, model_name, criterion, optimizer, config)"
   ]
  },
  {
   "cell_type": "markdown",
   "id": "ceed585c",
   "metadata": {
    "papermill": {
     "duration": 2.270687,
     "end_time": "2023-11-26T01:58:20.181792",
     "exception": false,
     "start_time": "2023-11-26T01:58:17.911105",
     "status": "completed"
    },
    "tags": []
   },
   "source": [
    "## Inference"
   ]
  },
  {
   "cell_type": "code",
   "execution_count": 15,
   "id": "3344782f",
   "metadata": {
    "execution": {
     "iopub.execute_input": "2023-11-26T01:58:24.929027Z",
     "iopub.status.busy": "2023-11-26T01:58:24.928025Z",
     "iopub.status.idle": "2023-11-26T01:58:24.935984Z",
     "shell.execute_reply": "2023-11-26T01:58:24.935119Z"
    },
    "papermill": {
     "duration": 2.396746,
     "end_time": "2023-11-26T01:58:24.938052",
     "exception": false,
     "start_time": "2023-11-26T01:58:22.541306",
     "status": "completed"
    },
    "tags": []
   },
   "outputs": [],
   "source": [
    "class CNNInferenceDataset(Dataset):\n",
    "    def __init__(self, images_dir, transform=None):\n",
    "        super().__init__()\n",
    "        self.images_dir = images_dir\n",
    "        self.transform = transform\n",
    "\n",
    "        self.images = os.listdir(images_dir)\n",
    "    \n",
    "    def __len__(self):\n",
    "        return len(self.images)\n",
    "    \n",
    "    def __getitem__(self, index):\n",
    "        img_name = self.images[index]\n",
    "        img_path = os.path.join(self.images_dir, img_name)\n",
    "\n",
    "        image = Image.open(img_path).convert('RGB')\n",
    "        if self.transform:\n",
    "            image = self.transform(image)\n",
    "\n",
    "        # to submit to kaggle competition I need to return image name\n",
    "        return img_name, image"
   ]
  },
  {
   "cell_type": "code",
   "execution_count": 16,
   "id": "5281c740",
   "metadata": {
    "execution": {
     "iopub.execute_input": "2023-11-26T01:58:29.544388Z",
     "iopub.status.busy": "2023-11-26T01:58:29.544007Z",
     "iopub.status.idle": "2023-11-26T01:58:29.552539Z",
     "shell.execute_reply": "2023-11-26T01:58:29.551663Z"
    },
    "papermill": {
     "duration": 2.357649,
     "end_time": "2023-11-26T01:58:29.554433",
     "exception": false,
     "start_time": "2023-11-26T01:58:27.196784",
     "status": "completed"
    },
    "tags": []
   },
   "outputs": [],
   "source": [
    "def cnn_inference(test_loader, model, model_name, config):\n",
    "    model = model.to(config['DEVICE'])\n",
    "    model.load_state_dict(torch.load(os.path.join(config['MODELS_DIR'], f'{model_name}_best_model.pth')))\n",
    "    model.eval()\n",
    "    \n",
    "    df = pd.DataFrame()\n",
    "    \n",
    "    with torch.no_grad():\n",
    "        for data in tqdm(test_loader, desc='Inference'):\n",
    "            img_name, imgs = data\n",
    "            imgs = imgs.to(config['DEVICE'])\n",
    "\n",
    "            logits = model(imgs)\n",
    "            probas = F.softmax(logits, dim=1)\n",
    "            \n",
    "            block = np.concatenate((np.array(img_name).reshape(-1, 1), probas.detach().cpu().numpy()), axis=1)\n",
    "            block = pd.DataFrame(block, columns=['img', 'c0', 'c1', 'c2',\n",
    "                                                 'c3', 'c4', 'c5',\n",
    "                                                 'c6', 'c7', 'c8',\n",
    "                                                 'c9'])\n",
    "            df = pd.concat((df, block), axis=0, ignore_index=True)\n",
    "    return df"
   ]
  },
  {
   "cell_type": "code",
   "execution_count": 17,
   "id": "50d4391b",
   "metadata": {
    "execution": {
     "iopub.execute_input": "2023-11-26T01:58:34.131956Z",
     "iopub.status.busy": "2023-11-26T01:58:34.131592Z",
     "iopub.status.idle": "2023-11-26T02:04:01.356857Z",
     "shell.execute_reply": "2023-11-26T02:04:01.355535Z"
    },
    "papermill": {
     "duration": 329.585814,
     "end_time": "2023-11-26T02:04:01.358954",
     "exception": false,
     "start_time": "2023-11-26T01:58:31.773140",
     "status": "completed"
    },
    "tags": []
   },
   "outputs": [
    {
     "name": "stderr",
     "output_type": "stream",
     "text": [
      "Inference: 100%|██████████| 1246/1246 [05:26<00:00,  3.82it/s]\n"
     ]
    }
   ],
   "source": [
    "test_transformations = val_transforms\n",
    "test_dataset = CNNInferenceDataset(config['TEST_DIR'], transform=test_transformations)\n",
    "test_loader = DataLoader(test_dataset, batch_size=config['BATCH_SIZE'], shuffle=False, num_workers=config['NUM_WORKERS'])\n",
    "\n",
    "# this csv file will be submitted to kaggle\n",
    "df = cnn_inference(test_loader, model, model_name, config)"
   ]
  },
  {
   "cell_type": "code",
   "execution_count": 18,
   "id": "f01742c9",
   "metadata": {
    "execution": {
     "iopub.execute_input": "2023-11-26T02:04:06.209112Z",
     "iopub.status.busy": "2023-11-26T02:04:06.208256Z",
     "iopub.status.idle": "2023-11-26T02:04:06.898286Z",
     "shell.execute_reply": "2023-11-26T02:04:06.897418Z"
    },
    "papermill": {
     "duration": 3.001543,
     "end_time": "2023-11-26T02:04:06.900621",
     "exception": false,
     "start_time": "2023-11-26T02:04:03.899078",
     "status": "completed"
    },
    "tags": []
   },
   "outputs": [],
   "source": [
    "# resultant csv file\n",
    "df.to_csv('submission.csv', index=False)"
   ]
  }
 ],
 "metadata": {
  "kaggle": {
   "accelerator": "gpu",
   "dataSources": [
    {
     "databundleVersionId": 868335,
     "sourceId": 5048,
     "sourceType": "competition"
    }
   ],
   "dockerImageVersionId": 30588,
   "isGpuEnabled": true,
   "isInternetEnabled": true,
   "language": "python",
   "sourceType": "notebook"
  },
  "kernelspec": {
   "display_name": "Python 3",
   "language": "python",
   "name": "python3"
  },
  "language_info": {
   "codemirror_mode": {
    "name": "ipython",
    "version": 3
   },
   "file_extension": ".py",
   "mimetype": "text/x-python",
   "name": "python",
   "nbconvert_exporter": "python",
   "pygments_lexer": "ipython3",
   "version": "3.10.12"
  },
  "papermill": {
   "default_parameters": {},
   "duration": 22411.40158,
   "end_time": "2023-11-26T02:04:16.701826",
   "environment_variables": {},
   "exception": null,
   "input_path": "__notebook__.ipynb",
   "output_path": "__notebook__.ipynb",
   "parameters": {},
   "start_time": "2023-11-25T19:50:45.300246",
   "version": "2.4.0"
  }
 },
 "nbformat": 4,
 "nbformat_minor": 5
}
