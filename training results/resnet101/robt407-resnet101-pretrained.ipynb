{
 "cells": [
  {
   "cell_type": "markdown",
   "id": "05c805fa",
   "metadata": {
    "papermill": {
     "duration": 0.006925,
     "end_time": "2023-12-02T16:15:44.309680",
     "exception": false,
     "start_time": "2023-12-02T16:15:44.302755",
     "status": "completed"
    },
    "tags": []
   },
   "source": [
    "# Importing libraries"
   ]
  },
  {
   "cell_type": "code",
   "execution_count": 1,
   "id": "0311da91",
   "metadata": {
    "execution": {
     "iopub.execute_input": "2023-12-02T16:15:44.324434Z",
     "iopub.status.busy": "2023-12-02T16:15:44.323703Z",
     "iopub.status.idle": "2023-12-02T16:15:49.770792Z",
     "shell.execute_reply": "2023-12-02T16:15:49.769965Z"
    },
    "papermill": {
     "duration": 5.45706,
     "end_time": "2023-12-02T16:15:49.773109",
     "exception": false,
     "start_time": "2023-12-02T16:15:44.316049",
     "status": "completed"
    },
    "tags": []
   },
   "outputs": [
    {
     "name": "stderr",
     "output_type": "stream",
     "text": [
      "/opt/conda/lib/python3.10/site-packages/scipy/__init__.py:146: UserWarning: A NumPy version >=1.16.5 and <1.23.0 is required for this version of SciPy (detected version 1.24.3\n",
      "  warnings.warn(f\"A NumPy version >={np_minversion} and <{np_maxversion}\"\n"
     ]
    }
   ],
   "source": [
    "import os\n",
    "import math\n",
    "import numpy as np\n",
    "import pandas as pd\n",
    "import matplotlib.pyplot as plt\n",
    "\n",
    "from sklearn.metrics import accuracy_score, precision_score, recall_score, f1_score\n",
    "from sklearn.model_selection import train_test_split\n",
    "from PIL import Image\n",
    "from glob import glob\n",
    "from tqdm import tqdm\n",
    "\n",
    "import torch\n",
    "import torch.nn as nn\n",
    "import torch.nn.functional as F\n",
    "from torch.utils.data import Dataset, DataLoader\n",
    "from torchvision import transforms\n",
    "from torchvision.models import resnet101\n",
    "\n",
    "torch.manual_seed(42)\n",
    "np.random.seed(42)"
   ]
  },
  {
   "cell_type": "markdown",
   "id": "325a77b9",
   "metadata": {
    "papermill": {
     "duration": 0.006368,
     "end_time": "2023-12-02T16:15:49.786584",
     "exception": false,
     "start_time": "2023-12-02T16:15:49.780216",
     "status": "completed"
    },
    "tags": []
   },
   "source": [
    "# Setting up config Parameters"
   ]
  },
  {
   "cell_type": "code",
   "execution_count": 2,
   "id": "d8285409",
   "metadata": {
    "execution": {
     "iopub.execute_input": "2023-12-02T16:15:49.800851Z",
     "iopub.status.busy": "2023-12-02T16:15:49.800430Z",
     "iopub.status.idle": "2023-12-02T16:15:49.869229Z",
     "shell.execute_reply": "2023-12-02T16:15:49.868430Z"
    },
    "papermill": {
     "duration": 0.078217,
     "end_time": "2023-12-02T16:15:49.871151",
     "exception": false,
     "start_time": "2023-12-02T16:15:49.792934",
     "status": "completed"
    },
    "tags": []
   },
   "outputs": [],
   "source": [
    "config = {\n",
    "    'ROOT_DIR': '/kaggle/input/state-farm-distracted-driver-detection/imgs/train',\n",
    "    'TEST_DIR': '/kaggle/input/state-farm-distracted-driver-detection/imgs/test',\n",
    "    'MODELS_DIR': '/kaggle/working/',\n",
    "    'IMG_SIZE': 224,\n",
    "    'BATCH_SIZE': 64,\n",
    "    'EPOCHS': 20,\n",
    "    'PATIENCE': 5,\n",
    "    'LR_INIT': 1e-4,\n",
    "    'WEIGHT_DECAY': 5e-3,\n",
    "    'NUM_CLASSES': 10,\n",
    "    'NUM_WORKERS': 4,\n",
    "    'NUM_CHANNELS': 3,\n",
    "    'DEVICE': torch.device('cuda') if torch.cuda.is_available() else torch.device('cpu'),\n",
    "}"
   ]
  },
  {
   "cell_type": "markdown",
   "id": "1dfade83",
   "metadata": {
    "papermill": {
     "duration": 0.006323,
     "end_time": "2023-12-02T16:15:49.884012",
     "exception": false,
     "start_time": "2023-12-02T16:15:49.877689",
     "status": "completed"
    },
    "tags": []
   },
   "source": [
    "# Utility Functions"
   ]
  },
  {
   "cell_type": "code",
   "execution_count": 3,
   "id": "eca5cac9",
   "metadata": {
    "execution": {
     "iopub.execute_input": "2023-12-02T16:15:49.897896Z",
     "iopub.status.busy": "2023-12-02T16:15:49.897604Z",
     "iopub.status.idle": "2023-12-02T16:15:49.909793Z",
     "shell.execute_reply": "2023-12-02T16:15:49.909021Z"
    },
    "papermill": {
     "duration": 0.021187,
     "end_time": "2023-12-02T16:15:49.911626",
     "exception": false,
     "start_time": "2023-12-02T16:15:49.890439",
     "status": "completed"
    },
    "tags": []
   },
   "outputs": [],
   "source": [
    "# train transformations\n",
    "train_transforms = transforms.Compose([\n",
    "    transforms.Resize((config['IMG_SIZE'], config['IMG_SIZE'])),\n",
    "    transforms.RandomHorizontalFlip(p=0.5),\n",
    "    transforms.RandomRotation(degrees=(-30, 30)),\n",
    "    transforms.GaussianBlur(kernel_size=3),\n",
    "    transforms.ToTensor(),\n",
    "    transforms.Normalize(mean=[0.485, 0.456, 0.406], \n",
    "                         std=[0.229, 0.224, 0.225]),\n",
    "])\n",
    "\n",
    "# val/test/inference transformations\n",
    "val_transforms = transforms.Compose([\n",
    "    transforms.Resize((config['IMG_SIZE'], config['IMG_SIZE'])),\n",
    "    transforms.ToTensor(),\n",
    "    transforms.Normalize(mean=[0.485, 0.456, 0.406], \n",
    "                         std=[0.229, 0.224, 0.225]),\n",
    "])\n",
    "\n",
    "\n",
    "def get_images_labels():\n",
    "    images = []\n",
    "    labels = []\n",
    "\n",
    "    for label in list(glob(os.path.join(config['ROOT_DIR'], '*'))):\n",
    "        imgs_paths = list(glob(os.path.join(config['ROOT_DIR'], label, '*.jpg')))\n",
    "        labels.extend([int(label[-1]) for i in range(len(imgs_paths))])\n",
    "        images.extend([image for image in imgs_paths])\n",
    "    \n",
    "    return images, labels\n",
    "\n",
    "\n",
    "class CNNCustomDataset(Dataset):\n",
    "    def __init__(self, images, labels, transform=None):\n",
    "        super().__init__()\n",
    "        self.images = images\n",
    "        self.labels = labels\n",
    "        self.transform = transform\n",
    "\n",
    "    def __len__(self):\n",
    "        return len(self.images)\n",
    "\n",
    "    def __getitem__(self, index):\n",
    "        # getting the path to one image\n",
    "        img_path = self.images[index]\n",
    "\n",
    "        image = Image.open(img_path).convert('RGB')\n",
    "        label = self.labels[index]\n",
    "\n",
    "        if self.transform:\n",
    "            image = self.transform(image)\n",
    "\n",
    "        return image, label\n"
   ]
  },
  {
   "cell_type": "code",
   "execution_count": 4,
   "id": "99e13edd",
   "metadata": {
    "execution": {
     "iopub.execute_input": "2023-12-02T16:15:49.925600Z",
     "iopub.status.busy": "2023-12-02T16:15:49.925331Z",
     "iopub.status.idle": "2023-12-02T16:15:49.931690Z",
     "shell.execute_reply": "2023-12-02T16:15:49.930944Z"
    },
    "papermill": {
     "duration": 0.015592,
     "end_time": "2023-12-02T16:15:49.933498",
     "exception": false,
     "start_time": "2023-12-02T16:15:49.917906",
     "status": "completed"
    },
    "tags": []
   },
   "outputs": [],
   "source": [
    "def get_dataloaders():\n",
    "    train_transformations = train_transforms\n",
    "    val_transformations = val_transforms\n",
    "\n",
    "    all_images, all_labels = get_images_labels()\n",
    "    train_images, val_images, train_labels, val_labels = train_test_split(all_images,\n",
    "                                                                          all_labels,\n",
    "                                                                          test_size=0.2,\n",
    "                                                                          random_state=42)\n",
    "    \n",
    "    train_dataset = CNNCustomDataset(train_images, train_labels, transform=train_transformations)\n",
    "    val_dataset = CNNCustomDataset(val_images, val_labels, transform=val_transformations)\n",
    "\n",
    "    train_loader = DataLoader(train_dataset, batch_size=config['BATCH_SIZE'], shuffle=True, num_workers=config['NUM_WORKERS'])\n",
    "    val_loader = DataLoader(val_dataset, batch_size=config['BATCH_SIZE'], shuffle=False, num_workers=config['NUM_WORKERS'])\n",
    "\n",
    "    return train_loader, val_loader"
   ]
  },
  {
   "cell_type": "code",
   "execution_count": 5,
   "id": "987e88e8",
   "metadata": {
    "execution": {
     "iopub.execute_input": "2023-12-02T16:15:49.947318Z",
     "iopub.status.busy": "2023-12-02T16:15:49.947032Z",
     "iopub.status.idle": "2023-12-02T16:15:49.952686Z",
     "shell.execute_reply": "2023-12-02T16:15:49.951843Z"
    },
    "papermill": {
     "duration": 0.014748,
     "end_time": "2023-12-02T16:15:49.954567",
     "exception": false,
     "start_time": "2023-12-02T16:15:49.939819",
     "status": "completed"
    },
    "tags": []
   },
   "outputs": [],
   "source": [
    "def adjust_learning_rate(optimizer, epoch, warmup=False, warmup_ep=0, enable_cos=True):\n",
    "    lr = config['LR_INIT']\n",
    "    if warmup and epoch < warmup_ep:\n",
    "        lr = lr / (warmup_ep - epoch)\n",
    "    elif enable_cos:\n",
    "        lr *= 0.5 * (1. + math.cos(math.pi * (epoch - warmup_ep) / (config['EPOCHS'] - warmup_ep)))\n",
    "\n",
    "    for param_group in optimizer.param_groups:\n",
    "        param_group['lr'] = lr"
   ]
  },
  {
   "cell_type": "code",
   "execution_count": 6,
   "id": "27cc5c0d",
   "metadata": {
    "execution": {
     "iopub.execute_input": "2023-12-02T16:15:49.968318Z",
     "iopub.status.busy": "2023-12-02T16:15:49.968027Z",
     "iopub.status.idle": "2023-12-02T16:15:49.973138Z",
     "shell.execute_reply": "2023-12-02T16:15:49.972295Z"
    },
    "papermill": {
     "duration": 0.013925,
     "end_time": "2023-12-02T16:15:49.974920",
     "exception": false,
     "start_time": "2023-12-02T16:15:49.960995",
     "status": "completed"
    },
    "tags": []
   },
   "outputs": [],
   "source": [
    "def get_metrics(labels, preds):\n",
    "    accuracy = accuracy_score(labels, preds)\n",
    "    precision = precision_score(labels, preds, average='weighted')\n",
    "    recall = recall_score(labels, preds, average='weighted')\n",
    "    f1 = f1_score(labels, preds, average='weighted')\n",
    "    return accuracy, precision, recall, f1"
   ]
  },
  {
   "cell_type": "code",
   "execution_count": 7,
   "id": "7f2acf6c",
   "metadata": {
    "execution": {
     "iopub.execute_input": "2023-12-02T16:15:49.988718Z",
     "iopub.status.busy": "2023-12-02T16:15:49.988438Z",
     "iopub.status.idle": "2023-12-02T16:15:49.993668Z",
     "shell.execute_reply": "2023-12-02T16:15:49.992909Z"
    },
    "papermill": {
     "duration": 0.014299,
     "end_time": "2023-12-02T16:15:49.995532",
     "exception": false,
     "start_time": "2023-12-02T16:15:49.981233",
     "status": "completed"
    },
    "tags": []
   },
   "outputs": [],
   "source": [
    "def save_graphs(train, test, type='None'):\n",
    "    plt.figure(figsize=(10,5))\n",
    "    plt.title(f\"Training and Test {type}\")\n",
    "    plt.plot(test,label=\"valid\")\n",
    "    plt.plot(train,label=\"train\")\n",
    "    plt.xlabel(\"Epoch\")\n",
    "    plt.ylabel(f\"{type}\")\n",
    "    plt.legend()\n",
    "    plt.savefig(f'{type}.png')"
   ]
  },
  {
   "cell_type": "markdown",
   "id": "1a3efb40",
   "metadata": {
    "papermill": {
     "duration": 0.006106,
     "end_time": "2023-12-02T16:15:50.007956",
     "exception": false,
     "start_time": "2023-12-02T16:15:50.001850",
     "status": "completed"
    },
    "tags": []
   },
   "source": [
    "# Training Functions"
   ]
  },
  {
   "cell_type": "code",
   "execution_count": 8,
   "id": "a580e993",
   "metadata": {
    "execution": {
     "iopub.execute_input": "2023-12-02T16:15:50.021812Z",
     "iopub.status.busy": "2023-12-02T16:15:50.021548Z",
     "iopub.status.idle": "2023-12-02T16:15:50.029134Z",
     "shell.execute_reply": "2023-12-02T16:15:50.028306Z"
    },
    "papermill": {
     "duration": 0.016719,
     "end_time": "2023-12-02T16:15:50.031044",
     "exception": false,
     "start_time": "2023-12-02T16:15:50.014325",
     "status": "completed"
    },
    "tags": []
   },
   "outputs": [],
   "source": [
    "def train(train_loader, model, loss_fn, optimizer, epoch, device):\n",
    "    model.train()\n",
    "\n",
    "    predictions = []\n",
    "    all_labels = []\n",
    "    total_loss = 0.0\n",
    "\n",
    "    for data in tqdm(train_loader, desc='Training'):\n",
    "        imgs, labels = data\n",
    "        imgs, labels = imgs.to(device), labels.to(device)\n",
    "\n",
    "        optimizer.zero_grad()\n",
    "        logits = model(imgs)\n",
    "        loss = loss_fn(logits, labels)\n",
    "        loss.backward()\n",
    "        optimizer.step()\n",
    "\n",
    "        # get predictions as the index of max logit\n",
    "        preds = torch.argmax(logits, dim=1)\n",
    "        predictions.extend(preds.detach().cpu().numpy())\n",
    "        all_labels.extend(labels.detach().cpu().numpy())\n",
    "        total_loss += loss.item()\n",
    "    \n",
    "    accuracy, precision, recall, f1 = get_metrics(all_labels, predictions)\n",
    "    avg_loss = total_loss / len(train_loader)\n",
    "\n",
    "    print(f'Epoch {epoch} | Train Loss: {avg_loss} | Accuracy: {accuracy} | Precision: {precision} | Recall: {recall} | F1: {f1}')\n",
    "    return avg_loss, accuracy, precision, recall, f1"
   ]
  },
  {
   "cell_type": "code",
   "execution_count": 9,
   "id": "f66bf7bf",
   "metadata": {
    "execution": {
     "iopub.execute_input": "2023-12-02T16:15:50.044720Z",
     "iopub.status.busy": "2023-12-02T16:15:50.044458Z",
     "iopub.status.idle": "2023-12-02T16:15:50.051845Z",
     "shell.execute_reply": "2023-12-02T16:15:50.051049Z"
    },
    "papermill": {
     "duration": 0.016374,
     "end_time": "2023-12-02T16:15:50.053694",
     "exception": false,
     "start_time": "2023-12-02T16:15:50.037320",
     "status": "completed"
    },
    "tags": []
   },
   "outputs": [],
   "source": [
    "def evaluate(val_loader, model, loss_fn, device):\n",
    "    model.eval()\n",
    "\n",
    "    predictions = []\n",
    "    all_labels = []\n",
    "    total_loss = 0.0\n",
    "\n",
    "    for data in tqdm(val_loader, desc='Validating'):\n",
    "        imgs, labels = data\n",
    "        imgs, labels = imgs.to(device), labels.to(device)\n",
    "\n",
    "        with torch.no_grad():\n",
    "            logits = model(imgs)\n",
    "            loss = loss_fn(logits, labels)\n",
    "\n",
    "        # get predictions as the index of max logit\n",
    "        preds = torch.argmax(logits, dim=1)\n",
    "        predictions.extend(preds.detach().cpu().numpy())\n",
    "        all_labels.extend(labels.detach().cpu().numpy())\n",
    "        total_loss += loss.item()\n",
    "    \n",
    "    accuracy, precision, recall, f1 = get_metrics(all_labels, predictions)\n",
    "    avg_loss = total_loss / len(val_loader)\n",
    "\n",
    "    print(f'\\tValidation Loss: {avg_loss} | Accuracy: {accuracy} | Precision: {precision} | Recall: {recall} | F1: {f1}')\n",
    "    return avg_loss, accuracy, precision, recall, f1"
   ]
  },
  {
   "cell_type": "code",
   "execution_count": 10,
   "id": "c072ce86",
   "metadata": {
    "execution": {
     "iopub.execute_input": "2023-12-02T16:15:50.068810Z",
     "iopub.status.busy": "2023-12-02T16:15:50.068547Z",
     "iopub.status.idle": "2023-12-02T16:15:50.079845Z",
     "shell.execute_reply": "2023-12-02T16:15:50.079038Z"
    },
    "papermill": {
     "duration": 0.020307,
     "end_time": "2023-12-02T16:15:50.081666",
     "exception": false,
     "start_time": "2023-12-02T16:15:50.061359",
     "status": "completed"
    },
    "tags": []
   },
   "outputs": [],
   "source": [
    "def run_training(train_loader, val_loader, model, model_name, loss_fn, optimizer, config):\n",
    "    TRAIN_HISTORY = {\n",
    "        'Loss': [],\n",
    "        'Accuracy': [],\n",
    "        'Precision': [],\n",
    "        'Recall': [],\n",
    "        'F1': []\n",
    "    }\n",
    "    VAL_HISTORY = {\n",
    "        'Loss': [],\n",
    "        'Accuracy': [],\n",
    "        'Precision': [],\n",
    "        'Recall': [],\n",
    "        'F1': []\n",
    "    }\n",
    "\n",
    "    # for early stopping\n",
    "    # we will save the best model based on the validation loss\n",
    "    best_loss = np.inf  # set to infinity so that the first validation loss is always lower\n",
    "    patience_counter = 0\n",
    "\n",
    "    for epoch in range(config['EPOCHS']):\n",
    "        adjust_learning_rate(optimizer=optimizer, epoch=epoch)\n",
    "        loss, accuracy, precision, recall, f1 = train(train_loader, model, loss_fn, optimizer, epoch + 1, config['DEVICE'])\n",
    "        TRAIN_HISTORY['Loss'].append(loss)\n",
    "        TRAIN_HISTORY['Accuracy'].append(accuracy)\n",
    "        TRAIN_HISTORY['Precision'].append(precision)\n",
    "        TRAIN_HISTORY['Recall'].append(recall)\n",
    "        TRAIN_HISTORY['F1'].append(f1)\n",
    "\n",
    "        loss, accuracy, precision, recall, f1 = evaluate(val_loader, model, loss_fn, config['DEVICE'])\n",
    "        VAL_HISTORY['Loss'].append(loss)\n",
    "        VAL_HISTORY['Accuracy'].append(accuracy)\n",
    "        VAL_HISTORY['Precision'].append(precision)\n",
    "        VAL_HISTORY['Recall'].append(recall)\n",
    "        VAL_HISTORY['F1'].append(f1)\n",
    "\n",
    "        # since our evaluation metric is logloss, we want to minimize it and early stopping will be based on it\n",
    "        if loss < best_loss:\n",
    "            best_loss = loss\n",
    "            patience_counter = 0\n",
    "            print(f'Saving best model at epoch {epoch + 1}...')\n",
    "            torch.save(model.state_dict(), f'{model_name}_best_model.pth')\n",
    "        else:\n",
    "            patience_counter += 1\n",
    "            if patience_counter == config['PATIENCE']:\n",
    "                print(f\"Early stopping at epoch {epoch + 1}\")\n",
    "                break\n",
    "        \n",
    "    save_graphs(TRAIN_HISTORY['Loss'], VAL_HISTORY['Loss'], type='Loss')\n",
    "    save_graphs(TRAIN_HISTORY['Accuracy'], VAL_HISTORY['Accuracy'], type='Accuracy')\n",
    "    save_graphs(TRAIN_HISTORY['F1'], VAL_HISTORY['F1'], type='F1')\n",
    "    \n",
    "    print('Training finished!')\n",
    "    return TRAIN_HISTORY, VAL_HISTORY"
   ]
  },
  {
   "cell_type": "markdown",
   "id": "77c235da",
   "metadata": {
    "papermill": {
     "duration": 0.006173,
     "end_time": "2023-12-02T16:15:50.094110",
     "exception": false,
     "start_time": "2023-12-02T16:15:50.087937",
     "status": "completed"
    },
    "tags": []
   },
   "source": [
    "# Model, Optimizer, Criterion"
   ]
  },
  {
   "cell_type": "code",
   "execution_count": 11,
   "id": "e54a0abb",
   "metadata": {
    "execution": {
     "iopub.execute_input": "2023-12-02T16:15:50.108098Z",
     "iopub.status.busy": "2023-12-02T16:15:50.107781Z",
     "iopub.status.idle": "2023-12-02T16:15:57.205346Z",
     "shell.execute_reply": "2023-12-02T16:15:57.204297Z"
    },
    "papermill": {
     "duration": 7.107176,
     "end_time": "2023-12-02T16:15:57.207735",
     "exception": false,
     "start_time": "2023-12-02T16:15:50.100559",
     "status": "completed"
    },
    "tags": []
   },
   "outputs": [
    {
     "name": "stderr",
     "output_type": "stream",
     "text": [
      "Downloading: \"https://download.pytorch.org/models/resnet101-cd907fc2.pth\" to /root/.cache/torch/hub/checkpoints/resnet101-cd907fc2.pth\n",
      "100%|██████████| 171M/171M [00:00<00:00, 240MB/s]\n"
     ]
    }
   ],
   "source": [
    "model = resnet101(weights='IMAGENET1K_V2')\n",
    "\n",
    "model.fc = nn.Linear(2048, 10)\n",
    "model = model.to(config['DEVICE'])\n",
    "model_name = \"resnet101\"\n",
    "criterion = torch.nn.CrossEntropyLoss()\n",
    "optimizer = torch.optim.AdamW(model.parameters(),\n",
    "                              lr=config['LR_INIT'],\n",
    "                              weight_decay=config['WEIGHT_DECAY'])\n",
    "\n",
    "train_loader, val_loader = get_dataloaders()"
   ]
  },
  {
   "cell_type": "code",
   "execution_count": 12,
   "id": "d8832c4d",
   "metadata": {
    "execution": {
     "iopub.execute_input": "2023-12-02T16:15:57.224100Z",
     "iopub.status.busy": "2023-12-02T16:15:57.223790Z",
     "iopub.status.idle": "2023-12-02T16:16:01.610190Z",
     "shell.execute_reply": "2023-12-02T16:16:01.609255Z"
    },
    "papermill": {
     "duration": 4.397774,
     "end_time": "2023-12-02T16:16:01.613265",
     "exception": false,
     "start_time": "2023-12-02T16:15:57.215491",
     "status": "completed"
    },
    "tags": []
   },
   "outputs": [
    {
     "data": {
      "text/plain": [
       "========================================================================================================================\n",
       "Layer (type (var_name))                  Input Shape          Output Shape         Param #              Trainable\n",
       "========================================================================================================================\n",
       "ResNet (ResNet)                          [32, 3, 224, 224]    [32, 10]             --                   True\n",
       "├─Conv2d (conv1)                         [32, 3, 224, 224]    [32, 64, 112, 112]   9,408                True\n",
       "├─BatchNorm2d (bn1)                      [32, 64, 112, 112]   [32, 64, 112, 112]   128                  True\n",
       "├─ReLU (relu)                            [32, 64, 112, 112]   [32, 64, 112, 112]   --                   --\n",
       "├─MaxPool2d (maxpool)                    [32, 64, 112, 112]   [32, 64, 56, 56]     --                   --\n",
       "├─Sequential (layer1)                    [32, 64, 56, 56]     [32, 256, 56, 56]    --                   True\n",
       "│    └─Bottleneck (0)                    [32, 64, 56, 56]     [32, 256, 56, 56]    --                   True\n",
       "│    │    └─Conv2d (conv1)               [32, 64, 56, 56]     [32, 64, 56, 56]     4,096                True\n",
       "│    │    └─BatchNorm2d (bn1)            [32, 64, 56, 56]     [32, 64, 56, 56]     128                  True\n",
       "│    │    └─ReLU (relu)                  [32, 64, 56, 56]     [32, 64, 56, 56]     --                   --\n",
       "│    │    └─Conv2d (conv2)               [32, 64, 56, 56]     [32, 64, 56, 56]     36,864               True\n",
       "│    │    └─BatchNorm2d (bn2)            [32, 64, 56, 56]     [32, 64, 56, 56]     128                  True\n",
       "│    │    └─ReLU (relu)                  [32, 64, 56, 56]     [32, 64, 56, 56]     --                   --\n",
       "│    │    └─Conv2d (conv3)               [32, 64, 56, 56]     [32, 256, 56, 56]    16,384               True\n",
       "│    │    └─BatchNorm2d (bn3)            [32, 256, 56, 56]    [32, 256, 56, 56]    512                  True\n",
       "│    │    └─Sequential (downsample)      [32, 64, 56, 56]     [32, 256, 56, 56]    16,896               True\n",
       "│    │    └─ReLU (relu)                  [32, 256, 56, 56]    [32, 256, 56, 56]    --                   --\n",
       "│    └─Bottleneck (1)                    [32, 256, 56, 56]    [32, 256, 56, 56]    --                   True\n",
       "│    │    └─Conv2d (conv1)               [32, 256, 56, 56]    [32, 64, 56, 56]     16,384               True\n",
       "│    │    └─BatchNorm2d (bn1)            [32, 64, 56, 56]     [32, 64, 56, 56]     128                  True\n",
       "│    │    └─ReLU (relu)                  [32, 64, 56, 56]     [32, 64, 56, 56]     --                   --\n",
       "│    │    └─Conv2d (conv2)               [32, 64, 56, 56]     [32, 64, 56, 56]     36,864               True\n",
       "│    │    └─BatchNorm2d (bn2)            [32, 64, 56, 56]     [32, 64, 56, 56]     128                  True\n",
       "│    │    └─ReLU (relu)                  [32, 64, 56, 56]     [32, 64, 56, 56]     --                   --\n",
       "│    │    └─Conv2d (conv3)               [32, 64, 56, 56]     [32, 256, 56, 56]    16,384               True\n",
       "│    │    └─BatchNorm2d (bn3)            [32, 256, 56, 56]    [32, 256, 56, 56]    512                  True\n",
       "│    │    └─ReLU (relu)                  [32, 256, 56, 56]    [32, 256, 56, 56]    --                   --\n",
       "│    └─Bottleneck (2)                    [32, 256, 56, 56]    [32, 256, 56, 56]    --                   True\n",
       "│    │    └─Conv2d (conv1)               [32, 256, 56, 56]    [32, 64, 56, 56]     16,384               True\n",
       "│    │    └─BatchNorm2d (bn1)            [32, 64, 56, 56]     [32, 64, 56, 56]     128                  True\n",
       "│    │    └─ReLU (relu)                  [32, 64, 56, 56]     [32, 64, 56, 56]     --                   --\n",
       "│    │    └─Conv2d (conv2)               [32, 64, 56, 56]     [32, 64, 56, 56]     36,864               True\n",
       "│    │    └─BatchNorm2d (bn2)            [32, 64, 56, 56]     [32, 64, 56, 56]     128                  True\n",
       "│    │    └─ReLU (relu)                  [32, 64, 56, 56]     [32, 64, 56, 56]     --                   --\n",
       "│    │    └─Conv2d (conv3)               [32, 64, 56, 56]     [32, 256, 56, 56]    16,384               True\n",
       "│    │    └─BatchNorm2d (bn3)            [32, 256, 56, 56]    [32, 256, 56, 56]    512                  True\n",
       "│    │    └─ReLU (relu)                  [32, 256, 56, 56]    [32, 256, 56, 56]    --                   --\n",
       "├─Sequential (layer2)                    [32, 256, 56, 56]    [32, 512, 28, 28]    --                   True\n",
       "│    └─Bottleneck (0)                    [32, 256, 56, 56]    [32, 512, 28, 28]    --                   True\n",
       "│    │    └─Conv2d (conv1)               [32, 256, 56, 56]    [32, 128, 56, 56]    32,768               True\n",
       "│    │    └─BatchNorm2d (bn1)            [32, 128, 56, 56]    [32, 128, 56, 56]    256                  True\n",
       "│    │    └─ReLU (relu)                  [32, 128, 56, 56]    [32, 128, 56, 56]    --                   --\n",
       "│    │    └─Conv2d (conv2)               [32, 128, 56, 56]    [32, 128, 28, 28]    147,456              True\n",
       "│    │    └─BatchNorm2d (bn2)            [32, 128, 28, 28]    [32, 128, 28, 28]    256                  True\n",
       "│    │    └─ReLU (relu)                  [32, 128, 28, 28]    [32, 128, 28, 28]    --                   --\n",
       "│    │    └─Conv2d (conv3)               [32, 128, 28, 28]    [32, 512, 28, 28]    65,536               True\n",
       "│    │    └─BatchNorm2d (bn3)            [32, 512, 28, 28]    [32, 512, 28, 28]    1,024                True\n",
       "│    │    └─Sequential (downsample)      [32, 256, 56, 56]    [32, 512, 28, 28]    132,096              True\n",
       "│    │    └─ReLU (relu)                  [32, 512, 28, 28]    [32, 512, 28, 28]    --                   --\n",
       "│    └─Bottleneck (1)                    [32, 512, 28, 28]    [32, 512, 28, 28]    --                   True\n",
       "│    │    └─Conv2d (conv1)               [32, 512, 28, 28]    [32, 128, 28, 28]    65,536               True\n",
       "│    │    └─BatchNorm2d (bn1)            [32, 128, 28, 28]    [32, 128, 28, 28]    256                  True\n",
       "│    │    └─ReLU (relu)                  [32, 128, 28, 28]    [32, 128, 28, 28]    --                   --\n",
       "│    │    └─Conv2d (conv2)               [32, 128, 28, 28]    [32, 128, 28, 28]    147,456              True\n",
       "│    │    └─BatchNorm2d (bn2)            [32, 128, 28, 28]    [32, 128, 28, 28]    256                  True\n",
       "│    │    └─ReLU (relu)                  [32, 128, 28, 28]    [32, 128, 28, 28]    --                   --\n",
       "│    │    └─Conv2d (conv3)               [32, 128, 28, 28]    [32, 512, 28, 28]    65,536               True\n",
       "│    │    └─BatchNorm2d (bn3)            [32, 512, 28, 28]    [32, 512, 28, 28]    1,024                True\n",
       "│    │    └─ReLU (relu)                  [32, 512, 28, 28]    [32, 512, 28, 28]    --                   --\n",
       "│    └─Bottleneck (2)                    [32, 512, 28, 28]    [32, 512, 28, 28]    --                   True\n",
       "│    │    └─Conv2d (conv1)               [32, 512, 28, 28]    [32, 128, 28, 28]    65,536               True\n",
       "│    │    └─BatchNorm2d (bn1)            [32, 128, 28, 28]    [32, 128, 28, 28]    256                  True\n",
       "│    │    └─ReLU (relu)                  [32, 128, 28, 28]    [32, 128, 28, 28]    --                   --\n",
       "│    │    └─Conv2d (conv2)               [32, 128, 28, 28]    [32, 128, 28, 28]    147,456              True\n",
       "│    │    └─BatchNorm2d (bn2)            [32, 128, 28, 28]    [32, 128, 28, 28]    256                  True\n",
       "│    │    └─ReLU (relu)                  [32, 128, 28, 28]    [32, 128, 28, 28]    --                   --\n",
       "│    │    └─Conv2d (conv3)               [32, 128, 28, 28]    [32, 512, 28, 28]    65,536               True\n",
       "│    │    └─BatchNorm2d (bn3)            [32, 512, 28, 28]    [32, 512, 28, 28]    1,024                True\n",
       "│    │    └─ReLU (relu)                  [32, 512, 28, 28]    [32, 512, 28, 28]    --                   --\n",
       "│    └─Bottleneck (3)                    [32, 512, 28, 28]    [32, 512, 28, 28]    --                   True\n",
       "│    │    └─Conv2d (conv1)               [32, 512, 28, 28]    [32, 128, 28, 28]    65,536               True\n",
       "│    │    └─BatchNorm2d (bn1)            [32, 128, 28, 28]    [32, 128, 28, 28]    256                  True\n",
       "│    │    └─ReLU (relu)                  [32, 128, 28, 28]    [32, 128, 28, 28]    --                   --\n",
       "│    │    └─Conv2d (conv2)               [32, 128, 28, 28]    [32, 128, 28, 28]    147,456              True\n",
       "│    │    └─BatchNorm2d (bn2)            [32, 128, 28, 28]    [32, 128, 28, 28]    256                  True\n",
       "│    │    └─ReLU (relu)                  [32, 128, 28, 28]    [32, 128, 28, 28]    --                   --\n",
       "│    │    └─Conv2d (conv3)               [32, 128, 28, 28]    [32, 512, 28, 28]    65,536               True\n",
       "│    │    └─BatchNorm2d (bn3)            [32, 512, 28, 28]    [32, 512, 28, 28]    1,024                True\n",
       "│    │    └─ReLU (relu)                  [32, 512, 28, 28]    [32, 512, 28, 28]    --                   --\n",
       "├─Sequential (layer3)                    [32, 512, 28, 28]    [32, 1024, 14, 14]   --                   True\n",
       "│    └─Bottleneck (0)                    [32, 512, 28, 28]    [32, 1024, 14, 14]   --                   True\n",
       "│    │    └─Conv2d (conv1)               [32, 512, 28, 28]    [32, 256, 28, 28]    131,072              True\n",
       "│    │    └─BatchNorm2d (bn1)            [32, 256, 28, 28]    [32, 256, 28, 28]    512                  True\n",
       "│    │    └─ReLU (relu)                  [32, 256, 28, 28]    [32, 256, 28, 28]    --                   --\n",
       "│    │    └─Conv2d (conv2)               [32, 256, 28, 28]    [32, 256, 14, 14]    589,824              True\n",
       "│    │    └─BatchNorm2d (bn2)            [32, 256, 14, 14]    [32, 256, 14, 14]    512                  True\n",
       "│    │    └─ReLU (relu)                  [32, 256, 14, 14]    [32, 256, 14, 14]    --                   --\n",
       "│    │    └─Conv2d (conv3)               [32, 256, 14, 14]    [32, 1024, 14, 14]   262,144              True\n",
       "│    │    └─BatchNorm2d (bn3)            [32, 1024, 14, 14]   [32, 1024, 14, 14]   2,048                True\n",
       "│    │    └─Sequential (downsample)      [32, 512, 28, 28]    [32, 1024, 14, 14]   526,336              True\n",
       "│    │    └─ReLU (relu)                  [32, 1024, 14, 14]   [32, 1024, 14, 14]   --                   --\n",
       "│    └─Bottleneck (1)                    [32, 1024, 14, 14]   [32, 1024, 14, 14]   --                   True\n",
       "│    │    └─Conv2d (conv1)               [32, 1024, 14, 14]   [32, 256, 14, 14]    262,144              True\n",
       "│    │    └─BatchNorm2d (bn1)            [32, 256, 14, 14]    [32, 256, 14, 14]    512                  True\n",
       "│    │    └─ReLU (relu)                  [32, 256, 14, 14]    [32, 256, 14, 14]    --                   --\n",
       "│    │    └─Conv2d (conv2)               [32, 256, 14, 14]    [32, 256, 14, 14]    589,824              True\n",
       "│    │    └─BatchNorm2d (bn2)            [32, 256, 14, 14]    [32, 256, 14, 14]    512                  True\n",
       "│    │    └─ReLU (relu)                  [32, 256, 14, 14]    [32, 256, 14, 14]    --                   --\n",
       "│    │    └─Conv2d (conv3)               [32, 256, 14, 14]    [32, 1024, 14, 14]   262,144              True\n",
       "│    │    └─BatchNorm2d (bn3)            [32, 1024, 14, 14]   [32, 1024, 14, 14]   2,048                True\n",
       "│    │    └─ReLU (relu)                  [32, 1024, 14, 14]   [32, 1024, 14, 14]   --                   --\n",
       "│    └─Bottleneck (2)                    [32, 1024, 14, 14]   [32, 1024, 14, 14]   --                   True\n",
       "│    │    └─Conv2d (conv1)               [32, 1024, 14, 14]   [32, 256, 14, 14]    262,144              True\n",
       "│    │    └─BatchNorm2d (bn1)            [32, 256, 14, 14]    [32, 256, 14, 14]    512                  True\n",
       "│    │    └─ReLU (relu)                  [32, 256, 14, 14]    [32, 256, 14, 14]    --                   --\n",
       "│    │    └─Conv2d (conv2)               [32, 256, 14, 14]    [32, 256, 14, 14]    589,824              True\n",
       "│    │    └─BatchNorm2d (bn2)            [32, 256, 14, 14]    [32, 256, 14, 14]    512                  True\n",
       "│    │    └─ReLU (relu)                  [32, 256, 14, 14]    [32, 256, 14, 14]    --                   --\n",
       "│    │    └─Conv2d (conv3)               [32, 256, 14, 14]    [32, 1024, 14, 14]   262,144              True\n",
       "│    │    └─BatchNorm2d (bn3)            [32, 1024, 14, 14]   [32, 1024, 14, 14]   2,048                True\n",
       "│    │    └─ReLU (relu)                  [32, 1024, 14, 14]   [32, 1024, 14, 14]   --                   --\n",
       "│    └─Bottleneck (3)                    [32, 1024, 14, 14]   [32, 1024, 14, 14]   --                   True\n",
       "│    │    └─Conv2d (conv1)               [32, 1024, 14, 14]   [32, 256, 14, 14]    262,144              True\n",
       "│    │    └─BatchNorm2d (bn1)            [32, 256, 14, 14]    [32, 256, 14, 14]    512                  True\n",
       "│    │    └─ReLU (relu)                  [32, 256, 14, 14]    [32, 256, 14, 14]    --                   --\n",
       "│    │    └─Conv2d (conv2)               [32, 256, 14, 14]    [32, 256, 14, 14]    589,824              True\n",
       "│    │    └─BatchNorm2d (bn2)            [32, 256, 14, 14]    [32, 256, 14, 14]    512                  True\n",
       "│    │    └─ReLU (relu)                  [32, 256, 14, 14]    [32, 256, 14, 14]    --                   --\n",
       "│    │    └─Conv2d (conv3)               [32, 256, 14, 14]    [32, 1024, 14, 14]   262,144              True\n",
       "│    │    └─BatchNorm2d (bn3)            [32, 1024, 14, 14]   [32, 1024, 14, 14]   2,048                True\n",
       "│    │    └─ReLU (relu)                  [32, 1024, 14, 14]   [32, 1024, 14, 14]   --                   --\n",
       "│    └─Bottleneck (4)                    [32, 1024, 14, 14]   [32, 1024, 14, 14]   --                   True\n",
       "│    │    └─Conv2d (conv1)               [32, 1024, 14, 14]   [32, 256, 14, 14]    262,144              True\n",
       "│    │    └─BatchNorm2d (bn1)            [32, 256, 14, 14]    [32, 256, 14, 14]    512                  True\n",
       "│    │    └─ReLU (relu)                  [32, 256, 14, 14]    [32, 256, 14, 14]    --                   --\n",
       "│    │    └─Conv2d (conv2)               [32, 256, 14, 14]    [32, 256, 14, 14]    589,824              True\n",
       "│    │    └─BatchNorm2d (bn2)            [32, 256, 14, 14]    [32, 256, 14, 14]    512                  True\n",
       "│    │    └─ReLU (relu)                  [32, 256, 14, 14]    [32, 256, 14, 14]    --                   --\n",
       "│    │    └─Conv2d (conv3)               [32, 256, 14, 14]    [32, 1024, 14, 14]   262,144              True\n",
       "│    │    └─BatchNorm2d (bn3)            [32, 1024, 14, 14]   [32, 1024, 14, 14]   2,048                True\n",
       "│    │    └─ReLU (relu)                  [32, 1024, 14, 14]   [32, 1024, 14, 14]   --                   --\n",
       "│    └─Bottleneck (5)                    [32, 1024, 14, 14]   [32, 1024, 14, 14]   --                   True\n",
       "│    │    └─Conv2d (conv1)               [32, 1024, 14, 14]   [32, 256, 14, 14]    262,144              True\n",
       "│    │    └─BatchNorm2d (bn1)            [32, 256, 14, 14]    [32, 256, 14, 14]    512                  True\n",
       "│    │    └─ReLU (relu)                  [32, 256, 14, 14]    [32, 256, 14, 14]    --                   --\n",
       "│    │    └─Conv2d (conv2)               [32, 256, 14, 14]    [32, 256, 14, 14]    589,824              True\n",
       "│    │    └─BatchNorm2d (bn2)            [32, 256, 14, 14]    [32, 256, 14, 14]    512                  True\n",
       "│    │    └─ReLU (relu)                  [32, 256, 14, 14]    [32, 256, 14, 14]    --                   --\n",
       "│    │    └─Conv2d (conv3)               [32, 256, 14, 14]    [32, 1024, 14, 14]   262,144              True\n",
       "│    │    └─BatchNorm2d (bn3)            [32, 1024, 14, 14]   [32, 1024, 14, 14]   2,048                True\n",
       "│    │    └─ReLU (relu)                  [32, 1024, 14, 14]   [32, 1024, 14, 14]   --                   --\n",
       "│    └─Bottleneck (6)                    [32, 1024, 14, 14]   [32, 1024, 14, 14]   --                   True\n",
       "│    │    └─Conv2d (conv1)               [32, 1024, 14, 14]   [32, 256, 14, 14]    262,144              True\n",
       "│    │    └─BatchNorm2d (bn1)            [32, 256, 14, 14]    [32, 256, 14, 14]    512                  True\n",
       "│    │    └─ReLU (relu)                  [32, 256, 14, 14]    [32, 256, 14, 14]    --                   --\n",
       "│    │    └─Conv2d (conv2)               [32, 256, 14, 14]    [32, 256, 14, 14]    589,824              True\n",
       "│    │    └─BatchNorm2d (bn2)            [32, 256, 14, 14]    [32, 256, 14, 14]    512                  True\n",
       "│    │    └─ReLU (relu)                  [32, 256, 14, 14]    [32, 256, 14, 14]    --                   --\n",
       "│    │    └─Conv2d (conv3)               [32, 256, 14, 14]    [32, 1024, 14, 14]   262,144              True\n",
       "│    │    └─BatchNorm2d (bn3)            [32, 1024, 14, 14]   [32, 1024, 14, 14]   2,048                True\n",
       "│    │    └─ReLU (relu)                  [32, 1024, 14, 14]   [32, 1024, 14, 14]   --                   --\n",
       "│    └─Bottleneck (7)                    [32, 1024, 14, 14]   [32, 1024, 14, 14]   --                   True\n",
       "│    │    └─Conv2d (conv1)               [32, 1024, 14, 14]   [32, 256, 14, 14]    262,144              True\n",
       "│    │    └─BatchNorm2d (bn1)            [32, 256, 14, 14]    [32, 256, 14, 14]    512                  True\n",
       "│    │    └─ReLU (relu)                  [32, 256, 14, 14]    [32, 256, 14, 14]    --                   --\n",
       "│    │    └─Conv2d (conv2)               [32, 256, 14, 14]    [32, 256, 14, 14]    589,824              True\n",
       "│    │    └─BatchNorm2d (bn2)            [32, 256, 14, 14]    [32, 256, 14, 14]    512                  True\n",
       "│    │    └─ReLU (relu)                  [32, 256, 14, 14]    [32, 256, 14, 14]    --                   --\n",
       "│    │    └─Conv2d (conv3)               [32, 256, 14, 14]    [32, 1024, 14, 14]   262,144              True\n",
       "│    │    └─BatchNorm2d (bn3)            [32, 1024, 14, 14]   [32, 1024, 14, 14]   2,048                True\n",
       "│    │    └─ReLU (relu)                  [32, 1024, 14, 14]   [32, 1024, 14, 14]   --                   --\n",
       "│    └─Bottleneck (8)                    [32, 1024, 14, 14]   [32, 1024, 14, 14]   --                   True\n",
       "│    │    └─Conv2d (conv1)               [32, 1024, 14, 14]   [32, 256, 14, 14]    262,144              True\n",
       "│    │    └─BatchNorm2d (bn1)            [32, 256, 14, 14]    [32, 256, 14, 14]    512                  True\n",
       "│    │    └─ReLU (relu)                  [32, 256, 14, 14]    [32, 256, 14, 14]    --                   --\n",
       "│    │    └─Conv2d (conv2)               [32, 256, 14, 14]    [32, 256, 14, 14]    589,824              True\n",
       "│    │    └─BatchNorm2d (bn2)            [32, 256, 14, 14]    [32, 256, 14, 14]    512                  True\n",
       "│    │    └─ReLU (relu)                  [32, 256, 14, 14]    [32, 256, 14, 14]    --                   --\n",
       "│    │    └─Conv2d (conv3)               [32, 256, 14, 14]    [32, 1024, 14, 14]   262,144              True\n",
       "│    │    └─BatchNorm2d (bn3)            [32, 1024, 14, 14]   [32, 1024, 14, 14]   2,048                True\n",
       "│    │    └─ReLU (relu)                  [32, 1024, 14, 14]   [32, 1024, 14, 14]   --                   --\n",
       "│    └─Bottleneck (9)                    [32, 1024, 14, 14]   [32, 1024, 14, 14]   --                   True\n",
       "│    │    └─Conv2d (conv1)               [32, 1024, 14, 14]   [32, 256, 14, 14]    262,144              True\n",
       "│    │    └─BatchNorm2d (bn1)            [32, 256, 14, 14]    [32, 256, 14, 14]    512                  True\n",
       "│    │    └─ReLU (relu)                  [32, 256, 14, 14]    [32, 256, 14, 14]    --                   --\n",
       "│    │    └─Conv2d (conv2)               [32, 256, 14, 14]    [32, 256, 14, 14]    589,824              True\n",
       "│    │    └─BatchNorm2d (bn2)            [32, 256, 14, 14]    [32, 256, 14, 14]    512                  True\n",
       "│    │    └─ReLU (relu)                  [32, 256, 14, 14]    [32, 256, 14, 14]    --                   --\n",
       "│    │    └─Conv2d (conv3)               [32, 256, 14, 14]    [32, 1024, 14, 14]   262,144              True\n",
       "│    │    └─BatchNorm2d (bn3)            [32, 1024, 14, 14]   [32, 1024, 14, 14]   2,048                True\n",
       "│    │    └─ReLU (relu)                  [32, 1024, 14, 14]   [32, 1024, 14, 14]   --                   --\n",
       "│    └─Bottleneck (10)                   [32, 1024, 14, 14]   [32, 1024, 14, 14]   --                   True\n",
       "│    │    └─Conv2d (conv1)               [32, 1024, 14, 14]   [32, 256, 14, 14]    262,144              True\n",
       "│    │    └─BatchNorm2d (bn1)            [32, 256, 14, 14]    [32, 256, 14, 14]    512                  True\n",
       "│    │    └─ReLU (relu)                  [32, 256, 14, 14]    [32, 256, 14, 14]    --                   --\n",
       "│    │    └─Conv2d (conv2)               [32, 256, 14, 14]    [32, 256, 14, 14]    589,824              True\n",
       "│    │    └─BatchNorm2d (bn2)            [32, 256, 14, 14]    [32, 256, 14, 14]    512                  True\n",
       "│    │    └─ReLU (relu)                  [32, 256, 14, 14]    [32, 256, 14, 14]    --                   --\n",
       "│    │    └─Conv2d (conv3)               [32, 256, 14, 14]    [32, 1024, 14, 14]   262,144              True\n",
       "│    │    └─BatchNorm2d (bn3)            [32, 1024, 14, 14]   [32, 1024, 14, 14]   2,048                True\n",
       "│    │    └─ReLU (relu)                  [32, 1024, 14, 14]   [32, 1024, 14, 14]   --                   --\n",
       "│    └─Bottleneck (11)                   [32, 1024, 14, 14]   [32, 1024, 14, 14]   --                   True\n",
       "│    │    └─Conv2d (conv1)               [32, 1024, 14, 14]   [32, 256, 14, 14]    262,144              True\n",
       "│    │    └─BatchNorm2d (bn1)            [32, 256, 14, 14]    [32, 256, 14, 14]    512                  True\n",
       "│    │    └─ReLU (relu)                  [32, 256, 14, 14]    [32, 256, 14, 14]    --                   --\n",
       "│    │    └─Conv2d (conv2)               [32, 256, 14, 14]    [32, 256, 14, 14]    589,824              True\n",
       "│    │    └─BatchNorm2d (bn2)            [32, 256, 14, 14]    [32, 256, 14, 14]    512                  True\n",
       "│    │    └─ReLU (relu)                  [32, 256, 14, 14]    [32, 256, 14, 14]    --                   --\n",
       "│    │    └─Conv2d (conv3)               [32, 256, 14, 14]    [32, 1024, 14, 14]   262,144              True\n",
       "│    │    └─BatchNorm2d (bn3)            [32, 1024, 14, 14]   [32, 1024, 14, 14]   2,048                True\n",
       "│    │    └─ReLU (relu)                  [32, 1024, 14, 14]   [32, 1024, 14, 14]   --                   --\n",
       "│    └─Bottleneck (12)                   [32, 1024, 14, 14]   [32, 1024, 14, 14]   --                   True\n",
       "│    │    └─Conv2d (conv1)               [32, 1024, 14, 14]   [32, 256, 14, 14]    262,144              True\n",
       "│    │    └─BatchNorm2d (bn1)            [32, 256, 14, 14]    [32, 256, 14, 14]    512                  True\n",
       "│    │    └─ReLU (relu)                  [32, 256, 14, 14]    [32, 256, 14, 14]    --                   --\n",
       "│    │    └─Conv2d (conv2)               [32, 256, 14, 14]    [32, 256, 14, 14]    589,824              True\n",
       "│    │    └─BatchNorm2d (bn2)            [32, 256, 14, 14]    [32, 256, 14, 14]    512                  True\n",
       "│    │    └─ReLU (relu)                  [32, 256, 14, 14]    [32, 256, 14, 14]    --                   --\n",
       "│    │    └─Conv2d (conv3)               [32, 256, 14, 14]    [32, 1024, 14, 14]   262,144              True\n",
       "│    │    └─BatchNorm2d (bn3)            [32, 1024, 14, 14]   [32, 1024, 14, 14]   2,048                True\n",
       "│    │    └─ReLU (relu)                  [32, 1024, 14, 14]   [32, 1024, 14, 14]   --                   --\n",
       "│    └─Bottleneck (13)                   [32, 1024, 14, 14]   [32, 1024, 14, 14]   --                   True\n",
       "│    │    └─Conv2d (conv1)               [32, 1024, 14, 14]   [32, 256, 14, 14]    262,144              True\n",
       "│    │    └─BatchNorm2d (bn1)            [32, 256, 14, 14]    [32, 256, 14, 14]    512                  True\n",
       "│    │    └─ReLU (relu)                  [32, 256, 14, 14]    [32, 256, 14, 14]    --                   --\n",
       "│    │    └─Conv2d (conv2)               [32, 256, 14, 14]    [32, 256, 14, 14]    589,824              True\n",
       "│    │    └─BatchNorm2d (bn2)            [32, 256, 14, 14]    [32, 256, 14, 14]    512                  True\n",
       "│    │    └─ReLU (relu)                  [32, 256, 14, 14]    [32, 256, 14, 14]    --                   --\n",
       "│    │    └─Conv2d (conv3)               [32, 256, 14, 14]    [32, 1024, 14, 14]   262,144              True\n",
       "│    │    └─BatchNorm2d (bn3)            [32, 1024, 14, 14]   [32, 1024, 14, 14]   2,048                True\n",
       "│    │    └─ReLU (relu)                  [32, 1024, 14, 14]   [32, 1024, 14, 14]   --                   --\n",
       "│    └─Bottleneck (14)                   [32, 1024, 14, 14]   [32, 1024, 14, 14]   --                   True\n",
       "│    │    └─Conv2d (conv1)               [32, 1024, 14, 14]   [32, 256, 14, 14]    262,144              True\n",
       "│    │    └─BatchNorm2d (bn1)            [32, 256, 14, 14]    [32, 256, 14, 14]    512                  True\n",
       "│    │    └─ReLU (relu)                  [32, 256, 14, 14]    [32, 256, 14, 14]    --                   --\n",
       "│    │    └─Conv2d (conv2)               [32, 256, 14, 14]    [32, 256, 14, 14]    589,824              True\n",
       "│    │    └─BatchNorm2d (bn2)            [32, 256, 14, 14]    [32, 256, 14, 14]    512                  True\n",
       "│    │    └─ReLU (relu)                  [32, 256, 14, 14]    [32, 256, 14, 14]    --                   --\n",
       "│    │    └─Conv2d (conv3)               [32, 256, 14, 14]    [32, 1024, 14, 14]   262,144              True\n",
       "│    │    └─BatchNorm2d (bn3)            [32, 1024, 14, 14]   [32, 1024, 14, 14]   2,048                True\n",
       "│    │    └─ReLU (relu)                  [32, 1024, 14, 14]   [32, 1024, 14, 14]   --                   --\n",
       "│    └─Bottleneck (15)                   [32, 1024, 14, 14]   [32, 1024, 14, 14]   --                   True\n",
       "│    │    └─Conv2d (conv1)               [32, 1024, 14, 14]   [32, 256, 14, 14]    262,144              True\n",
       "│    │    └─BatchNorm2d (bn1)            [32, 256, 14, 14]    [32, 256, 14, 14]    512                  True\n",
       "│    │    └─ReLU (relu)                  [32, 256, 14, 14]    [32, 256, 14, 14]    --                   --\n",
       "│    │    └─Conv2d (conv2)               [32, 256, 14, 14]    [32, 256, 14, 14]    589,824              True\n",
       "│    │    └─BatchNorm2d (bn2)            [32, 256, 14, 14]    [32, 256, 14, 14]    512                  True\n",
       "│    │    └─ReLU (relu)                  [32, 256, 14, 14]    [32, 256, 14, 14]    --                   --\n",
       "│    │    └─Conv2d (conv3)               [32, 256, 14, 14]    [32, 1024, 14, 14]   262,144              True\n",
       "│    │    └─BatchNorm2d (bn3)            [32, 1024, 14, 14]   [32, 1024, 14, 14]   2,048                True\n",
       "│    │    └─ReLU (relu)                  [32, 1024, 14, 14]   [32, 1024, 14, 14]   --                   --\n",
       "│    └─Bottleneck (16)                   [32, 1024, 14, 14]   [32, 1024, 14, 14]   --                   True\n",
       "│    │    └─Conv2d (conv1)               [32, 1024, 14, 14]   [32, 256, 14, 14]    262,144              True\n",
       "│    │    └─BatchNorm2d (bn1)            [32, 256, 14, 14]    [32, 256, 14, 14]    512                  True\n",
       "│    │    └─ReLU (relu)                  [32, 256, 14, 14]    [32, 256, 14, 14]    --                   --\n",
       "│    │    └─Conv2d (conv2)               [32, 256, 14, 14]    [32, 256, 14, 14]    589,824              True\n",
       "│    │    └─BatchNorm2d (bn2)            [32, 256, 14, 14]    [32, 256, 14, 14]    512                  True\n",
       "│    │    └─ReLU (relu)                  [32, 256, 14, 14]    [32, 256, 14, 14]    --                   --\n",
       "│    │    └─Conv2d (conv3)               [32, 256, 14, 14]    [32, 1024, 14, 14]   262,144              True\n",
       "│    │    └─BatchNorm2d (bn3)            [32, 1024, 14, 14]   [32, 1024, 14, 14]   2,048                True\n",
       "│    │    └─ReLU (relu)                  [32, 1024, 14, 14]   [32, 1024, 14, 14]   --                   --\n",
       "│    └─Bottleneck (17)                   [32, 1024, 14, 14]   [32, 1024, 14, 14]   --                   True\n",
       "│    │    └─Conv2d (conv1)               [32, 1024, 14, 14]   [32, 256, 14, 14]    262,144              True\n",
       "│    │    └─BatchNorm2d (bn1)            [32, 256, 14, 14]    [32, 256, 14, 14]    512                  True\n",
       "│    │    └─ReLU (relu)                  [32, 256, 14, 14]    [32, 256, 14, 14]    --                   --\n",
       "│    │    └─Conv2d (conv2)               [32, 256, 14, 14]    [32, 256, 14, 14]    589,824              True\n",
       "│    │    └─BatchNorm2d (bn2)            [32, 256, 14, 14]    [32, 256, 14, 14]    512                  True\n",
       "│    │    └─ReLU (relu)                  [32, 256, 14, 14]    [32, 256, 14, 14]    --                   --\n",
       "│    │    └─Conv2d (conv3)               [32, 256, 14, 14]    [32, 1024, 14, 14]   262,144              True\n",
       "│    │    └─BatchNorm2d (bn3)            [32, 1024, 14, 14]   [32, 1024, 14, 14]   2,048                True\n",
       "│    │    └─ReLU (relu)                  [32, 1024, 14, 14]   [32, 1024, 14, 14]   --                   --\n",
       "│    └─Bottleneck (18)                   [32, 1024, 14, 14]   [32, 1024, 14, 14]   --                   True\n",
       "│    │    └─Conv2d (conv1)               [32, 1024, 14, 14]   [32, 256, 14, 14]    262,144              True\n",
       "│    │    └─BatchNorm2d (bn1)            [32, 256, 14, 14]    [32, 256, 14, 14]    512                  True\n",
       "│    │    └─ReLU (relu)                  [32, 256, 14, 14]    [32, 256, 14, 14]    --                   --\n",
       "│    │    └─Conv2d (conv2)               [32, 256, 14, 14]    [32, 256, 14, 14]    589,824              True\n",
       "│    │    └─BatchNorm2d (bn2)            [32, 256, 14, 14]    [32, 256, 14, 14]    512                  True\n",
       "│    │    └─ReLU (relu)                  [32, 256, 14, 14]    [32, 256, 14, 14]    --                   --\n",
       "│    │    └─Conv2d (conv3)               [32, 256, 14, 14]    [32, 1024, 14, 14]   262,144              True\n",
       "│    │    └─BatchNorm2d (bn3)            [32, 1024, 14, 14]   [32, 1024, 14, 14]   2,048                True\n",
       "│    │    └─ReLU (relu)                  [32, 1024, 14, 14]   [32, 1024, 14, 14]   --                   --\n",
       "│    └─Bottleneck (19)                   [32, 1024, 14, 14]   [32, 1024, 14, 14]   --                   True\n",
       "│    │    └─Conv2d (conv1)               [32, 1024, 14, 14]   [32, 256, 14, 14]    262,144              True\n",
       "│    │    └─BatchNorm2d (bn1)            [32, 256, 14, 14]    [32, 256, 14, 14]    512                  True\n",
       "│    │    └─ReLU (relu)                  [32, 256, 14, 14]    [32, 256, 14, 14]    --                   --\n",
       "│    │    └─Conv2d (conv2)               [32, 256, 14, 14]    [32, 256, 14, 14]    589,824              True\n",
       "│    │    └─BatchNorm2d (bn2)            [32, 256, 14, 14]    [32, 256, 14, 14]    512                  True\n",
       "│    │    └─ReLU (relu)                  [32, 256, 14, 14]    [32, 256, 14, 14]    --                   --\n",
       "│    │    └─Conv2d (conv3)               [32, 256, 14, 14]    [32, 1024, 14, 14]   262,144              True\n",
       "│    │    └─BatchNorm2d (bn3)            [32, 1024, 14, 14]   [32, 1024, 14, 14]   2,048                True\n",
       "│    │    └─ReLU (relu)                  [32, 1024, 14, 14]   [32, 1024, 14, 14]   --                   --\n",
       "│    └─Bottleneck (20)                   [32, 1024, 14, 14]   [32, 1024, 14, 14]   --                   True\n",
       "│    │    └─Conv2d (conv1)               [32, 1024, 14, 14]   [32, 256, 14, 14]    262,144              True\n",
       "│    │    └─BatchNorm2d (bn1)            [32, 256, 14, 14]    [32, 256, 14, 14]    512                  True\n",
       "│    │    └─ReLU (relu)                  [32, 256, 14, 14]    [32, 256, 14, 14]    --                   --\n",
       "│    │    └─Conv2d (conv2)               [32, 256, 14, 14]    [32, 256, 14, 14]    589,824              True\n",
       "│    │    └─BatchNorm2d (bn2)            [32, 256, 14, 14]    [32, 256, 14, 14]    512                  True\n",
       "│    │    └─ReLU (relu)                  [32, 256, 14, 14]    [32, 256, 14, 14]    --                   --\n",
       "│    │    └─Conv2d (conv3)               [32, 256, 14, 14]    [32, 1024, 14, 14]   262,144              True\n",
       "│    │    └─BatchNorm2d (bn3)            [32, 1024, 14, 14]   [32, 1024, 14, 14]   2,048                True\n",
       "│    │    └─ReLU (relu)                  [32, 1024, 14, 14]   [32, 1024, 14, 14]   --                   --\n",
       "│    └─Bottleneck (21)                   [32, 1024, 14, 14]   [32, 1024, 14, 14]   --                   True\n",
       "│    │    └─Conv2d (conv1)               [32, 1024, 14, 14]   [32, 256, 14, 14]    262,144              True\n",
       "│    │    └─BatchNorm2d (bn1)            [32, 256, 14, 14]    [32, 256, 14, 14]    512                  True\n",
       "│    │    └─ReLU (relu)                  [32, 256, 14, 14]    [32, 256, 14, 14]    --                   --\n",
       "│    │    └─Conv2d (conv2)               [32, 256, 14, 14]    [32, 256, 14, 14]    589,824              True\n",
       "│    │    └─BatchNorm2d (bn2)            [32, 256, 14, 14]    [32, 256, 14, 14]    512                  True\n",
       "│    │    └─ReLU (relu)                  [32, 256, 14, 14]    [32, 256, 14, 14]    --                   --\n",
       "│    │    └─Conv2d (conv3)               [32, 256, 14, 14]    [32, 1024, 14, 14]   262,144              True\n",
       "│    │    └─BatchNorm2d (bn3)            [32, 1024, 14, 14]   [32, 1024, 14, 14]   2,048                True\n",
       "│    │    └─ReLU (relu)                  [32, 1024, 14, 14]   [32, 1024, 14, 14]   --                   --\n",
       "│    └─Bottleneck (22)                   [32, 1024, 14, 14]   [32, 1024, 14, 14]   --                   True\n",
       "│    │    └─Conv2d (conv1)               [32, 1024, 14, 14]   [32, 256, 14, 14]    262,144              True\n",
       "│    │    └─BatchNorm2d (bn1)            [32, 256, 14, 14]    [32, 256, 14, 14]    512                  True\n",
       "│    │    └─ReLU (relu)                  [32, 256, 14, 14]    [32, 256, 14, 14]    --                   --\n",
       "│    │    └─Conv2d (conv2)               [32, 256, 14, 14]    [32, 256, 14, 14]    589,824              True\n",
       "│    │    └─BatchNorm2d (bn2)            [32, 256, 14, 14]    [32, 256, 14, 14]    512                  True\n",
       "│    │    └─ReLU (relu)                  [32, 256, 14, 14]    [32, 256, 14, 14]    --                   --\n",
       "│    │    └─Conv2d (conv3)               [32, 256, 14, 14]    [32, 1024, 14, 14]   262,144              True\n",
       "│    │    └─BatchNorm2d (bn3)            [32, 1024, 14, 14]   [32, 1024, 14, 14]   2,048                True\n",
       "│    │    └─ReLU (relu)                  [32, 1024, 14, 14]   [32, 1024, 14, 14]   --                   --\n",
       "├─Sequential (layer4)                    [32, 1024, 14, 14]   [32, 2048, 7, 7]     --                   True\n",
       "│    └─Bottleneck (0)                    [32, 1024, 14, 14]   [32, 2048, 7, 7]     --                   True\n",
       "│    │    └─Conv2d (conv1)               [32, 1024, 14, 14]   [32, 512, 14, 14]    524,288              True\n",
       "│    │    └─BatchNorm2d (bn1)            [32, 512, 14, 14]    [32, 512, 14, 14]    1,024                True\n",
       "│    │    └─ReLU (relu)                  [32, 512, 14, 14]    [32, 512, 14, 14]    --                   --\n",
       "│    │    └─Conv2d (conv2)               [32, 512, 14, 14]    [32, 512, 7, 7]      2,359,296            True\n",
       "│    │    └─BatchNorm2d (bn2)            [32, 512, 7, 7]      [32, 512, 7, 7]      1,024                True\n",
       "│    │    └─ReLU (relu)                  [32, 512, 7, 7]      [32, 512, 7, 7]      --                   --\n",
       "│    │    └─Conv2d (conv3)               [32, 512, 7, 7]      [32, 2048, 7, 7]     1,048,576            True\n",
       "│    │    └─BatchNorm2d (bn3)            [32, 2048, 7, 7]     [32, 2048, 7, 7]     4,096                True\n",
       "│    │    └─Sequential (downsample)      [32, 1024, 14, 14]   [32, 2048, 7, 7]     2,101,248            True\n",
       "│    │    └─ReLU (relu)                  [32, 2048, 7, 7]     [32, 2048, 7, 7]     --                   --\n",
       "│    └─Bottleneck (1)                    [32, 2048, 7, 7]     [32, 2048, 7, 7]     --                   True\n",
       "│    │    └─Conv2d (conv1)               [32, 2048, 7, 7]     [32, 512, 7, 7]      1,048,576            True\n",
       "│    │    └─BatchNorm2d (bn1)            [32, 512, 7, 7]      [32, 512, 7, 7]      1,024                True\n",
       "│    │    └─ReLU (relu)                  [32, 512, 7, 7]      [32, 512, 7, 7]      --                   --\n",
       "│    │    └─Conv2d (conv2)               [32, 512, 7, 7]      [32, 512, 7, 7]      2,359,296            True\n",
       "│    │    └─BatchNorm2d (bn2)            [32, 512, 7, 7]      [32, 512, 7, 7]      1,024                True\n",
       "│    │    └─ReLU (relu)                  [32, 512, 7, 7]      [32, 512, 7, 7]      --                   --\n",
       "│    │    └─Conv2d (conv3)               [32, 512, 7, 7]      [32, 2048, 7, 7]     1,048,576            True\n",
       "│    │    └─BatchNorm2d (bn3)            [32, 2048, 7, 7]     [32, 2048, 7, 7]     4,096                True\n",
       "│    │    └─ReLU (relu)                  [32, 2048, 7, 7]     [32, 2048, 7, 7]     --                   --\n",
       "│    └─Bottleneck (2)                    [32, 2048, 7, 7]     [32, 2048, 7, 7]     --                   True\n",
       "│    │    └─Conv2d (conv1)               [32, 2048, 7, 7]     [32, 512, 7, 7]      1,048,576            True\n",
       "│    │    └─BatchNorm2d (bn1)            [32, 512, 7, 7]      [32, 512, 7, 7]      1,024                True\n",
       "│    │    └─ReLU (relu)                  [32, 512, 7, 7]      [32, 512, 7, 7]      --                   --\n",
       "│    │    └─Conv2d (conv2)               [32, 512, 7, 7]      [32, 512, 7, 7]      2,359,296            True\n",
       "│    │    └─BatchNorm2d (bn2)            [32, 512, 7, 7]      [32, 512, 7, 7]      1,024                True\n",
       "│    │    └─ReLU (relu)                  [32, 512, 7, 7]      [32, 512, 7, 7]      --                   --\n",
       "│    │    └─Conv2d (conv3)               [32, 512, 7, 7]      [32, 2048, 7, 7]     1,048,576            True\n",
       "│    │    └─BatchNorm2d (bn3)            [32, 2048, 7, 7]     [32, 2048, 7, 7]     4,096                True\n",
       "│    │    └─ReLU (relu)                  [32, 2048, 7, 7]     [32, 2048, 7, 7]     --                   --\n",
       "├─AdaptiveAvgPool2d (avgpool)            [32, 2048, 7, 7]     [32, 2048, 1, 1]     --                   --\n",
       "├─Linear (fc)                            [32, 2048]           [32, 10]             20,490               True\n",
       "========================================================================================================================\n",
       "Total params: 42,520,650\n",
       "Trainable params: 42,520,650\n",
       "Non-trainable params: 0\n",
       "Total mult-adds (G): 249.58\n",
       "========================================================================================================================\n",
       "Input size (MB): 19.27\n",
       "Forward/backward pass size (MB): 8310.75\n",
       "Params size (MB): 170.08\n",
       "Estimated Total Size (MB): 8500.10\n",
       "========================================================================================================================"
      ]
     },
     "execution_count": 12,
     "metadata": {},
     "output_type": "execute_result"
    }
   ],
   "source": [
    "from torchinfo import summary\n",
    "summary(model=model,\n",
    "        input_size=(32, 3, 224, 224),\n",
    "        col_names=[\"input_size\", \"output_size\", \"num_params\", \"trainable\"],\n",
    "        col_width=20,\n",
    "        row_settings=[\"var_names\"]\n",
    ")"
   ]
  },
  {
   "cell_type": "markdown",
   "id": "2eea928e",
   "metadata": {
    "papermill": {
     "duration": 0.007775,
     "end_time": "2023-12-02T16:16:01.629265",
     "exception": false,
     "start_time": "2023-12-02T16:16:01.621490",
     "status": "completed"
    },
    "tags": []
   },
   "source": [
    "# Training"
   ]
  },
  {
   "cell_type": "code",
   "execution_count": 13,
   "id": "245fe7d5",
   "metadata": {
    "execution": {
     "iopub.execute_input": "2023-12-02T16:16:01.646639Z",
     "iopub.status.busy": "2023-12-02T16:16:01.646331Z",
     "iopub.status.idle": "2023-12-02T16:55:57.160092Z",
     "shell.execute_reply": "2023-12-02T16:55:57.159079Z"
    },
    "papermill": {
     "duration": 2395.525032,
     "end_time": "2023-12-02T16:55:57.162447",
     "exception": false,
     "start_time": "2023-12-02T16:16:01.637415",
     "status": "completed"
    },
    "tags": []
   },
   "outputs": [
    {
     "name": "stderr",
     "output_type": "stream",
     "text": [
      "Training: 100%|██████████| 281/281 [02:27<00:00,  1.91it/s]\n"
     ]
    },
    {
     "name": "stdout",
     "output_type": "stream",
     "text": [
      "Epoch 1 | Train Loss: 0.48491886731409517 | Accuracy: 0.851831205752829 | Precision: 0.8562353707611922 | Recall: 0.851831205752829 | F1: 0.851987415090651\n"
     ]
    },
    {
     "name": "stderr",
     "output_type": "stream",
     "text": [
      "Validating: 100%|██████████| 71/71 [00:18<00:00,  3.79it/s]\n"
     ]
    },
    {
     "name": "stdout",
     "output_type": "stream",
     "text": [
      "\tValidation Loss: 0.04949109032618958 | Accuracy: 0.9866220735785953 | Precision: 0.9867407037517816 | Recall: 0.9866220735785953 | F1: 0.9866529774144054\n",
      "Saving best model at epoch 1...\n"
     ]
    },
    {
     "name": "stderr",
     "output_type": "stream",
     "text": [
      "Training: 100%|██████████| 281/281 [02:25<00:00,  1.93it/s]\n"
     ]
    },
    {
     "name": "stdout",
     "output_type": "stream",
     "text": [
      "Epoch 2 | Train Loss: 0.0538350202381823 | Accuracy: 0.9847260159429176 | Precision: 0.9847482811880724 | Recall: 0.9847260159429176 | F1: 0.9847308632026897\n"
     ]
    },
    {
     "name": "stderr",
     "output_type": "stream",
     "text": [
      "Validating: 100%|██████████| 71/71 [00:13<00:00,  5.15it/s]\n"
     ]
    },
    {
     "name": "stdout",
     "output_type": "stream",
     "text": [
      "\tValidation Loss: 0.05818795236024323 | Accuracy: 0.9850613154960981 | Precision: 0.9853798024370566 | Recall: 0.9850613154960981 | F1: 0.9850301012282345\n"
     ]
    },
    {
     "name": "stderr",
     "output_type": "stream",
     "text": [
      "Training: 100%|██████████| 281/281 [02:25<00:00,  1.93it/s]\n"
     ]
    },
    {
     "name": "stdout",
     "output_type": "stream",
     "text": [
      "Epoch 3 | Train Loss: 0.029588156279501277 | Accuracy: 0.9911923741568649 | Precision: 0.9912001016663007 | Recall: 0.9911923741568649 | F1: 0.9911953036353338\n"
     ]
    },
    {
     "name": "stderr",
     "output_type": "stream",
     "text": [
      "Validating: 100%|██████████| 71/71 [00:13<00:00,  5.13it/s]\n"
     ]
    },
    {
     "name": "stdout",
     "output_type": "stream",
     "text": [
      "\tValidation Loss: 0.02763953889247922 | Accuracy: 0.9928651059085841 | Precision: 0.992990390048656 | Recall: 0.9928651059085841 | F1: 0.9928640361818857\n",
      "Saving best model at epoch 3...\n"
     ]
    },
    {
     "name": "stderr",
     "output_type": "stream",
     "text": [
      "Training: 100%|██████████| 281/281 [02:25<00:00,  1.93it/s]\n"
     ]
    },
    {
     "name": "stdout",
     "output_type": "stream",
     "text": [
      "Epoch 4 | Train Loss: 0.021540768242572034 | Accuracy: 0.9931434305145215 | Precision: 0.9931419940292027 | Recall: 0.9931434305145215 | F1: 0.9931414676473767\n"
     ]
    },
    {
     "name": "stderr",
     "output_type": "stream",
     "text": [
      "Validating: 100%|██████████| 71/71 [00:13<00:00,  5.26it/s]\n"
     ]
    },
    {
     "name": "stdout",
     "output_type": "stream",
     "text": [
      "\tValidation Loss: 0.027056320811438203 | Accuracy: 0.9933110367892977 | Precision: 0.9933182818575303 | Recall: 0.9933110367892977 | F1: 0.9932975015777661\n",
      "Saving best model at epoch 4...\n"
     ]
    },
    {
     "name": "stderr",
     "output_type": "stream",
     "text": [
      "Training: 100%|██████████| 281/281 [02:25<00:00,  1.93it/s]\n"
     ]
    },
    {
     "name": "stdout",
     "output_type": "stream",
     "text": [
      "Epoch 5 | Train Loss: 0.01680144109784748 | Accuracy: 0.9951502313395395 | Precision: 0.9951536046699258 | Recall: 0.9951502313395395 | F1: 0.995151232952641\n"
     ]
    },
    {
     "name": "stderr",
     "output_type": "stream",
     "text": [
      "Validating: 100%|██████████| 71/71 [00:13<00:00,  5.30it/s]\n"
     ]
    },
    {
     "name": "stdout",
     "output_type": "stream",
     "text": [
      "\tValidation Loss: 0.018636341980645354 | Accuracy: 0.9944258639910813 | Precision: 0.9944966983210494 | Recall: 0.9944258639910813 | F1: 0.9944225315823769\n",
      "Saving best model at epoch 5...\n"
     ]
    },
    {
     "name": "stderr",
     "output_type": "stream",
     "text": [
      "Training: 100%|██████████| 281/281 [02:25<00:00,  1.93it/s]\n"
     ]
    },
    {
     "name": "stdout",
     "output_type": "stream",
     "text": [
      "Epoch 6 | Train Loss: 0.010543071166790352 | Accuracy: 0.9970455432298344 | Precision: 0.9970464045099011 | Recall: 0.9970455432298344 | F1: 0.997045436731463\n"
     ]
    },
    {
     "name": "stderr",
     "output_type": "stream",
     "text": [
      "Validating: 100%|██████████| 71/71 [00:13<00:00,  5.24it/s]\n"
     ]
    },
    {
     "name": "stdout",
     "output_type": "stream",
     "text": [
      "\tValidation Loss: 0.013911980776112973 | Accuracy: 0.9964325529542921 | Precision: 0.9964634305369844 | Recall: 0.9964325529542921 | F1: 0.996435217885553\n",
      "Saving best model at epoch 6...\n"
     ]
    },
    {
     "name": "stderr",
     "output_type": "stream",
     "text": [
      "Training: 100%|██████████| 281/281 [02:25<00:00,  1.93it/s]\n"
     ]
    },
    {
     "name": "stdout",
     "output_type": "stream",
     "text": [
      "Epoch 7 | Train Loss: 0.006101825183435191 | Accuracy: 0.9986621327833213 | Precision: 0.9986626424522295 | Recall: 0.9986621327833213 | F1: 0.9986622548022507\n"
     ]
    },
    {
     "name": "stderr",
     "output_type": "stream",
     "text": [
      "Validating: 100%|██████████| 71/71 [00:13<00:00,  5.25it/s]\n"
     ]
    },
    {
     "name": "stdout",
     "output_type": "stream",
     "text": [
      "\tValidation Loss: 0.03104505434963921 | Accuracy: 0.9919732441471572 | Precision: 0.9921960531562362 | Recall: 0.9919732441471572 | F1: 0.9919884277490316\n"
     ]
    },
    {
     "name": "stderr",
     "output_type": "stream",
     "text": [
      "Training: 100%|██████████| 281/281 [02:25<00:00,  1.94it/s]\n"
     ]
    },
    {
     "name": "stdout",
     "output_type": "stream",
     "text": [
      "Epoch 8 | Train Loss: 0.009601226149502233 | Accuracy: 0.9975472434360889 | Precision: 0.9975480121131628 | Recall: 0.9975472434360889 | F1: 0.9975472517203682\n"
     ]
    },
    {
     "name": "stderr",
     "output_type": "stream",
     "text": [
      "Validating: 100%|██████████| 71/71 [00:13<00:00,  5.31it/s]\n"
     ]
    },
    {
     "name": "stdout",
     "output_type": "stream",
     "text": [
      "\tValidation Loss: 0.03299952638015794 | Accuracy: 0.991304347826087 | Precision: 0.9917188350970543 | Recall: 0.991304347826087 | F1: 0.991275873642298\n"
     ]
    },
    {
     "name": "stderr",
     "output_type": "stream",
     "text": [
      "Training: 100%|██████████| 281/281 [02:25<00:00,  1.93it/s]\n"
     ]
    },
    {
     "name": "stdout",
     "output_type": "stream",
     "text": [
      "Epoch 9 | Train Loss: 0.007283177429939011 | Accuracy: 0.9978817102402586 | Precision: 0.9978821736858493 | Recall: 0.9978817102402586 | F1: 0.9978816409105141\n"
     ]
    },
    {
     "name": "stderr",
     "output_type": "stream",
     "text": [
      "Validating: 100%|██████████| 71/71 [00:13<00:00,  5.23it/s]\n"
     ]
    },
    {
     "name": "stdout",
     "output_type": "stream",
     "text": [
      "\tValidation Loss: 0.016386282215637652 | Accuracy: 0.9946488294314382 | Precision: 0.9946733743777681 | Recall: 0.9946488294314382 | F1: 0.9946430994253154\n"
     ]
    },
    {
     "name": "stderr",
     "output_type": "stream",
     "text": [
      "Training: 100%|██████████| 281/281 [02:25<00:00,  1.93it/s]\n"
     ]
    },
    {
     "name": "stdout",
     "output_type": "stream",
     "text": [
      "Epoch 10 | Train Loss: 0.0052103317003809844 | Accuracy: 0.9983834104465131 | Precision: 0.9983846927076548 | Recall: 0.9983834104465131 | F1: 0.9983836395113558\n"
     ]
    },
    {
     "name": "stderr",
     "output_type": "stream",
     "text": [
      "Validating: 100%|██████████| 71/71 [00:13<00:00,  5.25it/s]\n"
     ]
    },
    {
     "name": "stdout",
     "output_type": "stream",
     "text": [
      "\tValidation Loss: 0.008205798547171813 | Accuracy: 0.9977703455964325 | Precision: 0.9977758806904431 | Recall: 0.9977703455964325 | F1: 0.9977692303391963\n",
      "Saving best model at epoch 10...\n"
     ]
    },
    {
     "name": "stderr",
     "output_type": "stream",
     "text": [
      "Training: 100%|██████████| 281/281 [02:25<00:00,  1.93it/s]\n"
     ]
    },
    {
     "name": "stdout",
     "output_type": "stream",
     "text": [
      "Epoch 11 | Train Loss: 0.003479519818109991 | Accuracy: 0.9990523440548525 | Precision: 0.9990524837710025 | Recall: 0.9990523440548525 | F1: 0.9990523838617911\n"
     ]
    },
    {
     "name": "stderr",
     "output_type": "stream",
     "text": [
      "Validating: 100%|██████████| 71/71 [00:13<00:00,  5.30it/s]\n"
     ]
    },
    {
     "name": "stdout",
     "output_type": "stream",
     "text": [
      "\tValidation Loss: 0.012390832284926174 | Accuracy: 0.9971014492753624 | Precision: 0.9971150791009783 | Recall: 0.9971014492753624 | F1: 0.9970976494934927\n"
     ]
    },
    {
     "name": "stderr",
     "output_type": "stream",
     "text": [
      "Training: 100%|██████████| 281/281 [02:25<00:00,  1.93it/s]\n"
     ]
    },
    {
     "name": "stdout",
     "output_type": "stream",
     "text": [
      "Epoch 12 | Train Loss: 0.0030762633044710565 | Accuracy: 0.9991638329895758 | Precision: 0.9991643625053707 | Recall: 0.9991638329895758 | F1: 0.9991639903272116\n"
     ]
    },
    {
     "name": "stderr",
     "output_type": "stream",
     "text": [
      "Validating: 100%|██████████| 71/71 [00:13<00:00,  5.25it/s]\n"
     ]
    },
    {
     "name": "stdout",
     "output_type": "stream",
     "text": [
      "\tValidation Loss: 0.010601992178712414 | Accuracy: 0.9977703455964325 | Precision: 0.9977813603408127 | Recall: 0.9977703455964325 | F1: 0.9977648844534304\n"
     ]
    },
    {
     "name": "stderr",
     "output_type": "stream",
     "text": [
      "Training: 100%|██████████| 281/281 [02:25<00:00,  1.93it/s]\n"
     ]
    },
    {
     "name": "stdout",
     "output_type": "stream",
     "text": [
      "Epoch 13 | Train Loss: 0.002099160871516024 | Accuracy: 0.9994982997937455 | Precision: 0.9994984843563223 | Recall: 0.9994982997937455 | F1: 0.9994982530382861\n"
     ]
    },
    {
     "name": "stderr",
     "output_type": "stream",
     "text": [
      "Validating: 100%|██████████| 71/71 [00:13<00:00,  5.33it/s]\n"
     ]
    },
    {
     "name": "stdout",
     "output_type": "stream",
     "text": [
      "\tValidation Loss: 0.00844361656591375 | Accuracy: 0.9977703455964325 | Precision: 0.9977772007501104 | Recall: 0.9977703455964325 | F1: 0.9977687891243856\n"
     ]
    },
    {
     "name": "stderr",
     "output_type": "stream",
     "text": [
      "Training: 100%|██████████| 281/281 [02:25<00:00,  1.93it/s]\n"
     ]
    },
    {
     "name": "stdout",
     "output_type": "stream",
     "text": [
      "Epoch 14 | Train Loss: 0.001212969748049542 | Accuracy: 0.9996097887284687 | Precision: 0.999609891375294 | Recall: 0.9996097887284687 | F1: 0.9996097808685188\n"
     ]
    },
    {
     "name": "stderr",
     "output_type": "stream",
     "text": [
      "Validating: 100%|██████████| 71/71 [00:13<00:00,  5.26it/s]\n"
     ]
    },
    {
     "name": "stdout",
     "output_type": "stream",
     "text": [
      "\tValidation Loss: 0.008700072700968365 | Accuracy: 0.9977703455964325 | Precision: 0.9977742605831909 | Recall: 0.9977703455964325 | F1: 0.9977697474491407\n"
     ]
    },
    {
     "name": "stderr",
     "output_type": "stream",
     "text": [
      "Training: 100%|██████████| 281/281 [02:25<00:00,  1.93it/s]\n"
     ]
    },
    {
     "name": "stdout",
     "output_type": "stream",
     "text": [
      "Epoch 15 | Train Loss: 0.0009023717416554886 | Accuracy: 0.9998885110652768 | Precision: 0.9998886422287294 | Recall: 0.9998885110652768 | F1: 0.9998885069585742\n"
     ]
    },
    {
     "name": "stderr",
     "output_type": "stream",
     "text": [
      "Validating: 100%|██████████| 71/71 [00:13<00:00,  5.28it/s]\n"
     ]
    },
    {
     "name": "stdout",
     "output_type": "stream",
     "text": [
      "\tValidation Loss: 0.008790949767732766 | Accuracy: 0.9979933110367893 | Precision: 0.9980024262088568 | Recall: 0.9979933110367893 | F1: 0.997992190420981\n",
      "Early stopping at epoch 15\n",
      "Training finished!\n"
     ]
    },
    {
     "data": {
      "text/plain": [
       "({'Loss': [0.48491886731409517,\n",
       "   0.0538350202381823,\n",
       "   0.029588156279501277,\n",
       "   0.021540768242572034,\n",
       "   0.01680144109784748,\n",
       "   0.010543071166790352,\n",
       "   0.006101825183435191,\n",
       "   0.009601226149502233,\n",
       "   0.007283177429939011,\n",
       "   0.0052103317003809844,\n",
       "   0.003479519818109991,\n",
       "   0.0030762633044710565,\n",
       "   0.002099160871516024,\n",
       "   0.001212969748049542,\n",
       "   0.0009023717416554886],\n",
       "  'Accuracy': [0.851831205752829,\n",
       "   0.9847260159429176,\n",
       "   0.9911923741568649,\n",
       "   0.9931434305145215,\n",
       "   0.9951502313395395,\n",
       "   0.9970455432298344,\n",
       "   0.9986621327833213,\n",
       "   0.9975472434360889,\n",
       "   0.9978817102402586,\n",
       "   0.9983834104465131,\n",
       "   0.9990523440548525,\n",
       "   0.9991638329895758,\n",
       "   0.9994982997937455,\n",
       "   0.9996097887284687,\n",
       "   0.9998885110652768],\n",
       "  'Precision': [0.8562353707611922,\n",
       "   0.9847482811880724,\n",
       "   0.9912001016663007,\n",
       "   0.9931419940292027,\n",
       "   0.9951536046699258,\n",
       "   0.9970464045099011,\n",
       "   0.9986626424522295,\n",
       "   0.9975480121131628,\n",
       "   0.9978821736858493,\n",
       "   0.9983846927076548,\n",
       "   0.9990524837710025,\n",
       "   0.9991643625053707,\n",
       "   0.9994984843563223,\n",
       "   0.999609891375294,\n",
       "   0.9998886422287294],\n",
       "  'Recall': [0.851831205752829,\n",
       "   0.9847260159429176,\n",
       "   0.9911923741568649,\n",
       "   0.9931434305145215,\n",
       "   0.9951502313395395,\n",
       "   0.9970455432298344,\n",
       "   0.9986621327833213,\n",
       "   0.9975472434360889,\n",
       "   0.9978817102402586,\n",
       "   0.9983834104465131,\n",
       "   0.9990523440548525,\n",
       "   0.9991638329895758,\n",
       "   0.9994982997937455,\n",
       "   0.9996097887284687,\n",
       "   0.9998885110652768],\n",
       "  'F1': [0.851987415090651,\n",
       "   0.9847308632026897,\n",
       "   0.9911953036353338,\n",
       "   0.9931414676473767,\n",
       "   0.995151232952641,\n",
       "   0.997045436731463,\n",
       "   0.9986622548022507,\n",
       "   0.9975472517203682,\n",
       "   0.9978816409105141,\n",
       "   0.9983836395113558,\n",
       "   0.9990523838617911,\n",
       "   0.9991639903272116,\n",
       "   0.9994982530382861,\n",
       "   0.9996097808685188,\n",
       "   0.9998885069585742]},\n",
       " {'Loss': [0.04949109032618958,\n",
       "   0.05818795236024323,\n",
       "   0.02763953889247922,\n",
       "   0.027056320811438203,\n",
       "   0.018636341980645354,\n",
       "   0.013911980776112973,\n",
       "   0.03104505434963921,\n",
       "   0.03299952638015794,\n",
       "   0.016386282215637652,\n",
       "   0.008205798547171813,\n",
       "   0.012390832284926174,\n",
       "   0.010601992178712414,\n",
       "   0.00844361656591375,\n",
       "   0.008700072700968365,\n",
       "   0.008790949767732766],\n",
       "  'Accuracy': [0.9866220735785953,\n",
       "   0.9850613154960981,\n",
       "   0.9928651059085841,\n",
       "   0.9933110367892977,\n",
       "   0.9944258639910813,\n",
       "   0.9964325529542921,\n",
       "   0.9919732441471572,\n",
       "   0.991304347826087,\n",
       "   0.9946488294314382,\n",
       "   0.9977703455964325,\n",
       "   0.9971014492753624,\n",
       "   0.9977703455964325,\n",
       "   0.9977703455964325,\n",
       "   0.9977703455964325,\n",
       "   0.9979933110367893],\n",
       "  'Precision': [0.9867407037517816,\n",
       "   0.9853798024370566,\n",
       "   0.992990390048656,\n",
       "   0.9933182818575303,\n",
       "   0.9944966983210494,\n",
       "   0.9964634305369844,\n",
       "   0.9921960531562362,\n",
       "   0.9917188350970543,\n",
       "   0.9946733743777681,\n",
       "   0.9977758806904431,\n",
       "   0.9971150791009783,\n",
       "   0.9977813603408127,\n",
       "   0.9977772007501104,\n",
       "   0.9977742605831909,\n",
       "   0.9980024262088568],\n",
       "  'Recall': [0.9866220735785953,\n",
       "   0.9850613154960981,\n",
       "   0.9928651059085841,\n",
       "   0.9933110367892977,\n",
       "   0.9944258639910813,\n",
       "   0.9964325529542921,\n",
       "   0.9919732441471572,\n",
       "   0.991304347826087,\n",
       "   0.9946488294314382,\n",
       "   0.9977703455964325,\n",
       "   0.9971014492753624,\n",
       "   0.9977703455964325,\n",
       "   0.9977703455964325,\n",
       "   0.9977703455964325,\n",
       "   0.9979933110367893],\n",
       "  'F1': [0.9866529774144054,\n",
       "   0.9850301012282345,\n",
       "   0.9928640361818857,\n",
       "   0.9932975015777661,\n",
       "   0.9944225315823769,\n",
       "   0.996435217885553,\n",
       "   0.9919884277490316,\n",
       "   0.991275873642298,\n",
       "   0.9946430994253154,\n",
       "   0.9977692303391963,\n",
       "   0.9970976494934927,\n",
       "   0.9977648844534304,\n",
       "   0.9977687891243856,\n",
       "   0.9977697474491407,\n",
       "   0.997992190420981]})"
      ]
     },
     "execution_count": 13,
     "metadata": {},
     "output_type": "execute_result"
    },
    {
     "data": {
      "image/png": "[encoded data removed]",
      "text/plain": [
       "<Figure size 1000x500 with 1 Axes>"
      ]
     },
     "metadata": {},
     "output_type": "display_data"
    },
    {
     "data": {
      "image/png": "[encoded data removed]",
      "text/plain": [
       "<Figure size 1000x500 with 1 Axes>"
      ]
     },
     "metadata": {},
     "output_type": "display_data"
    },
    {
     "data": {
      "image/png": "[encoded data removed]",
      "text/plain": [
       "<Figure size 1000x500 with 1 Axes>"
      ]
     },
     "metadata": {},
     "output_type": "display_data"
    }
   ],
   "source": [
    "run_training(train_loader, val_loader, model, model_name, criterion, optimizer, config)"
   ]
  },
  {
   "cell_type": "markdown",
   "id": "1290357e",
   "metadata": {
    "papermill": {
     "duration": 0.434881,
     "end_time": "2023-12-02T16:55:58.026450",
     "exception": false,
     "start_time": "2023-12-02T16:55:57.591569",
     "status": "completed"
    },
    "tags": []
   },
   "source": [
    "## Inference"
   ]
  },
  {
   "cell_type": "code",
   "execution_count": 14,
   "id": "d6174097",
   "metadata": {
    "execution": {
     "iopub.execute_input": "2023-12-02T16:55:58.994018Z",
     "iopub.status.busy": "2023-12-02T16:55:58.993642Z",
     "iopub.status.idle": "2023-12-02T16:55:59.001433Z",
     "shell.execute_reply": "2023-12-02T16:55:59.000551Z"
    },
    "papermill": {
     "duration": 0.47899,
     "end_time": "2023-12-02T16:55:59.003289",
     "exception": false,
     "start_time": "2023-12-02T16:55:58.524299",
     "status": "completed"
    },
    "tags": []
   },
   "outputs": [],
   "source": [
    "class InferenceDataset(Dataset):\n",
    "    def __init__(self, images_dir, transform=None):\n",
    "        super().__init__()\n",
    "        self.images_dir = images_dir\n",
    "        self.transform = transform\n",
    "\n",
    "        self.images = os.listdir(images_dir)\n",
    "    \n",
    "    def __len__(self):\n",
    "        return len(self.images)\n",
    "    \n",
    "    def __getitem__(self, index):\n",
    "        img_name = self.images[index]\n",
    "        img_path = os.path.join(self.images_dir, img_name)\n",
    "\n",
    "        image = Image.open(img_path).convert('RGB')\n",
    "        if self.transform:\n",
    "            image = self.transform(image)\n",
    "\n",
    "        # to submit to kaggle competition I need to return image name\n",
    "        return img_name, image"
   ]
  },
  {
   "cell_type": "code",
   "execution_count": 15,
   "id": "da80c1d0",
   "metadata": {
    "execution": {
     "iopub.execute_input": "2023-12-02T16:55:59.923853Z",
     "iopub.status.busy": "2023-12-02T16:55:59.923486Z",
     "iopub.status.idle": "2023-12-02T16:55:59.933814Z",
     "shell.execute_reply": "2023-12-02T16:55:59.932976Z"
    },
    "papermill": {
     "duration": 0.481847,
     "end_time": "2023-12-02T16:55:59.936166",
     "exception": false,
     "start_time": "2023-12-02T16:55:59.454319",
     "status": "completed"
    },
    "tags": []
   },
   "outputs": [],
   "source": [
    "def inference(test_loader, model, model_name, config):\n",
    "    if model_name == 'resnet50' or model_name == 'resnet101':\n",
    "        model.fc = nn.Linear(2048, 10)\n",
    "    elif model_name == 'cvt_3' or model_name == 'cvt_7' or model_name == 'cvt_14':\n",
    "        pass\n",
    "    else:\n",
    "        raise NotImplementedError('unknown architecture')\n",
    "    \n",
    "    model = model.to(config['DEVICE'])\n",
    "    model.load_state_dict(torch.load(os.path.join(config['MODELS_DIR'], f'{model_name}_best_model.pth')))\n",
    "    model.eval()\n",
    "    \n",
    "    df = pd.DataFrame()\n",
    "    \n",
    "    with torch.no_grad():\n",
    "        for data in tqdm(test_loader, desc='Inference'):\n",
    "            img_name, imgs = data\n",
    "            imgs = imgs.to(config['DEVICE'])\n",
    "\n",
    "            logits = model(imgs)\n",
    "            probas = F.softmax(logits, dim=1)\n",
    "            \n",
    "            block = np.concatenate((np.array(img_name).reshape(-1, 1), probas.detach().cpu().numpy()), axis=1)\n",
    "            block = pd.DataFrame(block, columns=['img', 'c0', 'c1', 'c2',\n",
    "                                                 'c3', 'c4', 'c5',\n",
    "                                                 'c6', 'c7', 'c8',\n",
    "                                                 'c9'])\n",
    "            df = pd.concat((df, block), axis=0, ignore_index=True)\n",
    "    return df"
   ]
  },
  {
   "cell_type": "code",
   "execution_count": 16,
   "id": "310f1f66",
   "metadata": {
    "execution": {
     "iopub.execute_input": "2023-12-02T16:56:00.861771Z",
     "iopub.status.busy": "2023-12-02T16:56:00.861374Z",
     "iopub.status.idle": "2023-12-02T17:01:47.044087Z",
     "shell.execute_reply": "2023-12-02T17:01:47.042998Z"
    },
    "papermill": {
     "duration": 346.670161,
     "end_time": "2023-12-02T17:01:47.046543",
     "exception": false,
     "start_time": "2023-12-02T16:56:00.376382",
     "status": "completed"
    },
    "tags": []
   },
   "outputs": [
    {
     "name": "stderr",
     "output_type": "stream",
     "text": [
      "Inference: 100%|██████████| 1246/1246 [05:42<00:00,  3.64it/s]\n"
     ]
    }
   ],
   "source": [
    "test_transformations = val_transforms\n",
    "test_dataset = InferenceDataset(config['TEST_DIR'], transform=test_transformations)\n",
    "test_loader = DataLoader(test_dataset, batch_size=config['BATCH_SIZE'], shuffle=False, num_workers=config['NUM_WORKERS'])\n",
    "\n",
    "# this csv file will be submitted to kaggle\n",
    "df = inference(test_loader, model, model_name, config)"
   ]
  },
  {
   "cell_type": "code",
   "execution_count": 17,
   "id": "16a7b155",
   "metadata": {
    "execution": {
     "iopub.execute_input": "2023-12-02T17:01:48.107788Z",
     "iopub.status.busy": "2023-12-02T17:01:48.106872Z",
     "iopub.status.idle": "2023-12-02T17:01:48.831749Z",
     "shell.execute_reply": "2023-12-02T17:01:48.830726Z"
    },
    "papermill": {
     "duration": 1.261031,
     "end_time": "2023-12-02T17:01:48.834165",
     "exception": false,
     "start_time": "2023-12-02T17:01:47.573134",
     "status": "completed"
    },
    "tags": []
   },
   "outputs": [],
   "source": [
    "df.to_csv(f'submission {model_name}.csv', index=False)"
   ]
  },
  {
   "cell_type": "code",
   "execution_count": null,
   "id": "b55258d6",
   "metadata": {
    "papermill": {
     "duration": 0.525485,
     "end_time": "2023-12-02T17:01:49.937231",
     "exception": false,
     "start_time": "2023-12-02T17:01:49.411746",
     "status": "completed"
    },
    "tags": []
   },
   "outputs": [],
   "source": []
  }
 ],
 "metadata": {
  "kaggle": {
   "accelerator": "gpu",
   "dataSources": [
    {
     "databundleVersionId": 868335,
     "sourceId": 5048,
     "sourceType": "competition"
    },
    {
     "datasetId": 4096895,
     "sourceId": 7106292,
     "sourceType": "datasetVersion"
    }
   ],
   "dockerImageVersionId": 30588,
   "isGpuEnabled": true,
   "isInternetEnabled": true,
   "language": "python",
   "sourceType": "notebook"
  },
  "kernelspec": {
   "display_name": "Python 3",
   "language": "python",
   "name": "python3"
  },
  "language_info": {
   "codemirror_mode": {
    "name": "ipython",
    "version": 3
   },
   "file_extension": ".py",
   "mimetype": "text/x-python",
   "name": "python",
   "nbconvert_exporter": "python",
   "pygments_lexer": "ipython3",
   "version": "3.10.12"
  },
  "papermill": {
   "default_parameters": {},
   "duration": 2772.210374,
   "end_time": "2023-12-02T17:01:53.140093",
   "environment_variables": {},
   "exception": null,
   "input_path": "__notebook__.ipynb",
   "output_path": "__notebook__.ipynb",
   "parameters": {},
   "start_time": "2023-12-02T16:15:40.929719",
   "version": "2.4.0"
  }
 },
 "nbformat": 4,
 "nbformat_minor": 5
}
