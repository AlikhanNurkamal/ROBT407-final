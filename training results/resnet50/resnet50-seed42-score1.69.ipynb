{
 "cells": [
  {
   "cell_type": "code",
   "execution_count": 1,
   "id": "e929af36",
   "metadata": {
    "execution": {
     "iopub.execute_input": "2023-11-25T14:57:49.936311Z",
     "iopub.status.busy": "2023-11-25T14:57:49.935500Z",
     "iopub.status.idle": "2023-11-25T14:57:54.685662Z",
     "shell.execute_reply": "2023-11-25T14:57:54.684874Z"
    },
    "papermill": {
     "duration": 4.761099,
     "end_time": "2023-11-25T14:57:54.687941",
     "exception": false,
     "start_time": "2023-11-25T14:57:49.926842",
     "status": "completed"
    },
    "tags": []
   },
   "outputs": [
    {
     "name": "stderr",
     "output_type": "stream",
     "text": [
      "/opt/conda/lib/python3.10/site-packages/scipy/__init__.py:146: UserWarning: A NumPy version >=1.16.5 and <1.23.0 is required for this version of SciPy (detected version 1.24.3\n",
      "  warnings.warn(f\"A NumPy version >={np_minversion} and <{np_maxversion}\"\n"
     ]
    }
   ],
   "source": [
    "import os\n",
    "import math\n",
    "import random\n",
    "import numpy as np\n",
    "import pandas as pd\n",
    "import matplotlib.pyplot as plt\n",
    "\n",
    "from sklearn.metrics import accuracy_score, precision_score, recall_score, f1_score\n",
    "from sklearn.model_selection import train_test_split\n",
    "from PIL import Image\n",
    "from glob import glob\n",
    "from tqdm import tqdm\n",
    "\n",
    "import torch\n",
    "import torch.nn as nn\n",
    "import torch.nn.functional as F\n",
    "from torch.utils.data import Dataset, DataLoader\n",
    "from torchvision import transforms"
   ]
  },
  {
   "cell_type": "code",
   "execution_count": 2,
   "id": "0ef0bbbe",
   "metadata": {
    "execution": {
     "iopub.execute_input": "2023-11-25T14:57:54.703592Z",
     "iopub.status.busy": "2023-11-25T14:57:54.703163Z",
     "iopub.status.idle": "2023-11-25T14:57:54.779454Z",
     "shell.execute_reply": "2023-11-25T14:57:54.778429Z"
    },
    "papermill": {
     "duration": 0.087057,
     "end_time": "2023-11-25T14:57:54.782303",
     "exception": false,
     "start_time": "2023-11-25T14:57:54.695246",
     "status": "completed"
    },
    "tags": []
   },
   "outputs": [],
   "source": [
    "def set_seed(seed_value=42):\n",
    "    \"\"\"Set seed for reproducibility.\"\"\"\n",
    "    random.seed(seed_value)\n",
    "    np.random.seed(seed_value)\n",
    "    torch.manual_seed(seed_value)\n",
    "\n",
    "    # If you are using GPU\n",
    "    if torch.cuda.is_available():\n",
    "        torch.cuda.manual_seed_all(seed_value)\n",
    "        torch.backends.cudnn.deterministic = True\n",
    "        torch.backends.cudnn.benchmark = False\n",
    "\n",
    "set_seed(42)"
   ]
  },
  {
   "cell_type": "markdown",
   "id": "1896ac98",
   "metadata": {
    "papermill": {
     "duration": 0.008048,
     "end_time": "2023-11-25T14:57:54.802719",
     "exception": false,
     "start_time": "2023-11-25T14:57:54.794671",
     "status": "completed"
    },
    "tags": []
   },
   "source": [
    "## Project configuration"
   ]
  },
  {
   "cell_type": "code",
   "execution_count": 3,
   "id": "6465ab5b",
   "metadata": {
    "execution": {
     "iopub.execute_input": "2023-11-25T14:57:54.817585Z",
     "iopub.status.busy": "2023-11-25T14:57:54.817261Z",
     "iopub.status.idle": "2023-11-25T14:57:54.823369Z",
     "shell.execute_reply": "2023-11-25T14:57:54.822223Z"
    },
    "papermill": {
     "duration": 0.016719,
     "end_time": "2023-11-25T14:57:54.826175",
     "exception": false,
     "start_time": "2023-11-25T14:57:54.809456",
     "status": "completed"
    },
    "tags": []
   },
   "outputs": [],
   "source": [
    "config = {\n",
    "    'ROOT_DIR': '/kaggle/input/state-farm-distracted-driver-detection/imgs/train',\n",
    "    'TEST_DIR': '/kaggle/input/state-farm-distracted-driver-detection/imgs/test',\n",
    "    'MODELS_DIR': '/kaggle/working/',\n",
    "    'IMG_SIZE': 224,\n",
    "    'BATCH_SIZE': 64,\n",
    "    'EPOCHS': 100,\n",
    "    'PATIENCE': 9,\n",
    "    'WARMUP_EPOCHS': 5,\n",
    "    'LR_INIT': 1e-4,\n",
    "    'WEIGHT_DECAY': 3e-4,\n",
    "    'NUM_CLASSES': 10,\n",
    "    'NUM_WORKERS': 4,\n",
    "    'NUM_CHANNELS': 3,\n",
    "    'DEVICE': torch.device('cuda') if torch.cuda.is_available() else torch.device('cpu'),\n",
    "}"
   ]
  },
  {
   "cell_type": "markdown",
   "id": "0ae8b464",
   "metadata": {
    "papermill": {
     "duration": 0.007159,
     "end_time": "2023-11-25T14:57:54.841931",
     "exception": false,
     "start_time": "2023-11-25T14:57:54.834772",
     "status": "completed"
    },
    "tags": []
   },
   "source": [
    "## Utility functions and variables"
   ]
  },
  {
   "cell_type": "code",
   "execution_count": 4,
   "id": "7d66a6bd",
   "metadata": {
    "execution": {
     "iopub.execute_input": "2023-11-25T14:57:54.861005Z",
     "iopub.status.busy": "2023-11-25T14:57:54.860569Z",
     "iopub.status.idle": "2023-11-25T14:57:54.875222Z",
     "shell.execute_reply": "2023-11-25T14:57:54.874506Z"
    },
    "papermill": {
     "duration": 0.027761,
     "end_time": "2023-11-25T14:57:54.877768",
     "exception": false,
     "start_time": "2023-11-25T14:57:54.850007",
     "status": "completed"
    },
    "tags": []
   },
   "outputs": [],
   "source": [
    "# train transformations\n",
    "train_transforms = transforms.Compose([\n",
    "    transforms.Resize((config['IMG_SIZE'], config['IMG_SIZE'])),\n",
    "    transforms.RandomHorizontalFlip(p=0.5),\n",
    "    transforms.RandomRotation(degrees=(-30, 30)),\n",
    "    transforms.GaussianBlur(kernel_size=3),\n",
    "    transforms.ToTensor(),\n",
    "    transforms.Normalize(mean=[0.485, 0.456, 0.406], \n",
    "                         std=[0.229, 0.224, 0.225]),\n",
    "])\n",
    "\n",
    "# val/test/inference transformations\n",
    "val_transforms = transforms.Compose([\n",
    "    transforms.Resize((config['IMG_SIZE'], config['IMG_SIZE'])),\n",
    "    transforms.ToTensor(),\n",
    "    transforms.Normalize(mean=[0.485, 0.456, 0.406], \n",
    "                         std=[0.229, 0.224, 0.225]),\n",
    "])\n",
    "\n",
    "# read the directory and get all images and their corresponding labels\n",
    "def get_images_labels():\n",
    "    images = []\n",
    "    labels = []\n",
    "\n",
    "    for label in list(glob(os.path.join(config['ROOT_DIR'], '*'))):\n",
    "        imgs_paths = list(glob(os.path.join(config['ROOT_DIR'], label, '*.jpg')))\n",
    "        labels.extend([int(label[-1]) for i in range(len(imgs_paths))])\n",
    "        images.extend([image for image in imgs_paths])\n",
    "    \n",
    "    return images, labels\n",
    "\n",
    "# custom Dataset class\n",
    "class CNNCustomDataset(Dataset):\n",
    "    def __init__(self, images, labels, transform=None):\n",
    "        super().__init__()\n",
    "        self.images = images\n",
    "        self.labels = labels\n",
    "        self.transform = transform\n",
    "\n",
    "    def __len__(self):\n",
    "        return len(self.images)\n",
    "\n",
    "    def __getitem__(self, index):\n",
    "        # getting the path to one image\n",
    "        img_path = self.images[index]\n",
    "\n",
    "        image = Image.open(img_path).convert('RGB')\n",
    "        label = self.labels[index]\n",
    "\n",
    "        if self.transform:\n",
    "            image = self.transform(image)\n",
    "\n",
    "        return image, label"
   ]
  },
  {
   "cell_type": "code",
   "execution_count": 5,
   "id": "07d86f06",
   "metadata": {
    "execution": {
     "iopub.execute_input": "2023-11-25T14:57:54.893986Z",
     "iopub.status.busy": "2023-11-25T14:57:54.893691Z",
     "iopub.status.idle": "2023-11-25T14:57:54.900108Z",
     "shell.execute_reply": "2023-11-25T14:57:54.899356Z"
    },
    "papermill": {
     "duration": 0.015895,
     "end_time": "2023-11-25T14:57:54.901978",
     "exception": false,
     "start_time": "2023-11-25T14:57:54.886083",
     "status": "completed"
    },
    "tags": []
   },
   "outputs": [],
   "source": [
    "# to get DataLoaders from custom Dataset\n",
    "def get_dataloaders():\n",
    "    train_transformations = train_transforms\n",
    "    val_transformations = val_transforms\n",
    "\n",
    "    all_images, all_labels = get_images_labels()\n",
    "    train_images, val_images, train_labels, val_labels = train_test_split(all_images,\n",
    "                                                                          all_labels,\n",
    "                                                                          test_size=0.2,\n",
    "                                                                          random_state=42)\n",
    "    \n",
    "    train_dataset = CNNCustomDataset(train_images, train_labels, transform=train_transformations)\n",
    "    val_dataset = CNNCustomDataset(val_images, val_labels, transform=val_transformations)\n",
    "\n",
    "    train_loader = DataLoader(train_dataset, batch_size=config['BATCH_SIZE'], shuffle=True, num_workers=config['NUM_WORKERS'])\n",
    "    val_loader = DataLoader(val_dataset, batch_size=config['BATCH_SIZE'], shuffle=False, num_workers=config['NUM_WORKERS'])\n",
    "\n",
    "    return train_loader, val_loader"
   ]
  },
  {
   "cell_type": "code",
   "execution_count": 6,
   "id": "22dc2011",
   "metadata": {
    "execution": {
     "iopub.execute_input": "2023-11-25T14:57:54.916353Z",
     "iopub.status.busy": "2023-11-25T14:57:54.916085Z",
     "iopub.status.idle": "2023-11-25T14:57:54.921564Z",
     "shell.execute_reply": "2023-11-25T14:57:54.920766Z"
    },
    "papermill": {
     "duration": 0.014928,
     "end_time": "2023-11-25T14:57:54.923433",
     "exception": false,
     "start_time": "2023-11-25T14:57:54.908505",
     "status": "completed"
    },
    "tags": []
   },
   "outputs": [],
   "source": [
    "# cosine annealing adjusting learning rate\n",
    "def adjust_learning_rate(optimizer, epoch, warmup=True, warmup_ep=config['WARMUP_EPOCHS'], enable_cos=True):\n",
    "    lr = config['LR_INIT']\n",
    "    if warmup and epoch < warmup_ep:\n",
    "        lr = lr / (warmup_ep - epoch)\n",
    "    elif enable_cos:\n",
    "        lr *= 0.5 * (1. + math.cos(math.pi * (epoch - warmup_ep) / (config['EPOCHS'] - warmup_ep)))\n",
    "\n",
    "    for param_group in optimizer.param_groups:\n",
    "        param_group['lr'] = lr"
   ]
  },
  {
   "cell_type": "code",
   "execution_count": 7,
   "id": "eacc0f03",
   "metadata": {
    "execution": {
     "iopub.execute_input": "2023-11-25T14:57:54.937688Z",
     "iopub.status.busy": "2023-11-25T14:57:54.937425Z",
     "iopub.status.idle": "2023-11-25T14:57:54.942300Z",
     "shell.execute_reply": "2023-11-25T14:57:54.941447Z"
    },
    "papermill": {
     "duration": 0.014115,
     "end_time": "2023-11-25T14:57:54.944164",
     "exception": false,
     "start_time": "2023-11-25T14:57:54.930049",
     "status": "completed"
    },
    "tags": []
   },
   "outputs": [],
   "source": [
    "# in order to evaluate the model on metrics such as accuracy and f1\n",
    "def get_metrics(labels, preds):\n",
    "    accuracy = accuracy_score(labels, preds)\n",
    "    precision = precision_score(labels, preds, average='weighted')\n",
    "    recall = recall_score(labels, preds, average='weighted')\n",
    "    f1 = f1_score(labels, preds, average='weighted')\n",
    "    return accuracy, precision, recall, f1"
   ]
  },
  {
   "cell_type": "code",
   "execution_count": 8,
   "id": "98b8e8ab",
   "metadata": {
    "execution": {
     "iopub.execute_input": "2023-11-25T14:57:54.958548Z",
     "iopub.status.busy": "2023-11-25T14:57:54.958292Z",
     "iopub.status.idle": "2023-11-25T14:57:54.963371Z",
     "shell.execute_reply": "2023-11-25T14:57:54.962582Z"
    },
    "papermill": {
     "duration": 0.014122,
     "end_time": "2023-11-25T14:57:54.965134",
     "exception": false,
     "start_time": "2023-11-25T14:57:54.951012",
     "status": "completed"
    },
    "tags": []
   },
   "outputs": [],
   "source": [
    "# plot training process in graphs\n",
    "def save_graphs(train, val, graph_type='None'):\n",
    "    plt.figure(figsize=(10,5))\n",
    "    plt.title(f\"Training and Test {graph_type}\")\n",
    "    plt.plot(val, label=\"validation\")\n",
    "    plt.plot(train, label=\"train\")\n",
    "    plt.xlabel(\"Epoch\")\n",
    "    plt.ylabel(graph_type)\n",
    "    plt.legend()\n",
    "    plt.savefig(f'{graph_type}.png')"
   ]
  },
  {
   "cell_type": "code",
   "execution_count": 9,
   "id": "f9b84785",
   "metadata": {
    "execution": {
     "iopub.execute_input": "2023-11-25T14:57:54.979811Z",
     "iopub.status.busy": "2023-11-25T14:57:54.979169Z",
     "iopub.status.idle": "2023-11-25T14:57:54.986942Z",
     "shell.execute_reply": "2023-11-25T14:57:54.986248Z"
    },
    "papermill": {
     "duration": 0.016974,
     "end_time": "2023-11-25T14:57:54.988817",
     "exception": false,
     "start_time": "2023-11-25T14:57:54.971843",
     "status": "completed"
    },
    "tags": []
   },
   "outputs": [],
   "source": [
    "def train(train_loader, model, loss_fn, optimizer, epoch, device):\n",
    "    model.train()\n",
    "\n",
    "    # will be used to calculate metrics\n",
    "    predictions = []\n",
    "    all_labels = []\n",
    "    total_loss = 0.0\n",
    "\n",
    "    for data in tqdm(train_loader, desc='Training'):\n",
    "        imgs, labels = data\n",
    "        imgs, labels = imgs.to(device), labels.to(device)\n",
    "\n",
    "        optimizer.zero_grad()\n",
    "        logits = model(imgs)\n",
    "        loss = loss_fn(logits, labels)\n",
    "        loss.backward()\n",
    "        optimizer.step()\n",
    "\n",
    "        # get predictions as the index of max logit\n",
    "        preds = torch.argmax(logits, dim=1)\n",
    "        predictions.extend(preds.detach().cpu().numpy())\n",
    "        all_labels.extend(labels.detach().cpu().numpy())\n",
    "        total_loss += loss.item()\n",
    "    \n",
    "    # get metrics\n",
    "    accuracy, precision, recall, f1 = get_metrics(all_labels, predictions)\n",
    "    avg_loss = total_loss / len(train_loader)\n",
    "\n",
    "    print(f'Epoch {epoch} | Train Loss: {avg_loss} | Accuracy: {accuracy} | Precision: {precision} | Recall: {recall} | F1: {f1}')\n",
    "    return avg_loss, accuracy, precision, recall, f1"
   ]
  },
  {
   "cell_type": "code",
   "execution_count": 10,
   "id": "a38580c6",
   "metadata": {
    "execution": {
     "iopub.execute_input": "2023-11-25T14:57:55.003058Z",
     "iopub.status.busy": "2023-11-25T14:57:55.002789Z",
     "iopub.status.idle": "2023-11-25T14:57:55.010175Z",
     "shell.execute_reply": "2023-11-25T14:57:55.009342Z"
    },
    "papermill": {
     "duration": 0.01643,
     "end_time": "2023-11-25T14:57:55.012016",
     "exception": false,
     "start_time": "2023-11-25T14:57:54.995586",
     "status": "completed"
    },
    "tags": []
   },
   "outputs": [],
   "source": [
    "def evaluate(val_loader, model, loss_fn, device):\n",
    "    model.eval()\n",
    "\n",
    "    # will be used to calculate metrics\n",
    "    predictions = []\n",
    "    all_labels = []\n",
    "    total_loss = 0.0\n",
    "\n",
    "    for data in tqdm(val_loader, desc='Validating'):\n",
    "        imgs, labels = data\n",
    "        imgs, labels = imgs.to(device), labels.to(device)\n",
    "\n",
    "        with torch.no_grad():\n",
    "            logits = model(imgs)\n",
    "            loss = loss_fn(logits, labels)\n",
    "\n",
    "        # get predictions as the index of max logit\n",
    "        preds = torch.argmax(logits, dim=1)\n",
    "        predictions.extend(preds.detach().cpu().numpy())\n",
    "        all_labels.extend(labels.detach().cpu().numpy())\n",
    "        total_loss += loss.item()\n",
    "    \n",
    "    # get metrics\n",
    "    accuracy, precision, recall, f1 = get_metrics(all_labels, predictions)\n",
    "    avg_loss = total_loss / len(val_loader)\n",
    "\n",
    "    print(f'\\tValidation Loss: {avg_loss} | Accuracy: {accuracy} | Precision: {precision} | Recall: {recall} | F1: {f1}')\n",
    "    return avg_loss, accuracy, precision, recall, f1"
   ]
  },
  {
   "cell_type": "code",
   "execution_count": 11,
   "id": "79d9fc89",
   "metadata": {
    "execution": {
     "iopub.execute_input": "2023-11-25T14:57:55.026012Z",
     "iopub.status.busy": "2023-11-25T14:57:55.025735Z",
     "iopub.status.idle": "2023-11-25T14:57:55.037084Z",
     "shell.execute_reply": "2023-11-25T14:57:55.036324Z"
    },
    "papermill": {
     "duration": 0.020415,
     "end_time": "2023-11-25T14:57:55.038877",
     "exception": false,
     "start_time": "2023-11-25T14:57:55.018462",
     "status": "completed"
    },
    "tags": []
   },
   "outputs": [],
   "source": [
    "def run_training(train_loader, val_loader, model, model_name, loss_fn, optimizer, config):\n",
    "    TRAIN_HISTORY = {\n",
    "        'Loss': [],\n",
    "        'Accuracy': [],\n",
    "        'Precision': [],\n",
    "        'Recall': [],\n",
    "        'F1': []\n",
    "    }\n",
    "    VAL_HISTORY = {\n",
    "        'Loss': [],\n",
    "        'Accuracy': [],\n",
    "        'Precision': [],\n",
    "        'Recall': [],\n",
    "        'F1': []\n",
    "    }\n",
    "\n",
    "    # for early stopping\n",
    "    # we will save the best model based on the validation loss\n",
    "    best_loss = np.inf  # set to infinity so that the first validation loss is always lower\n",
    "    patience_counter = 0\n",
    "\n",
    "    for epoch in range(config['EPOCHS']):\n",
    "        adjust_learning_rate(optimizer=optimizer, epoch=epoch)\n",
    "        loss, accuracy, precision, recall, f1 = train(train_loader, model, loss_fn, optimizer, epoch + 1, config['DEVICE'])\n",
    "        TRAIN_HISTORY['Loss'].append(loss)\n",
    "        TRAIN_HISTORY['Accuracy'].append(accuracy)\n",
    "        TRAIN_HISTORY['Precision'].append(precision)\n",
    "        TRAIN_HISTORY['Recall'].append(recall)\n",
    "        TRAIN_HISTORY['F1'].append(f1)\n",
    "\n",
    "        loss, accuracy, precision, recall, f1 = evaluate(val_loader, model, loss_fn, config['DEVICE'])\n",
    "        VAL_HISTORY['Loss'].append(loss)\n",
    "        VAL_HISTORY['Accuracy'].append(accuracy)\n",
    "        VAL_HISTORY['Precision'].append(precision)\n",
    "        VAL_HISTORY['Recall'].append(recall)\n",
    "        VAL_HISTORY['F1'].append(f1)\n",
    "\n",
    "        # since our evaluation metric is logloss, we want to minimize it and early stopping will be based on it\n",
    "        if loss < best_loss:\n",
    "            best_loss = loss\n",
    "            patience_counter = 0\n",
    "            print(f'Saving best model at epoch {epoch + 1}...')\n",
    "            torch.save(model.state_dict(), f'{model_name}_best_model.pth')\n",
    "        else:\n",
    "            patience_counter += 1\n",
    "            if patience_counter == config['PATIENCE']:\n",
    "                print(f\"Early stopping at epoch {epoch + 1}\")\n",
    "                break\n",
    "        \n",
    "    save_graphs(TRAIN_HISTORY['Loss'], VAL_HISTORY['Loss'], graph_type='Loss')\n",
    "    save_graphs(TRAIN_HISTORY['Accuracy'], VAL_HISTORY['Accuracy'], graph_type='Accuracy')\n",
    "    save_graphs(TRAIN_HISTORY['F1'], VAL_HISTORY['F1'], graph_type='F1')\n",
    "    \n",
    "    print('Training finished!')\n",
    "    return TRAIN_HISTORY, VAL_HISTORY"
   ]
  },
  {
   "cell_type": "markdown",
   "id": "a2b4b416",
   "metadata": {
    "papermill": {
     "duration": 0.006538,
     "end_time": "2023-11-25T14:57:55.051816",
     "exception": false,
     "start_time": "2023-11-25T14:57:55.045278",
     "status": "completed"
    },
    "tags": []
   },
   "source": [
    "## Our implementation of ResNet50 and ResNet101"
   ]
  },
  {
   "cell_type": "code",
   "execution_count": 12,
   "id": "096d8e33",
   "metadata": {
    "execution": {
     "iopub.execute_input": "2023-11-25T14:57:55.066008Z",
     "iopub.status.busy": "2023-11-25T14:57:55.065723Z",
     "iopub.status.idle": "2023-11-25T14:57:55.095341Z",
     "shell.execute_reply": "2023-11-25T14:57:55.093712Z"
    },
    "papermill": {
     "duration": 0.039889,
     "end_time": "2023-11-25T14:57:55.098154",
     "exception": false,
     "start_time": "2023-11-25T14:57:55.058265",
     "status": "completed"
    },
    "tags": []
   },
   "outputs": [],
   "source": [
    "# Block for ResNet50 and ResNet101 architectures\n",
    "class Block(nn.Module):\n",
    "    def __init__(self, in_channels, out_channels, identity_downsample=None, stride=1):\n",
    "        \"\"\"\n",
    "        :param in_channels: number of input channels\n",
    "        :param out_channels: number of output channels\n",
    "        :param identity_downsample: Conv layer to downsample image in case of different input and output channels\n",
    "        :param stride: stride\n",
    "        \"\"\"\n",
    "        super().__init__()\n",
    "        self.identity_downsample = identity_downsample\n",
    "\n",
    "        # every block in ResNet50 or deeper increases the number of in_channels by 4\n",
    "        self.expansion = 4\n",
    "        self.conv1 = nn.Sequential(\n",
    "            nn.Conv2d(in_channels, out_channels, kernel_size=1, stride=1, padding=0),\n",
    "            nn.BatchNorm2d(out_channels),\n",
    "            nn.ReLU()\n",
    "        )\n",
    "        self.conv2 = nn.Sequential(\n",
    "            nn.Conv2d(out_channels, out_channels, kernel_size=3, stride=stride, padding=1),\n",
    "            nn.BatchNorm2d(out_channels),\n",
    "            nn.ReLU()\n",
    "        )\n",
    "        \n",
    "        self.conv3 = nn.Sequential(\n",
    "            nn.Conv2d(out_channels, out_channels * self.expansion, kernel_size=1, stride=1, padding=0),\n",
    "            nn.BatchNorm2d(out_channels * self.expansion),\n",
    "            nn.ReLU()\n",
    "        )\n",
    "    \n",
    "    def forward(self, x):\n",
    "        identity = x\n",
    "\n",
    "        x = self.conv1(x)\n",
    "        x = self.conv2(x)\n",
    "        x = self.conv3(x)\n",
    "\n",
    "        # if the input and output channels are different, then downsample (with no activation, hence identity) the input image\n",
    "        if self.identity_downsample:\n",
    "            identity = self.identity_downsample(identity)\n",
    "        \n",
    "        # add the identity (input image) to the output of the block\n",
    "        x = x + identity\n",
    "        x = F.relu(x)\n",
    "        return x\n",
    "\n",
    "# ResNet50 and ResNet101 architectures\n",
    "class MyResNet(nn.Module):\n",
    "    def __init__(self, num_layers, in_channels, out_classes):\n",
    "        \"\"\"\n",
    "        :param num_layers: number of layers in the architecture (ResNet)\n",
    "        :param in_channels: number of input image channels\n",
    "        :param out_classes: number of output classes\n",
    "        \"\"\"\n",
    "        assert num_layers in [50, 101], 'unknown architecture'\n",
    "\n",
    "        super().__init__()\n",
    "\n",
    "        # how many times to reuse the same block in the architecture\n",
    "        if num_layers == 50:\n",
    "            layers = [3, 4, 6, 3]\n",
    "        elif num_layers == 101:\n",
    "            layers = [3, 4, 23, 3]\n",
    "        else:\n",
    "            raise NotImplementedError('unknown architecture')\n",
    "        \n",
    "        self.in_channels = 64\n",
    "\n",
    "        # according to the paper, the first layer is 7x7 conv with stride 2 and padding 3\n",
    "        self.conv1 = nn.Sequential(\n",
    "            nn.Conv2d(in_channels, 64, kernel_size=7, stride=2, padding=3),\n",
    "            nn.BatchNorm2d(64),\n",
    "            nn.ReLU()\n",
    "        )\n",
    "        self.maxpool = nn.MaxPool2d(kernel_size=3, stride=2, padding=1)\n",
    "\n",
    "        # ResNet layers\n",
    "        self.layer1 = self._make_layer(layers[0], 64, stride=1)\n",
    "        self.layer2 = self._make_layer(layers[1], 128, stride=2)\n",
    "        self.layer3 = self._make_layer(layers[2], 256, stride=2)\n",
    "        self.layer4 = self._make_layer(layers[3], 512, stride=2)\n",
    "\n",
    "        # according to the paper, the last layer is avgpool with output size 1x1\n",
    "        self.avgpool = nn.AdaptiveAvgPool2d(output_size=(1, 1))\n",
    "        self.fc = nn.Linear(512 * 4, out_classes)\n",
    "    \n",
    "    def _make_layer(self, num_residual_blocks, in_channels, stride):\n",
    "        \"\"\"\n",
    "        :param num_residual_blocks: how many times to reuse the same block in the architecture\n",
    "        :param in_channels: number of input channels, output channels are 4 times larger\n",
    "        :param stride: stride\n",
    "        :return: layers of residual blocks\n",
    "        \"\"\"\n",
    "        identity_downsample = None\n",
    "        layers = []\n",
    "\n",
    "        if stride != 1 or self.in_channels != in_channels * 4:\n",
    "            identity_downsample = nn.Sequential(\n",
    "                nn.Conv2d(self.in_channels, in_channels * 4, kernel_size=1, stride=stride),\n",
    "                nn.BatchNorm2d(in_channels * 4)\n",
    "            )\n",
    "        \n",
    "        # perform the first residual block\n",
    "        layers.append(Block(self.in_channels, in_channels, identity_downsample, stride))\n",
    "        self.in_channels = in_channels * 4\n",
    "\n",
    "        # perform the rest of the residual blocks\n",
    "        for i in range(num_residual_blocks - 1):\n",
    "            layers.append(Block(self.in_channels, in_channels))\n",
    "        \n",
    "        return nn.Sequential(*layers)\n",
    "\n",
    "    def forward(self, x):\n",
    "        # first 7x7 conv layer\n",
    "        x = self.conv1(x)\n",
    "        x = self.maxpool(x)\n",
    "\n",
    "        # ResNet layers\n",
    "        x = self.layer1(x)\n",
    "        x = self.layer2(x)\n",
    "        x = self.layer3(x)\n",
    "        x = self.layer4(x)\n",
    "\n",
    "        # last avgpool layer plus fully connected layer\n",
    "        x = self.avgpool(x)\n",
    "        x = x.view(x.shape[0], -1)\n",
    "        x = self.fc(x)\n",
    "\n",
    "        return x\n",
    "\n",
    "\n",
    "# in this project we have 10 classes to predict, so out_classes=10\n",
    "def ResNet50(in_channels=3, out_classes=10):\n",
    "    return MyResNet(50, in_channels, out_classes=out_classes)\n",
    "\n",
    "\n",
    "# in this project we have 10 classes to predict, so out_classes=10\n",
    "def ResNet101(in_channels=3, out_classes=10):\n",
    "    return MyResNet(101, in_channels, out_classes=out_classes)"
   ]
  },
  {
   "cell_type": "markdown",
   "id": "c3a072cb",
   "metadata": {
    "papermill": {
     "duration": 0.007089,
     "end_time": "2023-11-25T14:57:55.113767",
     "exception": false,
     "start_time": "2023-11-25T14:57:55.106678",
     "status": "completed"
    },
    "tags": []
   },
   "source": [
    "## Preparing for training"
   ]
  },
  {
   "cell_type": "code",
   "execution_count": 13,
   "id": "c4b189b4",
   "metadata": {
    "execution": {
     "iopub.execute_input": "2023-11-25T14:57:55.129860Z",
     "iopub.status.busy": "2023-11-25T14:57:55.128926Z",
     "iopub.status.idle": "2023-11-25T14:57:59.520960Z",
     "shell.execute_reply": "2023-11-25T14:57:59.519961Z"
    },
    "papermill": {
     "duration": 4.402688,
     "end_time": "2023-11-25T14:57:59.523529",
     "exception": false,
     "start_time": "2023-11-25T14:57:55.120841",
     "status": "completed"
    },
    "tags": []
   },
   "outputs": [],
   "source": [
    "model = ResNet50()\n",
    "model_name = 'resnet50'\n",
    "model = model.to(config['DEVICE'])\n",
    "criterion = torch.nn.CrossEntropyLoss()\n",
    "optimizer = torch.optim.AdamW(model.parameters(),\n",
    "                              lr=config['LR_INIT'],\n",
    "                              weight_decay=config['WEIGHT_DECAY'])\n",
    "\n",
    "train_loader, val_loader = get_dataloaders()"
   ]
  },
  {
   "cell_type": "markdown",
   "metadata": {},
   "source": [
    "## Training"
   ]
  },
  {
   "cell_type": "code",
   "execution_count": 14,
   "id": "febb0e3f",
   "metadata": {
    "execution": {
     "iopub.execute_input": "2023-11-25T14:57:59.538283Z",
     "iopub.status.busy": "2023-11-25T14:57:59.537993Z",
     "iopub.status.idle": "2023-11-25T18:49:17.147511Z",
     "shell.execute_reply": "2023-11-25T18:49:17.146456Z"
    },
    "papermill": {
     "duration": 13877.619583,
     "end_time": "2023-11-25T18:49:17.149966",
     "exception": false,
     "start_time": "2023-11-25T14:57:59.530383",
     "status": "completed"
    },
    "tags": []
   },
   "outputs": [
    {
     "name": "stderr",
     "output_type": "stream",
     "text": [
      "Training: 100%|██████████| 281/281 [03:29<00:00,  1.34it/s]\n"
     ]
    },
    {
     "name": "stdout",
     "output_type": "stream",
     "text": [
      "Epoch 1 | Train Loss: 2.262424326452072 | Accuracy: 0.16043257706672612 | Precision: 0.1565140267940971 | Recall: 0.16043257706672612 | F1: 0.1477786066678615\n"
     ]
    },
    {
     "name": "stderr",
     "output_type": "stream",
     "text": [
      "Validating: 100%|██████████| 71/71 [00:15<00:00,  4.59it/s]\n",
      "/opt/conda/lib/python3.10/site-packages/sklearn/metrics/_classification.py:1344: UndefinedMetricWarning: Precision is ill-defined and being set to 0.0 in labels with no predicted samples. Use `zero_division` parameter to control this behavior.\n",
      "  _warn_prf(average, modifier, msg_start, len(result))\n"
     ]
    },
    {
     "name": "stdout",
     "output_type": "stream",
     "text": [
      "\tValidation Loss: 2.2532862374480342 | Accuracy: 0.1979933110367893 | Precision: 0.257372328373362 | Recall: 0.1979933110367893 | F1: 0.1267723078936465\n",
      "Saving best model at epoch 1...\n"
     ]
    },
    {
     "name": "stderr",
     "output_type": "stream",
     "text": [
      "Training: 100%|██████████| 281/281 [03:23<00:00,  1.38it/s]\n"
     ]
    },
    {
     "name": "stdout",
     "output_type": "stream",
     "text": [
      "Epoch 2 | Train Loss: 1.8179699398868874 | Accuracy: 0.3510229109760856 | Precision: 0.3375815362622401 | Recall: 0.3510229109760856 | F1: 0.331872302020726\n"
     ]
    },
    {
     "name": "stderr",
     "output_type": "stream",
     "text": [
      "Validating: 100%|██████████| 71/71 [00:12<00:00,  5.76it/s]\n"
     ]
    },
    {
     "name": "stdout",
     "output_type": "stream",
     "text": [
      "\tValidation Loss: 1.6038072260332779 | Accuracy: 0.4131549609810479 | Precision: 0.4969355734530686 | Recall: 0.4131549609810479 | F1: 0.3477313229287008\n",
      "Saving best model at epoch 2...\n"
     ]
    },
    {
     "name": "stderr",
     "output_type": "stream",
     "text": [
      "Training: 100%|██████████| 281/281 [03:23<00:00,  1.38it/s]\n"
     ]
    },
    {
     "name": "stdout",
     "output_type": "stream",
     "text": [
      "Epoch 3 | Train Loss: 1.1050520276259697 | Accuracy: 0.6105134065444004 | Precision: 0.6062101625597456 | Recall: 0.6105134065444004 | F1: 0.6061056465562589\n"
     ]
    },
    {
     "name": "stderr",
     "output_type": "stream",
     "text": [
      "Validating: 100%|██████████| 71/71 [00:12<00:00,  5.64it/s]\n"
     ]
    },
    {
     "name": "stdout",
     "output_type": "stream",
     "text": [
      "\tValidation Loss: 1.1435802788801597 | Accuracy: 0.5759197324414715 | Precision: 0.7115860126940621 | Recall: 0.5759197324414715 | F1: 0.5329885447483451\n",
      "Saving best model at epoch 3...\n"
     ]
    },
    {
     "name": "stderr",
     "output_type": "stream",
     "text": [
      "Training: 100%|██████████| 281/281 [03:23<00:00,  1.38it/s]\n"
     ]
    },
    {
     "name": "stdout",
     "output_type": "stream",
     "text": [
      "Epoch 4 | Train Loss: 0.5723653575173476 | Accuracy: 0.8129215675344222 | Precision: 0.8121424573126343 | Recall: 0.8129215675344222 | F1: 0.8123099388857495\n"
     ]
    },
    {
     "name": "stderr",
     "output_type": "stream",
     "text": [
      "Validating: 100%|██████████| 71/71 [00:12<00:00,  5.58it/s]\n"
     ]
    },
    {
     "name": "stdout",
     "output_type": "stream",
     "text": [
      "\tValidation Loss: 0.5449450624660707 | Accuracy: 0.8171683389074693 | Precision: 0.8491120850526583 | Recall: 0.8171683389074693 | F1: 0.8208772969319454\n",
      "Saving best model at epoch 4...\n"
     ]
    },
    {
     "name": "stderr",
     "output_type": "stream",
     "text": [
      "Training: 100%|██████████| 281/281 [03:23<00:00,  1.38it/s]\n"
     ]
    },
    {
     "name": "stdout",
     "output_type": "stream",
     "text": [
      "Epoch 5 | Train Loss: 0.3853968145107035 | Accuracy: 0.876693238196109 | Precision: 0.8763501148687105 | Recall: 0.876693238196109 | F1: 0.8764486191841382\n"
     ]
    },
    {
     "name": "stderr",
     "output_type": "stream",
     "text": [
      "Validating: 100%|██████████| 71/71 [00:12<00:00,  5.64it/s]\n"
     ]
    },
    {
     "name": "stdout",
     "output_type": "stream",
     "text": [
      "\tValidation Loss: 0.40510132698945595 | Accuracy: 0.867335562987737 | Precision: 0.8857546936622663 | Recall: 0.867335562987737 | F1: 0.8688617693943282\n",
      "Saving best model at epoch 5...\n"
     ]
    },
    {
     "name": "stderr",
     "output_type": "stream",
     "text": [
      "Training: 100%|██████████| 281/281 [03:23<00:00,  1.38it/s]\n"
     ]
    },
    {
     "name": "stdout",
     "output_type": "stream",
     "text": [
      "Epoch 6 | Train Loss: 0.21198460153466442 | Accuracy: 0.932493450025085 | Precision: 0.9324368378712742 | Recall: 0.932493450025085 | F1: 0.9324160097792371\n"
     ]
    },
    {
     "name": "stderr",
     "output_type": "stream",
     "text": [
      "Validating: 100%|██████████| 71/71 [00:12<00:00,  5.83it/s]\n"
     ]
    },
    {
     "name": "stdout",
     "output_type": "stream",
     "text": [
      "\tValidation Loss: 0.5910338685965874 | Accuracy: 0.8278706800445931 | Precision: 0.8793380578110991 | Recall: 0.8278706800445931 | F1: 0.81896073918616\n"
     ]
    },
    {
     "name": "stderr",
     "output_type": "stream",
     "text": [
      "Training: 100%|██████████| 281/281 [03:23<00:00,  1.38it/s]\n"
     ]
    },
    {
     "name": "stdout",
     "output_type": "stream",
     "text": [
      "Epoch 7 | Train Loss: 0.1620913282620101 | Accuracy: 0.9498857238419087 | Precision: 0.9498743944809622 | Recall: 0.9498857238419087 | F1: 0.9498669630083715\n"
     ]
    },
    {
     "name": "stderr",
     "output_type": "stream",
     "text": [
      "Validating: 100%|██████████| 71/71 [00:12<00:00,  5.84it/s]\n"
     ]
    },
    {
     "name": "stdout",
     "output_type": "stream",
     "text": [
      "\tValidation Loss: 0.2479895983468479 | Accuracy: 0.9219620958751393 | Precision: 0.9274004240104664 | Recall: 0.9219620958751393 | F1: 0.9206732849786726\n",
      "Saving best model at epoch 7...\n"
     ]
    },
    {
     "name": "stderr",
     "output_type": "stream",
     "text": [
      "Training: 100%|██████████| 281/281 [03:23<00:00,  1.38it/s]\n"
     ]
    },
    {
     "name": "stdout",
     "output_type": "stream",
     "text": [
      "Epoch 8 | Train Loss: 0.11258889746013698 | Accuracy: 0.9649367300295446 | Precision: 0.964889195534558 | Recall: 0.9649367300295446 | F1: 0.9648977533767154\n"
     ]
    },
    {
     "name": "stderr",
     "output_type": "stream",
     "text": [
      "Validating: 100%|██████████| 71/71 [00:12<00:00,  5.73it/s]\n"
     ]
    },
    {
     "name": "stdout",
     "output_type": "stream",
     "text": [
      "\tValidation Loss: 0.8171823175860123 | Accuracy: 0.7591973244147158 | Precision: 0.9020444178801196 | Recall: 0.7591973244147158 | F1: 0.7858584438180702\n"
     ]
    },
    {
     "name": "stderr",
     "output_type": "stream",
     "text": [
      "Training: 100%|██████████| 281/281 [03:23<00:00,  1.38it/s]\n"
     ]
    },
    {
     "name": "stdout",
     "output_type": "stream",
     "text": [
      "Epoch 9 | Train Loss: 0.09892590578274264 | Accuracy: 0.9700094765594515 | Precision: 0.9699819193323479 | Recall: 0.9700094765594515 | F1: 0.9699884069574914\n"
     ]
    },
    {
     "name": "stderr",
     "output_type": "stream",
     "text": [
      "Validating: 100%|██████████| 71/71 [00:12<00:00,  5.67it/s]\n"
     ]
    },
    {
     "name": "stdout",
     "output_type": "stream",
     "text": [
      "\tValidation Loss: 0.11661887486320986 | Accuracy: 0.9652173913043478 | Precision: 0.9656761755474261 | Recall: 0.9652173913043478 | F1: 0.9649966213295412\n",
      "Saving best model at epoch 9...\n"
     ]
    },
    {
     "name": "stderr",
     "output_type": "stream",
     "text": [
      "Training: 100%|██████████| 281/281 [03:23<00:00,  1.38it/s]\n"
     ]
    },
    {
     "name": "stdout",
     "output_type": "stream",
     "text": [
      "Epoch 10 | Train Loss: 0.0908283425521543 | Accuracy: 0.9712915993087686 | Precision: 0.9713136099297582 | Recall: 0.9712915993087686 | F1: 0.9712950216421593\n"
     ]
    },
    {
     "name": "stderr",
     "output_type": "stream",
     "text": [
      "Validating: 100%|██████████| 71/71 [00:12<00:00,  5.59it/s]\n"
     ]
    },
    {
     "name": "stdout",
     "output_type": "stream",
     "text": [
      "\tValidation Loss: 0.1604417375957882 | Accuracy: 0.9591973244147157 | Precision: 0.961521198966243 | Recall: 0.9591973244147157 | F1: 0.9590092964112751\n"
     ]
    },
    {
     "name": "stderr",
     "output_type": "stream",
     "text": [
      "Training: 100%|██████████| 281/281 [03:23<00:00,  1.38it/s]\n"
     ]
    },
    {
     "name": "stdout",
     "output_type": "stream",
     "text": [
      "Epoch 11 | Train Loss: 0.08331596827485807 | Accuracy: 0.9750822230893584 | Precision: 0.9750699366246866 | Recall: 0.9750822230893584 | F1: 0.9750688916330522\n"
     ]
    },
    {
     "name": "stderr",
     "output_type": "stream",
     "text": [
      "Validating: 100%|██████████| 71/71 [00:12<00:00,  5.74it/s]\n"
     ]
    },
    {
     "name": "stdout",
     "output_type": "stream",
     "text": [
      "\tValidation Loss: 0.25549083906160275 | Accuracy: 0.9250836120401338 | Precision: 0.9405121519263565 | Recall: 0.9250836120401338 | F1: 0.925399258059345\n"
     ]
    },
    {
     "name": "stderr",
     "output_type": "stream",
     "text": [
      "Training: 100%|██████████| 281/281 [03:23<00:00,  1.38it/s]\n"
     ]
    },
    {
     "name": "stdout",
     "output_type": "stream",
     "text": [
      "Epoch 12 | Train Loss: 0.07230711242787248 | Accuracy: 0.9772005128490997 | Precision: 0.9772279343927752 | Recall: 0.9772005128490997 | F1: 0.9772048829877896\n"
     ]
    },
    {
     "name": "stderr",
     "output_type": "stream",
     "text": [
      "Validating: 100%|██████████| 71/71 [00:12<00:00,  5.60it/s]\n"
     ]
    },
    {
     "name": "stdout",
     "output_type": "stream",
     "text": [
      "\tValidation Loss: 0.1273959743188576 | Accuracy: 0.9594202898550724 | Precision: 0.9625311915335617 | Recall: 0.9594202898550724 | F1: 0.959466947027904\n"
     ]
    },
    {
     "name": "stderr",
     "output_type": "stream",
     "text": [
      "Training: 100%|██████████| 281/281 [03:23<00:00,  1.38it/s]\n"
     ]
    },
    {
     "name": "stdout",
     "output_type": "stream",
     "text": [
      "Epoch 13 | Train Loss: 0.05534364236684457 | Accuracy: 0.9824962372484531 | Precision: 0.9825099742081709 | Recall: 0.9824962372484531 | F1: 0.9824930378993103\n"
     ]
    },
    {
     "name": "stderr",
     "output_type": "stream",
     "text": [
      "Validating: 100%|██████████| 71/71 [00:12<00:00,  5.70it/s]\n"
     ]
    },
    {
     "name": "stdout",
     "output_type": "stream",
     "text": [
      "\tValidation Loss: 0.432547342084663 | Accuracy: 0.8800445930880714 | Precision: 0.9294788177119371 | Recall: 0.8800445930880714 | F1: 0.8900202717658814\n"
     ]
    },
    {
     "name": "stderr",
     "output_type": "stream",
     "text": [
      "Training: 100%|██████████| 281/281 [03:23<00:00,  1.38it/s]\n"
     ]
    },
    {
     "name": "stdout",
     "output_type": "stream",
     "text": [
      "Epoch 14 | Train Loss: 0.0731317529693458 | Accuracy: 0.9769217905122917 | Precision: 0.9769224818481191 | Recall: 0.9769217905122917 | F1: 0.9769178837629666\n"
     ]
    },
    {
     "name": "stderr",
     "output_type": "stream",
     "text": [
      "Validating: 100%|██████████| 71/71 [00:12<00:00,  5.61it/s]\n"
     ]
    },
    {
     "name": "stdout",
     "output_type": "stream",
     "text": [
      "\tValidation Loss: 0.06557817890925306 | Accuracy: 0.9783723522853958 | Precision: 0.9787783484801518 | Recall: 0.9783723522853958 | F1: 0.9784229278004927\n",
      "Saving best model at epoch 14...\n"
     ]
    },
    {
     "name": "stderr",
     "output_type": "stream",
     "text": [
      "Training: 100%|██████████| 281/281 [03:23<00:00,  1.38it/s]\n"
     ]
    },
    {
     "name": "stdout",
     "output_type": "stream",
     "text": [
      "Epoch 15 | Train Loss: 0.06064820350512359 | Accuracy: 0.981492836835944 | Precision: 0.9814856161921359 | Recall: 0.981492836835944 | F1: 0.9814840876026086\n"
     ]
    },
    {
     "name": "stderr",
     "output_type": "stream",
     "text": [
      "Validating: 100%|██████████| 71/71 [00:12<00:00,  5.62it/s]\n"
     ]
    },
    {
     "name": "stdout",
     "output_type": "stream",
     "text": [
      "\tValidation Loss: 0.08537358999855711 | Accuracy: 0.9741360089186176 | Precision: 0.9751853184654432 | Recall: 0.9741360089186176 | F1: 0.9742300411896213\n"
     ]
    },
    {
     "name": "stderr",
     "output_type": "stream",
     "text": [
      "Training: 100%|██████████| 281/281 [03:23<00:00,  1.38it/s]\n"
     ]
    },
    {
     "name": "stdout",
     "output_type": "stream",
     "text": [
      "Epoch 16 | Train Loss: 0.0646271789214471 | Accuracy: 0.9808239032276047 | Precision: 0.9808287209995994 | Recall: 0.9808239032276047 | F1: 0.980825691218558\n"
     ]
    },
    {
     "name": "stderr",
     "output_type": "stream",
     "text": [
      "Validating: 100%|██████████| 71/71 [00:12<00:00,  5.64it/s]\n"
     ]
    },
    {
     "name": "stdout",
     "output_type": "stream",
     "text": [
      "\tValidation Loss: 0.5221436525314627 | Accuracy: 0.8722408026755852 | Precision: 0.9264205902536515 | Recall: 0.8722408026755852 | F1: 0.8779404386239553\n"
     ]
    },
    {
     "name": "stderr",
     "output_type": "stream",
     "text": [
      "Training: 100%|██████████| 281/281 [03:24<00:00,  1.38it/s]\n"
     ]
    },
    {
     "name": "stdout",
     "output_type": "stream",
     "text": [
      "Epoch 17 | Train Loss: 0.05744706896660697 | Accuracy: 0.9819945370421985 | Precision: 0.9820146642764656 | Recall: 0.9819945370421985 | F1: 0.9819991945074219\n"
     ]
    },
    {
     "name": "stderr",
     "output_type": "stream",
     "text": [
      "Validating: 100%|██████████| 71/71 [00:12<00:00,  5.61it/s]\n"
     ]
    },
    {
     "name": "stdout",
     "output_type": "stream",
     "text": [
      "\tValidation Loss: 0.14456811771583808 | Accuracy: 0.959866220735786 | Precision: 0.9664076749429296 | Recall: 0.959866220735786 | F1: 0.9609382399171513\n"
     ]
    },
    {
     "name": "stderr",
     "output_type": "stream",
     "text": [
      "Training: 100%|██████████| 281/281 [03:24<00:00,  1.38it/s]\n"
     ]
    },
    {
     "name": "stdout",
     "output_type": "stream",
     "text": [
      "Epoch 18 | Train Loss: 0.04854487616476003 | Accuracy: 0.9852834606165338 | Precision: 0.9852787400792985 | Recall: 0.9852834606165338 | F1: 0.9852800839031088\n"
     ]
    },
    {
     "name": "stderr",
     "output_type": "stream",
     "text": [
      "Validating: 100%|██████████| 71/71 [00:12<00:00,  5.53it/s]\n"
     ]
    },
    {
     "name": "stdout",
     "output_type": "stream",
     "text": [
      "\tValidation Loss: 0.18798392749732543 | Accuracy: 0.9538461538461539 | Precision: 0.9565252693277192 | Recall: 0.9538461538461539 | F1: 0.9527079065466635\n"
     ]
    },
    {
     "name": "stderr",
     "output_type": "stream",
     "text": [
      "Training: 100%|██████████| 281/281 [03:23<00:00,  1.38it/s]\n"
     ]
    },
    {
     "name": "stdout",
     "output_type": "stream",
     "text": [
      "Epoch 19 | Train Loss: 0.04112342328124836 | Accuracy: 0.9863983499637661 | Precision: 0.9863944696394755 | Recall: 0.9863983499637661 | F1: 0.9863931805580329\n"
     ]
    },
    {
     "name": "stderr",
     "output_type": "stream",
     "text": [
      "Validating: 100%|██████████| 71/71 [00:13<00:00,  5.45it/s]\n"
     ]
    },
    {
     "name": "stdout",
     "output_type": "stream",
     "text": [
      "\tValidation Loss: 0.04794728864495918 | Accuracy: 0.9830546265328874 | Precision: 0.9835341007096798 | Recall: 0.9830546265328874 | F1: 0.983021964579328\n",
      "Saving best model at epoch 19...\n"
     ]
    },
    {
     "name": "stderr",
     "output_type": "stream",
     "text": [
      "Training: 100%|██████████| 281/281 [03:24<00:00,  1.38it/s]\n"
     ]
    },
    {
     "name": "stdout",
     "output_type": "stream",
     "text": [
      "Epoch 20 | Train Loss: 0.04874895162486017 | Accuracy: 0.9848375048776409 | Precision: 0.9848339199375514 | Recall: 0.9848375048776409 | F1: 0.9848338640848068\n"
     ]
    },
    {
     "name": "stderr",
     "output_type": "stream",
     "text": [
      "Validating: 100%|██████████| 71/71 [00:12<00:00,  5.48it/s]\n"
     ]
    },
    {
     "name": "stdout",
     "output_type": "stream",
     "text": [
      "\tValidation Loss: 0.07131689255663627 | Accuracy: 0.9801560758082497 | Precision: 0.9805058654211557 | Recall: 0.9801560758082497 | F1: 0.9800940275664533\n"
     ]
    },
    {
     "name": "stderr",
     "output_type": "stream",
     "text": [
      "Training: 100%|██████████| 281/281 [03:23<00:00,  1.38it/s]\n"
     ]
    },
    {
     "name": "stdout",
     "output_type": "stream",
     "text": [
      "Epoch 21 | Train Loss: 0.05154025088912837 | Accuracy: 0.9830536819220692 | Precision: 0.9830512718167518 | Recall: 0.9830536819220692 | F1: 0.9830498816272081\n"
     ]
    },
    {
     "name": "stderr",
     "output_type": "stream",
     "text": [
      "Validating: 100%|██████████| 71/71 [00:12<00:00,  5.64it/s]\n"
     ]
    },
    {
     "name": "stdout",
     "output_type": "stream",
     "text": [
      "\tValidation Loss: 0.06627405173486282 | Accuracy: 0.9819397993311036 | Precision: 0.9821452326962642 | Recall: 0.9819397993311036 | F1: 0.9818807402288506\n"
     ]
    },
    {
     "name": "stderr",
     "output_type": "stream",
     "text": [
      "Training: 100%|██████████| 281/281 [03:23<00:00,  1.38it/s]\n"
     ]
    },
    {
     "name": "stdout",
     "output_type": "stream",
     "text": [
      "Epoch 22 | Train Loss: 0.04159269013874617 | Accuracy: 0.9863983499637661 | Precision: 0.9864001973602439 | Recall: 0.9863983499637661 | F1: 0.9863963012678195\n"
     ]
    },
    {
     "name": "stderr",
     "output_type": "stream",
     "text": [
      "Validating: 100%|██████████| 71/71 [00:12<00:00,  5.86it/s]\n"
     ]
    },
    {
     "name": "stdout",
     "output_type": "stream",
     "text": [
      "\tValidation Loss: 0.05609441697794262 | Accuracy: 0.9855072463768116 | Precision: 0.9856662295655894 | Recall: 0.9855072463768116 | F1: 0.9855243655905854\n"
     ]
    },
    {
     "name": "stderr",
     "output_type": "stream",
     "text": [
      "Training: 100%|██████████| 281/281 [03:23<00:00,  1.38it/s]\n"
     ]
    },
    {
     "name": "stdout",
     "output_type": "stream",
     "text": [
      "Epoch 23 | Train Loss: 0.04277027968410071 | Accuracy: 0.9865098388984893 | Precision: 0.9865003387509287 | Recall: 0.9865098388984893 | F1: 0.9865037127132291\n"
     ]
    },
    {
     "name": "stderr",
     "output_type": "stream",
     "text": [
      "Validating: 100%|██████████| 71/71 [00:12<00:00,  5.82it/s]\n"
     ]
    },
    {
     "name": "stdout",
     "output_type": "stream",
     "text": [
      "\tValidation Loss: 0.06020072188628444 | Accuracy: 0.9835005574136009 | Precision: 0.984049655818309 | Recall: 0.9835005574136009 | F1: 0.9834643819810638\n"
     ]
    },
    {
     "name": "stderr",
     "output_type": "stream",
     "text": [
      "Training: 100%|██████████| 281/281 [03:23<00:00,  1.38it/s]\n"
     ]
    },
    {
     "name": "stdout",
     "output_type": "stream",
     "text": [
      "Epoch 24 | Train Loss: 0.034242442316248074 | Accuracy: 0.98929706226657 | Precision: 0.989299026742725 | Recall: 0.98929706226657 | F1: 0.9892970415325413\n"
     ]
    },
    {
     "name": "stderr",
     "output_type": "stream",
     "text": [
      "Validating: 100%|██████████| 71/71 [00:12<00:00,  5.58it/s]\n"
     ]
    },
    {
     "name": "stdout",
     "output_type": "stream",
     "text": [
      "\tValidation Loss: 0.0758684091491323 | Accuracy: 0.9734671125975474 | Precision: 0.9763517586524392 | Recall: 0.9734671125975474 | F1: 0.973660407317985\n"
     ]
    },
    {
     "name": "stderr",
     "output_type": "stream",
     "text": [
      "Training: 100%|██████████| 281/281 [03:23<00:00,  1.38it/s]\n"
     ]
    },
    {
     "name": "stdout",
     "output_type": "stream",
     "text": [
      "Epoch 25 | Train Loss: 0.04509033895142416 | Accuracy: 0.9856179274207035 | Precision: 0.9856365757370118 | Recall: 0.9856179274207035 | F1: 0.9856235954445879\n"
     ]
    },
    {
     "name": "stderr",
     "output_type": "stream",
     "text": [
      "Validating: 100%|██████████| 71/71 [00:12<00:00,  5.50it/s]\n"
     ]
    },
    {
     "name": "stdout",
     "output_type": "stream",
     "text": [
      "\tValidation Loss: 0.04738726552156076 | Accuracy: 0.9841694537346711 | Precision: 0.9846277439866382 | Recall: 0.9841694537346711 | F1: 0.9841484281438356\n",
      "Saving best model at epoch 25...\n"
     ]
    },
    {
     "name": "stderr",
     "output_type": "stream",
     "text": [
      "Training: 100%|██████████| 281/281 [03:23<00:00,  1.38it/s]\n"
     ]
    },
    {
     "name": "stdout",
     "output_type": "stream",
     "text": [
      "Epoch 26 | Train Loss: 0.025871237852814477 | Accuracy: 0.9920842856346508 | Precision: 0.992090756971986 | Recall: 0.9920842856346508 | F1: 0.9920859689854375\n"
     ]
    },
    {
     "name": "stderr",
     "output_type": "stream",
     "text": [
      "Validating: 100%|██████████| 71/71 [00:12<00:00,  5.59it/s]\n"
     ]
    },
    {
     "name": "stdout",
     "output_type": "stream",
     "text": [
      "\tValidation Loss: 0.07459400882157431 | Accuracy: 0.9777034559643255 | Precision: 0.9781670114118763 | Recall: 0.9777034559643255 | F1: 0.9774012863390725\n"
     ]
    },
    {
     "name": "stderr",
     "output_type": "stream",
     "text": [
      "Training: 100%|██████████| 281/281 [03:24<00:00,  1.38it/s]\n"
     ]
    },
    {
     "name": "stdout",
     "output_type": "stream",
     "text": [
      "Epoch 27 | Train Loss: 0.028785564760003053 | Accuracy: 0.9906349294832488 | Precision: 0.990632123141441 | Recall: 0.9906349294832488 | F1: 0.9906316577110341\n"
     ]
    },
    {
     "name": "stderr",
     "output_type": "stream",
     "text": [
      "Validating: 100%|██████████| 71/71 [00:12<00:00,  5.49it/s]\n"
     ]
    },
    {
     "name": "stdout",
     "output_type": "stream",
     "text": [
      "\tValidation Loss: 0.050323859739287845 | Accuracy: 0.9875139353400223 | Precision: 0.9875951176816048 | Recall: 0.9875139353400223 | F1: 0.987491249428104\n"
     ]
    },
    {
     "name": "stderr",
     "output_type": "stream",
     "text": [
      "Training: 100%|██████████| 281/281 [03:24<00:00,  1.38it/s]\n"
     ]
    },
    {
     "name": "stdout",
     "output_type": "stream",
     "text": [
      "Epoch 28 | Train Loss: 0.034093964594193435 | Accuracy: 0.9895200401360165 | Precision: 0.9895234543883257 | Recall: 0.9895200401360165 | F1: 0.9895211738468979\n"
     ]
    },
    {
     "name": "stderr",
     "output_type": "stream",
     "text": [
      "Validating: 100%|██████████| 71/71 [00:12<00:00,  5.79it/s]\n"
     ]
    },
    {
     "name": "stdout",
     "output_type": "stream",
     "text": [
      "\tValidation Loss: 0.09008135253393 | Accuracy: 0.9698996655518395 | Precision: 0.9728527370204924 | Recall: 0.9698996655518395 | F1: 0.9702491736148106\n"
     ]
    },
    {
     "name": "stderr",
     "output_type": "stream",
     "text": [
      "Training: 100%|██████████| 281/281 [03:23<00:00,  1.38it/s]\n"
     ]
    },
    {
     "name": "stdout",
     "output_type": "stream",
     "text": [
      "Epoch 29 | Train Loss: 0.03208357078111084 | Accuracy: 0.9900217403422711 | Precision: 0.9900174106578118 | Recall: 0.9900217403422711 | F1: 0.9900186387925124\n"
     ]
    },
    {
     "name": "stderr",
     "output_type": "stream",
     "text": [
      "Validating: 100%|██████████| 71/71 [00:12<00:00,  5.55it/s]\n"
     ]
    },
    {
     "name": "stdout",
     "output_type": "stream",
     "text": [
      "\tValidation Loss: 0.05606907280161977 | Accuracy: 0.9846153846153847 | Precision: 0.9848752432654202 | Recall: 0.9846153846153847 | F1: 0.9845808709663184\n"
     ]
    },
    {
     "name": "stderr",
     "output_type": "stream",
     "text": [
      "Training: 100%|██████████| 281/281 [03:23<00:00,  1.38it/s]\n"
     ]
    },
    {
     "name": "stdout",
     "output_type": "stream",
     "text": [
      "Epoch 30 | Train Loss: 0.02710457958216411 | Accuracy: 0.9916383298957578 | Precision: 0.9916407930540003 | Recall: 0.9916383298957578 | F1: 0.9916387089324731\n"
     ]
    },
    {
     "name": "stderr",
     "output_type": "stream",
     "text": [
      "Validating: 100%|██████████| 71/71 [00:12<00:00,  5.86it/s]\n"
     ]
    },
    {
     "name": "stdout",
     "output_type": "stream",
     "text": [
      "\tValidation Loss: 0.060746062842105895 | Accuracy: 0.9830546265328874 | Precision: 0.9837131829319027 | Recall: 0.9830546265328874 | F1: 0.9831502806846706\n"
     ]
    },
    {
     "name": "stderr",
     "output_type": "stream",
     "text": [
      "Training: 100%|██████████| 281/281 [03:23<00:00,  1.38it/s]\n"
     ]
    },
    {
     "name": "stdout",
     "output_type": "stream",
     "text": [
      "Epoch 31 | Train Loss: 0.035841515985109554 | Accuracy: 0.9889068509950387 | Precision: 0.9889084878120711 | Recall: 0.9889068509950387 | F1: 0.9889073139163848\n"
     ]
    },
    {
     "name": "stderr",
     "output_type": "stream",
     "text": [
      "Validating: 100%|██████████| 71/71 [00:12<00:00,  5.54it/s]\n"
     ]
    },
    {
     "name": "stdout",
     "output_type": "stream",
     "text": [
      "\tValidation Loss: 0.0829566108640021 | Accuracy: 0.978149386845039 | Precision: 0.9789335116239336 | Recall: 0.978149386845039 | F1: 0.9781840863382438\n"
     ]
    },
    {
     "name": "stderr",
     "output_type": "stream",
     "text": [
      "Training: 100%|██████████| 281/281 [03:23<00:00,  1.38it/s]\n"
     ]
    },
    {
     "name": "stdout",
     "output_type": "stream",
     "text": [
      "Epoch 32 | Train Loss: 0.022181482160972675 | Accuracy: 0.993645130720776 | Precision: 0.9936450972203793 | Recall: 0.993645130720776 | F1: 0.9936445226048345\n"
     ]
    },
    {
     "name": "stderr",
     "output_type": "stream",
     "text": [
      "Validating: 100%|██████████| 71/71 [00:12<00:00,  5.54it/s]\n"
     ]
    },
    {
     "name": "stdout",
     "output_type": "stream",
     "text": [
      "\tValidation Loss: 0.0360396122494319 | Accuracy: 0.9904124860646599 | Precision: 0.9904686387801569 | Recall: 0.9904124860646599 | F1: 0.9903802727751361\n",
      "Saving best model at epoch 32...\n"
     ]
    },
    {
     "name": "stderr",
     "output_type": "stream",
     "text": [
      "Training: 100%|██████████| 281/281 [03:23<00:00,  1.38it/s]\n"
     ]
    },
    {
     "name": "stdout",
     "output_type": "stream",
     "text": [
      "Epoch 33 | Train Loss: 0.025983704921192476 | Accuracy: 0.9919727966999276 | Precision: 0.9919713785146325 | Recall: 0.9919727966999276 | F1: 0.9919711376466804\n"
     ]
    },
    {
     "name": "stderr",
     "output_type": "stream",
     "text": [
      "Validating: 100%|██████████| 71/71 [00:11<00:00,  5.94it/s]\n"
     ]
    },
    {
     "name": "stdout",
     "output_type": "stream",
     "text": [
      "\tValidation Loss: 0.044873499358646755 | Accuracy: 0.987736900780379 | Precision: 0.9879543688158079 | Recall: 0.987736900780379 | F1: 0.9876627195429055\n"
     ]
    },
    {
     "name": "stderr",
     "output_type": "stream",
     "text": [
      "Training: 100%|██████████| 281/281 [03:23<00:00,  1.38it/s]\n"
     ]
    },
    {
     "name": "stdout",
     "output_type": "stream",
     "text": [
      "Epoch 34 | Train Loss: 0.026114368140774124 | Accuracy: 0.9917498188304811 | Precision: 0.9917516204969784 | Recall: 0.9917498188304811 | F1: 0.9917502660044848\n"
     ]
    },
    {
     "name": "stderr",
     "output_type": "stream",
     "text": [
      "Validating: 100%|██████████| 71/71 [00:12<00:00,  5.91it/s]\n"
     ]
    },
    {
     "name": "stdout",
     "output_type": "stream",
     "text": [
      "\tValidation Loss: 0.06977022879652049 | Accuracy: 0.9814938684503902 | Precision: 0.9821583133311852 | Recall: 0.9814938684503902 | F1: 0.9815001851969193\n"
     ]
    },
    {
     "name": "stderr",
     "output_type": "stream",
     "text": [
      "Training: 100%|██████████| 281/281 [03:23<00:00,  1.38it/s]\n"
     ]
    },
    {
     "name": "stdout",
     "output_type": "stream",
     "text": [
      "Epoch 35 | Train Loss: 0.026995539379466055 | Accuracy: 0.9921400301020123 | Precision: 0.9921453224433489 | Recall: 0.9921400301020123 | F1: 0.9921419242146898\n"
     ]
    },
    {
     "name": "stderr",
     "output_type": "stream",
     "text": [
      "Validating: 100%|██████████| 71/71 [00:11<00:00,  5.96it/s]\n"
     ]
    },
    {
     "name": "stdout",
     "output_type": "stream",
     "text": [
      "\tValidation Loss: 0.08695503668597257 | Accuracy: 0.9725752508361204 | Precision: 0.973864608352333 | Recall: 0.9725752508361204 | F1: 0.9725667792100176\n"
     ]
    },
    {
     "name": "stderr",
     "output_type": "stream",
     "text": [
      "Training: 100%|██████████| 281/281 [03:23<00:00,  1.38it/s]\n"
     ]
    },
    {
     "name": "stdout",
     "output_type": "stream",
     "text": [
      "Epoch 36 | Train Loss: 0.019490327587366945 | Accuracy: 0.9937566196554992 | Precision: 0.993756049717899 | Recall: 0.9937566196554992 | F1: 0.9937549746286223\n"
     ]
    },
    {
     "name": "stderr",
     "output_type": "stream",
     "text": [
      "Validating: 100%|██████████| 71/71 [00:12<00:00,  5.56it/s]\n"
     ]
    },
    {
     "name": "stdout",
     "output_type": "stream",
     "text": [
      "\tValidation Loss: 0.05594415654687368 | Accuracy: 0.9861761426978818 | Precision: 0.9865716761439396 | Recall: 0.9861761426978818 | F1: 0.986133264260652\n"
     ]
    },
    {
     "name": "stderr",
     "output_type": "stream",
     "text": [
      "Training: 100%|██████████| 281/281 [03:23<00:00,  1.38it/s]\n"
     ]
    },
    {
     "name": "stdout",
     "output_type": "stream",
     "text": [
      "Epoch 37 | Train Loss: 0.02694580107775071 | Accuracy: 0.9915268409610346 | Precision: 0.9915280431329809 | Recall: 0.9915268409610346 | F1: 0.9915267449704234\n"
     ]
    },
    {
     "name": "stderr",
     "output_type": "stream",
     "text": [
      "Validating: 100%|██████████| 71/71 [00:12<00:00,  5.54it/s]\n"
     ]
    },
    {
     "name": "stdout",
     "output_type": "stream",
     "text": [
      "\tValidation Loss: 0.08083049746387651 | Accuracy: 0.9750278706800446 | Precision: 0.975969451544213 | Recall: 0.9750278706800446 | F1: 0.9749475037817068\n"
     ]
    },
    {
     "name": "stderr",
     "output_type": "stream",
     "text": [
      "Training: 100%|██████████| 281/281 [03:23<00:00,  1.38it/s]\n"
     ]
    },
    {
     "name": "stdout",
     "output_type": "stream",
     "text": [
      "Epoch 38 | Train Loss: 0.02174807932920542 | Accuracy: 0.9934778973186911 | Precision: 0.993478659860398 | Recall: 0.9934778973186911 | F1: 0.9934779767273612\n"
     ]
    },
    {
     "name": "stderr",
     "output_type": "stream",
     "text": [
      "Validating: 100%|██████████| 71/71 [00:12<00:00,  5.89it/s]\n"
     ]
    },
    {
     "name": "stdout",
     "output_type": "stream",
     "text": [
      "\tValidation Loss: 0.031884542733806344 | Accuracy: 0.9919732441471572 | Precision: 0.9920679228404036 | Recall: 0.9919732441471572 | F1: 0.9919790273448857\n",
      "Saving best model at epoch 38...\n"
     ]
    },
    {
     "name": "stderr",
     "output_type": "stream",
     "text": [
      "Training: 100%|██████████| 281/281 [03:24<00:00,  1.38it/s]\n"
     ]
    },
    {
     "name": "stdout",
     "output_type": "stream",
     "text": [
      "Epoch 39 | Train Loss: 0.017959341981027315 | Accuracy: 0.9935893862534143 | Precision: 0.9935930466479918 | Recall: 0.9935893862534143 | F1: 0.9935902035543536\n"
     ]
    },
    {
     "name": "stderr",
     "output_type": "stream",
     "text": [
      "Validating: 100%|██████████| 71/71 [00:13<00:00,  5.34it/s]\n"
     ]
    },
    {
     "name": "stdout",
     "output_type": "stream",
     "text": [
      "\tValidation Loss: 0.035404247868786445 | Accuracy: 0.989520624303233 | Precision: 0.9896460960238845 | Recall: 0.989520624303233 | F1: 0.9894924816363111\n"
     ]
    },
    {
     "name": "stderr",
     "output_type": "stream",
     "text": [
      "Training: 100%|██████████| 281/281 [03:24<00:00,  1.37it/s]\n"
     ]
    },
    {
     "name": "stdout",
     "output_type": "stream",
     "text": [
      "Epoch 40 | Train Loss: 0.015370503652739766 | Accuracy: 0.9952059758069012 | Precision: 0.9952050459645684 | Recall: 0.9952059758069012 | F1: 0.995205233274389\n"
     ]
    },
    {
     "name": "stderr",
     "output_type": "stream",
     "text": [
      "Validating: 100%|██████████| 71/71 [00:12<00:00,  5.69it/s]\n"
     ]
    },
    {
     "name": "stdout",
     "output_type": "stream",
     "text": [
      "\tValidation Loss: 0.02074857696302196 | Accuracy: 0.9953177257525083 | Precision: 0.9953532541836349 | Recall: 0.9953177257525083 | F1: 0.9953185051147009\n",
      "Saving best model at epoch 40...\n"
     ]
    },
    {
     "name": "stderr",
     "output_type": "stream",
     "text": [
      "Training: 100%|██████████| 281/281 [03:24<00:00,  1.38it/s]\n"
     ]
    },
    {
     "name": "stdout",
     "output_type": "stream",
     "text": [
      "Epoch 41 | Train Loss: 0.015967193164075955 | Accuracy: 0.9954846981437092 | Precision: 0.9954860091287059 | Recall: 0.9954846981437092 | F1: 0.9954846651259481\n"
     ]
    },
    {
     "name": "stderr",
     "output_type": "stream",
     "text": [
      "Validating: 100%|██████████| 71/71 [00:13<00:00,  5.41it/s]\n"
     ]
    },
    {
     "name": "stdout",
     "output_type": "stream",
     "text": [
      "\tValidation Loss: 0.03183747634199828 | Accuracy: 0.9906354515050168 | Precision: 0.9907593288535014 | Recall: 0.9906354515050168 | F1: 0.9906451109562509\n"
     ]
    },
    {
     "name": "stderr",
     "output_type": "stream",
     "text": [
      "Training: 100%|██████████| 281/281 [03:24<00:00,  1.38it/s]\n"
     ]
    },
    {
     "name": "stdout",
     "output_type": "stream",
     "text": [
      "Epoch 42 | Train Loss: 0.018613261710763312 | Accuracy: 0.9941468309270305 | Precision: 0.9941437571900547 | Recall: 0.9941468309270305 | F1: 0.9941443411611965\n"
     ]
    },
    {
     "name": "stderr",
     "output_type": "stream",
     "text": [
      "Validating: 100%|██████████| 71/71 [00:13<00:00,  5.24it/s]\n"
     ]
    },
    {
     "name": "stdout",
     "output_type": "stream",
     "text": [
      "\tValidation Loss: 0.04476802864621892 | Accuracy: 0.9875139353400223 | Precision: 0.9877441012238539 | Recall: 0.9875139353400223 | F1: 0.9875647564734434\n"
     ]
    },
    {
     "name": "stderr",
     "output_type": "stream",
     "text": [
      "Training: 100%|██████████| 281/281 [03:23<00:00,  1.38it/s]\n"
     ]
    },
    {
     "name": "stdout",
     "output_type": "stream",
     "text": [
      "Epoch 43 | Train Loss: 0.014108848175084884 | Accuracy: 0.9959863983499637 | Precision: 0.9959865171402142 | Recall: 0.9959863983499637 | F1: 0.99598629374348\n"
     ]
    },
    {
     "name": "stderr",
     "output_type": "stream",
     "text": [
      "Validating: 100%|██████████| 71/71 [00:11<00:00,  5.93it/s]\n"
     ]
    },
    {
     "name": "stdout",
     "output_type": "stream",
     "text": [
      "\tValidation Loss: 0.022295310391456668 | Accuracy: 0.9933110367892977 | Precision: 0.9933558123036289 | Recall: 0.9933110367892977 | F1: 0.9933139361978476\n"
     ]
    },
    {
     "name": "stderr",
     "output_type": "stream",
     "text": [
      "Training: 100%|██████████| 281/281 [03:23<00:00,  1.38it/s]\n"
     ]
    },
    {
     "name": "stdout",
     "output_type": "stream",
     "text": [
      "Epoch 44 | Train Loss: 0.01563924499244671 | Accuracy: 0.995373209208986 | Precision: 0.995372025964934 | Recall: 0.995373209208986 | F1: 0.9953720296923407\n"
     ]
    },
    {
     "name": "stderr",
     "output_type": "stream",
     "text": [
      "Validating: 100%|██████████| 71/71 [00:12<00:00,  5.81it/s]\n"
     ]
    },
    {
     "name": "stdout",
     "output_type": "stream",
     "text": [
      "\tValidation Loss: 0.019496343470167068 | Accuracy: 0.9957636566332219 | Precision: 0.9957764584631612 | Recall: 0.9957636566332219 | F1: 0.9957617281929466\n",
      "Saving best model at epoch 44...\n"
     ]
    },
    {
     "name": "stderr",
     "output_type": "stream",
     "text": [
      "Training: 100%|██████████| 281/281 [03:23<00:00,  1.38it/s]\n"
     ]
    },
    {
     "name": "stdout",
     "output_type": "stream",
     "text": [
      "Epoch 45 | Train Loss: 0.006163552589569526 | Accuracy: 0.9982161770444283 | Precision: 0.9982167982142813 | Recall: 0.9982161770444283 | F1: 0.9982163790249945\n"
     ]
    },
    {
     "name": "stderr",
     "output_type": "stream",
     "text": [
      "Validating: 100%|██████████| 71/71 [00:11<00:00,  5.95it/s]\n"
     ]
    },
    {
     "name": "stdout",
     "output_type": "stream",
     "text": [
      "\tValidation Loss: 0.022578188787750624 | Accuracy: 0.9942028985507246 | Precision: 0.9942294067377456 | Recall: 0.9942028985507246 | F1: 0.9942013904716891\n"
     ]
    },
    {
     "name": "stderr",
     "output_type": "stream",
     "text": [
      "Training: 100%|██████████| 281/281 [03:23<00:00,  1.38it/s]\n"
     ]
    },
    {
     "name": "stdout",
     "output_type": "stream",
     "text": [
      "Epoch 46 | Train Loss: 0.010552432285685977 | Accuracy: 0.9965438430235799 | Precision: 0.9965455600555946 | Recall: 0.9965438430235799 | F1: 0.9965445076445764\n"
     ]
    },
    {
     "name": "stderr",
     "output_type": "stream",
     "text": [
      "Validating: 100%|██████████| 71/71 [00:12<00:00,  5.66it/s]\n"
     ]
    },
    {
     "name": "stdout",
     "output_type": "stream",
     "text": [
      "\tValidation Loss: 0.12284705296657245 | Accuracy: 0.9649944258639911 | Precision: 0.9687306851036788 | Recall: 0.9649944258639911 | F1: 0.9652019488464008\n"
     ]
    },
    {
     "name": "stderr",
     "output_type": "stream",
     "text": [
      "Training: 100%|██████████| 281/281 [03:23<00:00,  1.38it/s]\n"
     ]
    },
    {
     "name": "stdout",
     "output_type": "stream",
     "text": [
      "Epoch 47 | Train Loss: 0.016066908133263846 | Accuracy: 0.9950944868721779 | Precision: 0.9950967938488138 | Recall: 0.9950944868721779 | F1: 0.9950950228581703\n"
     ]
    },
    {
     "name": "stderr",
     "output_type": "stream",
     "text": [
      "Validating: 100%|██████████| 71/71 [00:12<00:00,  5.67it/s]\n"
     ]
    },
    {
     "name": "stdout",
     "output_type": "stream",
     "text": [
      "\tValidation Loss: 0.021505622380547568 | Accuracy: 0.9953177257525083 | Precision: 0.9953809194469941 | Recall: 0.9953177257525083 | F1: 0.9953301175303396\n"
     ]
    },
    {
     "name": "stderr",
     "output_type": "stream",
     "text": [
      "Training: 100%|██████████| 281/281 [03:23<00:00,  1.38it/s]\n"
     ]
    },
    {
     "name": "stdout",
     "output_type": "stream",
     "text": [
      "Epoch 48 | Train Loss: 0.007702711164054181 | Accuracy: 0.9976587323708122 | Precision: 0.9976592826629987 | Recall: 0.9976587323708122 | F1: 0.9976589193265715\n"
     ]
    },
    {
     "name": "stderr",
     "output_type": "stream",
     "text": [
      "Validating: 100%|██████████| 71/71 [00:12<00:00,  5.65it/s]\n"
     ]
    },
    {
     "name": "stdout",
     "output_type": "stream",
     "text": [
      "\tValidation Loss: 0.02253304087433105 | Accuracy: 0.9937569676700111 | Precision: 0.9939152225425554 | Recall: 0.9937569676700111 | F1: 0.9937669284696045\n"
     ]
    },
    {
     "name": "stderr",
     "output_type": "stream",
     "text": [
      "Training: 100%|██████████| 281/281 [03:23<00:00,  1.38it/s]\n"
     ]
    },
    {
     "name": "stdout",
     "output_type": "stream",
     "text": [
      "Epoch 49 | Train Loss: 0.009623718968952187 | Accuracy: 0.9968225653603879 | Precision: 0.9968230921784957 | Recall: 0.9968225653603879 | F1: 0.9968226130228663\n"
     ]
    },
    {
     "name": "stderr",
     "output_type": "stream",
     "text": [
      "Validating: 100%|██████████| 71/71 [00:12<00:00,  5.70it/s]\n"
     ]
    },
    {
     "name": "stdout",
     "output_type": "stream",
     "text": [
      "\tValidation Loss: 0.04143628265879209 | Accuracy: 0.9881828316610926 | Precision: 0.9889020020868015 | Recall: 0.9881828316610926 | F1: 0.988300574858008\n"
     ]
    },
    {
     "name": "stderr",
     "output_type": "stream",
     "text": [
      "Training: 100%|██████████| 281/281 [03:23<00:00,  1.38it/s]\n"
     ]
    },
    {
     "name": "stdout",
     "output_type": "stream",
     "text": [
      "Epoch 50 | Train Loss: 0.008035380108895844 | Accuracy: 0.9972685210992809 | Precision: 0.99726968744715 | Recall: 0.9972685210992809 | F1: 0.9972687274442578\n"
     ]
    },
    {
     "name": "stderr",
     "output_type": "stream",
     "text": [
      "Validating: 100%|██████████| 71/71 [00:12<00:00,  5.48it/s]\n"
     ]
    },
    {
     "name": "stdout",
     "output_type": "stream",
     "text": [
      "\tValidation Loss: 0.020668951272839454 | Accuracy: 0.9959866220735786 | Precision: 0.9960142773516287 | Recall: 0.9959866220735786 | F1: 0.9959898027816404\n"
     ]
    },
    {
     "name": "stderr",
     "output_type": "stream",
     "text": [
      "Training: 100%|██████████| 281/281 [03:23<00:00,  1.38it/s]\n"
     ]
    },
    {
     "name": "stdout",
     "output_type": "stream",
     "text": [
      "Epoch 51 | Train Loss: 0.010128761405898738 | Accuracy: 0.9968783098277496 | Precision: 0.9968779969811843 | Recall: 0.9968783098277496 | F1: 0.9968779330181807\n"
     ]
    },
    {
     "name": "stderr",
     "output_type": "stream",
     "text": [
      "Validating: 100%|██████████| 71/71 [00:12<00:00,  5.67it/s]\n"
     ]
    },
    {
     "name": "stdout",
     "output_type": "stream",
     "text": [
      "\tValidation Loss: 0.02606336890332873 | Accuracy: 0.9933110367892977 | Precision: 0.9933789483579104 | Recall: 0.9933110367892977 | F1: 0.9933041394489626\n"
     ]
    },
    {
     "name": "stderr",
     "output_type": "stream",
     "text": [
      "Training: 100%|██████████| 281/281 [03:24<00:00,  1.38it/s]\n"
     ]
    },
    {
     "name": "stdout",
     "output_type": "stream",
     "text": [
      "Epoch 52 | Train Loss: 0.014956276144244496 | Accuracy: 0.9955961870784324 | Precision: 0.9955986733356016 | Recall: 0.9955961870784324 | F1: 0.9955965054209318\n"
     ]
    },
    {
     "name": "stderr",
     "output_type": "stream",
     "text": [
      "Validating: 100%|██████████| 71/71 [00:12<00:00,  5.62it/s]\n"
     ]
    },
    {
     "name": "stdout",
     "output_type": "stream",
     "text": [
      "\tValidation Loss: 0.022950923462803346 | Accuracy: 0.9939799331103679 | Precision: 0.9939828017574642 | Recall: 0.9939799331103679 | F1: 0.9939791852269259\n"
     ]
    },
    {
     "name": "stderr",
     "output_type": "stream",
     "text": [
      "Training: 100%|██████████| 281/281 [03:24<00:00,  1.38it/s]\n"
     ]
    },
    {
     "name": "stdout",
     "output_type": "stream",
     "text": [
      "Epoch 53 | Train Loss: 0.006852939397089798 | Accuracy: 0.9977702213055354 | Precision: 0.9977720237917641 | Recall: 0.9977702213055354 | F1: 0.997770668454583\n"
     ]
    },
    {
     "name": "stderr",
     "output_type": "stream",
     "text": [
      "Validating: 100%|██████████| 71/71 [00:13<00:00,  5.32it/s]\n"
     ]
    },
    {
     "name": "stdout",
     "output_type": "stream",
     "text": [
      "\tValidation Loss: 0.017277851782944734 | Accuracy: 0.9964325529542921 | Precision: 0.9964507869820856 | Recall: 0.9964325529542921 | F1: 0.9964353027887505\n",
      "Saving best model at epoch 53...\n"
     ]
    },
    {
     "name": "stderr",
     "output_type": "stream",
     "text": [
      "Training: 100%|██████████| 281/281 [03:23<00:00,  1.38it/s]\n"
     ]
    },
    {
     "name": "stdout",
     "output_type": "stream",
     "text": [
      "Epoch 54 | Train Loss: 0.00443746900236227 | Accuracy: 0.9988851106527677 | Precision: 0.9988857352448878 | Recall: 0.9988851106527677 | F1: 0.9988851353662209\n"
     ]
    },
    {
     "name": "stderr",
     "output_type": "stream",
     "text": [
      "Validating: 100%|██████████| 71/71 [00:12<00:00,  5.77it/s]\n"
     ]
    },
    {
     "name": "stdout",
     "output_type": "stream",
     "text": [
      "\tValidation Loss: 0.018164726404854302 | Accuracy: 0.9968784838350055 | Precision: 0.9968838654317275 | Recall: 0.9968784838350055 | F1: 0.9968782410889002\n"
     ]
    },
    {
     "name": "stderr",
     "output_type": "stream",
     "text": [
      "Training: 100%|██████████| 281/281 [03:24<00:00,  1.37it/s]\n"
     ]
    },
    {
     "name": "stdout",
     "output_type": "stream",
     "text": [
      "Epoch 55 | Train Loss: 0.0018395480585299134 | Accuracy: 0.999554044261107 | Precision: 0.999554044261107 | Recall: 0.999554044261107 | F1: 0.999554044261107\n"
     ]
    },
    {
     "name": "stderr",
     "output_type": "stream",
     "text": [
      "Validating: 100%|██████████| 71/71 [00:12<00:00,  5.74it/s]\n"
     ]
    },
    {
     "name": "stdout",
     "output_type": "stream",
     "text": [
      "\tValidation Loss: 0.015417708705300215 | Accuracy: 0.9966555183946488 | Precision: 0.996662661005212 | Recall: 0.9966555183946488 | F1: 0.9966548559726459\n",
      "Saving best model at epoch 55...\n"
     ]
    },
    {
     "name": "stderr",
     "output_type": "stream",
     "text": [
      "Training: 100%|██████████| 281/281 [03:23<00:00,  1.38it/s]\n"
     ]
    },
    {
     "name": "stdout",
     "output_type": "stream",
     "text": [
      "Epoch 56 | Train Loss: 0.004838609514214029 | Accuracy: 0.9989408551201293 | Precision: 0.9989411908086014 | Recall: 0.9989408551201293 | F1: 0.9989408880049666\n"
     ]
    },
    {
     "name": "stderr",
     "output_type": "stream",
     "text": [
      "Validating: 100%|██████████| 71/71 [00:12<00:00,  5.56it/s]\n"
     ]
    },
    {
     "name": "stdout",
     "output_type": "stream",
     "text": [
      "\tValidation Loss: 0.02097222837554794 | Accuracy: 0.9948717948717949 | Precision: 0.9948855579068748 | Recall: 0.9948717948717949 | F1: 0.9948690561414913\n"
     ]
    },
    {
     "name": "stderr",
     "output_type": "stream",
     "text": [
      "Training: 100%|██████████| 281/281 [03:23<00:00,  1.38it/s]\n"
     ]
    },
    {
     "name": "stdout",
     "output_type": "stream",
     "text": [
      "Epoch 57 | Train Loss: 0.005218095216043878 | Accuracy: 0.9982161770444283 | Precision: 0.998216165798242 | Recall: 0.9982161770444283 | F1: 0.9982161390830763\n"
     ]
    },
    {
     "name": "stderr",
     "output_type": "stream",
     "text": [
      "Validating: 100%|██████████| 71/71 [00:12<00:00,  5.67it/s]\n"
     ]
    },
    {
     "name": "stdout",
     "output_type": "stream",
     "text": [
      "\tValidation Loss: 0.017692980685367243 | Accuracy: 0.9962095875139353 | Precision: 0.9962235364359338 | Recall: 0.9962095875139353 | F1: 0.9962075073463634\n"
     ]
    },
    {
     "name": "stderr",
     "output_type": "stream",
     "text": [
      "Training: 100%|██████████| 281/281 [03:24<00:00,  1.38it/s]\n"
     ]
    },
    {
     "name": "stdout",
     "output_type": "stream",
     "text": [
      "Epoch 58 | Train Loss: 0.005584489063421578 | Accuracy: 0.9983276659791516 | Precision: 0.9983293069040393 | Recall: 0.9983276659791516 | F1: 0.9983283246124474\n"
     ]
    },
    {
     "name": "stderr",
     "output_type": "stream",
     "text": [
      "Validating: 100%|██████████| 71/71 [00:12<00:00,  5.55it/s]\n"
     ]
    },
    {
     "name": "stdout",
     "output_type": "stream",
     "text": [
      "\tValidation Loss: 0.023264195403562938 | Accuracy: 0.9950947603121516 | Precision: 0.9951116021960216 | Recall: 0.9950947603121516 | F1: 0.9950788594999165\n"
     ]
    },
    {
     "name": "stderr",
     "output_type": "stream",
     "text": [
      "Training: 100%|██████████| 281/281 [03:23<00:00,  1.38it/s]\n"
     ]
    },
    {
     "name": "stdout",
     "output_type": "stream",
     "text": [
      "Epoch 59 | Train Loss: 0.006715361577687782 | Accuracy: 0.9982161770444283 | Precision: 0.9982165098344992 | Recall: 0.9982161770444283 | F1: 0.9982161262322713\n"
     ]
    },
    {
     "name": "stderr",
     "output_type": "stream",
     "text": [
      "Validating: 100%|██████████| 71/71 [00:13<00:00,  5.44it/s]\n"
     ]
    },
    {
     "name": "stdout",
     "output_type": "stream",
     "text": [
      "\tValidation Loss: 0.028096491318547762 | Accuracy: 0.9939799331103679 | Precision: 0.994001758764895 | Recall: 0.9939799331103679 | F1: 0.9939743989970115\n"
     ]
    },
    {
     "name": "stderr",
     "output_type": "stream",
     "text": [
      "Training: 100%|██████████| 281/281 [03:24<00:00,  1.38it/s]\n"
     ]
    },
    {
     "name": "stdout",
     "output_type": "stream",
     "text": [
      "Epoch 60 | Train Loss: 0.004587666723840993 | Accuracy: 0.9987736217180445 | Precision: 0.9987745181973282 | Recall: 0.9987736217180445 | F1: 0.9987738121316729\n"
     ]
    },
    {
     "name": "stderr",
     "output_type": "stream",
     "text": [
      "Validating: 100%|██████████| 71/71 [00:12<00:00,  5.65it/s]\n"
     ]
    },
    {
     "name": "stdout",
     "output_type": "stream",
     "text": [
      "\tValidation Loss: 0.015444856906111122 | Accuracy: 0.9962095875139353 | Precision: 0.9962185610621345 | Recall: 0.9962095875139353 | F1: 0.996210571252587\n"
     ]
    },
    {
     "name": "stderr",
     "output_type": "stream",
     "text": [
      "Training: 100%|██████████| 281/281 [03:24<00:00,  1.37it/s]\n"
     ]
    },
    {
     "name": "stdout",
     "output_type": "stream",
     "text": [
      "Epoch 61 | Train Loss: 0.00301795856042925 | Accuracy: 0.9992195774569373 | Precision: 0.9992196870064549 | Recall: 0.9992195774569373 | F1: 0.99921952721114\n"
     ]
    },
    {
     "name": "stderr",
     "output_type": "stream",
     "text": [
      "Validating: 100%|██████████| 71/71 [00:12<00:00,  5.52it/s]\n"
     ]
    },
    {
     "name": "stdout",
     "output_type": "stream",
     "text": [
      "\tValidation Loss: 0.02215853253250649 | Accuracy: 0.9946488294314382 | Precision: 0.9946860152763738 | Recall: 0.9946488294314382 | F1: 0.9946485657600707\n"
     ]
    },
    {
     "name": "stderr",
     "output_type": "stream",
     "text": [
      "Training: 100%|██████████| 281/281 [03:24<00:00,  1.38it/s]\n"
     ]
    },
    {
     "name": "stdout",
     "output_type": "stream",
     "text": [
      "Epoch 62 | Train Loss: 0.005452448474270212 | Accuracy: 0.998550643848598 | Precision: 0.9985510491551234 | Recall: 0.998550643848598 | F1: 0.9985504973680727\n"
     ]
    },
    {
     "name": "stderr",
     "output_type": "stream",
     "text": [
      "Validating: 100%|██████████| 71/71 [00:13<00:00,  5.32it/s]\n"
     ]
    },
    {
     "name": "stdout",
     "output_type": "stream",
     "text": [
      "\tValidation Loss: 0.01829973966286302 | Accuracy: 0.9955406911928651 | Precision: 0.995544112873234 | Recall: 0.9955406911928651 | F1: 0.99553428497584\n"
     ]
    },
    {
     "name": "stderr",
     "output_type": "stream",
     "text": [
      "Training: 100%|██████████| 281/281 [03:24<00:00,  1.38it/s]\n"
     ]
    },
    {
     "name": "stdout",
     "output_type": "stream",
     "text": [
      "Epoch 63 | Train Loss: 0.0033219483581218216 | Accuracy: 0.9990523440548525 | Precision: 0.9990524062894346 | Recall: 0.9990523440548525 | F1: 0.9990522754426272\n"
     ]
    },
    {
     "name": "stderr",
     "output_type": "stream",
     "text": [
      "Validating: 100%|██████████| 71/71 [00:12<00:00,  5.74it/s]\n"
     ]
    },
    {
     "name": "stdout",
     "output_type": "stream",
     "text": [
      "\tValidation Loss: 0.01796488345376596 | Accuracy: 0.9968784838350055 | Precision: 0.9968844118484244 | Recall: 0.9968784838350055 | F1: 0.9968794105797891\n"
     ]
    },
    {
     "name": "stderr",
     "output_type": "stream",
     "text": [
      "Training: 100%|██████████| 281/281 [03:24<00:00,  1.38it/s]\n"
     ]
    },
    {
     "name": "stdout",
     "output_type": "stream",
     "text": [
      "Epoch 64 | Train Loss: 0.0017740570315497193 | Accuracy: 0.9996655331958303 | Precision: 0.9996657302862259 | Recall: 0.9996655331958303 | F1: 0.9996655671320493\n"
     ]
    },
    {
     "name": "stderr",
     "output_type": "stream",
     "text": [
      "Validating: 100%|██████████| 71/71 [00:12<00:00,  5.52it/s]\n"
     ]
    },
    {
     "name": "stdout",
     "output_type": "stream",
     "text": [
      "\tValidation Loss: 0.017919029272043575 | Accuracy: 0.9959866220735786 | Precision: 0.9959922415349861 | Recall: 0.9959866220735786 | F1: 0.9959816803742702\n",
      "Early stopping at epoch 64\n",
      "Training finished!\n"
     ]
    },
    {
     "data": {
      "text/plain": [
       "({'Loss': [2.262424326452072,\n",
       "   1.8179699398868874,\n",
       "   1.1050520276259697,\n",
       "   0.5723653575173476,\n",
       "   0.3853968145107035,\n",
       "   0.21198460153466442,\n",
       "   0.1620913282620101,\n",
       "   0.11258889746013698,\n",
       "   0.09892590578274264,\n",
       "   0.0908283425521543,\n",
       "   0.08331596827485807,\n",
       "   0.07230711242787248,\n",
       "   0.05534364236684457,\n",
       "   0.0731317529693458,\n",
       "   0.06064820350512359,\n",
       "   0.0646271789214471,\n",
       "   0.05744706896660697,\n",
       "   0.04854487616476003,\n",
       "   0.04112342328124836,\n",
       "   0.04874895162486017,\n",
       "   0.05154025088912837,\n",
       "   0.04159269013874617,\n",
       "   0.04277027968410071,\n",
       "   0.034242442316248074,\n",
       "   0.04509033895142416,\n",
       "   0.025871237852814477,\n",
       "   0.028785564760003053,\n",
       "   0.034093964594193435,\n",
       "   0.03208357078111084,\n",
       "   0.02710457958216411,\n",
       "   0.035841515985109554,\n",
       "   0.022181482160972675,\n",
       "   0.025983704921192476,\n",
       "   0.026114368140774124,\n",
       "   0.026995539379466055,\n",
       "   0.019490327587366945,\n",
       "   0.02694580107775071,\n",
       "   0.02174807932920542,\n",
       "   0.017959341981027315,\n",
       "   0.015370503652739766,\n",
       "   0.015967193164075955,\n",
       "   0.018613261710763312,\n",
       "   0.014108848175084884,\n",
       "   0.01563924499244671,\n",
       "   0.006163552589569526,\n",
       "   0.010552432285685977,\n",
       "   0.016066908133263846,\n",
       "   0.007702711164054181,\n",
       "   0.009623718968952187,\n",
       "   0.008035380108895844,\n",
       "   0.010128761405898738,\n",
       "   0.014956276144244496,\n",
       "   0.006852939397089798,\n",
       "   0.00443746900236227,\n",
       "   0.0018395480585299134,\n",
       "   0.004838609514214029,\n",
       "   0.005218095216043878,\n",
       "   0.005584489063421578,\n",
       "   0.006715361577687782,\n",
       "   0.004587666723840993,\n",
       "   0.00301795856042925,\n",
       "   0.005452448474270212,\n",
       "   0.0033219483581218216,\n",
       "   0.0017740570315497193],\n",
       "  'Accuracy': [0.16043257706672612,\n",
       "   0.3510229109760856,\n",
       "   0.6105134065444004,\n",
       "   0.8129215675344222,\n",
       "   0.876693238196109,\n",
       "   0.932493450025085,\n",
       "   0.9498857238419087,\n",
       "   0.9649367300295446,\n",
       "   0.9700094765594515,\n",
       "   0.9712915993087686,\n",
       "   0.9750822230893584,\n",
       "   0.9772005128490997,\n",
       "   0.9824962372484531,\n",
       "   0.9769217905122917,\n",
       "   0.981492836835944,\n",
       "   0.9808239032276047,\n",
       "   0.9819945370421985,\n",
       "   0.9852834606165338,\n",
       "   0.9863983499637661,\n",
       "   0.9848375048776409,\n",
       "   0.9830536819220692,\n",
       "   0.9863983499637661,\n",
       "   0.9865098388984893,\n",
       "   0.98929706226657,\n",
       "   0.9856179274207035,\n",
       "   0.9920842856346508,\n",
       "   0.9906349294832488,\n",
       "   0.9895200401360165,\n",
       "   0.9900217403422711,\n",
       "   0.9916383298957578,\n",
       "   0.9889068509950387,\n",
       "   0.993645130720776,\n",
       "   0.9919727966999276,\n",
       "   0.9917498188304811,\n",
       "   0.9921400301020123,\n",
       "   0.9937566196554992,\n",
       "   0.9915268409610346,\n",
       "   0.9934778973186911,\n",
       "   0.9935893862534143,\n",
       "   0.9952059758069012,\n",
       "   0.9954846981437092,\n",
       "   0.9941468309270305,\n",
       "   0.9959863983499637,\n",
       "   0.995373209208986,\n",
       "   0.9982161770444283,\n",
       "   0.9965438430235799,\n",
       "   0.9950944868721779,\n",
       "   0.9976587323708122,\n",
       "   0.9968225653603879,\n",
       "   0.9972685210992809,\n",
       "   0.9968783098277496,\n",
       "   0.9955961870784324,\n",
       "   0.9977702213055354,\n",
       "   0.9988851106527677,\n",
       "   0.999554044261107,\n",
       "   0.9989408551201293,\n",
       "   0.9982161770444283,\n",
       "   0.9983276659791516,\n",
       "   0.9982161770444283,\n",
       "   0.9987736217180445,\n",
       "   0.9992195774569373,\n",
       "   0.998550643848598,\n",
       "   0.9990523440548525,\n",
       "   0.9996655331958303],\n",
       "  'Precision': [0.1565140267940971,\n",
       "   0.3375815362622401,\n",
       "   0.6062101625597456,\n",
       "   0.8121424573126343,\n",
       "   0.8763501148687105,\n",
       "   0.9324368378712742,\n",
       "   0.9498743944809622,\n",
       "   0.964889195534558,\n",
       "   0.9699819193323479,\n",
       "   0.9713136099297582,\n",
       "   0.9750699366246866,\n",
       "   0.9772279343927752,\n",
       "   0.9825099742081709,\n",
       "   0.9769224818481191,\n",
       "   0.9814856161921359,\n",
       "   0.9808287209995994,\n",
       "   0.9820146642764656,\n",
       "   0.9852787400792985,\n",
       "   0.9863944696394755,\n",
       "   0.9848339199375514,\n",
       "   0.9830512718167518,\n",
       "   0.9864001973602439,\n",
       "   0.9865003387509287,\n",
       "   0.989299026742725,\n",
       "   0.9856365757370118,\n",
       "   0.992090756971986,\n",
       "   0.990632123141441,\n",
       "   0.9895234543883257,\n",
       "   0.9900174106578118,\n",
       "   0.9916407930540003,\n",
       "   0.9889084878120711,\n",
       "   0.9936450972203793,\n",
       "   0.9919713785146325,\n",
       "   0.9917516204969784,\n",
       "   0.9921453224433489,\n",
       "   0.993756049717899,\n",
       "   0.9915280431329809,\n",
       "   0.993478659860398,\n",
       "   0.9935930466479918,\n",
       "   0.9952050459645684,\n",
       "   0.9954860091287059,\n",
       "   0.9941437571900547,\n",
       "   0.9959865171402142,\n",
       "   0.995372025964934,\n",
       "   0.9982167982142813,\n",
       "   0.9965455600555946,\n",
       "   0.9950967938488138,\n",
       "   0.9976592826629987,\n",
       "   0.9968230921784957,\n",
       "   0.99726968744715,\n",
       "   0.9968779969811843,\n",
       "   0.9955986733356016,\n",
       "   0.9977720237917641,\n",
       "   0.9988857352448878,\n",
       "   0.999554044261107,\n",
       "   0.9989411908086014,\n",
       "   0.998216165798242,\n",
       "   0.9983293069040393,\n",
       "   0.9982165098344992,\n",
       "   0.9987745181973282,\n",
       "   0.9992196870064549,\n",
       "   0.9985510491551234,\n",
       "   0.9990524062894346,\n",
       "   0.9996657302862259],\n",
       "  'Recall': [0.16043257706672612,\n",
       "   0.3510229109760856,\n",
       "   0.6105134065444004,\n",
       "   0.8129215675344222,\n",
       "   0.876693238196109,\n",
       "   0.932493450025085,\n",
       "   0.9498857238419087,\n",
       "   0.9649367300295446,\n",
       "   0.9700094765594515,\n",
       "   0.9712915993087686,\n",
       "   0.9750822230893584,\n",
       "   0.9772005128490997,\n",
       "   0.9824962372484531,\n",
       "   0.9769217905122917,\n",
       "   0.981492836835944,\n",
       "   0.9808239032276047,\n",
       "   0.9819945370421985,\n",
       "   0.9852834606165338,\n",
       "   0.9863983499637661,\n",
       "   0.9848375048776409,\n",
       "   0.9830536819220692,\n",
       "   0.9863983499637661,\n",
       "   0.9865098388984893,\n",
       "   0.98929706226657,\n",
       "   0.9856179274207035,\n",
       "   0.9920842856346508,\n",
       "   0.9906349294832488,\n",
       "   0.9895200401360165,\n",
       "   0.9900217403422711,\n",
       "   0.9916383298957578,\n",
       "   0.9889068509950387,\n",
       "   0.993645130720776,\n",
       "   0.9919727966999276,\n",
       "   0.9917498188304811,\n",
       "   0.9921400301020123,\n",
       "   0.9937566196554992,\n",
       "   0.9915268409610346,\n",
       "   0.9934778973186911,\n",
       "   0.9935893862534143,\n",
       "   0.9952059758069012,\n",
       "   0.9954846981437092,\n",
       "   0.9941468309270305,\n",
       "   0.9959863983499637,\n",
       "   0.995373209208986,\n",
       "   0.9982161770444283,\n",
       "   0.9965438430235799,\n",
       "   0.9950944868721779,\n",
       "   0.9976587323708122,\n",
       "   0.9968225653603879,\n",
       "   0.9972685210992809,\n",
       "   0.9968783098277496,\n",
       "   0.9955961870784324,\n",
       "   0.9977702213055354,\n",
       "   0.9988851106527677,\n",
       "   0.999554044261107,\n",
       "   0.9989408551201293,\n",
       "   0.9982161770444283,\n",
       "   0.9983276659791516,\n",
       "   0.9982161770444283,\n",
       "   0.9987736217180445,\n",
       "   0.9992195774569373,\n",
       "   0.998550643848598,\n",
       "   0.9990523440548525,\n",
       "   0.9996655331958303],\n",
       "  'F1': [0.1477786066678615,\n",
       "   0.331872302020726,\n",
       "   0.6061056465562589,\n",
       "   0.8123099388857495,\n",
       "   0.8764486191841382,\n",
       "   0.9324160097792371,\n",
       "   0.9498669630083715,\n",
       "   0.9648977533767154,\n",
       "   0.9699884069574914,\n",
       "   0.9712950216421593,\n",
       "   0.9750688916330522,\n",
       "   0.9772048829877896,\n",
       "   0.9824930378993103,\n",
       "   0.9769178837629666,\n",
       "   0.9814840876026086,\n",
       "   0.980825691218558,\n",
       "   0.9819991945074219,\n",
       "   0.9852800839031088,\n",
       "   0.9863931805580329,\n",
       "   0.9848338640848068,\n",
       "   0.9830498816272081,\n",
       "   0.9863963012678195,\n",
       "   0.9865037127132291,\n",
       "   0.9892970415325413,\n",
       "   0.9856235954445879,\n",
       "   0.9920859689854375,\n",
       "   0.9906316577110341,\n",
       "   0.9895211738468979,\n",
       "   0.9900186387925124,\n",
       "   0.9916387089324731,\n",
       "   0.9889073139163848,\n",
       "   0.9936445226048345,\n",
       "   0.9919711376466804,\n",
       "   0.9917502660044848,\n",
       "   0.9921419242146898,\n",
       "   0.9937549746286223,\n",
       "   0.9915267449704234,\n",
       "   0.9934779767273612,\n",
       "   0.9935902035543536,\n",
       "   0.995205233274389,\n",
       "   0.9954846651259481,\n",
       "   0.9941443411611965,\n",
       "   0.99598629374348,\n",
       "   0.9953720296923407,\n",
       "   0.9982163790249945,\n",
       "   0.9965445076445764,\n",
       "   0.9950950228581703,\n",
       "   0.9976589193265715,\n",
       "   0.9968226130228663,\n",
       "   0.9972687274442578,\n",
       "   0.9968779330181807,\n",
       "   0.9955965054209318,\n",
       "   0.997770668454583,\n",
       "   0.9988851353662209,\n",
       "   0.999554044261107,\n",
       "   0.9989408880049666,\n",
       "   0.9982161390830763,\n",
       "   0.9983283246124474,\n",
       "   0.9982161262322713,\n",
       "   0.9987738121316729,\n",
       "   0.99921952721114,\n",
       "   0.9985504973680727,\n",
       "   0.9990522754426272,\n",
       "   0.9996655671320493]},\n",
       " {'Loss': [2.2532862374480342,\n",
       "   1.6038072260332779,\n",
       "   1.1435802788801597,\n",
       "   0.5449450624660707,\n",
       "   0.40510132698945595,\n",
       "   0.5910338685965874,\n",
       "   0.2479895983468479,\n",
       "   0.8171823175860123,\n",
       "   0.11661887486320986,\n",
       "   0.1604417375957882,\n",
       "   0.25549083906160275,\n",
       "   0.1273959743188576,\n",
       "   0.432547342084663,\n",
       "   0.06557817890925306,\n",
       "   0.08537358999855711,\n",
       "   0.5221436525314627,\n",
       "   0.14456811771583808,\n",
       "   0.18798392749732543,\n",
       "   0.04794728864495918,\n",
       "   0.07131689255663627,\n",
       "   0.06627405173486282,\n",
       "   0.05609441697794262,\n",
       "   0.06020072188628444,\n",
       "   0.0758684091491323,\n",
       "   0.04738726552156076,\n",
       "   0.07459400882157431,\n",
       "   0.050323859739287845,\n",
       "   0.09008135253393,\n",
       "   0.05606907280161977,\n",
       "   0.060746062842105895,\n",
       "   0.0829566108640021,\n",
       "   0.0360396122494319,\n",
       "   0.044873499358646755,\n",
       "   0.06977022879652049,\n",
       "   0.08695503668597257,\n",
       "   0.05594415654687368,\n",
       "   0.08083049746387651,\n",
       "   0.031884542733806344,\n",
       "   0.035404247868786445,\n",
       "   0.02074857696302196,\n",
       "   0.03183747634199828,\n",
       "   0.04476802864621892,\n",
       "   0.022295310391456668,\n",
       "   0.019496343470167068,\n",
       "   0.022578188787750624,\n",
       "   0.12284705296657245,\n",
       "   0.021505622380547568,\n",
       "   0.02253304087433105,\n",
       "   0.04143628265879209,\n",
       "   0.020668951272839454,\n",
       "   0.02606336890332873,\n",
       "   0.022950923462803346,\n",
       "   0.017277851782944734,\n",
       "   0.018164726404854302,\n",
       "   0.015417708705300215,\n",
       "   0.02097222837554794,\n",
       "   0.017692980685367243,\n",
       "   0.023264195403562938,\n",
       "   0.028096491318547762,\n",
       "   0.015444856906111122,\n",
       "   0.02215853253250649,\n",
       "   0.01829973966286302,\n",
       "   0.01796488345376596,\n",
       "   0.017919029272043575],\n",
       "  'Accuracy': [0.1979933110367893,\n",
       "   0.4131549609810479,\n",
       "   0.5759197324414715,\n",
       "   0.8171683389074693,\n",
       "   0.867335562987737,\n",
       "   0.8278706800445931,\n",
       "   0.9219620958751393,\n",
       "   0.7591973244147158,\n",
       "   0.9652173913043478,\n",
       "   0.9591973244147157,\n",
       "   0.9250836120401338,\n",
       "   0.9594202898550724,\n",
       "   0.8800445930880714,\n",
       "   0.9783723522853958,\n",
       "   0.9741360089186176,\n",
       "   0.8722408026755852,\n",
       "   0.959866220735786,\n",
       "   0.9538461538461539,\n",
       "   0.9830546265328874,\n",
       "   0.9801560758082497,\n",
       "   0.9819397993311036,\n",
       "   0.9855072463768116,\n",
       "   0.9835005574136009,\n",
       "   0.9734671125975474,\n",
       "   0.9841694537346711,\n",
       "   0.9777034559643255,\n",
       "   0.9875139353400223,\n",
       "   0.9698996655518395,\n",
       "   0.9846153846153847,\n",
       "   0.9830546265328874,\n",
       "   0.978149386845039,\n",
       "   0.9904124860646599,\n",
       "   0.987736900780379,\n",
       "   0.9814938684503902,\n",
       "   0.9725752508361204,\n",
       "   0.9861761426978818,\n",
       "   0.9750278706800446,\n",
       "   0.9919732441471572,\n",
       "   0.989520624303233,\n",
       "   0.9953177257525083,\n",
       "   0.9906354515050168,\n",
       "   0.9875139353400223,\n",
       "   0.9933110367892977,\n",
       "   0.9957636566332219,\n",
       "   0.9942028985507246,\n",
       "   0.9649944258639911,\n",
       "   0.9953177257525083,\n",
       "   0.9937569676700111,\n",
       "   0.9881828316610926,\n",
       "   0.9959866220735786,\n",
       "   0.9933110367892977,\n",
       "   0.9939799331103679,\n",
       "   0.9964325529542921,\n",
       "   0.9968784838350055,\n",
       "   0.9966555183946488,\n",
       "   0.9948717948717949,\n",
       "   0.9962095875139353,\n",
       "   0.9950947603121516,\n",
       "   0.9939799331103679,\n",
       "   0.9962095875139353,\n",
       "   0.9946488294314382,\n",
       "   0.9955406911928651,\n",
       "   0.9968784838350055,\n",
       "   0.9959866220735786],\n",
       "  'Precision': [0.257372328373362,\n",
       "   0.4969355734530686,\n",
       "   0.7115860126940621,\n",
       "   0.8491120850526583,\n",
       "   0.8857546936622663,\n",
       "   0.8793380578110991,\n",
       "   0.9274004240104664,\n",
       "   0.9020444178801196,\n",
       "   0.9656761755474261,\n",
       "   0.961521198966243,\n",
       "   0.9405121519263565,\n",
       "   0.9625311915335617,\n",
       "   0.9294788177119371,\n",
       "   0.9787783484801518,\n",
       "   0.9751853184654432,\n",
       "   0.9264205902536515,\n",
       "   0.9664076749429296,\n",
       "   0.9565252693277192,\n",
       "   0.9835341007096798,\n",
       "   0.9805058654211557,\n",
       "   0.9821452326962642,\n",
       "   0.9856662295655894,\n",
       "   0.984049655818309,\n",
       "   0.9763517586524392,\n",
       "   0.9846277439866382,\n",
       "   0.9781670114118763,\n",
       "   0.9875951176816048,\n",
       "   0.9728527370204924,\n",
       "   0.9848752432654202,\n",
       "   0.9837131829319027,\n",
       "   0.9789335116239336,\n",
       "   0.9904686387801569,\n",
       "   0.9879543688158079,\n",
       "   0.9821583133311852,\n",
       "   0.973864608352333,\n",
       "   0.9865716761439396,\n",
       "   0.975969451544213,\n",
       "   0.9920679228404036,\n",
       "   0.9896460960238845,\n",
       "   0.9953532541836349,\n",
       "   0.9907593288535014,\n",
       "   0.9877441012238539,\n",
       "   0.9933558123036289,\n",
       "   0.9957764584631612,\n",
       "   0.9942294067377456,\n",
       "   0.9687306851036788,\n",
       "   0.9953809194469941,\n",
       "   0.9939152225425554,\n",
       "   0.9889020020868015,\n",
       "   0.9960142773516287,\n",
       "   0.9933789483579104,\n",
       "   0.9939828017574642,\n",
       "   0.9964507869820856,\n",
       "   0.9968838654317275,\n",
       "   0.996662661005212,\n",
       "   0.9948855579068748,\n",
       "   0.9962235364359338,\n",
       "   0.9951116021960216,\n",
       "   0.994001758764895,\n",
       "   0.9962185610621345,\n",
       "   0.9946860152763738,\n",
       "   0.995544112873234,\n",
       "   0.9968844118484244,\n",
       "   0.9959922415349861],\n",
       "  'Recall': [0.1979933110367893,\n",
       "   0.4131549609810479,\n",
       "   0.5759197324414715,\n",
       "   0.8171683389074693,\n",
       "   0.867335562987737,\n",
       "   0.8278706800445931,\n",
       "   0.9219620958751393,\n",
       "   0.7591973244147158,\n",
       "   0.9652173913043478,\n",
       "   0.9591973244147157,\n",
       "   0.9250836120401338,\n",
       "   0.9594202898550724,\n",
       "   0.8800445930880714,\n",
       "   0.9783723522853958,\n",
       "   0.9741360089186176,\n",
       "   0.8722408026755852,\n",
       "   0.959866220735786,\n",
       "   0.9538461538461539,\n",
       "   0.9830546265328874,\n",
       "   0.9801560758082497,\n",
       "   0.9819397993311036,\n",
       "   0.9855072463768116,\n",
       "   0.9835005574136009,\n",
       "   0.9734671125975474,\n",
       "   0.9841694537346711,\n",
       "   0.9777034559643255,\n",
       "   0.9875139353400223,\n",
       "   0.9698996655518395,\n",
       "   0.9846153846153847,\n",
       "   0.9830546265328874,\n",
       "   0.978149386845039,\n",
       "   0.9904124860646599,\n",
       "   0.987736900780379,\n",
       "   0.9814938684503902,\n",
       "   0.9725752508361204,\n",
       "   0.9861761426978818,\n",
       "   0.9750278706800446,\n",
       "   0.9919732441471572,\n",
       "   0.989520624303233,\n",
       "   0.9953177257525083,\n",
       "   0.9906354515050168,\n",
       "   0.9875139353400223,\n",
       "   0.9933110367892977,\n",
       "   0.9957636566332219,\n",
       "   0.9942028985507246,\n",
       "   0.9649944258639911,\n",
       "   0.9953177257525083,\n",
       "   0.9937569676700111,\n",
       "   0.9881828316610926,\n",
       "   0.9959866220735786,\n",
       "   0.9933110367892977,\n",
       "   0.9939799331103679,\n",
       "   0.9964325529542921,\n",
       "   0.9968784838350055,\n",
       "   0.9966555183946488,\n",
       "   0.9948717948717949,\n",
       "   0.9962095875139353,\n",
       "   0.9950947603121516,\n",
       "   0.9939799331103679,\n",
       "   0.9962095875139353,\n",
       "   0.9946488294314382,\n",
       "   0.9955406911928651,\n",
       "   0.9968784838350055,\n",
       "   0.9959866220735786],\n",
       "  'F1': [0.1267723078936465,\n",
       "   0.3477313229287008,\n",
       "   0.5329885447483451,\n",
       "   0.8208772969319454,\n",
       "   0.8688617693943282,\n",
       "   0.81896073918616,\n",
       "   0.9206732849786726,\n",
       "   0.7858584438180702,\n",
       "   0.9649966213295412,\n",
       "   0.9590092964112751,\n",
       "   0.925399258059345,\n",
       "   0.959466947027904,\n",
       "   0.8900202717658814,\n",
       "   0.9784229278004927,\n",
       "   0.9742300411896213,\n",
       "   0.8779404386239553,\n",
       "   0.9609382399171513,\n",
       "   0.9527079065466635,\n",
       "   0.983021964579328,\n",
       "   0.9800940275664533,\n",
       "   0.9818807402288506,\n",
       "   0.9855243655905854,\n",
       "   0.9834643819810638,\n",
       "   0.973660407317985,\n",
       "   0.9841484281438356,\n",
       "   0.9774012863390725,\n",
       "   0.987491249428104,\n",
       "   0.9702491736148106,\n",
       "   0.9845808709663184,\n",
       "   0.9831502806846706,\n",
       "   0.9781840863382438,\n",
       "   0.9903802727751361,\n",
       "   0.9876627195429055,\n",
       "   0.9815001851969193,\n",
       "   0.9725667792100176,\n",
       "   0.986133264260652,\n",
       "   0.9749475037817068,\n",
       "   0.9919790273448857,\n",
       "   0.9894924816363111,\n",
       "   0.9953185051147009,\n",
       "   0.9906451109562509,\n",
       "   0.9875647564734434,\n",
       "   0.9933139361978476,\n",
       "   0.9957617281929466,\n",
       "   0.9942013904716891,\n",
       "   0.9652019488464008,\n",
       "   0.9953301175303396,\n",
       "   0.9937669284696045,\n",
       "   0.988300574858008,\n",
       "   0.9959898027816404,\n",
       "   0.9933041394489626,\n",
       "   0.9939791852269259,\n",
       "   0.9964353027887505,\n",
       "   0.9968782410889002,\n",
       "   0.9966548559726459,\n",
       "   0.9948690561414913,\n",
       "   0.9962075073463634,\n",
       "   0.9950788594999165,\n",
       "   0.9939743989970115,\n",
       "   0.996210571252587,\n",
       "   0.9946485657600707,\n",
       "   0.99553428497584,\n",
       "   0.9968794105797891,\n",
       "   0.9959816803742702]})"
      ]
     },
     "execution_count": 14,
     "metadata": {},
     "output_type": "execute_result"
    },
    {
     "data": {
      "image/png": "[encoded data removed]",
      "text/plain": [
       "<Figure size 1000x500 with 1 Axes>"
      ]
     },
     "metadata": {},
     "output_type": "display_data"
    },
    {
     "data": {
      "image/png": "[encoded data removed]",
      "text/plain": [
       "<Figure size 1000x500 with 1 Axes>"
      ]
     },
     "metadata": {},
     "output_type": "display_data"
    },
    {
     "data": {
      "image/png": "[encoded data removed]",
      "text/plain": [
       "<Figure size 1000x500 with 1 Axes>"
      ]
     },
     "metadata": {},
     "output_type": "display_data"
    }
   ],
   "source": [
    "run_training(train_loader, val_loader, model, model_name, criterion, optimizer, config)"
   ]
  },
  {
   "cell_type": "markdown",
   "id": "a3f240f7",
   "metadata": {
    "papermill": {
     "duration": 1.793443,
     "end_time": "2023-11-25T18:49:20.854750",
     "exception": false,
     "start_time": "2023-11-25T18:49:19.061307",
     "status": "completed"
    },
    "tags": []
   },
   "source": [
    "## Inference"
   ]
  },
  {
   "cell_type": "code",
   "execution_count": 15,
   "id": "7847024f",
   "metadata": {
    "execution": {
     "iopub.execute_input": "2023-11-25T18:49:24.549523Z",
     "iopub.status.busy": "2023-11-25T18:49:24.548802Z",
     "iopub.status.idle": "2023-11-25T18:49:24.556442Z",
     "shell.execute_reply": "2023-11-25T18:49:24.555568Z"
    },
    "papermill": {
     "duration": 1.798622,
     "end_time": "2023-11-25T18:49:24.558570",
     "exception": false,
     "start_time": "2023-11-25T18:49:22.759948",
     "status": "completed"
    },
    "tags": []
   },
   "outputs": [],
   "source": [
    "class CNNInferenceDataset(Dataset):\n",
    "    def __init__(self, images_dir, transform=None):\n",
    "        super().__init__()\n",
    "        self.images_dir = images_dir\n",
    "        self.transform = transform\n",
    "\n",
    "        self.images = os.listdir(images_dir)\n",
    "    \n",
    "    def __len__(self):\n",
    "        return len(self.images)\n",
    "    \n",
    "    def __getitem__(self, index):\n",
    "        img_name = self.images[index]\n",
    "        img_path = os.path.join(self.images_dir, img_name)\n",
    "\n",
    "        image = Image.open(img_path).convert('RGB')\n",
    "        if self.transform:\n",
    "            image = self.transform(image)\n",
    "\n",
    "        # to submit to kaggle competition I need to return image name\n",
    "        return img_name, image"
   ]
  },
  {
   "cell_type": "code",
   "execution_count": 16,
   "id": "3cecfc02",
   "metadata": {
    "execution": {
     "iopub.execute_input": "2023-11-25T18:49:28.435619Z",
     "iopub.status.busy": "2023-11-25T18:49:28.435246Z",
     "iopub.status.idle": "2023-11-25T18:49:28.444096Z",
     "shell.execute_reply": "2023-11-25T18:49:28.443173Z"
    },
    "papermill": {
     "duration": 1.970657,
     "end_time": "2023-11-25T18:49:28.446057",
     "exception": false,
     "start_time": "2023-11-25T18:49:26.475400",
     "status": "completed"
    },
    "tags": []
   },
   "outputs": [],
   "source": [
    "def cnn_inference(test_loader, model, model_name, config):\n",
    "    model = model.to(config['DEVICE'])\n",
    "    model.load_state_dict(torch.load(os.path.join(config['MODELS_DIR'], f'{model_name}_best_model.pth')))\n",
    "    model.eval()\n",
    "    \n",
    "    df = pd.DataFrame()\n",
    "    \n",
    "    with torch.no_grad():\n",
    "        for data in tqdm(test_loader, desc='Inference'):\n",
    "            img_name, imgs = data\n",
    "            imgs = imgs.to(config['DEVICE'])\n",
    "\n",
    "            logits = model(imgs)\n",
    "            probas = F.softmax(logits, dim=1)\n",
    "            \n",
    "            block = np.concatenate((np.array(img_name).reshape(-1, 1), probas.detach().cpu().numpy()), axis=1)\n",
    "            block = pd.DataFrame(block, columns=['img', 'c0', 'c1', 'c2',\n",
    "                                                 'c3', 'c4', 'c5',\n",
    "                                                 'c6', 'c7', 'c8',\n",
    "                                                 'c9'])\n",
    "            df = pd.concat((df, block), axis=0, ignore_index=True)\n",
    "    return df"
   ]
  },
  {
   "cell_type": "code",
   "execution_count": 17,
   "id": "00aaea45",
   "metadata": {
    "execution": {
     "iopub.execute_input": "2023-11-25T18:49:32.141304Z",
     "iopub.status.busy": "2023-11-25T18:49:32.140351Z",
     "iopub.status.idle": "2023-11-25T18:54:17.316370Z",
     "shell.execute_reply": "2023-11-25T18:54:17.315166Z"
    },
    "papermill": {
     "duration": 287.081984,
     "end_time": "2023-11-25T18:54:17.318429",
     "exception": false,
     "start_time": "2023-11-25T18:49:30.236445",
     "status": "completed"
    },
    "tags": []
   },
   "outputs": [
    {
     "name": "stderr",
     "output_type": "stream",
     "text": [
      "Inference: 100%|██████████| 1246/1246 [04:44<00:00,  4.38it/s]\n"
     ]
    }
   ],
   "source": [
    "test_transformations = val_transforms\n",
    "test_dataset = CNNInferenceDataset(config['TEST_DIR'], transform=test_transformations)\n",
    "test_loader = DataLoader(test_dataset, batch_size=config['BATCH_SIZE'], shuffle=False, num_workers=config['NUM_WORKERS'])\n",
    "\n",
    "# this csv file will be submitted to kaggle\n",
    "df = cnn_inference(test_loader, model, model_name, config)"
   ]
  },
  {
   "cell_type": "code",
   "execution_count": 18,
   "id": "c135e9e5",
   "metadata": {
    "execution": {
     "iopub.execute_input": "2023-11-25T18:54:21.180751Z",
     "iopub.status.busy": "2023-11-25T18:54:21.180343Z",
     "iopub.status.idle": "2023-11-25T18:54:21.878665Z",
     "shell.execute_reply": "2023-11-25T18:54:21.877878Z"
    },
    "papermill": {
     "duration": 2.580244,
     "end_time": "2023-11-25T18:54:21.880990",
     "exception": false,
     "start_time": "2023-11-25T18:54:19.300746",
     "status": "completed"
    },
    "tags": []
   },
   "outputs": [],
   "source": [
    "# resultant csv file\n",
    "df.to_csv('submission.csv', index=False)"
   ]
  }
 ],
 "metadata": {
  "kaggle": {
   "accelerator": "gpu",
   "dataSources": [
    {
     "databundleVersionId": 868335,
     "sourceId": 5048,
     "sourceType": "competition"
    }
   ],
   "dockerImageVersionId": 30588,
   "isGpuEnabled": true,
   "isInternetEnabled": true,
   "language": "python",
   "sourceType": "notebook"
  },
  "kernelspec": {
   "display_name": "Python 3",
   "language": "python",
   "name": "python3"
  },
  "language_info": {
   "codemirror_mode": {
    "name": "ipython",
    "version": 3
   },
   "file_extension": ".py",
   "mimetype": "text/x-python",
   "name": "python",
   "nbconvert_exporter": "python",
   "pygments_lexer": "ipython3",
   "version": "3.10.12"
  },
  "papermill": {
   "default_parameters": {},
   "duration": 14203.969876,
   "end_time": "2023-11-25T18:54:30.633943",
   "environment_variables": {},
   "exception": null,
   "input_path": "__notebook__.ipynb",
   "output_path": "__notebook__.ipynb",
   "parameters": {},
   "start_time": "2023-11-25T14:57:46.664067",
   "version": "2.4.0"
  }
 },
 "nbformat": 4,
 "nbformat_minor": 5
}
